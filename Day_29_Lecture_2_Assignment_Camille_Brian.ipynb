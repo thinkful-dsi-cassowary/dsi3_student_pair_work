{
  "nbformat": 4,
  "nbformat_minor": 0,
  "metadata": {
    "kernelspec": {
      "display_name": "Python 3",
      "language": "python",
      "name": "python3"
    },
    "language_info": {
      "codemirror_mode": {
        "name": "ipython",
        "version": 3
      },
      "file_extension": ".py",
      "mimetype": "text/x-python",
      "name": "python",
      "nbconvert_exporter": "python",
      "pygments_lexer": "ipython3",
      "version": "3.7.0"
    },
    "colab": {
      "name": "Day 29 Lecture 2 Assignment Camille/Brian.ipynb",
      "provenance": [],
      "collapsed_sections": []
    }
  },
  "cells": [
    {
      "cell_type": "markdown",
      "metadata": {
        "id": "YRVfAWX8cTwI",
        "colab_type": "text"
      },
      "source": [
        "## Day 29 Lecture 2 Assignment\n",
        "\n",
        "In this assignment, we will learn about entropy and information gain in the ID3 algorithm."
      ]
    },
    {
      "cell_type": "code",
      "metadata": {
        "id": "KufburMWcTwI",
        "colab_type": "code",
        "colab": {}
      },
      "source": [
        "import numpy as np\n",
        "import pandas as pd"
      ],
      "execution_count": 0,
      "outputs": []
    },
    {
      "cell_type": "code",
      "metadata": {
        "id": "8MiCqim1cTwK",
        "colab_type": "code",
        "colab": {}
      },
      "source": [
        "tennis_df = pd.read_csv('https://tf-assets-prod.s3.amazonaws.com/tf-curric/data-science/tennis_decision.csv')"
      ],
      "execution_count": 0,
      "outputs": []
    },
    {
      "cell_type": "code",
      "metadata": {
        "id": "Ugm_tVeDcTwM",
        "colab_type": "code",
        "outputId": "ef96d654-f43f-44ef-990e-6c81b895783f",
        "colab": {
          "base_uri": "https://localhost:8080/",
          "height": 489
        }
      },
      "source": [
        "tennis = tennis_df.copy()\n",
        "tennis"
      ],
      "execution_count": 3,
      "outputs": [
        {
          "output_type": "execute_result",
          "data": {
            "text/html": [
              "<div>\n",
              "<style scoped>\n",
              "    .dataframe tbody tr th:only-of-type {\n",
              "        vertical-align: middle;\n",
              "    }\n",
              "\n",
              "    .dataframe tbody tr th {\n",
              "        vertical-align: top;\n",
              "    }\n",
              "\n",
              "    .dataframe thead th {\n",
              "        text-align: right;\n",
              "    }\n",
              "</style>\n",
              "<table border=\"1\" class=\"dataframe\">\n",
              "  <thead>\n",
              "    <tr style=\"text-align: right;\">\n",
              "      <th></th>\n",
              "      <th>Day</th>\n",
              "      <th>Outlook</th>\n",
              "      <th>Temp.</th>\n",
              "      <th>Humidity</th>\n",
              "      <th>Wind</th>\n",
              "      <th>Decision</th>\n",
              "    </tr>\n",
              "  </thead>\n",
              "  <tbody>\n",
              "    <tr>\n",
              "      <th>0</th>\n",
              "      <td>1</td>\n",
              "      <td>Sunny</td>\n",
              "      <td>Hot</td>\n",
              "      <td>High</td>\n",
              "      <td>Weak</td>\n",
              "      <td>No</td>\n",
              "    </tr>\n",
              "    <tr>\n",
              "      <th>1</th>\n",
              "      <td>2</td>\n",
              "      <td>Sunny</td>\n",
              "      <td>Hot</td>\n",
              "      <td>High</td>\n",
              "      <td>Strong</td>\n",
              "      <td>No</td>\n",
              "    </tr>\n",
              "    <tr>\n",
              "      <th>2</th>\n",
              "      <td>3</td>\n",
              "      <td>Overcast</td>\n",
              "      <td>Hot</td>\n",
              "      <td>High</td>\n",
              "      <td>Weak</td>\n",
              "      <td>Yes</td>\n",
              "    </tr>\n",
              "    <tr>\n",
              "      <th>3</th>\n",
              "      <td>4</td>\n",
              "      <td>Rain</td>\n",
              "      <td>Mild</td>\n",
              "      <td>High</td>\n",
              "      <td>Weak</td>\n",
              "      <td>Yes</td>\n",
              "    </tr>\n",
              "    <tr>\n",
              "      <th>4</th>\n",
              "      <td>5</td>\n",
              "      <td>Rain</td>\n",
              "      <td>Cool</td>\n",
              "      <td>Normal</td>\n",
              "      <td>Weak</td>\n",
              "      <td>Yes</td>\n",
              "    </tr>\n",
              "    <tr>\n",
              "      <th>5</th>\n",
              "      <td>6</td>\n",
              "      <td>Rain</td>\n",
              "      <td>Cool</td>\n",
              "      <td>Normal</td>\n",
              "      <td>Strong</td>\n",
              "      <td>No</td>\n",
              "    </tr>\n",
              "    <tr>\n",
              "      <th>6</th>\n",
              "      <td>7</td>\n",
              "      <td>Overcast</td>\n",
              "      <td>Cool</td>\n",
              "      <td>Normal</td>\n",
              "      <td>Strong</td>\n",
              "      <td>Yes</td>\n",
              "    </tr>\n",
              "    <tr>\n",
              "      <th>7</th>\n",
              "      <td>8</td>\n",
              "      <td>Sunny</td>\n",
              "      <td>Mild</td>\n",
              "      <td>High</td>\n",
              "      <td>Weak</td>\n",
              "      <td>No</td>\n",
              "    </tr>\n",
              "    <tr>\n",
              "      <th>8</th>\n",
              "      <td>9</td>\n",
              "      <td>Sunny</td>\n",
              "      <td>Cool</td>\n",
              "      <td>Normal</td>\n",
              "      <td>Weak</td>\n",
              "      <td>Yes</td>\n",
              "    </tr>\n",
              "    <tr>\n",
              "      <th>9</th>\n",
              "      <td>10</td>\n",
              "      <td>Rain</td>\n",
              "      <td>Mild</td>\n",
              "      <td>Normal</td>\n",
              "      <td>Weak</td>\n",
              "      <td>Yes</td>\n",
              "    </tr>\n",
              "    <tr>\n",
              "      <th>10</th>\n",
              "      <td>11</td>\n",
              "      <td>Sunny</td>\n",
              "      <td>Mild</td>\n",
              "      <td>Normal</td>\n",
              "      <td>Strong</td>\n",
              "      <td>Yes</td>\n",
              "    </tr>\n",
              "    <tr>\n",
              "      <th>11</th>\n",
              "      <td>12</td>\n",
              "      <td>Overcast</td>\n",
              "      <td>Mild</td>\n",
              "      <td>High</td>\n",
              "      <td>Strong</td>\n",
              "      <td>Yes</td>\n",
              "    </tr>\n",
              "    <tr>\n",
              "      <th>12</th>\n",
              "      <td>13</td>\n",
              "      <td>Overcast</td>\n",
              "      <td>Hot</td>\n",
              "      <td>Normal</td>\n",
              "      <td>Weak</td>\n",
              "      <td>Yes</td>\n",
              "    </tr>\n",
              "    <tr>\n",
              "      <th>13</th>\n",
              "      <td>14</td>\n",
              "      <td>Rain</td>\n",
              "      <td>Mild</td>\n",
              "      <td>High</td>\n",
              "      <td>Strong</td>\n",
              "      <td>No</td>\n",
              "    </tr>\n",
              "  </tbody>\n",
              "</table>\n",
              "</div>"
            ],
            "text/plain": [
              "    Day   Outlook Temp. Humidity    Wind Decision\n",
              "0     1     Sunny   Hot     High    Weak       No\n",
              "1     2     Sunny   Hot     High  Strong       No\n",
              "2     3  Overcast   Hot     High    Weak      Yes\n",
              "3     4      Rain  Mild     High    Weak      Yes\n",
              "4     5      Rain  Cool   Normal    Weak      Yes\n",
              "5     6      Rain  Cool   Normal  Strong       No\n",
              "6     7  Overcast  Cool   Normal  Strong      Yes\n",
              "7     8     Sunny  Mild     High    Weak       No\n",
              "8     9     Sunny  Cool   Normal    Weak      Yes\n",
              "9    10      Rain  Mild   Normal    Weak      Yes\n",
              "10   11     Sunny  Mild   Normal  Strong      Yes\n",
              "11   12  Overcast  Mild     High  Strong      Yes\n",
              "12   13  Overcast   Hot   Normal    Weak      Yes\n",
              "13   14      Rain  Mild     High  Strong       No"
            ]
          },
          "metadata": {
            "tags": []
          },
          "execution_count": 3
        }
      ]
    },
    {
      "cell_type": "markdown",
      "metadata": {
        "id": "42CeoZiTcTwN",
        "colab_type": "text"
      },
      "source": [
        "Write a function to compute entropy given an input of a sequence of probabilities."
      ]
    },
    {
      "cell_type": "code",
      "metadata": {
        "id": "JPfNGt2vcTwO",
        "colab_type": "code",
        "colab": {
          "base_uri": "https://localhost:8080/",
          "height": 54
        },
        "outputId": "c3f2269c-896e-4667-9dd4-a6673ee17f07"
      },
      "source": [
        "#answer below:\n",
        "\n",
        "from math import log2\n",
        "\n",
        "def entropy(total, p1, p2):\n",
        "  return ( (p1/total) * (log2(total/p1)) \n",
        "  + (p2/total) * ( log2 (total/p2)) ) \n",
        "\n",
        "'''\n",
        "Decision = P(yes) * log2 1/P(yes) + P(no) * log2 1 / P(no)\n",
        "\n",
        "= 5/14 * log2(14/5)  +   9/14 * log2(14/9) \n",
        "   = 0.357 * 1.485   +   0.642  * 0.637\n",
        "   = 0.530 +  0.410 \n",
        "   = 0.940\n",
        "'''\n",
        "\n",
        "yes = len( tennis.loc[tennis['Decision'] == 'Yes'])\n",
        "no  = len( tennis.loc[tennis['Decision'] == 'No'])\n",
        "rows = len(tennis.index) \n",
        "\n",
        "print(\"yes=\", yes, \"no=\", no, \"rows=\", rows)\n",
        "\n",
        "entropy(rows, no, yes)\n"
      ],
      "execution_count": 4,
      "outputs": [
        {
          "output_type": "stream",
          "text": [
            "yes= 9 no= 5 rows= 14\n"
          ],
          "name": "stdout"
        },
        {
          "output_type": "execute_result",
          "data": {
            "text/plain": [
              "0.940285958670631"
            ]
          },
          "metadata": {
            "tags": []
          },
          "execution_count": 4
        }
      ]
    },
    {
      "cell_type": "markdown",
      "metadata": {
        "id": "RsTiwQkVcTwQ",
        "colab_type": "text"
      },
      "source": [
        "Aggregate the tennis decision table for each value of each column. Start with Outlook below. Compute the weighted mean of the entropy for outlook (the weighted mean of the yes decision and the no decision)."
      ]
    },
    {
      "cell_type": "code",
      "metadata": {
        "id": "go7-SO9scTwR",
        "colab_type": "code",
        "colab": {
          "base_uri": "https://localhost:8080/",
          "height": 165
        },
        "outputId": "cec623cb-6479-4a83-f8dc-c4f2b30dd356"
      },
      "source": [
        "# answer below:\n",
        "\n",
        "'''\n",
        "Of the 14 days,   5 are NOs and 9 are YES. \n",
        "Of the 5 NOs, 3 are Sunny, 2 are Rain. 2(non-sunny) \n",
        "Of the 9 YES, 2 are Sunny, 3 are Rain, 4 are Overcast 7(non-sunny)\n",
        "\n",
        "5 Sunny Days - 9 non-sunny\n",
        "\n",
        "3/5 * log2(5/3) + 2/5 * log2(5/2)\n",
        " 0.6  * 0.737   + 0.4 * 1.322\n",
        "       0.442    + .529\n",
        "       = 0.97\n",
        "\n",
        "2/9 * log2(9/2) + 7/9 * log2(9/7)\n",
        "0.22 * 2.170 +    0.777  * 0.363\n",
        "   0.481     +        0.28\n",
        "   0.76\n",
        "\n",
        "'''\n",
        "\n",
        "yes =  tennis.loc[tennis['Decision'] == 'Yes']\n",
        "no  =  tennis.loc[tennis['Decision'] == 'No']\n",
        "\n",
        "sunny      = len( no.loc[tennis['Outlook'] == 'Sunny'])\n",
        "not_sunny  = len( no.loc[tennis['Outlook'] != 'Sunny'])\n",
        "rows = len(no.index) \n",
        "\n",
        "print(\"sunny=\", sunny, \"not_sunny=\", not_sunny, \"rows=\", rows)\n",
        "\n",
        "#print(entropy(5, 3, 2))\n",
        "no_entropy = entropy(rows, sunny, not_sunny)\n",
        "print(no_entropy)\n",
        "\n",
        "rows = len(tennis.index) \n",
        "\n",
        "sunny      = len( yes.loc[tennis['Outlook'] == 'Sunny'])\n",
        "not_sunny  = len( yes.loc[tennis['Outlook'] != 'Sunny'])\n",
        "rows = len(yes.index) \n",
        "\n",
        "print(\"sunny=\", sunny, \"not_sunny=\", not_sunny, \"rows=\", rows)\n",
        "\n",
        "#print(entropy(9, 2, 7))\n",
        "yes_entropy = entropy(rows, sunny, not_sunny)\n",
        "print(yes_entropy)\n",
        "\n",
        "sunny_num     = len( tennis.loc[tennis['Outlook'] == 'Sunny'])\n",
        "not_sunny_num  = len( tennis.loc[tennis['Outlook'] != 'Sunny'])\n",
        "rows = len(tennis.index) \n",
        "\n",
        "\n",
        "\n",
        "print(\"sunny_num=\", sunny_num, \"not_sunny=\", not_sunny_num, \"rows=\", rows)\n",
        "print(\" \")\n",
        "print(\"Final entropy value\")\n",
        "print( sunny_num/rows * no_entropy + not_sunny_num/rows * yes_entropy)\n"
      ],
      "execution_count": 5,
      "outputs": [
        {
          "output_type": "stream",
          "text": [
            "sunny= 3 not_sunny= 2 rows= 5\n",
            "0.9709505944546687\n",
            "sunny= 2 not_sunny= 7 rows= 9\n",
            "0.7642045065086203\n",
            "sunny_num= 5 not_sunny= 9 rows= 14\n",
            " \n",
            "Final entropy value\n",
            "0.8380423950607805\n"
          ],
          "name": "stdout"
        }
      ]
    },
    {
      "cell_type": "markdown",
      "metadata": {
        "id": "z-t3UYlacTwS",
        "colab_type": "text"
      },
      "source": [
        "Compute the weighted mean of the entropy for temperature, humidity and wind as well and decide based on these values which should be the first variable chosen for a split."
      ]
    },
    {
      "cell_type": "code",
      "metadata": {
        "id": "3oJaXDwAcTwT",
        "colab_type": "code",
        "colab": {
          "base_uri": "https://localhost:8080/",
          "height": 165
        },
        "outputId": "404f7748-93fa-42b1-d1b6-e8a91309e36d"
      },
      "source": [
        "# answer below:\n",
        "\n",
        "hot      = len( no.loc[tennis['Temp.'] == 'Hot'])\n",
        "not_hot  = len( no.loc[tennis['Temp.'] != 'Hot'])\n",
        "rows = len(no.index) \n",
        "\n",
        "print(\"hot=\", hot, \"not_hot=\", not_hot, \"rows=\", rows)\n",
        "\n",
        "#print(entropy(5, 3, 2))\n",
        "\n",
        "#print(entropy(rows, hot, not_hot))\n",
        "\n",
        "no_entropy = entropy(rows, hot, not_hot)\n",
        "print(no_entropy)\n",
        "\n",
        "\n",
        "rows = len(tennis.index) \n",
        "\n",
        "hot      = len( yes.loc[tennis['Temp.'] == 'Hot'])\n",
        "not_hot  = len( yes.loc[tennis['Temp.'] != 'Hot'])\n",
        "rows = len(yes.index) \n",
        "\n",
        "print(\"hot=\", hot, \"not_hot=\", not_hot, \"rows=\", rows)\n",
        "\n",
        "yes_entropy = entropy(rows, hot, not_hot)\n",
        "print(yes_entropy)\n",
        "\n",
        "#print(entropy(9, 2, 7))\n",
        "#print(entropy(rows, hot, not_hot))\n",
        "\n",
        "hot_num     = len( tennis.loc[tennis['Temp.'] == 'Hot'])\n",
        "not_hot_num  = len( tennis.loc[tennis['Temp.'] != 'Hot'])\n",
        "rows = len(tennis.index) \n",
        "\n",
        "print(\"hot_num=\", hot_num, \"not_hot=\", not_hot_num, \"rows=\", rows)\n",
        "\n",
        "print(\" \")\n",
        "print(\"Final entropy value\")\n",
        "\n",
        "print( hot_num/rows * no_entropy + not_hot_num/rows * yes_entropy)\n",
        "\n",
        "\n"
      ],
      "execution_count": 6,
      "outputs": [
        {
          "output_type": "stream",
          "text": [
            "hot= 2 not_hot= 3 rows= 5\n",
            "0.9709505944546687\n",
            "hot= 2 not_hot= 7 rows= 9\n",
            "0.7642045065086203\n",
            "hot_num= 4 not_hot= 10 rows= 14\n",
            " \n",
            "Final entropy value\n",
            "0.8232748173503484\n"
          ],
          "name": "stdout"
        }
      ]
    },
    {
      "cell_type": "code",
      "metadata": {
        "id": "t8sJ83cRcTwU",
        "colab_type": "code",
        "colab": {
          "base_uri": "https://localhost:8080/",
          "height": 165
        },
        "outputId": "6cd0f178-fed7-489b-f0ca-e14163369a3d"
      },
      "source": [
        "# answer below:\n",
        "\n",
        "humid      = len( no.loc[tennis['Humidity'] == 'High'])\n",
        "not_humid  = len( no.loc[tennis['Humidity'] != 'High'])\n",
        "rows = len(no.index) \n",
        "\n",
        "print(\"humid=\", humid, \"not_humid=\", not_humid, \"rows=\", rows)\n",
        "\n",
        "#print(entropy(5, 3, 2))\n",
        "\n",
        "#print(entropy(rows, humid, not_humid))\n",
        "\n",
        "no_entropy = entropy(rows, humid, not_humid)\n",
        "print(no_entropy)\n",
        "\n",
        "\n",
        "\n",
        "rows = len(tennis.index) \n",
        "\n",
        "humid      = len( yes.loc[tennis['Humidity'] == 'High'])\n",
        "not_humid  = len( yes.loc[tennis['Humidity'] != 'High'])\n",
        "rows = len(yes.index) \n",
        "\n",
        "print(\"humid=\", humid, \"not_humid=\", not_humid, \"rows=\", rows)\n",
        "\n",
        "#print(entropy(9, 2, 7))\n",
        "\n",
        "#print(entropy(rows, humid, not_humid))\n",
        "\n",
        "yes_entropy = entropy(rows, humid, not_humid)\n",
        "print(yes_entropy)\n",
        "\n",
        "humid_num     = len( tennis.loc[tennis['Humidity'] == 'High'])\n",
        "not_humid_num  = len( tennis.loc[tennis['Humidity'] != 'High'])\n",
        "rows = len(tennis.index) \n",
        "\n",
        "print(\"humid_num=\", humid_num, \"not_humid=\", not_humid_num, \"rows=\", rows)\n",
        "\n",
        "print(\" \")\n",
        "print(\"Final entropy value\")\n",
        "\n",
        "print( humid_num/rows * no_entropy + not_humid_num/rows * yes_entropy)\n",
        "\n",
        "\n"
      ],
      "execution_count": 7,
      "outputs": [
        {
          "output_type": "stream",
          "text": [
            "humid= 4 not_humid= 1 rows= 5\n",
            "0.7219280948873623\n",
            "humid= 3 not_humid= 6 rows= 9\n",
            "0.9182958340544893\n",
            "humid_num= 7 not_humid= 7 rows= 14\n",
            " \n",
            "Final entropy value\n",
            "0.8201119644709258\n"
          ],
          "name": "stdout"
        }
      ]
    },
    {
      "cell_type": "code",
      "metadata": {
        "id": "_dXakzRDt1wY",
        "colab_type": "code",
        "colab": {
          "base_uri": "https://localhost:8080/",
          "height": 165
        },
        "outputId": "4b54ee09-9228-4f17-fbbf-a1e8fc9f0142"
      },
      "source": [
        "wind      = len( no.loc[tennis['Wind'] == 'Strong'])\n",
        "not_wind  = len( no.loc[tennis['Wind'] != 'Strong'])\n",
        "rows = len(no.index) \n",
        "\n",
        "print(\"wind=\", wind, \"not_wind=\", not_wind, \"rows=\", rows)\n",
        "\n",
        "#print(entropy(5, 3, 2))\n",
        "\n",
        "#print(entropy(rows, humid, not_humid))\n",
        "\n",
        "no_entropy = entropy(rows, wind, not_wind)\n",
        "print(no_entropy)\n",
        "\n",
        "\n",
        "wind      = len( yes.loc[tennis['Wind'] == 'Strong'])\n",
        "not_wind  = len( yes.loc[tennis['Wind'] != 'Strong'])\n",
        "rows = len(yes.index) \n",
        "\n",
        "print(\"wind=\", wind, \"not_wind=\", not_wind, \"rows=\", rows)\n",
        "\n",
        "#print(entropy(9, 2, 7))\n",
        "\n",
        "#print(entropy(rows, humid, not_humid))\n",
        "\n",
        "yes_entropy = entropy(rows, humid, not_humid)\n",
        "print(yes_entropy)\n",
        "\n",
        "wind_num     = len( tennis.loc[tennis['Wind'] == 'Strong'])\n",
        "not_wind_num  = len( tennis.loc[tennis['Wind'] != 'Strong'])\n",
        "rows = len(tennis.index) \n",
        "\n",
        "print(\"wind_num=\", wind_num, \"not_wind=\", not_wind_num, \"rows=\", rows)\n",
        "\n",
        "print(\" \")\n",
        "print(\"Final entropy value\")\n",
        "\n",
        "print( wind_num/rows * no_entropy + not_wind_num/rows * yes_entropy)\n",
        "\n",
        "\n"
      ],
      "execution_count": 8,
      "outputs": [
        {
          "output_type": "stream",
          "text": [
            "wind= 3 not_wind= 2 rows= 5\n",
            "0.9709505944546687\n",
            "wind= 3 not_wind= 6 rows= 9\n",
            "0.9182958340544893\n",
            "wind_num= 6 not_wind= 8 rows= 14\n",
            " \n",
            "Final entropy value\n",
            "0.9408621599402804\n"
          ],
          "name": "stdout"
        }
      ]
    }
  ]
}