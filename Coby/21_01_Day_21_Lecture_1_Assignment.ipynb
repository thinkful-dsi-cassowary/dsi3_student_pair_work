{
  "nbformat": 4,
  "nbformat_minor": 0,
  "metadata": {
    "colab": {
      "name": "Day 21 Lecture 1 Assignment.ipynb",
      "provenance": [],
      "collapsed_sections": []
    },
    "kernelspec": {
      "display_name": "Python 3.7.2 64-bit",
      "language": "python",
      "name": "python37264bitd7afea03727a45fea46fb3907f3e48bf"
    },
    "language_info": {
      "codemirror_mode": {
        "name": "ipython",
        "version": 3
      },
      "file_extension": ".py",
      "mimetype": "text/x-python",
      "name": "python",
      "nbconvert_exporter": "python",
      "pygments_lexer": "ipython3",
      "version": "3.7.2-final"
    }
  },
  "cells": [
    {
      "cell_type": "markdown",
      "metadata": {
        "colab_type": "text",
        "id": "Zrf-3-WBni8C"
      },
      "source": [
        "## Day 21 Lecture 1 Assignment\n",
        "\n",
        "In this assignment, we will analyze the data types and missingness of values in the Chicago traffic crashes dataset."
      ]
    },
    {
      "cell_type": "code",
      "execution_count": 67,
      "metadata": {},
      "outputs": [],
      "source": [
        "%matplotlib inline\n",
        "\n",
        "import matplotlib.pyplot as plt\n",
        "import numpy as np\n",
        "import pandas as pd"
      ]
    },
    {
      "cell_type": "code",
      "execution_count": 68,
      "metadata": {},
      "outputs": [],
      "source": [
        "crash_data = pd.read_csv('https://tf-assets-prod.s3.amazonaws.com/tf-curric/data-science/traffic_crashes_chicago.csv')"
      ]
    },
    {
      "cell_type": "code",
      "execution_count": 69,
      "metadata": {},
      "outputs": [
        {
          "data": {
            "text/html": "<div>\n<style scoped>\n    .dataframe tbody tr th:only-of-type {\n        vertical-align: middle;\n    }\n\n    .dataframe tbody tr th {\n        vertical-align: top;\n    }\n\n    .dataframe thead th {\n        text-align: right;\n    }\n</style>\n<table border=\"1\" class=\"dataframe\">\n  <thead>\n    <tr style=\"text-align: right;\">\n      <th></th>\n      <th>RD_NO</th>\n      <th>CRASH_DATE</th>\n      <th>POSTED_SPEED_LIMIT</th>\n      <th>TRAFFIC_CONTROL_DEVICE</th>\n      <th>DEVICE_CONDITION</th>\n      <th>WEATHER_CONDITION</th>\n      <th>LIGHTING_CONDITION</th>\n      <th>FIRST_CRASH_TYPE</th>\n      <th>TRAFFICWAY_TYPE</th>\n      <th>LANE_CNT</th>\n      <th>...</th>\n      <th>WORKERS_PRESENT_I</th>\n      <th>NUM_UNITS</th>\n      <th>MOST_SEVERE_INJURY</th>\n      <th>INJURIES_TOTAL</th>\n      <th>INJURIES_FATAL</th>\n      <th>INJURIES_INCAPACITATING</th>\n      <th>INJURIES_NON_INCAPACITATING</th>\n      <th>INJURIES_REPORTED_NOT_EVIDENT</th>\n      <th>INJURIES_NO_INDICATION</th>\n      <th>INJURIES_UNKNOWN</th>\n    </tr>\n  </thead>\n  <tbody>\n    <tr>\n      <th>0</th>\n      <td>JC334993</td>\n      <td>7/4/2019 22:33</td>\n      <td>45</td>\n      <td>NO CONTROLS</td>\n      <td>NO CONTROLS</td>\n      <td>CLEAR</td>\n      <td>DARKNESS, LIGHTED ROAD</td>\n      <td>REAR END</td>\n      <td>DIVIDED - W/MEDIAN BARRIER</td>\n      <td>NaN</td>\n      <td>...</td>\n      <td>NaN</td>\n      <td>NaN</td>\n      <td>NaN</td>\n      <td>NaN</td>\n      <td>NaN</td>\n      <td>NaN</td>\n      <td>NaN</td>\n      <td>NaN</td>\n      <td>NaN</td>\n      <td>NaN</td>\n    </tr>\n    <tr>\n      <th>1</th>\n      <td>JC370822</td>\n      <td>7/30/2019 10:22</td>\n      <td>30</td>\n      <td>NO CONTROLS</td>\n      <td>NO CONTROLS</td>\n      <td>CLEAR</td>\n      <td>DAYLIGHT</td>\n      <td>TURNING</td>\n      <td>DIVIDED - W/MEDIAN (NOT RAISED)</td>\n      <td>NaN</td>\n      <td>...</td>\n      <td>NaN</td>\n      <td>NaN</td>\n      <td>NaN</td>\n      <td>NaN</td>\n      <td>NaN</td>\n      <td>NaN</td>\n      <td>NaN</td>\n      <td>NaN</td>\n      <td>NaN</td>\n      <td>NaN</td>\n    </tr>\n    <tr>\n      <th>2</th>\n      <td>JC387098</td>\n      <td>8/10/2019 17:00</td>\n      <td>25</td>\n      <td>NO CONTROLS</td>\n      <td>NO CONTROLS</td>\n      <td>CLEAR</td>\n      <td>DAYLIGHT</td>\n      <td>PARKED MOTOR VEHICLE</td>\n      <td>ONE-WAY</td>\n      <td>NaN</td>\n      <td>...</td>\n      <td>NaN</td>\n      <td>1.0</td>\n      <td>NaN</td>\n      <td>NaN</td>\n      <td>NaN</td>\n      <td>NaN</td>\n      <td>NaN</td>\n      <td>NaN</td>\n      <td>NaN</td>\n      <td>NaN</td>\n    </tr>\n    <tr>\n      <th>3</th>\n      <td>JC395195</td>\n      <td>8/16/2019 16:53</td>\n      <td>30</td>\n      <td>NO CONTROLS</td>\n      <td>NO CONTROLS</td>\n      <td>CLEAR</td>\n      <td>DAYLIGHT</td>\n      <td>PARKED MOTOR VEHICLE</td>\n      <td>NOT DIVIDED</td>\n      <td>NaN</td>\n      <td>...</td>\n      <td>NaN</td>\n      <td>1.0</td>\n      <td>NO INDICATION OF INJURY</td>\n      <td>0.0</td>\n      <td>0.0</td>\n      <td>0.0</td>\n      <td>0.0</td>\n      <td>0.0</td>\n      <td>1.0</td>\n      <td>0.0</td>\n    </tr>\n    <tr>\n      <th>4</th>\n      <td>JC396604</td>\n      <td>8/17/2019 16:04</td>\n      <td>30</td>\n      <td>NO CONTROLS</td>\n      <td>NO CONTROLS</td>\n      <td>CLEAR</td>\n      <td>DAYLIGHT</td>\n      <td>PARKED MOTOR VEHICLE</td>\n      <td>PARKING LOT</td>\n      <td>NaN</td>\n      <td>...</td>\n      <td>NaN</td>\n      <td>1.0</td>\n      <td>NO INDICATION OF INJURY</td>\n      <td>0.0</td>\n      <td>0.0</td>\n      <td>0.0</td>\n      <td>0.0</td>\n      <td>0.0</td>\n      <td>1.0</td>\n      <td>0.0</td>\n    </tr>\n  </tbody>\n</table>\n<p>5 rows × 41 columns</p>\n</div>",
            "text/plain": "      RD_NO       CRASH_DATE  POSTED_SPEED_LIMIT TRAFFIC_CONTROL_DEVICE  \\\n0  JC334993   7/4/2019 22:33                  45            NO CONTROLS   \n1  JC370822  7/30/2019 10:22                  30            NO CONTROLS   \n2  JC387098  8/10/2019 17:00                  25            NO CONTROLS   \n3  JC395195  8/16/2019 16:53                  30            NO CONTROLS   \n4  JC396604  8/17/2019 16:04                  30            NO CONTROLS   \n\n  DEVICE_CONDITION WEATHER_CONDITION      LIGHTING_CONDITION  \\\n0      NO CONTROLS             CLEAR  DARKNESS, LIGHTED ROAD   \n1      NO CONTROLS             CLEAR                DAYLIGHT   \n2      NO CONTROLS             CLEAR                DAYLIGHT   \n3      NO CONTROLS             CLEAR                DAYLIGHT   \n4      NO CONTROLS             CLEAR                DAYLIGHT   \n\n       FIRST_CRASH_TYPE                  TRAFFICWAY_TYPE  LANE_CNT  ...  \\\n0              REAR END       DIVIDED - W/MEDIAN BARRIER       NaN  ...   \n1               TURNING  DIVIDED - W/MEDIAN (NOT RAISED)       NaN  ...   \n2  PARKED MOTOR VEHICLE                          ONE-WAY       NaN  ...   \n3  PARKED MOTOR VEHICLE                      NOT DIVIDED       NaN  ...   \n4  PARKED MOTOR VEHICLE                      PARKING LOT       NaN  ...   \n\n  WORKERS_PRESENT_I NUM_UNITS       MOST_SEVERE_INJURY INJURIES_TOTAL  \\\n0               NaN       NaN                      NaN            NaN   \n1               NaN       NaN                      NaN            NaN   \n2               NaN       1.0                      NaN            NaN   \n3               NaN       1.0  NO INDICATION OF INJURY            0.0   \n4               NaN       1.0  NO INDICATION OF INJURY            0.0   \n\n  INJURIES_FATAL INJURIES_INCAPACITATING INJURIES_NON_INCAPACITATING  \\\n0            NaN                     NaN                         NaN   \n1            NaN                     NaN                         NaN   \n2            NaN                     NaN                         NaN   \n3            0.0                     0.0                         0.0   \n4            0.0                     0.0                         0.0   \n\n  INJURIES_REPORTED_NOT_EVIDENT INJURIES_NO_INDICATION INJURIES_UNKNOWN  \n0                           NaN                    NaN              NaN  \n1                           NaN                    NaN              NaN  \n2                           NaN                    NaN              NaN  \n3                           0.0                    1.0              0.0  \n4                           0.0                    1.0              0.0  \n\n[5 rows x 41 columns]"
          },
          "execution_count": 69,
          "metadata": {},
          "output_type": "execute_result"
        }
      ],
      "source": [
        "crash_data.head()"
      ]
    },
    {
      "cell_type": "markdown",
      "metadata": {
        "colab_type": "text",
        "id": "5dk0oqeBni8I"
      },
      "source": [
        "Calculate and print out the following: \n",
        "\n",
        "- The data type of each column that was automatically assigned when the data was read in. \n",
        "- The number of numeric columns \n",
        "- The number of categorical/string columns\n",
        "\n",
        "Do the assigned column types make sense, or are there some that should be changed?"
      ]
    },
    {
      "cell_type": "code",
      "execution_count": 70,
      "metadata": {},
      "outputs": [
        {
          "name": "stdout",
          "output_type": "stream",
          "text": "<class 'pandas.core.frame.DataFrame'>\nRangeIndex: 372585 entries, 0 to 372584\nData columns (total 41 columns):\nRD_NO                            372585 non-null object\nCRASH_DATE                       372585 non-null object\nPOSTED_SPEED_LIMIT               372585 non-null int64\nTRAFFIC_CONTROL_DEVICE           372585 non-null object\nDEVICE_CONDITION                 372585 non-null object\nWEATHER_CONDITION                372585 non-null object\nLIGHTING_CONDITION               372585 non-null object\nFIRST_CRASH_TYPE                 372585 non-null object\nTRAFFICWAY_TYPE                  372585 non-null object\nLANE_CNT                         198548 non-null float64\nALIGNMENT                        372585 non-null object\nROADWAY_SURFACE_COND             372585 non-null object\nROAD_DEFECT                      372585 non-null object\nREPORT_TYPE                      364011 non-null object\nCRASH_TYPE                       372585 non-null object\nINTERSECTION_RELATED_I           82171 non-null object\nNOT_RIGHT_OF_WAY_I               17170 non-null object\nHIT_AND_RUN_I                    103421 non-null object\nDAMAGE                           372585 non-null object\nDATE_POLICE_NOTIFIED             372585 non-null object\nPRIM_CONTRIBUTORY_CAUSE          372585 non-null object\nSEC_CONTRIBUTORY_CAUSE           372585 non-null object\nSTREET_NO                        372585 non-null int64\nSTREET_DIRECTION                 372583 non-null object\nSTREET_NAME                      372584 non-null object\nBEAT_OF_OCCURRENCE               372581 non-null float64\nPHOTOS_TAKEN_I                   4725 non-null object\nSTATEMENTS_TAKEN_I               7541 non-null object\nDOORING_I                        1261 non-null object\nWORK_ZONE_I                      2633 non-null object\nWORK_ZONE_TYPE                   2090 non-null object\nWORKERS_PRESENT_I                614 non-null object\nNUM_UNITS                        371186 non-null float64\nMOST_SEVERE_INJURY               370426 non-null object\nINJURIES_TOTAL                   370433 non-null float64\nINJURIES_FATAL                   370433 non-null float64\nINJURIES_INCAPACITATING          370433 non-null float64\nINJURIES_NON_INCAPACITATING      370433 non-null float64\nINJURIES_REPORTED_NOT_EVIDENT    370433 non-null float64\nINJURIES_NO_INDICATION           370433 non-null float64\nINJURIES_UNKNOWN                 370433 non-null float64\ndtypes: float64(10), int64(2), object(29)\nmemory usage: 116.5+ MB\nobject <- RD_NO\nobject <- CRASH_DATE\nint64 <- POSTED_SPEED_LIMIT\nobject <- TRAFFIC_CONTROL_DEVICE\nobject <- DEVICE_CONDITION\nobject <- WEATHER_CONDITION\nobject <- LIGHTING_CONDITION\nobject <- FIRST_CRASH_TYPE\nobject <- TRAFFICWAY_TYPE\nfloat64 <- LANE_CNT\nobject <- ALIGNMENT\nobject <- ROADWAY_SURFACE_COND\nobject <- ROAD_DEFECT\nobject <- REPORT_TYPE\nobject <- CRASH_TYPE\nobject <- INTERSECTION_RELATED_I\nobject <- NOT_RIGHT_OF_WAY_I\nobject <- HIT_AND_RUN_I\nobject <- DAMAGE\nobject <- DATE_POLICE_NOTIFIED\nobject <- PRIM_CONTRIBUTORY_CAUSE\nobject <- SEC_CONTRIBUTORY_CAUSE\nint64 <- STREET_NO\nobject <- STREET_DIRECTION\nobject <- STREET_NAME\nfloat64 <- BEAT_OF_OCCURRENCE\nobject <- PHOTOS_TAKEN_I\nobject <- STATEMENTS_TAKEN_I\nobject <- DOORING_I\nobject <- WORK_ZONE_I\nobject <- WORK_ZONE_TYPE\nobject <- WORKERS_PRESENT_I\nfloat64 <- NUM_UNITS\nobject <- MOST_SEVERE_INJURY\nfloat64 <- INJURIES_TOTAL\nfloat64 <- INJURIES_FATAL\nfloat64 <- INJURIES_INCAPACITATING\nfloat64 <- INJURIES_NON_INCAPACITATING\nfloat64 <- INJURIES_REPORTED_NOT_EVIDENT\nfloat64 <- INJURIES_NO_INDICATION\nfloat64 <- INJURIES_UNKNOWN\n\nNumeric Column Count: 12\nCategorical Column Count: 29\nCrash date ought to be made into a pd.datetime or timestamp object to make it more functional\nSeveral discrete floats could be ints instead\n"
        }
      ],
      "source": [
        "# answer goes here\n",
        "crash_data.info()\n",
        "\n",
        "numeric = 0\n",
        "categorical = 0\n",
        "for col in crash_data.columns:\n",
        "    print(crash_data.loc[:,col].dtype, '<-', col)\n",
        "    if crash_data.loc[:,col].dtype == 'object':\n",
        "        categorical += 1\n",
        "    else:\n",
        "        numeric += 1\n",
        "\n",
        "print('\\nNumeric Column Count:', numeric)\n",
        "print('Categorical Column Count:', categorical)\n",
        "\n",
        "print('Crash date ought to be made into a pd.datetime or timestamp object to make it more functional')\n",
        "print('Several discrete floats could be ints instead')"
      ]
    },
    {
      "cell_type": "markdown",
      "metadata": {
        "colab_type": "text",
        "id": "zC2YmEBTni8K"
      },
      "source": [
        "Write a function *missingness_summary* that takes a pandas dataframe as a parameter and returns a pandas series containing the percentage of missing data in each column. (Hint: the *apply* function can be helpful here.) Furthermore, the function should have two additional parameters:\n",
        "\n",
        "1. print_log (boolean): if True, the function should print out all of the columns in the dataframe, one to a line, followed by the percentage of total rows that have a null value for that column. \n",
        "2. sort (string): a string that allows the user to specify if the output should be sorted in ascending order, descending order, or not at all."
      ]
    },
    {
      "cell_type": "code",
      "execution_count": 71,
      "metadata": {},
      "outputs": [],
      "source": [
        "# answer goes here\n",
        "\n",
        "def missingness_summary(df, print_log, sort):\n",
        "    s = df.isna().sum()*100/len(df)\n",
        "    if sort == 'asc':\n",
        "        s.sort_values(ascending=True, inplace=True)\n",
        "    elif sort == 'desc':\n",
        "        s.sort_values(ascending=False, inplace=True)\n",
        "    if print_log == True:\n",
        "        print(s)\n",
        "    return s"
      ]
    },
    {
      "cell_type": "markdown",
      "metadata": {
        "colab_type": "text",
        "id": "7wR6bliDni8M"
      },
      "source": [
        "Call the *missingness summary* function on our data. Answer the following questions *programatically* (this dataset is small enough that we could manually count, but this approach would obviously not be scalable to datasets with hundreds of columns, which frequently occur in real life):\n",
        "\n",
        "1. How many columns have no missing data? Print out these column names.\n",
        "2. How many columns have more than 10% missing data? Again, print out these column names."
      ]
    },
    {
      "cell_type": "code",
      "execution_count": 72,
      "metadata": {},
      "outputs": [
        {
          "name": "stdout",
          "output_type": "stream",
          "text": "RD_NO                             0.000000\nSTREET_NO                         0.000000\nSEC_CONTRIBUTORY_CAUSE            0.000000\nDATE_POLICE_NOTIFIED              0.000000\nDAMAGE                            0.000000\nCRASH_TYPE                        0.000000\nROAD_DEFECT                       0.000000\nROADWAY_SURFACE_COND              0.000000\nALIGNMENT                         0.000000\nPRIM_CONTRIBUTORY_CAUSE           0.000000\nTRAFFICWAY_TYPE                   0.000000\nFIRST_CRASH_TYPE                  0.000000\nLIGHTING_CONDITION                0.000000\nWEATHER_CONDITION                 0.000000\nCRASH_DATE                        0.000000\nPOSTED_SPEED_LIMIT                0.000000\nDEVICE_CONDITION                  0.000000\nTRAFFIC_CONTROL_DEVICE            0.000000\nSTREET_NAME                       0.000268\nSTREET_DIRECTION                  0.000537\nBEAT_OF_OCCURRENCE                0.001074\nNUM_UNITS                         0.375485\nINJURIES_UNKNOWN                  0.577586\nINJURIES_REPORTED_NOT_EVIDENT     0.577586\nINJURIES_NON_INCAPACITATING       0.577586\nINJURIES_INCAPACITATING           0.577586\nINJURIES_FATAL                    0.577586\nINJURIES_TOTAL                    0.577586\nINJURIES_NO_INDICATION            0.577586\nMOST_SEVERE_INJURY                0.579465\nREPORT_TYPE                       2.301220\nLANE_CNT                         46.710683\nHIT_AND_RUN_I                    72.242307\nINTERSECTION_RELATED_I           77.945704\nNOT_RIGHT_OF_WAY_I               95.391656\nSTATEMENTS_TAKEN_I               97.976032\nPHOTOS_TAKEN_I                   98.731833\nWORK_ZONE_I                      99.293316\nWORK_ZONE_TYPE                   99.439054\nDOORING_I                        99.661554\nWORKERS_PRESENT_I                99.835205\ndtype: float64\n"
        }
      ],
      "source": [
        "# answer goes here\n",
        "\n",
        "missings = missingness_summary(crash_data, True, 'asc')"
      ]
    },
    {
      "cell_type": "code",
      "execution_count": 73,
      "metadata": {},
      "outputs": [
        {
          "name": "stdout",
          "output_type": "stream",
          "text": "RD_NO                      0.0\nSTREET_NO                  0.0\nSEC_CONTRIBUTORY_CAUSE     0.0\nDATE_POLICE_NOTIFIED       0.0\nDAMAGE                     0.0\nCRASH_TYPE                 0.0\nROAD_DEFECT                0.0\nROADWAY_SURFACE_COND       0.0\nALIGNMENT                  0.0\nPRIM_CONTRIBUTORY_CAUSE    0.0\nTRAFFICWAY_TYPE            0.0\nFIRST_CRASH_TYPE           0.0\nLIGHTING_CONDITION         0.0\nWEATHER_CONDITION          0.0\nCRASH_DATE                 0.0\nPOSTED_SPEED_LIMIT         0.0\nDEVICE_CONDITION           0.0\nTRAFFIC_CONTROL_DEVICE     0.0\ndtype: float64\n"
        }
      ],
      "source": [
        "# Print out columns with missing data\n",
        "print(missings.loc[missings == 0])"
      ]
    },
    {
      "cell_type": "code",
      "execution_count": 74,
      "metadata": {},
      "outputs": [
        {
          "name": "stdout",
          "output_type": "stream",
          "text": "LANE_CNT                  46.710683\nHIT_AND_RUN_I             72.242307\nINTERSECTION_RELATED_I    77.945704\nNOT_RIGHT_OF_WAY_I        95.391656\nSTATEMENTS_TAKEN_I        97.976032\nPHOTOS_TAKEN_I            98.731833\nWORK_ZONE_I               99.293316\nWORK_ZONE_TYPE            99.439054\nDOORING_I                 99.661554\nWORKERS_PRESENT_I         99.835205\ndtype: float64\n"
        }
      ],
      "source": [
        "# Print columns with > 10% missing data\n",
        "print(missings.loc[missings > 10])"
      ]
    },
    {
      "cell_type": "markdown",
      "metadata": {
        "colab_type": "text",
        "id": "T0rFQRHvni8O"
      },
      "source": [
        "For the columns beginning with the string \"INJURIES_\", impute values for the missing data by using an appropriate measure of central tendency.\n",
        "\n",
        "Re-run the *missingness_summary* function after doing the imputation - we should see no missing data in those columns."
      ]
    },
    {
      "cell_type": "code",
      "execution_count": 76,
      "metadata": {},
      "outputs": [
        {
          "name": "stdout",
          "output_type": "stream",
          "text": "RD_NO                             0.000000\nINJURIES_REPORTED_NOT_EVIDENT     0.000000\nINJURIES_NON_INCAPACITATING       0.000000\nINJURIES_INCAPACITATING           0.000000\nINJURIES_FATAL                    0.000000\nINJURIES_TOTAL                    0.000000\nSTREET_NO                         0.000000\nSEC_CONTRIBUTORY_CAUSE            0.000000\nINJURIES_NO_INDICATION            0.000000\nDATE_POLICE_NOTIFIED              0.000000\nDAMAGE                            0.000000\nCRASH_TYPE                        0.000000\nPRIM_CONTRIBUTORY_CAUSE           0.000000\nINJURIES_UNKNOWN                  0.000000\nWEATHER_CONDITION                 0.000000\nROAD_DEFECT                       0.000000\nLIGHTING_CONDITION                0.000000\nTRAFFICWAY_TYPE                   0.000000\nDEVICE_CONDITION                  0.000000\nFIRST_CRASH_TYPE                  0.000000\nTRAFFIC_CONTROL_DEVICE            0.000000\nPOSTED_SPEED_LIMIT                0.000000\nCRASH_DATE                        0.000000\nROADWAY_SURFACE_COND              0.000000\nALIGNMENT                         0.000000\nSTREET_NAME                       0.000268\nSTREET_DIRECTION                  0.000537\nBEAT_OF_OCCURRENCE                0.001074\nNUM_UNITS                         0.375485\nMOST_SEVERE_INJURY                0.579465\nREPORT_TYPE                       2.301220\nLANE_CNT                         46.710683\nHIT_AND_RUN_I                    72.242307\nINTERSECTION_RELATED_I           77.945704\nNOT_RIGHT_OF_WAY_I               95.391656\nSTATEMENTS_TAKEN_I               97.976032\nPHOTOS_TAKEN_I                   98.731833\nWORK_ZONE_I                      99.293316\nWORK_ZONE_TYPE                   99.439054\nDOORING_I                        99.661554\nWORKERS_PRESENT_I                99.835205\ndtype: float64\n"
        },
        {
          "data": {
            "text/plain": "RD_NO                             0.000000\nINJURIES_REPORTED_NOT_EVIDENT     0.000000\nINJURIES_NON_INCAPACITATING       0.000000\nINJURIES_INCAPACITATING           0.000000\nINJURIES_FATAL                    0.000000\nINJURIES_TOTAL                    0.000000\nSTREET_NO                         0.000000\nSEC_CONTRIBUTORY_CAUSE            0.000000\nINJURIES_NO_INDICATION            0.000000\nDATE_POLICE_NOTIFIED              0.000000\nDAMAGE                            0.000000\nCRASH_TYPE                        0.000000\nPRIM_CONTRIBUTORY_CAUSE           0.000000\nINJURIES_UNKNOWN                  0.000000\nWEATHER_CONDITION                 0.000000\nROAD_DEFECT                       0.000000\nLIGHTING_CONDITION                0.000000\nTRAFFICWAY_TYPE                   0.000000\nDEVICE_CONDITION                  0.000000\nFIRST_CRASH_TYPE                  0.000000\nTRAFFIC_CONTROL_DEVICE            0.000000\nPOSTED_SPEED_LIMIT                0.000000\nCRASH_DATE                        0.000000\nROADWAY_SURFACE_COND              0.000000\nALIGNMENT                         0.000000\nSTREET_NAME                       0.000268\nSTREET_DIRECTION                  0.000537\nBEAT_OF_OCCURRENCE                0.001074\nNUM_UNITS                         0.375485\nMOST_SEVERE_INJURY                0.579465\nREPORT_TYPE                       2.301220\nLANE_CNT                         46.710683\nHIT_AND_RUN_I                    72.242307\nINTERSECTION_RELATED_I           77.945704\nNOT_RIGHT_OF_WAY_I               95.391656\nSTATEMENTS_TAKEN_I               97.976032\nPHOTOS_TAKEN_I                   98.731833\nWORK_ZONE_I                      99.293316\nWORK_ZONE_TYPE                   99.439054\nDOORING_I                        99.661554\nWORKERS_PRESENT_I                99.835205\ndtype: float64"
          },
          "execution_count": 76,
          "metadata": {},
          "output_type": "execute_result"
        }
      ],
      "source": [
        "# answer goes here\n",
        "\n",
        "columns = crash_data.columns\n",
        "cols = [col for col in columns if 'INJURIES_' in col]\n",
        "\n",
        "crash_data.loc[:,cols] = crash_data.loc[:,cols].fillna(crash_data.loc[:,cols].mean())\n",
        "missingness_summary(crash_data, True, 'asc')"
      ]
    },
    {
      "cell_type": "code",
      "execution_count": null,
      "metadata": {},
      "outputs": [],
      "source": []
    }
  ]
}