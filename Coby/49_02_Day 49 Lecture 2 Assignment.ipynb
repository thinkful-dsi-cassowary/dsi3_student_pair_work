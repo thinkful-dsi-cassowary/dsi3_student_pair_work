{
 "cells": [
  {
   "cell_type": "markdown",
   "metadata": {
    "colab_type": "text",
    "id": "xdL0Yz0D1D_q"
   },
   "source": [
    "## Day 49 Lecture 2 Assignment\n",
    "\n",
    "In this assignment, we will apply mean shift clustering to a dataset containing the results of a survey on financial wellbeing."
   ]
  },
  {
   "cell_type": "code",
   "execution_count": 1,
   "metadata": {},
   "outputs": [],
   "source": [
    "%matplotlib inline\n",
    "\n",
    "import matplotlib.pyplot as plt\n",
    "import numpy as np\n",
    "import pandas as pd\n",
    "from sklearn.cluster import MeanShift\n",
    "from sklearn.preprocessing import StandardScaler"
   ]
  },
  {
   "cell_type": "markdown",
   "metadata": {
    "colab_type": "text",
    "id": "ezMvoRlB1D_t"
   },
   "source": [
    "This dataset contains the results of a survey on a financial wellbeing conducted by the US Consumer Finance Protection Bureau that were published in October 2017. This dataset has a large number of columns, most of which correspond to specific questions on the survey. These codebook for translating the column names to questions can be found here:\n",
    "\n",
    "https://s3.amazonaws.com/files.consumerfinance.gov/f/documents/cfpb_nfwbs-puf-codebook.pdf\n",
    "\n",
    "Load the dataset."
   ]
  },
  {
   "cell_type": "code",
   "execution_count": 2,
   "metadata": {},
   "outputs": [],
   "source": [
    "# answer goes here\n",
    "\n",
    "fin_well = pd.read_csv('https://tf-assets-prod.s3.amazonaws.com/tf-curric/data-science/Data%20Sets%20Clustering/financial_wellbeing.csv')"
   ]
  },
  {
   "cell_type": "code",
   "execution_count": 3,
   "metadata": {},
   "outputs": [
    {
     "data": {
      "text/html": "<div>\n<style scoped>\n    .dataframe tbody tr th:only-of-type {\n        vertical-align: middle;\n    }\n\n    .dataframe tbody tr th {\n        vertical-align: top;\n    }\n\n    .dataframe thead th {\n        text-align: right;\n    }\n</style>\n<table border=\"1\" class=\"dataframe\">\n  <thead>\n    <tr style=\"text-align: right;\">\n      <th></th>\n      <th>PUF_ID</th>\n      <th>sample</th>\n      <th>fpl</th>\n      <th>SWB_1</th>\n      <th>SWB_2</th>\n      <th>SWB_3</th>\n      <th>FWBscore</th>\n      <th>FWB1_1</th>\n      <th>FWB1_2</th>\n      <th>FWB1_3</th>\n      <th>...</th>\n      <th>PPMSACAT</th>\n      <th>PPREG4</th>\n      <th>PPREG9</th>\n      <th>PPT01</th>\n      <th>PPT25</th>\n      <th>PPT612</th>\n      <th>PPT1317</th>\n      <th>PPT18OV</th>\n      <th>PCTLT200FPL</th>\n      <th>finalwt</th>\n    </tr>\n  </thead>\n  <tbody>\n    <tr>\n      <th>0</th>\n      <td>10350</td>\n      <td>2</td>\n      <td>3</td>\n      <td>5</td>\n      <td>5</td>\n      <td>6</td>\n      <td>55</td>\n      <td>3</td>\n      <td>3</td>\n      <td>3</td>\n      <td>...</td>\n      <td>1</td>\n      <td>4</td>\n      <td>8</td>\n      <td>0</td>\n      <td>0</td>\n      <td>0</td>\n      <td>0</td>\n      <td>1</td>\n      <td>0</td>\n      <td>0.367292</td>\n    </tr>\n    <tr>\n      <th>1</th>\n      <td>7740</td>\n      <td>1</td>\n      <td>3</td>\n      <td>6</td>\n      <td>6</td>\n      <td>6</td>\n      <td>51</td>\n      <td>2</td>\n      <td>2</td>\n      <td>3</td>\n      <td>...</td>\n      <td>1</td>\n      <td>2</td>\n      <td>3</td>\n      <td>0</td>\n      <td>0</td>\n      <td>0</td>\n      <td>0</td>\n      <td>2</td>\n      <td>0</td>\n      <td>1.327561</td>\n    </tr>\n    <tr>\n      <th>2</th>\n      <td>13699</td>\n      <td>1</td>\n      <td>3</td>\n      <td>4</td>\n      <td>3</td>\n      <td>4</td>\n      <td>49</td>\n      <td>3</td>\n      <td>3</td>\n      <td>3</td>\n      <td>...</td>\n      <td>1</td>\n      <td>4</td>\n      <td>9</td>\n      <td>0</td>\n      <td>0</td>\n      <td>0</td>\n      <td>1</td>\n      <td>2</td>\n      <td>1</td>\n      <td>0.835156</td>\n    </tr>\n    <tr>\n      <th>3</th>\n      <td>7267</td>\n      <td>1</td>\n      <td>3</td>\n      <td>6</td>\n      <td>6</td>\n      <td>6</td>\n      <td>49</td>\n      <td>3</td>\n      <td>3</td>\n      <td>3</td>\n      <td>...</td>\n      <td>1</td>\n      <td>3</td>\n      <td>7</td>\n      <td>0</td>\n      <td>0</td>\n      <td>0</td>\n      <td>0</td>\n      <td>1</td>\n      <td>0</td>\n      <td>1.410871</td>\n    </tr>\n    <tr>\n      <th>4</th>\n      <td>7375</td>\n      <td>1</td>\n      <td>3</td>\n      <td>4</td>\n      <td>4</td>\n      <td>4</td>\n      <td>49</td>\n      <td>3</td>\n      <td>3</td>\n      <td>3</td>\n      <td>...</td>\n      <td>1</td>\n      <td>2</td>\n      <td>4</td>\n      <td>0</td>\n      <td>0</td>\n      <td>1</td>\n      <td>0</td>\n      <td>4</td>\n      <td>1</td>\n      <td>4.260668</td>\n    </tr>\n    <tr>\n      <th>...</th>\n      <td>...</td>\n      <td>...</td>\n      <td>...</td>\n      <td>...</td>\n      <td>...</td>\n      <td>...</td>\n      <td>...</td>\n      <td>...</td>\n      <td>...</td>\n      <td>...</td>\n      <td>...</td>\n      <td>...</td>\n      <td>...</td>\n      <td>...</td>\n      <td>...</td>\n      <td>...</td>\n      <td>...</td>\n      <td>...</td>\n      <td>...</td>\n      <td>...</td>\n      <td>...</td>\n    </tr>\n    <tr>\n      <th>6389</th>\n      <td>11220</td>\n      <td>3</td>\n      <td>3</td>\n      <td>6</td>\n      <td>7</td>\n      <td>7</td>\n      <td>61</td>\n      <td>3</td>\n      <td>3</td>\n      <td>1</td>\n      <td>...</td>\n      <td>1</td>\n      <td>2</td>\n      <td>3</td>\n      <td>0</td>\n      <td>0</td>\n      <td>0</td>\n      <td>1</td>\n      <td>2</td>\n      <td>-5</td>\n      <td>0.522504</td>\n    </tr>\n    <tr>\n      <th>6390</th>\n      <td>13118</td>\n      <td>3</td>\n      <td>2</td>\n      <td>7</td>\n      <td>7</td>\n      <td>7</td>\n      <td>59</td>\n      <td>3</td>\n      <td>4</td>\n      <td>2</td>\n      <td>...</td>\n      <td>1</td>\n      <td>3</td>\n      <td>6</td>\n      <td>0</td>\n      <td>0</td>\n      <td>0</td>\n      <td>0</td>\n      <td>3</td>\n      <td>-5</td>\n      <td>1.015219</td>\n    </tr>\n    <tr>\n      <th>6391</th>\n      <td>8709</td>\n      <td>1</td>\n      <td>3</td>\n      <td>5</td>\n      <td>6</td>\n      <td>6</td>\n      <td>59</td>\n      <td>3</td>\n      <td>4</td>\n      <td>3</td>\n      <td>...</td>\n      <td>1</td>\n      <td>1</td>\n      <td>2</td>\n      <td>0</td>\n      <td>0</td>\n      <td>0</td>\n      <td>0</td>\n      <td>2</td>\n      <td>0</td>\n      <td>1.136270</td>\n    </tr>\n    <tr>\n      <th>6392</th>\n      <td>8515</td>\n      <td>1</td>\n      <td>3</td>\n      <td>5</td>\n      <td>5</td>\n      <td>5</td>\n      <td>46</td>\n      <td>2</td>\n      <td>2</td>\n      <td>3</td>\n      <td>...</td>\n      <td>1</td>\n      <td>4</td>\n      <td>9</td>\n      <td>0</td>\n      <td>0</td>\n      <td>0</td>\n      <td>0</td>\n      <td>2</td>\n      <td>0</td>\n      <td>1.224941</td>\n    </tr>\n    <tr>\n      <th>6393</th>\n      <td>8516</td>\n      <td>3</td>\n      <td>2</td>\n      <td>4</td>\n      <td>6</td>\n      <td>4</td>\n      <td>49</td>\n      <td>3</td>\n      <td>3</td>\n      <td>3</td>\n      <td>...</td>\n      <td>0</td>\n      <td>3</td>\n      <td>5</td>\n      <td>0</td>\n      <td>0</td>\n      <td>1</td>\n      <td>0</td>\n      <td>2</td>\n      <td>-5</td>\n      <td>0.626489</td>\n    </tr>\n  </tbody>\n</table>\n<p>6394 rows × 217 columns</p>\n</div>",
      "text/plain": "      PUF_ID  sample  fpl  SWB_1  SWB_2  SWB_3  FWBscore  FWB1_1  FWB1_2  \\\n0      10350       2    3      5      5      6        55       3       3   \n1       7740       1    3      6      6      6        51       2       2   \n2      13699       1    3      4      3      4        49       3       3   \n3       7267       1    3      6      6      6        49       3       3   \n4       7375       1    3      4      4      4        49       3       3   \n...      ...     ...  ...    ...    ...    ...       ...     ...     ...   \n6389   11220       3    3      6      7      7        61       3       3   \n6390   13118       3    2      7      7      7        59       3       4   \n6391    8709       1    3      5      6      6        59       3       4   \n6392    8515       1    3      5      5      5        46       2       2   \n6393    8516       3    2      4      6      4        49       3       3   \n\n      FWB1_3  ...  PPMSACAT  PPREG4  PPREG9  PPT01  PPT25  PPT612  PPT1317  \\\n0          3  ...         1       4       8      0      0       0        0   \n1          3  ...         1       2       3      0      0       0        0   \n2          3  ...         1       4       9      0      0       0        1   \n3          3  ...         1       3       7      0      0       0        0   \n4          3  ...         1       2       4      0      0       1        0   \n...      ...  ...       ...     ...     ...    ...    ...     ...      ...   \n6389       1  ...         1       2       3      0      0       0        1   \n6390       2  ...         1       3       6      0      0       0        0   \n6391       3  ...         1       1       2      0      0       0        0   \n6392       3  ...         1       4       9      0      0       0        0   \n6393       3  ...         0       3       5      0      0       1        0   \n\n      PPT18OV  PCTLT200FPL   finalwt  \n0           1            0  0.367292  \n1           2            0  1.327561  \n2           2            1  0.835156  \n3           1            0  1.410871  \n4           4            1  4.260668  \n...       ...          ...       ...  \n6389        2           -5  0.522504  \n6390        3           -5  1.015219  \n6391        2            0  1.136270  \n6392        2            0  1.224941  \n6393        2           -5  0.626489  \n\n[6394 rows x 217 columns]"
     },
     "execution_count": 3,
     "metadata": {},
     "output_type": "execute_result"
    }
   ],
   "source": [
    "fin_well"
   ]
  },
  {
   "cell_type": "markdown",
   "metadata": {
    "colab_type": "text",
    "id": "o_K1eQ0x1D_y"
   },
   "source": [
    "While the survey questions have the potential for interesting cluster analysis, we will stick to the \"score\" columns to avoid clustering in an unreasonably high-dimensional space. The columns we are interested in all have \"score\" in their names; identify and isolate these columns. (There should be 4 in total.)"
   ]
  },
  {
   "cell_type": "code",
   "execution_count": 12,
   "metadata": {},
   "outputs": [
    {
     "data": {
      "text/html": "<div>\n<style scoped>\n    .dataframe tbody tr th:only-of-type {\n        vertical-align: middle;\n    }\n\n    .dataframe tbody tr th {\n        vertical-align: top;\n    }\n\n    .dataframe thead th {\n        text-align: right;\n    }\n</style>\n<table border=\"1\" class=\"dataframe\">\n  <thead>\n    <tr style=\"text-align: right;\">\n      <th></th>\n      <th>FWBscore</th>\n      <th>FSscore</th>\n      <th>LMscore</th>\n      <th>KHscore</th>\n    </tr>\n  </thead>\n  <tbody>\n    <tr>\n      <th>0</th>\n      <td>55</td>\n      <td>44</td>\n      <td>3</td>\n      <td>1.267</td>\n    </tr>\n    <tr>\n      <th>1</th>\n      <td>51</td>\n      <td>43</td>\n      <td>3</td>\n      <td>-0.570</td>\n    </tr>\n    <tr>\n      <th>2</th>\n      <td>49</td>\n      <td>42</td>\n      <td>3</td>\n      <td>-0.188</td>\n    </tr>\n    <tr>\n      <th>3</th>\n      <td>49</td>\n      <td>42</td>\n      <td>2</td>\n      <td>-1.485</td>\n    </tr>\n    <tr>\n      <th>4</th>\n      <td>49</td>\n      <td>42</td>\n      <td>1</td>\n      <td>-1.900</td>\n    </tr>\n    <tr>\n      <th>...</th>\n      <td>...</td>\n      <td>...</td>\n      <td>...</td>\n      <td>...</td>\n    </tr>\n    <tr>\n      <th>6389</th>\n      <td>61</td>\n      <td>47</td>\n      <td>3</td>\n      <td>1.267</td>\n    </tr>\n    <tr>\n      <th>6390</th>\n      <td>59</td>\n      <td>59</td>\n      <td>1</td>\n      <td>-1.215</td>\n    </tr>\n    <tr>\n      <th>6391</th>\n      <td>59</td>\n      <td>51</td>\n      <td>2</td>\n      <td>-1.215</td>\n    </tr>\n    <tr>\n      <th>6392</th>\n      <td>46</td>\n      <td>54</td>\n      <td>2</td>\n      <td>-1.215</td>\n    </tr>\n    <tr>\n      <th>6393</th>\n      <td>49</td>\n      <td>42</td>\n      <td>2</td>\n      <td>-1.215</td>\n    </tr>\n  </tbody>\n</table>\n<p>6394 rows × 4 columns</p>\n</div>",
      "text/plain": "      FWBscore  FSscore  LMscore  KHscore\n0           55       44        3    1.267\n1           51       43        3   -0.570\n2           49       42        3   -0.188\n3           49       42        2   -1.485\n4           49       42        1   -1.900\n...        ...      ...      ...      ...\n6389        61       47        3    1.267\n6390        59       59        1   -1.215\n6391        59       51        2   -1.215\n6392        46       54        2   -1.215\n6393        49       42        2   -1.215\n\n[6394 rows x 4 columns]"
     },
     "execution_count": 12,
     "metadata": {},
     "output_type": "execute_result"
    }
   ],
   "source": [
    "# answer goes here\n",
    "\n",
    "X = fin_well.filter(regex='score')\n",
    "X"
   ]
  },
  {
   "cell_type": "markdown",
   "metadata": {
    "colab_type": "text",
    "id": "MUjcLMMk1D_2"
   },
   "source": [
    "Standardize the features in your dataset using scikit-learn's StandardScaler, which will set the mean of each feature to 0 and the variance to 1."
   ]
  },
  {
   "cell_type": "code",
   "execution_count": 13,
   "metadata": {},
   "outputs": [
    {
     "data": {
      "text/html": "<div>\n<style scoped>\n    .dataframe tbody tr th:only-of-type {\n        vertical-align: middle;\n    }\n\n    .dataframe tbody tr th {\n        vertical-align: top;\n    }\n\n    .dataframe thead th {\n        text-align: right;\n    }\n</style>\n<table border=\"1\" class=\"dataframe\">\n  <thead>\n    <tr style=\"text-align: right;\">\n      <th></th>\n      <th>FWBscore</th>\n      <th>FSscore</th>\n      <th>LMscore</th>\n      <th>KHscore</th>\n    </tr>\n  </thead>\n  <tbody>\n    <tr>\n      <th>0</th>\n      <td>-0.073062</td>\n      <td>-0.530906</td>\n      <td>0.653830</td>\n      <td>1.624716</td>\n    </tr>\n    <tr>\n      <th>1</th>\n      <td>-0.355677</td>\n      <td>-0.609920</td>\n      <td>0.653830</td>\n      <td>-0.629626</td>\n    </tr>\n    <tr>\n      <th>2</th>\n      <td>-0.496984</td>\n      <td>-0.688935</td>\n      <td>0.653830</td>\n      <td>-0.160841</td>\n    </tr>\n    <tr>\n      <th>3</th>\n      <td>-0.496984</td>\n      <td>-0.688935</td>\n      <td>-0.670399</td>\n      <td>-1.752502</td>\n    </tr>\n    <tr>\n      <th>4</th>\n      <td>-0.496984</td>\n      <td>-0.688935</td>\n      <td>-1.994628</td>\n      <td>-2.261785</td>\n    </tr>\n  </tbody>\n</table>\n</div>",
      "text/plain": "   FWBscore   FSscore   LMscore   KHscore\n0 -0.073062 -0.530906  0.653830  1.624716\n1 -0.355677 -0.609920  0.653830 -0.629626\n2 -0.496984 -0.688935  0.653830 -0.160841\n3 -0.496984 -0.688935 -0.670399 -1.752502\n4 -0.496984 -0.688935 -1.994628 -2.261785"
     },
     "execution_count": 13,
     "metadata": {},
     "output_type": "execute_result"
    }
   ],
   "source": [
    "# answer goes here\n",
    "\n",
    "scaler = StandardScaler()\n",
    "X_std = pd.DataFrame(scaler.fit_transform(X), columns=X.columns)\n",
    "X_std.head()"
   ]
  },
  {
   "cell_type": "code",
   "execution_count": null,
   "metadata": {},
   "outputs": [],
   "source": []
  },
  {
   "cell_type": "markdown",
   "metadata": {
    "colab_type": "text",
    "id": "ao3Y5FVp1D_4"
   },
   "source": [
    "Run mean shift clustering on the scores in the survey dataset using the default bandwidth. Then answer the following by printing or typing as appropriate:\n",
    "\n",
    "- How many clusters are produced? \n",
    "- What are the cluster centers?\n",
    "- How many responses are assigned to each cluster?\n",
    "- Are these results reasonable? If not, what changes should we make?"
   ]
  },
  {
   "cell_type": "code",
   "execution_count": 35,
   "metadata": {},
   "outputs": [],
   "source": [
    "# answer goes here\n",
    "\n",
    "mean_shift = MeanShift()\n",
    "labels = mean_shift.fit_predict(X_std)"
   ]
  },
  {
   "cell_type": "code",
   "execution_count": 41,
   "metadata": {},
   "outputs": [
    {
     "name": "stdout",
     "output_type": "stream",
     "text": "Number of clusters: 2\nclusters:\n    FWBscore    FSscore   LMscore   KHscore\n0  57.437953  50.121439  2.814341  0.217414\n1  -1.000000  -1.000000  0.250000 -1.826000\nresponsed per label:\n0    6326\n1      68\nName: labels, dtype: int64\n"
    }
   ],
   "source": [
    "cluster_df = pd.DataFrame(scaler.inverse_transform(mean_shift.cluster_centers_), columns=X.columns)\n",
    "print('Number of clusters:', cluster_df.shape[0])\n",
    "\n",
    "print('clusters:')\n",
    "print(cluster_df)\n",
    "\n",
    "labeled_X = X.copy()\n",
    "labeled_X['labels'] = labels\n",
    "\n",
    "print('responsed per label:')\n",
    "print(labeled_X['labels'].value_counts())\n",
    "\n",
    "#IDK"
   ]
  },
  {
   "cell_type": "code",
   "execution_count": null,
   "metadata": {},
   "outputs": [],
   "source": [
    "import matplotlib.pyplot as plt\n",
    "plt.hist(labeled_X)"
   ]
  },
  {
   "cell_type": "code",
   "execution_count": 37,
   "metadata": {},
   "outputs": [
    {
     "data": {
      "text/plain": "<bound method BaseEstimator.get_params of MeanShift(bandwidth=None, bin_seeding=False, cluster_all=True, max_iter=300,\n          min_bin_freq=1, n_jobs=None, seeds=None)>"
     },
     "execution_count": 37,
     "metadata": {},
     "output_type": "execute_result"
    }
   ],
   "source": [
    "mean_shift.get_params"
   ]
  },
  {
   "cell_type": "markdown",
   "metadata": {},
   "source": [
    "I don't think the results are reasonable. There are a ridiculously unbalanced. I think I can improve this by changing the bandwidth."
   ]
  },
  {
   "cell_type": "markdown",
   "metadata": {
    "colab_type": "text",
    "id": "y0wBOUWJ1D_6"
   },
   "source": [
    "Try changing the appropriate parameters of the mean shift algorithm to achieve a better clustering result. Answer all of the same questions from the previous clustering step."
   ]
  },
  {
   "cell_type": "code",
   "execution_count": 45,
   "metadata": {},
   "outputs": [
    {
     "name": "stdout",
     "output_type": "stream",
     "text": "Number of clusters: 4\nclusters:\n    FWBscore    FSscore   LMscore   KHscore\n0  58.027393  50.184094  2.868630  0.295934\n1  54.222222  11.333333  0.111111 -1.851222\n2  -1.000000  -1.000000  0.250000 -1.826000\n3  80.000000  10.000000  3.000000  0.712000\nresponsed per label:\n0    5946\n1     409\n3      20\n2      19\nName: labels, dtype: int64\n"
    }
   ],
   "source": [
    "# answer goes here\n",
    "\n",
    "mean_shift = MeanShift(bandwidth=1.7)\n",
    "labels = mean_shift.fit_predict(X_std)\n",
    "\n",
    "cluster_df = pd.DataFrame(scaler.inverse_transform(mean_shift.cluster_centers_), columns=X.columns)\n",
    "print('Number of clusters:', cluster_df.shape[0])\n",
    "\n",
    "print('clusters:')\n",
    "print(cluster_df)\n",
    "\n",
    "labeled_X = X.copy()\n",
    "labeled_X['labels'] = labels\n",
    "\n",
    "print('responsed per label:')\n",
    "print(labeled_X['labels'].value_counts())"
   ]
  },
  {
   "cell_type": "code",
   "execution_count": null,
   "metadata": {},
   "outputs": [],
   "source": []
  }
 ],
 "metadata": {
  "colab": {
   "collapsed_sections": [],
   "name": "Day 26 Lecture 1 Assignment.ipynb",
   "provenance": []
  },
  "kernelspec": {
   "display_name": "Python 3",
   "language": "python",
   "name": "python3"
  },
  "language_info": {
   "codemirror_mode": {
    "name": "ipython",
    "version": 3
   },
   "file_extension": ".py",
   "mimetype": "text/x-python",
   "name": "python",
   "nbconvert_exporter": "python",
   "pygments_lexer": "ipython3",
   "version": "3.7.2-final"
  }
 },
 "nbformat": 4,
 "nbformat_minor": 1
}