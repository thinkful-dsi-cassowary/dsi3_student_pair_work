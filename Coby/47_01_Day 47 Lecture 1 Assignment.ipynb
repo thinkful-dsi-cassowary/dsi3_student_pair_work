{
 "cells": [
  {
   "cell_type": "markdown",
   "metadata": {
    "colab_type": "text",
    "id": "xdL0Yz0D1D_q"
   },
   "source": [
    "## Day 47 Lecture 1 Assignment\n",
    "\n",
    "In this assignment, we will apply k-means clustering to a dataset containing player-season statistics for NBA players from the past four years."
   ]
  },
  {
   "cell_type": "code",
   "execution_count": 1,
   "metadata": {},
   "outputs": [],
   "source": [
    "%matplotlib inline\n",
    "\n",
    "import matplotlib.pyplot as plt\n",
    "import numpy as np\n",
    "import pandas as pd\n",
    "from sklearn.cluster import KMeans\n",
    "from sklearn.preprocessing import StandardScaler"
   ]
  },
  {
   "cell_type": "markdown",
   "metadata": {
    "colab_type": "text",
    "id": "ezMvoRlB1D_t"
   },
   "source": [
    "This dataset contains player-season statistics for NBA players from the past four years. Each row in this dataset represents a player's per-game averages for a single season. \n",
    "\n",
    "This dataset contains the following variables:\n",
    "\n",
    "- Seas: season ('2019' = 2018-2019 season, '2018' = 2017-2018 season, etc.)\n",
    "- Player: player name\n",
    "- Pos: position\n",
    "- Age: age\n",
    "- Tm: team\n",
    "- G: games played\n",
    "- GS: games started\n",
    "- MP: minutes played\n",
    "- FG: field goals\n",
    "- FGA: field goals attempted\n",
    "- FG%: field goal percentage\n",
    "- 3P: 3 pointers\n",
    "- 3PA: 3 pointers attempted\n",
    "- 3P%: 3 point percentage\n",
    "- 2P: 2 pointers\n",
    "- 2PA: 2 pointers attempted\n",
    "- 2P%: 2 point percentage\n",
    "- eFG%: effective field goal percentage\n",
    "- FT: free throws\n",
    "- FTA: free throws attempted\n",
    "- FT%: free throw percentage\n",
    "- ORB: offensive rebound\n",
    "- DRB: defensive rebound\n",
    "- TRB: total rebounds\n",
    "- AST: assists\n",
    "- STL: steals\n",
    "- BLK: blocks\n",
    "- TOV: turnovers\n",
    "- PF: personal fouls\n",
    "- PTS: points\n",
    "\n",
    "Load the dataset."
   ]
  },
  {
   "cell_type": "code",
   "execution_count": 2,
   "metadata": {},
   "outputs": [],
   "source": [
    "# answer goes here\n",
    "\n",
    "players = pd.read_csv('https://tf-assets-prod.s3.amazonaws.com/tf-curric/data-science/Data%20Sets%20Clustering/nba_player_seasons.csv')"
   ]
  },
  {
   "cell_type": "code",
   "execution_count": 4,
   "metadata": {},
   "outputs": [
    {
     "data": {
      "text/html": "<div>\n<style scoped>\n    .dataframe tbody tr th:only-of-type {\n        vertical-align: middle;\n    }\n\n    .dataframe tbody tr th {\n        vertical-align: top;\n    }\n\n    .dataframe thead th {\n        text-align: right;\n    }\n</style>\n<table border=\"1\" class=\"dataframe\">\n  <thead>\n    <tr style=\"text-align: right;\">\n      <th></th>\n      <th>Seas</th>\n      <th>Player</th>\n      <th>Pos</th>\n      <th>Age</th>\n      <th>Tm</th>\n      <th>G</th>\n      <th>GS</th>\n      <th>MP</th>\n      <th>FG</th>\n      <th>FGA</th>\n      <th>...</th>\n      <th>FT%</th>\n      <th>ORB</th>\n      <th>DRB</th>\n      <th>TRB</th>\n      <th>AST</th>\n      <th>STL</th>\n      <th>BLK</th>\n      <th>TOV</th>\n      <th>PF</th>\n      <th>PTS</th>\n    </tr>\n  </thead>\n  <tbody>\n    <tr>\n      <th>0</th>\n      <td>2019</td>\n      <td>Álex Abrines</td>\n      <td>SG</td>\n      <td>25</td>\n      <td>OKC</td>\n      <td>31</td>\n      <td>2</td>\n      <td>19.0</td>\n      <td>1.8</td>\n      <td>5.1</td>\n      <td>...</td>\n      <td>0.923</td>\n      <td>0.2</td>\n      <td>1.4</td>\n      <td>1.5</td>\n      <td>0.6</td>\n      <td>0.5</td>\n      <td>0.2</td>\n      <td>0.5</td>\n      <td>1.7</td>\n      <td>5.3</td>\n    </tr>\n    <tr>\n      <th>1</th>\n      <td>2019</td>\n      <td>Quincy Acy</td>\n      <td>PF</td>\n      <td>28</td>\n      <td>PHO</td>\n      <td>10</td>\n      <td>0</td>\n      <td>12.3</td>\n      <td>0.4</td>\n      <td>1.8</td>\n      <td>...</td>\n      <td>0.700</td>\n      <td>0.3</td>\n      <td>2.2</td>\n      <td>2.5</td>\n      <td>0.8</td>\n      <td>0.1</td>\n      <td>0.4</td>\n      <td>0.4</td>\n      <td>2.4</td>\n      <td>1.7</td>\n    </tr>\n    <tr>\n      <th>2</th>\n      <td>2019</td>\n      <td>Jaylen Adams</td>\n      <td>PG</td>\n      <td>22</td>\n      <td>ATL</td>\n      <td>34</td>\n      <td>1</td>\n      <td>12.6</td>\n      <td>1.1</td>\n      <td>3.2</td>\n      <td>...</td>\n      <td>0.778</td>\n      <td>0.3</td>\n      <td>1.4</td>\n      <td>1.8</td>\n      <td>1.9</td>\n      <td>0.4</td>\n      <td>0.1</td>\n      <td>0.8</td>\n      <td>1.3</td>\n      <td>3.2</td>\n    </tr>\n    <tr>\n      <th>3</th>\n      <td>2019</td>\n      <td>Steven Adams</td>\n      <td>C</td>\n      <td>25</td>\n      <td>OKC</td>\n      <td>80</td>\n      <td>80</td>\n      <td>33.4</td>\n      <td>6.0</td>\n      <td>10.1</td>\n      <td>...</td>\n      <td>0.500</td>\n      <td>4.9</td>\n      <td>4.6</td>\n      <td>9.5</td>\n      <td>1.6</td>\n      <td>1.5</td>\n      <td>1.0</td>\n      <td>1.7</td>\n      <td>2.6</td>\n      <td>13.9</td>\n    </tr>\n    <tr>\n      <th>4</th>\n      <td>2019</td>\n      <td>Bam Adebayo</td>\n      <td>C</td>\n      <td>21</td>\n      <td>MIA</td>\n      <td>82</td>\n      <td>28</td>\n      <td>23.3</td>\n      <td>3.4</td>\n      <td>5.9</td>\n      <td>...</td>\n      <td>0.735</td>\n      <td>2.0</td>\n      <td>5.3</td>\n      <td>7.3</td>\n      <td>2.2</td>\n      <td>0.9</td>\n      <td>0.8</td>\n      <td>1.5</td>\n      <td>2.5</td>\n      <td>8.9</td>\n    </tr>\n    <tr>\n      <th>...</th>\n      <td>...</td>\n      <td>...</td>\n      <td>...</td>\n      <td>...</td>\n      <td>...</td>\n      <td>...</td>\n      <td>...</td>\n      <td>...</td>\n      <td>...</td>\n      <td>...</td>\n      <td>...</td>\n      <td>...</td>\n      <td>...</td>\n      <td>...</td>\n      <td>...</td>\n      <td>...</td>\n      <td>...</td>\n      <td>...</td>\n      <td>...</td>\n      <td>...</td>\n      <td>...</td>\n    </tr>\n    <tr>\n      <th>2136</th>\n      <td>2016</td>\n      <td>Joe Young</td>\n      <td>PG</td>\n      <td>23</td>\n      <td>IND</td>\n      <td>41</td>\n      <td>0</td>\n      <td>9.4</td>\n      <td>1.5</td>\n      <td>4.1</td>\n      <td>...</td>\n      <td>0.800</td>\n      <td>0.1</td>\n      <td>1.1</td>\n      <td>1.2</td>\n      <td>1.6</td>\n      <td>0.4</td>\n      <td>0.0</td>\n      <td>0.8</td>\n      <td>0.7</td>\n      <td>3.8</td>\n    </tr>\n    <tr>\n      <th>2137</th>\n      <td>2016</td>\n      <td>Nick Young</td>\n      <td>SG</td>\n      <td>30</td>\n      <td>LAL</td>\n      <td>54</td>\n      <td>2</td>\n      <td>19.1</td>\n      <td>2.3</td>\n      <td>6.9</td>\n      <td>...</td>\n      <td>0.829</td>\n      <td>0.3</td>\n      <td>1.5</td>\n      <td>1.8</td>\n      <td>0.6</td>\n      <td>0.4</td>\n      <td>0.1</td>\n      <td>0.6</td>\n      <td>0.9</td>\n      <td>7.3</td>\n    </tr>\n    <tr>\n      <th>2138</th>\n      <td>2016</td>\n      <td>Thaddeus Young</td>\n      <td>PF</td>\n      <td>27</td>\n      <td>BRK</td>\n      <td>73</td>\n      <td>73</td>\n      <td>33.0</td>\n      <td>6.8</td>\n      <td>13.2</td>\n      <td>...</td>\n      <td>0.644</td>\n      <td>2.4</td>\n      <td>6.6</td>\n      <td>9.0</td>\n      <td>1.8</td>\n      <td>1.5</td>\n      <td>0.5</td>\n      <td>1.9</td>\n      <td>2.5</td>\n      <td>15.1</td>\n    </tr>\n    <tr>\n      <th>2139</th>\n      <td>2016</td>\n      <td>Cody Zeller</td>\n      <td>C</td>\n      <td>23</td>\n      <td>CHO</td>\n      <td>73</td>\n      <td>60</td>\n      <td>24.3</td>\n      <td>3.2</td>\n      <td>6.0</td>\n      <td>...</td>\n      <td>0.754</td>\n      <td>1.9</td>\n      <td>4.3</td>\n      <td>6.2</td>\n      <td>1.0</td>\n      <td>0.8</td>\n      <td>0.9</td>\n      <td>0.9</td>\n      <td>2.8</td>\n      <td>8.7</td>\n    </tr>\n    <tr>\n      <th>2140</th>\n      <td>2016</td>\n      <td>Tyler Zeller</td>\n      <td>C</td>\n      <td>26</td>\n      <td>BOS</td>\n      <td>60</td>\n      <td>3</td>\n      <td>11.8</td>\n      <td>2.3</td>\n      <td>4.8</td>\n      <td>...</td>\n      <td>0.815</td>\n      <td>1.0</td>\n      <td>1.9</td>\n      <td>3.0</td>\n      <td>0.5</td>\n      <td>0.2</td>\n      <td>0.4</td>\n      <td>0.8</td>\n      <td>1.6</td>\n      <td>6.1</td>\n    </tr>\n  </tbody>\n</table>\n<p>2141 rows × 30 columns</p>\n</div>",
      "text/plain": "      Seas          Player Pos  Age   Tm   G  GS    MP   FG   FGA  ...    FT%  \\\n0     2019    Álex Abrines  SG   25  OKC  31   2  19.0  1.8   5.1  ...  0.923   \n1     2019      Quincy Acy  PF   28  PHO  10   0  12.3  0.4   1.8  ...  0.700   \n2     2019    Jaylen Adams  PG   22  ATL  34   1  12.6  1.1   3.2  ...  0.778   \n3     2019    Steven Adams   C   25  OKC  80  80  33.4  6.0  10.1  ...  0.500   \n4     2019     Bam Adebayo   C   21  MIA  82  28  23.3  3.4   5.9  ...  0.735   \n...    ...             ...  ..  ...  ...  ..  ..   ...  ...   ...  ...    ...   \n2136  2016       Joe Young  PG   23  IND  41   0   9.4  1.5   4.1  ...  0.800   \n2137  2016      Nick Young  SG   30  LAL  54   2  19.1  2.3   6.9  ...  0.829   \n2138  2016  Thaddeus Young  PF   27  BRK  73  73  33.0  6.8  13.2  ...  0.644   \n2139  2016     Cody Zeller   C   23  CHO  73  60  24.3  3.2   6.0  ...  0.754   \n2140  2016    Tyler Zeller   C   26  BOS  60   3  11.8  2.3   4.8  ...  0.815   \n\n      ORB  DRB  TRB  AST  STL  BLK  TOV   PF   PTS  \n0     0.2  1.4  1.5  0.6  0.5  0.2  0.5  1.7   5.3  \n1     0.3  2.2  2.5  0.8  0.1  0.4  0.4  2.4   1.7  \n2     0.3  1.4  1.8  1.9  0.4  0.1  0.8  1.3   3.2  \n3     4.9  4.6  9.5  1.6  1.5  1.0  1.7  2.6  13.9  \n4     2.0  5.3  7.3  2.2  0.9  0.8  1.5  2.5   8.9  \n...   ...  ...  ...  ...  ...  ...  ...  ...   ...  \n2136  0.1  1.1  1.2  1.6  0.4  0.0  0.8  0.7   3.8  \n2137  0.3  1.5  1.8  0.6  0.4  0.1  0.6  0.9   7.3  \n2138  2.4  6.6  9.0  1.8  1.5  0.5  1.9  2.5  15.1  \n2139  1.9  4.3  6.2  1.0  0.8  0.9  0.9  2.8   8.7  \n2140  1.0  1.9  3.0  0.5  0.2  0.4  0.8  1.6   6.1  \n\n[2141 rows x 30 columns]"
     },
     "execution_count": 4,
     "metadata": {},
     "output_type": "execute_result"
    }
   ],
   "source": [
    "players"
   ]
  },
  {
   "cell_type": "markdown",
   "metadata": {
    "colab_type": "text",
    "id": "o_K1eQ0x1D_y"
   },
   "source": [
    "The goal is to cluster these player-seasons to identify potential player \"archetypes\".\n",
    "\n",
    "Begin by removing players whose season did not meet one of the following criteria:\n",
    "1. Started at least 20 games\n",
    "2. Averaged at least 10 minutes per game"
   ]
  },
  {
   "cell_type": "code",
   "execution_count": 10,
   "metadata": {},
   "outputs": [
    {
     "data": {
      "text/html": "<div>\n<style scoped>\n    .dataframe tbody tr th:only-of-type {\n        vertical-align: middle;\n    }\n\n    .dataframe tbody tr th {\n        vertical-align: top;\n    }\n\n    .dataframe thead th {\n        text-align: right;\n    }\n</style>\n<table border=\"1\" class=\"dataframe\">\n  <thead>\n    <tr style=\"text-align: right;\">\n      <th></th>\n      <th>Seas</th>\n      <th>Player</th>\n      <th>Pos</th>\n      <th>Age</th>\n      <th>Tm</th>\n      <th>G</th>\n      <th>GS</th>\n      <th>MP</th>\n      <th>FG</th>\n      <th>FGA</th>\n      <th>...</th>\n      <th>FT%</th>\n      <th>ORB</th>\n      <th>DRB</th>\n      <th>TRB</th>\n      <th>AST</th>\n      <th>STL</th>\n      <th>BLK</th>\n      <th>TOV</th>\n      <th>PF</th>\n      <th>PTS</th>\n    </tr>\n  </thead>\n  <tbody>\n    <tr>\n      <th>0</th>\n      <td>2019</td>\n      <td>Álex Abrines</td>\n      <td>SG</td>\n      <td>25</td>\n      <td>OKC</td>\n      <td>31</td>\n      <td>2</td>\n      <td>19.0</td>\n      <td>1.8</td>\n      <td>5.1</td>\n      <td>...</td>\n      <td>0.923</td>\n      <td>0.2</td>\n      <td>1.4</td>\n      <td>1.5</td>\n      <td>0.6</td>\n      <td>0.5</td>\n      <td>0.2</td>\n      <td>0.5</td>\n      <td>1.7</td>\n      <td>5.3</td>\n    </tr>\n    <tr>\n      <th>1</th>\n      <td>2019</td>\n      <td>Quincy Acy</td>\n      <td>PF</td>\n      <td>28</td>\n      <td>PHO</td>\n      <td>10</td>\n      <td>0</td>\n      <td>12.3</td>\n      <td>0.4</td>\n      <td>1.8</td>\n      <td>...</td>\n      <td>0.700</td>\n      <td>0.3</td>\n      <td>2.2</td>\n      <td>2.5</td>\n      <td>0.8</td>\n      <td>0.1</td>\n      <td>0.4</td>\n      <td>0.4</td>\n      <td>2.4</td>\n      <td>1.7</td>\n    </tr>\n    <tr>\n      <th>2</th>\n      <td>2019</td>\n      <td>Jaylen Adams</td>\n      <td>PG</td>\n      <td>22</td>\n      <td>ATL</td>\n      <td>34</td>\n      <td>1</td>\n      <td>12.6</td>\n      <td>1.1</td>\n      <td>3.2</td>\n      <td>...</td>\n      <td>0.778</td>\n      <td>0.3</td>\n      <td>1.4</td>\n      <td>1.8</td>\n      <td>1.9</td>\n      <td>0.4</td>\n      <td>0.1</td>\n      <td>0.8</td>\n      <td>1.3</td>\n      <td>3.2</td>\n    </tr>\n    <tr>\n      <th>3</th>\n      <td>2019</td>\n      <td>Steven Adams</td>\n      <td>C</td>\n      <td>25</td>\n      <td>OKC</td>\n      <td>80</td>\n      <td>80</td>\n      <td>33.4</td>\n      <td>6.0</td>\n      <td>10.1</td>\n      <td>...</td>\n      <td>0.500</td>\n      <td>4.9</td>\n      <td>4.6</td>\n      <td>9.5</td>\n      <td>1.6</td>\n      <td>1.5</td>\n      <td>1.0</td>\n      <td>1.7</td>\n      <td>2.6</td>\n      <td>13.9</td>\n    </tr>\n    <tr>\n      <th>4</th>\n      <td>2019</td>\n      <td>Bam Adebayo</td>\n      <td>C</td>\n      <td>21</td>\n      <td>MIA</td>\n      <td>82</td>\n      <td>28</td>\n      <td>23.3</td>\n      <td>3.4</td>\n      <td>5.9</td>\n      <td>...</td>\n      <td>0.735</td>\n      <td>2.0</td>\n      <td>5.3</td>\n      <td>7.3</td>\n      <td>2.2</td>\n      <td>0.9</td>\n      <td>0.8</td>\n      <td>1.5</td>\n      <td>2.5</td>\n      <td>8.9</td>\n    </tr>\n    <tr>\n      <th>...</th>\n      <td>...</td>\n      <td>...</td>\n      <td>...</td>\n      <td>...</td>\n      <td>...</td>\n      <td>...</td>\n      <td>...</td>\n      <td>...</td>\n      <td>...</td>\n      <td>...</td>\n      <td>...</td>\n      <td>...</td>\n      <td>...</td>\n      <td>...</td>\n      <td>...</td>\n      <td>...</td>\n      <td>...</td>\n      <td>...</td>\n      <td>...</td>\n      <td>...</td>\n      <td>...</td>\n    </tr>\n    <tr>\n      <th>2134</th>\n      <td>2016</td>\n      <td>Tony Wroten</td>\n      <td>PG</td>\n      <td>22</td>\n      <td>PHI</td>\n      <td>8</td>\n      <td>3</td>\n      <td>18.0</td>\n      <td>2.8</td>\n      <td>8.1</td>\n      <td>...</td>\n      <td>0.541</td>\n      <td>0.3</td>\n      <td>2.4</td>\n      <td>2.6</td>\n      <td>2.5</td>\n      <td>0.4</td>\n      <td>0.0</td>\n      <td>3.6</td>\n      <td>1.4</td>\n      <td>8.4</td>\n    </tr>\n    <tr>\n      <th>2137</th>\n      <td>2016</td>\n      <td>Nick Young</td>\n      <td>SG</td>\n      <td>30</td>\n      <td>LAL</td>\n      <td>54</td>\n      <td>2</td>\n      <td>19.1</td>\n      <td>2.3</td>\n      <td>6.9</td>\n      <td>...</td>\n      <td>0.829</td>\n      <td>0.3</td>\n      <td>1.5</td>\n      <td>1.8</td>\n      <td>0.6</td>\n      <td>0.4</td>\n      <td>0.1</td>\n      <td>0.6</td>\n      <td>0.9</td>\n      <td>7.3</td>\n    </tr>\n    <tr>\n      <th>2138</th>\n      <td>2016</td>\n      <td>Thaddeus Young</td>\n      <td>PF</td>\n      <td>27</td>\n      <td>BRK</td>\n      <td>73</td>\n      <td>73</td>\n      <td>33.0</td>\n      <td>6.8</td>\n      <td>13.2</td>\n      <td>...</td>\n      <td>0.644</td>\n      <td>2.4</td>\n      <td>6.6</td>\n      <td>9.0</td>\n      <td>1.8</td>\n      <td>1.5</td>\n      <td>0.5</td>\n      <td>1.9</td>\n      <td>2.5</td>\n      <td>15.1</td>\n    </tr>\n    <tr>\n      <th>2139</th>\n      <td>2016</td>\n      <td>Cody Zeller</td>\n      <td>C</td>\n      <td>23</td>\n      <td>CHO</td>\n      <td>73</td>\n      <td>60</td>\n      <td>24.3</td>\n      <td>3.2</td>\n      <td>6.0</td>\n      <td>...</td>\n      <td>0.754</td>\n      <td>1.9</td>\n      <td>4.3</td>\n      <td>6.2</td>\n      <td>1.0</td>\n      <td>0.8</td>\n      <td>0.9</td>\n      <td>0.9</td>\n      <td>2.8</td>\n      <td>8.7</td>\n    </tr>\n    <tr>\n      <th>2140</th>\n      <td>2016</td>\n      <td>Tyler Zeller</td>\n      <td>C</td>\n      <td>26</td>\n      <td>BOS</td>\n      <td>60</td>\n      <td>3</td>\n      <td>11.8</td>\n      <td>2.3</td>\n      <td>4.8</td>\n      <td>...</td>\n      <td>0.815</td>\n      <td>1.0</td>\n      <td>1.9</td>\n      <td>3.0</td>\n      <td>0.5</td>\n      <td>0.2</td>\n      <td>0.4</td>\n      <td>0.8</td>\n      <td>1.6</td>\n      <td>6.1</td>\n    </tr>\n  </tbody>\n</table>\n<p>1763 rows × 30 columns</p>\n</div>",
      "text/plain": "      Seas          Player Pos  Age   Tm   G  GS    MP   FG   FGA  ...    FT%  \\\n0     2019    Álex Abrines  SG   25  OKC  31   2  19.0  1.8   5.1  ...  0.923   \n1     2019      Quincy Acy  PF   28  PHO  10   0  12.3  0.4   1.8  ...  0.700   \n2     2019    Jaylen Adams  PG   22  ATL  34   1  12.6  1.1   3.2  ...  0.778   \n3     2019    Steven Adams   C   25  OKC  80  80  33.4  6.0  10.1  ...  0.500   \n4     2019     Bam Adebayo   C   21  MIA  82  28  23.3  3.4   5.9  ...  0.735   \n...    ...             ...  ..  ...  ...  ..  ..   ...  ...   ...  ...    ...   \n2134  2016     Tony Wroten  PG   22  PHI   8   3  18.0  2.8   8.1  ...  0.541   \n2137  2016      Nick Young  SG   30  LAL  54   2  19.1  2.3   6.9  ...  0.829   \n2138  2016  Thaddeus Young  PF   27  BRK  73  73  33.0  6.8  13.2  ...  0.644   \n2139  2016     Cody Zeller   C   23  CHO  73  60  24.3  3.2   6.0  ...  0.754   \n2140  2016    Tyler Zeller   C   26  BOS  60   3  11.8  2.3   4.8  ...  0.815   \n\n      ORB  DRB  TRB  AST  STL  BLK  TOV   PF   PTS  \n0     0.2  1.4  1.5  0.6  0.5  0.2  0.5  1.7   5.3  \n1     0.3  2.2  2.5  0.8  0.1  0.4  0.4  2.4   1.7  \n2     0.3  1.4  1.8  1.9  0.4  0.1  0.8  1.3   3.2  \n3     4.9  4.6  9.5  1.6  1.5  1.0  1.7  2.6  13.9  \n4     2.0  5.3  7.3  2.2  0.9  0.8  1.5  2.5   8.9  \n...   ...  ...  ...  ...  ...  ...  ...  ...   ...  \n2134  0.3  2.4  2.6  2.5  0.4  0.0  3.6  1.4   8.4  \n2137  0.3  1.5  1.8  0.6  0.4  0.1  0.6  0.9   7.3  \n2138  2.4  6.6  9.0  1.8  1.5  0.5  1.9  2.5  15.1  \n2139  1.9  4.3  6.2  1.0  0.8  0.9  0.9  2.8   8.7  \n2140  1.0  1.9  3.0  0.5  0.2  0.4  0.8  1.6   6.1  \n\n[1763 rows x 30 columns]"
     },
     "execution_count": 10,
     "metadata": {},
     "output_type": "execute_result"
    }
   ],
   "source": [
    "# answer goes here\n",
    "\n",
    "players_df = players.loc[players['GS'] >= 20]\n",
    "players_df = players.loc[players['MP'] >= 10]\n",
    "\n",
    "players_df"
   ]
  },
  {
   "cell_type": "markdown",
   "metadata": {
    "colab_type": "text",
    "id": "86lfEP_91D_0"
   },
   "source": [
    "Choose a subset of numeric columns that is interesting to you from an \"archetypal\" standpoint. \n",
    "\n",
    "We will choose the following basic statistics: **points, total rebounds, assists, steals, blocks**, and **turnovers**, but you should feel free to choose other reasonable feature sets if you like. Be careful not to include too many dimensions (curse of dimensionality)."
   ]
  },
  {
   "cell_type": "code",
   "execution_count": 13,
   "metadata": {},
   "outputs": [
    {
     "data": {
      "text/html": "<div>\n<style scoped>\n    .dataframe tbody tr th:only-of-type {\n        vertical-align: middle;\n    }\n\n    .dataframe tbody tr th {\n        vertical-align: top;\n    }\n\n    .dataframe thead th {\n        text-align: right;\n    }\n</style>\n<table border=\"1\" class=\"dataframe\">\n  <thead>\n    <tr style=\"text-align: right;\">\n      <th></th>\n      <th>PTS</th>\n      <th>TRB</th>\n      <th>AST</th>\n      <th>STL</th>\n      <th>BLK</th>\n      <th>TOV</th>\n    </tr>\n  </thead>\n  <tbody>\n    <tr>\n      <th>0</th>\n      <td>5.3</td>\n      <td>1.5</td>\n      <td>0.6</td>\n      <td>0.5</td>\n      <td>0.2</td>\n      <td>0.5</td>\n    </tr>\n    <tr>\n      <th>1</th>\n      <td>1.7</td>\n      <td>2.5</td>\n      <td>0.8</td>\n      <td>0.1</td>\n      <td>0.4</td>\n      <td>0.4</td>\n    </tr>\n    <tr>\n      <th>2</th>\n      <td>3.2</td>\n      <td>1.8</td>\n      <td>1.9</td>\n      <td>0.4</td>\n      <td>0.1</td>\n      <td>0.8</td>\n    </tr>\n    <tr>\n      <th>3</th>\n      <td>13.9</td>\n      <td>9.5</td>\n      <td>1.6</td>\n      <td>1.5</td>\n      <td>1.0</td>\n      <td>1.7</td>\n    </tr>\n    <tr>\n      <th>4</th>\n      <td>8.9</td>\n      <td>7.3</td>\n      <td>2.2</td>\n      <td>0.9</td>\n      <td>0.8</td>\n      <td>1.5</td>\n    </tr>\n    <tr>\n      <th>...</th>\n      <td>...</td>\n      <td>...</td>\n      <td>...</td>\n      <td>...</td>\n      <td>...</td>\n      <td>...</td>\n    </tr>\n    <tr>\n      <th>2134</th>\n      <td>8.4</td>\n      <td>2.6</td>\n      <td>2.5</td>\n      <td>0.4</td>\n      <td>0.0</td>\n      <td>3.6</td>\n    </tr>\n    <tr>\n      <th>2137</th>\n      <td>7.3</td>\n      <td>1.8</td>\n      <td>0.6</td>\n      <td>0.4</td>\n      <td>0.1</td>\n      <td>0.6</td>\n    </tr>\n    <tr>\n      <th>2138</th>\n      <td>15.1</td>\n      <td>9.0</td>\n      <td>1.8</td>\n      <td>1.5</td>\n      <td>0.5</td>\n      <td>1.9</td>\n    </tr>\n    <tr>\n      <th>2139</th>\n      <td>8.7</td>\n      <td>6.2</td>\n      <td>1.0</td>\n      <td>0.8</td>\n      <td>0.9</td>\n      <td>0.9</td>\n    </tr>\n    <tr>\n      <th>2140</th>\n      <td>6.1</td>\n      <td>3.0</td>\n      <td>0.5</td>\n      <td>0.2</td>\n      <td>0.4</td>\n      <td>0.8</td>\n    </tr>\n  </tbody>\n</table>\n<p>1763 rows × 6 columns</p>\n</div>",
      "text/plain": "       PTS  TRB  AST  STL  BLK  TOV\n0      5.3  1.5  0.6  0.5  0.2  0.5\n1      1.7  2.5  0.8  0.1  0.4  0.4\n2      3.2  1.8  1.9  0.4  0.1  0.8\n3     13.9  9.5  1.6  1.5  1.0  1.7\n4      8.9  7.3  2.2  0.9  0.8  1.5\n...    ...  ...  ...  ...  ...  ...\n2134   8.4  2.6  2.5  0.4  0.0  3.6\n2137   7.3  1.8  0.6  0.4  0.1  0.6\n2138  15.1  9.0  1.8  1.5  0.5  1.9\n2139   8.7  6.2  1.0  0.8  0.9  0.9\n2140   6.1  3.0  0.5  0.2  0.4  0.8\n\n[1763 rows x 6 columns]"
     },
     "execution_count": 13,
     "metadata": {},
     "output_type": "execute_result"
    }
   ],
   "source": [
    "# answer goes here\n",
    "\n",
    "keep_cols = ['PTS', 'TRB', 'AST', 'STL', 'BLK', 'TOV']\n",
    "\n",
    "X = players_df[keep_cols]\n",
    "\n",
    "X"
   ]
  },
  {
   "cell_type": "markdown",
   "metadata": {
    "colab_type": "text",
    "id": "MUjcLMMk1D_2"
   },
   "source": [
    "Standardize the features in your dataset using scikit-learn's StandardScaler, which will set the mean of each feature to 0 and the variance to 1."
   ]
  },
  {
   "cell_type": "code",
   "execution_count": 14,
   "metadata": {},
   "outputs": [],
   "source": [
    "# answer goes here\n",
    "\n",
    "from sklearn.preprocessing import StandardScaler\n",
    "\n",
    "scaler = StandardScaler()\n",
    "\n",
    "X_std = scaler.fit_transform(X)"
   ]
  },
  {
   "cell_type": "markdown",
   "metadata": {
    "colab_type": "text",
    "id": "ao3Y5FVp1D_4"
   },
   "source": [
    "Run K-means clustering with K = 3 and print out the resulting centroids. When printing the centroids, transform the scaled centroids back into their corresponding unscaled values. What \"archetypes\" do you see?"
   ]
  },
  {
   "cell_type": "code",
   "execution_count": 15,
   "metadata": {},
   "outputs": [
    {
     "data": {
      "text/plain": "KMeans(algorithm='auto', copy_x=True, init='k-means++', max_iter=300,\n       n_clusters=3, n_init=10, n_jobs=None, precompute_distances='auto',\n       random_state=None, tol=0.0001, verbose=0)"
     },
     "execution_count": 15,
     "metadata": {},
     "output_type": "execute_result"
    }
   ],
   "source": [
    "# answer goes here\n",
    "\n",
    "from sklearn.cluster import KMeans\n",
    "\n",
    "k_means = KMeans(n_clusters=3)\n",
    "\n",
    "k_means.fit(X_std)"
   ]
  },
  {
   "cell_type": "code",
   "execution_count": 19,
   "metadata": {},
   "outputs": [
    {
     "data": {
      "text/plain": "array([[-0.51747093, -0.49480871, -0.3645032 , -0.40455108, -0.3644941 ,\n        -0.50025289],\n       [ 1.42821269,  0.26613422,  1.73120672,  1.26775197, -0.07499937,\n         1.62897124],\n       [ 0.50539725,  1.31770244, -0.19434568,  0.28036838,  1.17636359,\n         0.30016017]])"
     },
     "execution_count": 19,
     "metadata": {},
     "output_type": "execute_result"
    }
   ],
   "source": [
    "k_means.cluster_centers_"
   ]
  },
  {
   "cell_type": "code",
   "execution_count": 22,
   "metadata": {},
   "outputs": [
    {
     "data": {
      "text/html": "<div>\n<style scoped>\n    .dataframe tbody tr th:only-of-type {\n        vertical-align: middle;\n    }\n\n    .dataframe tbody tr th {\n        vertical-align: top;\n    }\n\n    .dataframe thead th {\n        text-align: right;\n    }\n</style>\n<table border=\"1\" class=\"dataframe\">\n  <thead>\n    <tr style=\"text-align: right;\">\n      <th></th>\n      <th>PTS</th>\n      <th>TRB</th>\n      <th>AST</th>\n      <th>STL</th>\n      <th>BLK</th>\n      <th>TOV</th>\n    </tr>\n  </thead>\n  <tbody>\n    <tr>\n      <th>0</th>\n      <td>6.746566</td>\n      <td>2.842284</td>\n      <td>1.485638</td>\n      <td>0.549688</td>\n      <td>0.283854</td>\n      <td>0.872435</td>\n    </tr>\n    <tr>\n      <th>1</th>\n      <td>17.696390</td>\n      <td>4.659928</td>\n      <td>5.181949</td>\n      <td>1.227076</td>\n      <td>0.413718</td>\n      <td>2.505415</td>\n    </tr>\n    <tr>\n      <th>2</th>\n      <td>12.503014</td>\n      <td>7.171781</td>\n      <td>1.785753</td>\n      <td>0.827123</td>\n      <td>0.975068</td>\n      <td>1.486301</td>\n    </tr>\n  </tbody>\n</table>\n</div>",
      "text/plain": "         PTS       TRB       AST       STL       BLK       TOV\n0   6.746566  2.842284  1.485638  0.549688  0.283854  0.872435\n1  17.696390  4.659928  5.181949  1.227076  0.413718  2.505415\n2  12.503014  7.171781  1.785753  0.827123  0.975068  1.486301"
     },
     "execution_count": 22,
     "metadata": {},
     "output_type": "execute_result"
    }
   ],
   "source": [
    "pd.DataFrame(scaler.inverse_transform(k_means.cluster_centers_), columns=X.columns)"
   ]
  },
  {
   "cell_type": "markdown",
   "metadata": {},
   "source": [
    "I notice that one group has significantly high points and assists, one cluster has high rebounds, and the last is kind of overall poor performers."
   ]
  },
  {
   "cell_type": "markdown",
   "metadata": {
    "colab_type": "text",
    "id": "y0wBOUWJ1D_6"
   },
   "source": [
    "Experiment with different values of K. Do any further interesting archetypes come out?"
   ]
  },
  {
   "cell_type": "code",
   "execution_count": 23,
   "metadata": {},
   "outputs": [
    {
     "data": {
      "text/html": "<div>\n<style scoped>\n    .dataframe tbody tr th:only-of-type {\n        vertical-align: middle;\n    }\n\n    .dataframe tbody tr th {\n        vertical-align: top;\n    }\n\n    .dataframe thead th {\n        text-align: right;\n    }\n</style>\n<table border=\"1\" class=\"dataframe\">\n  <thead>\n    <tr style=\"text-align: right;\">\n      <th></th>\n      <th>PTS</th>\n      <th>TRB</th>\n      <th>AST</th>\n      <th>STL</th>\n      <th>BLK</th>\n      <th>TOV</th>\n    </tr>\n  </thead>\n  <tbody>\n    <tr>\n      <th>0</th>\n      <td>19.837952</td>\n      <td>5.399398</td>\n      <td>6.106627</td>\n      <td>1.374699</td>\n      <td>0.493976</td>\n      <td>2.871687</td>\n    </tr>\n    <tr>\n      <th>1</th>\n      <td>5.765362</td>\n      <td>2.778648</td>\n      <td>1.107592</td>\n      <td>0.444721</td>\n      <td>0.298695</td>\n      <td>0.733926</td>\n    </tr>\n    <tr>\n      <th>2</th>\n      <td>11.272849</td>\n      <td>3.783556</td>\n      <td>2.659847</td>\n      <td>0.922371</td>\n      <td>0.330019</td>\n      <td>1.442639</td>\n    </tr>\n    <tr>\n      <th>3</th>\n      <td>12.897835</td>\n      <td>8.126407</td>\n      <td>1.792641</td>\n      <td>0.746753</td>\n      <td>1.222078</td>\n      <td>1.578355</td>\n    </tr>\n  </tbody>\n</table>\n</div>",
      "text/plain": "         PTS       TRB       AST       STL       BLK       TOV\n0  19.837952  5.399398  6.106627  1.374699  0.493976  2.871687\n1   5.765362  2.778648  1.107592  0.444721  0.298695  0.733926\n2  11.272849  3.783556  2.659847  0.922371  0.330019  1.442639\n3  12.897835  8.126407  1.792641  0.746753  1.222078  1.578355"
     },
     "execution_count": 23,
     "metadata": {},
     "output_type": "execute_result"
    }
   ],
   "source": [
    "# answer goes here\n",
    "\n",
    "k_means = KMeans(n_clusters=4)\n",
    "k_means.fit(X_std)\n",
    "pd.DataFrame(scaler.inverse_transform(k_means.cluster_centers_), columns=X.columns)"
   ]
  },
  {
   "cell_type": "code",
   "execution_count": 24,
   "metadata": {},
   "outputs": [
    {
     "data": {
      "text/html": "<div>\n<style scoped>\n    .dataframe tbody tr th:only-of-type {\n        vertical-align: middle;\n    }\n\n    .dataframe tbody tr th {\n        vertical-align: top;\n    }\n\n    .dataframe thead th {\n        text-align: right;\n    }\n</style>\n<table border=\"1\" class=\"dataframe\">\n  <thead>\n    <tr style=\"text-align: right;\">\n      <th></th>\n      <th>PTS</th>\n      <th>TRB</th>\n      <th>AST</th>\n      <th>STL</th>\n      <th>BLK</th>\n      <th>TOV</th>\n    </tr>\n  </thead>\n  <tbody>\n    <tr>\n      <th>0</th>\n      <td>5.648912</td>\n      <td>2.669142</td>\n      <td>1.072983</td>\n      <td>0.436492</td>\n      <td>0.275160</td>\n      <td>0.713316</td>\n    </tr>\n    <tr>\n      <th>1</th>\n      <td>19.476364</td>\n      <td>5.117576</td>\n      <td>6.026061</td>\n      <td>1.364848</td>\n      <td>0.447879</td>\n      <td>2.796970</td>\n    </tr>\n    <tr>\n      <th>2</th>\n      <td>17.607500</td>\n      <td>10.187500</td>\n      <td>2.463750</td>\n      <td>0.941250</td>\n      <td>1.752500</td>\n      <td>2.193750</td>\n    </tr>\n    <tr>\n      <th>3</th>\n      <td>10.563376</td>\n      <td>6.347134</td>\n      <td>1.550000</td>\n      <td>0.743312</td>\n      <td>0.797134</td>\n      <td>1.269745</td>\n    </tr>\n    <tr>\n      <th>4</th>\n      <td>11.057920</td>\n      <td>3.209693</td>\n      <td>2.923168</td>\n      <td>0.905910</td>\n      <td>0.258629</td>\n      <td>1.469740</td>\n    </tr>\n  </tbody>\n</table>\n</div>",
      "text/plain": "         PTS        TRB       AST       STL       BLK       TOV\n0   5.648912   2.669142  1.072983  0.436492  0.275160  0.713316\n1  19.476364   5.117576  6.026061  1.364848  0.447879  2.796970\n2  17.607500  10.187500  2.463750  0.941250  1.752500  2.193750\n3  10.563376   6.347134  1.550000  0.743312  0.797134  1.269745\n4  11.057920   3.209693  2.923168  0.905910  0.258629  1.469740"
     },
     "execution_count": 24,
     "metadata": {},
     "output_type": "execute_result"
    }
   ],
   "source": [
    "k_means = KMeans(n_clusters=5)\n",
    "k_means.fit(X_std)\n",
    "pd.DataFrame(scaler.inverse_transform(k_means.cluster_centers_), columns=X.columns)"
   ]
  },
  {
   "cell_type": "code",
   "execution_count": 25,
   "metadata": {},
   "outputs": [
    {
     "data": {
      "text/html": "<div>\n<style scoped>\n    .dataframe tbody tr th:only-of-type {\n        vertical-align: middle;\n    }\n\n    .dataframe tbody tr th {\n        vertical-align: top;\n    }\n\n    .dataframe thead th {\n        text-align: right;\n    }\n</style>\n<table border=\"1\" class=\"dataframe\">\n  <thead>\n    <tr style=\"text-align: right;\">\n      <th></th>\n      <th>PTS</th>\n      <th>TRB</th>\n      <th>AST</th>\n      <th>STL</th>\n      <th>BLK</th>\n      <th>TOV</th>\n    </tr>\n  </thead>\n  <tbody>\n    <tr>\n      <th>0</th>\n      <td>15.961243</td>\n      <td>6.004570</td>\n      <td>3.655941</td>\n      <td>1.070932</td>\n      <td>0.679342</td>\n      <td>2.091773</td>\n    </tr>\n    <tr>\n      <th>1</th>\n      <td>6.823684</td>\n      <td>3.133388</td>\n      <td>1.441447</td>\n      <td>0.552796</td>\n      <td>0.343010</td>\n      <td>0.880181</td>\n    </tr>\n  </tbody>\n</table>\n</div>",
      "text/plain": "         PTS       TRB       AST       STL       BLK       TOV\n0  15.961243  6.004570  3.655941  1.070932  0.679342  2.091773\n1   6.823684  3.133388  1.441447  0.552796  0.343010  0.880181"
     },
     "execution_count": 25,
     "metadata": {},
     "output_type": "execute_result"
    }
   ],
   "source": [
    "k_means = KMeans(n_clusters=2)\n",
    "k_means.fit(X_std)\n",
    "pd.DataFrame(scaler.inverse_transform(k_means.cluster_centers_), columns=X.columns)"
   ]
  },
  {
   "cell_type": "markdown",
   "metadata": {},
   "source": [
    "With k=2; clusters are high performers and low performers"
   ]
  },
  {
   "cell_type": "code",
   "execution_count": null,
   "metadata": {},
   "outputs": [],
   "source": []
  }
 ],
 "metadata": {
  "colab": {
   "collapsed_sections": [],
   "name": "Day 26 Lecture 1 Assignment.ipynb",
   "provenance": []
  },
  "kernelspec": {
   "display_name": "Python 3",
   "language": "python",
   "name": "python3"
  },
  "language_info": {
   "codemirror_mode": {
    "name": "ipython",
    "version": 3
   },
   "file_extension": ".py",
   "mimetype": "text/x-python",
   "name": "python",
   "nbconvert_exporter": "python",
   "pygments_lexer": "ipython3",
   "version": "3.7.2-final"
  }
 },
 "nbformat": 4,
 "nbformat_minor": 1
}