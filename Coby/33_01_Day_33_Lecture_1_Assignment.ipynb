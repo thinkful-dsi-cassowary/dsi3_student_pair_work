{
  "nbformat": 4,
  "nbformat_minor": 0,
  "metadata": {
    "kernelspec": {
      "display_name": "Python 3",
      "language": "python",
      "name": "python3"
    },
    "language_info": {
      "codemirror_mode": {
        "name": "ipython",
        "version": 3
      },
      "file_extension": ".py",
      "mimetype": "text/x-python",
      "name": "python",
      "nbconvert_exporter": "python",
      "pygments_lexer": "ipython3",
      "version": "3.7.2-final"
    },
    "colab": {
      "name": "Day 33 Lecture 1 Assignment.ipynb",
      "provenance": [],
      "collapsed_sections": []
    }
  },
  "cells": [
    {
      "cell_type": "markdown",
      "metadata": {
        "colab_type": "text",
        "id": "N-dUAbfgpuRb"
      },
      "source": [
        "## Day 33 Lecture 1 Assignment\n",
        "\n",
        "In this assignment, we will learn about SVM. We will use the csection dataset loaded below and analyze the model generated for this dataset."
      ]
    },
    {
      "cell_type": "code",
      "execution_count": 1,
      "metadata": {},
      "outputs": [],
      "source": [
        "%matplotlib inline\n",
        "\n",
        "import matplotlib.pyplot as plt\n",
        "import numpy as np\n",
        "import pandas as pd\n",
        "\n",
        "import ds_useful as ds"
      ]
    },
    {
      "cell_type": "code",
      "execution_count": 2,
      "metadata": {},
      "outputs": [],
      "source": [
        "# Age -  ranges from 18 to 40  \n",
        "# Delivery number - ranges from 1 to 4\n",
        "# Delivery time -  {0 = timely , 1 = premature , 2 = latecomer}\n",
        "# Blood of Pressure - {0 = low , 1 = normal , 2 = high }\n",
        "# Heart Problem - {0 = apt, 1 = inept }\n",
        "\n",
        "# Target - Caesarian - {0 = No, 1 = Yes }\n",
        "\n",
        "csection = pd.read_csv('https://tf-assets-prod.s3.amazonaws.com/tf-curric/data-science/csection.csv')"
      ]
    },
    {
      "cell_type": "code",
      "execution_count": 7,
      "metadata": {},
      "outputs": [
        {
          "data": {
            "text/html": "<div>\n<style scoped>\n    .dataframe tbody tr th:only-of-type {\n        vertical-align: middle;\n    }\n\n    .dataframe tbody tr th {\n        vertical-align: top;\n    }\n\n    .dataframe thead th {\n        text-align: right;\n    }\n</style>\n<table border=\"1\" class=\"dataframe\">\n  <thead>\n    <tr style=\"text-align: right;\">\n      <th></th>\n      <th>Age</th>\n      <th>Delivery number</th>\n      <th>Delivery time</th>\n      <th>Blood Pressure</th>\n      <th>Heart Problem</th>\n      <th>Caesarian</th>\n    </tr>\n  </thead>\n  <tbody>\n    <tr>\n      <th>0</th>\n      <td>22</td>\n      <td>1</td>\n      <td>0</td>\n      <td>2</td>\n      <td>0</td>\n      <td>0</td>\n    </tr>\n    <tr>\n      <th>1</th>\n      <td>26</td>\n      <td>2</td>\n      <td>0</td>\n      <td>1</td>\n      <td>0</td>\n      <td>1</td>\n    </tr>\n    <tr>\n      <th>2</th>\n      <td>26</td>\n      <td>2</td>\n      <td>1</td>\n      <td>1</td>\n      <td>0</td>\n      <td>0</td>\n    </tr>\n    <tr>\n      <th>3</th>\n      <td>28</td>\n      <td>1</td>\n      <td>0</td>\n      <td>2</td>\n      <td>0</td>\n      <td>0</td>\n    </tr>\n    <tr>\n      <th>4</th>\n      <td>22</td>\n      <td>2</td>\n      <td>0</td>\n      <td>1</td>\n      <td>0</td>\n      <td>1</td>\n    </tr>\n  </tbody>\n</table>\n</div>",
            "text/plain": "   Age  Delivery number  Delivery time  Blood Pressure  Heart Problem  \\\n0   22                1              0               2              0   \n1   26                2              0               1              0   \n2   26                2              1               1              0   \n3   28                1              0               2              0   \n4   22                2              0               1              0   \n\n   Caesarian  \n0          0  \n1          1  \n2          0  \n3          0  \n4          1  "
          },
          "execution_count": 7,
          "metadata": {},
          "output_type": "execute_result"
        }
      ],
      "source": [
        "csection.head()"
      ]
    },
    {
      "cell_type": "markdown",
      "metadata": {
        "colab_type": "text",
        "id": "XSlVp6FRpuRg"
      },
      "source": [
        "Recall our c section dataset. Process the data by removing any missing values, creating the appropriate dummy variables and splitting the data into train and test (20% in the test dataset)."
      ]
    },
    {
      "cell_type": "code",
      "execution_count": 4,
      "metadata": {},
      "outputs": [
        {
          "name": "stdout",
          "output_type": "stream",
          "text": "Caesarian          0.0\nHeart Problem      0.0\nBlood Pressure     0.0\nDelivery time      0.0\nDelivery number    0.0\nAge                0.0\ndtype: float64\nNo missing values\n"
        }
      ],
      "source": [
        "# answer below:\n",
        "ds.missingness_summary(csection, print_log=True)\n",
        "print('No missing values')"
      ]
    },
    {
      "cell_type": "code",
      "execution_count": 36,
      "metadata": {},
      "outputs": [
        {
          "data": {
            "text/html": "<div>\n<style scoped>\n    .dataframe tbody tr th:only-of-type {\n        vertical-align: middle;\n    }\n\n    .dataframe tbody tr th {\n        vertical-align: top;\n    }\n\n    .dataframe thead th {\n        text-align: right;\n    }\n</style>\n<table border=\"1\" class=\"dataframe\">\n  <thead>\n    <tr style=\"text-align: right;\">\n      <th></th>\n      <th>Delivery number_2</th>\n      <th>Delivery number_3</th>\n      <th>Delivery number_4</th>\n      <th>Delivery time_1</th>\n      <th>Delivery time_2</th>\n      <th>Blood Pressure_1</th>\n      <th>Blood Pressure_2</th>\n      <th>Age</th>\n      <th>Heart Problem</th>\n      <th>Caesarian</th>\n    </tr>\n  </thead>\n  <tbody>\n    <tr>\n      <th>0</th>\n      <td>0</td>\n      <td>0</td>\n      <td>0</td>\n      <td>0</td>\n      <td>0</td>\n      <td>0</td>\n      <td>1</td>\n      <td>22</td>\n      <td>0</td>\n      <td>0</td>\n    </tr>\n    <tr>\n      <th>1</th>\n      <td>1</td>\n      <td>0</td>\n      <td>0</td>\n      <td>0</td>\n      <td>0</td>\n      <td>1</td>\n      <td>0</td>\n      <td>26</td>\n      <td>0</td>\n      <td>1</td>\n    </tr>\n    <tr>\n      <th>2</th>\n      <td>1</td>\n      <td>0</td>\n      <td>0</td>\n      <td>1</td>\n      <td>0</td>\n      <td>1</td>\n      <td>0</td>\n      <td>26</td>\n      <td>0</td>\n      <td>0</td>\n    </tr>\n    <tr>\n      <th>3</th>\n      <td>0</td>\n      <td>0</td>\n      <td>0</td>\n      <td>0</td>\n      <td>0</td>\n      <td>0</td>\n      <td>1</td>\n      <td>28</td>\n      <td>0</td>\n      <td>0</td>\n    </tr>\n    <tr>\n      <th>4</th>\n      <td>1</td>\n      <td>0</td>\n      <td>0</td>\n      <td>0</td>\n      <td>0</td>\n      <td>1</td>\n      <td>0</td>\n      <td>22</td>\n      <td>0</td>\n      <td>1</td>\n    </tr>\n  </tbody>\n</table>\n</div>",
            "text/plain": "   Delivery number_2  Delivery number_3  Delivery number_4  Delivery time_1  \\\n0                  0                  0                  0                0   \n1                  1                  0                  0                0   \n2                  1                  0                  0                1   \n3                  0                  0                  0                0   \n4                  1                  0                  0                0   \n\n   Delivery time_2  Blood Pressure_1  Blood Pressure_2  Age  Heart Problem  \\\n0                0                 0                 1   22              0   \n1                0                 1                 0   26              0   \n2                0                 1                 0   26              0   \n3                0                 0                 1   28              0   \n4                0                 1                 0   22              0   \n\n   Caesarian  \n0          0  \n1          1  \n2          0  \n3          0  \n4          1  "
          },
          "execution_count": 36,
          "metadata": {},
          "output_type": "execute_result"
        }
      ],
      "source": [
        "def get_categorical_columns(df, unique_thresh=10, non_binary=False):\n",
        "    columns = []\n",
        "    for col in df.columns:\n",
        "        if df[col].nunique() < unique_thresh:\n",
        "            if non_binary and df[col].nunique() < 2:\n",
        "                continue\n",
        "            columns.append(col)\n",
        "    return columns\n",
        "\n",
        "cat_cols = get_categorical_columns(csection, unique_thresh=5)\n",
        "\n",
        "dum_cols = []\n",
        "for col in cat_cols:\n",
        "    if csection[col].nunique() > 2:\n",
        "        dum_cols.append(col)\n",
        "\n",
        "csection[dum_cols] = csection[dum_cols].astype('object')\n",
        "\n",
        "dums = pd.get_dummies(csection.select_dtypes('object'), drop_first=True)\n",
        "\n",
        "csec_feat = pd.concat([dums, csection.drop(dum_cols, axis=1)], axis=1)\n",
        "csec_feat.head()"
      ]
    },
    {
      "cell_type": "markdown",
      "metadata": {
        "colab_type": "text",
        "id": "P_h8WYktpuRj"
      },
      "source": [
        "Generate an SVC model with a linear kernel. Set C=10. Check the score for both train and test. Does the model overfit?"
      ]
    },
    {
      "cell_type": "code",
      "execution_count": 13,
      "metadata": {},
      "outputs": [],
      "source": [
        "# answer below:\n",
        "from sklearn.model_selection import train_test_split\n",
        "\n",
        "X = csection.drop('Caesarian', axis=1)\n",
        "Y = csection['Caesarian']\n",
        "\n",
        "X_train, X_test, Y_train, Y_test = train_test_split(X,Y, test_size=.2, random_state=134)\n"
      ]
    },
    {
      "cell_type": "code",
      "execution_count": 19,
      "metadata": {},
      "outputs": [
        {
          "name": "stdout",
          "output_type": "stream",
          "text": "Accuracy on training set 0.6875\nAccuracy on testing set 0.5\nThere does seem to be overfitting\n"
        }
      ],
      "source": [
        "\n",
        "from sklearn.svm import SVC\n",
        "\n",
        "svm = SVC(C=10, kernel='linear')\n",
        "svm.fit(X_train, Y_train)\n",
        "\n",
        "print('Accuracy on training set', svm.score(X_train, Y_train))\n",
        "print('Accuracy on testing set', svm.score(X_test, Y_test))\n",
        "\n",
        "print('There does seem to be overfitting')"
      ]
    },
    {
      "cell_type": "markdown",
      "metadata": {
        "colab_type": "text",
        "id": "ahsyvz1LpuRn"
      },
      "source": [
        "If you have determined the model to overfit, pick a value of C based on your conclusion and show that the difference between the scores has improved."
      ]
    },
    {
      "cell_type": "code",
      "execution_count": 28,
      "metadata": {},
      "outputs": [
        {
          "name": "stdout",
          "output_type": "stream",
          "text": "Accuracy on training set 0.5625\nAccuracy on testing set 0.625\n"
        }
      ],
      "source": [
        "# answer below:\n",
        "\n",
        "#Since its overfitting, lets increase regularization by lowering C\n",
        "\n",
        "svm = SVC(C=.01, kernel='linear')\n",
        "svm.fit(X_train, Y_train)\n",
        "\n",
        "print('Accuracy on training set', svm.score(X_train, Y_train))\n",
        "print('Accuracy on testing set', svm.score(X_test, Y_test))"
      ]
    },
    {
      "cell_type": "code",
      "execution_count": 29,
      "metadata": {},
      "outputs": [
        {
          "name": "stdout",
          "output_type": "stream",
          "text": "The training score went down, but the testing score increased. They are now closer together.\n"
        }
      ],
      "source": [
        "print('The training score went down, but the testing score increased. They are now closer together.')"
      ]
    },
    {
      "cell_type": "markdown",
      "metadata": {
        "colab_type": "text",
        "id": "oUzyujbwpuRr"
      },
      "source": [
        "What if we switched up the target variable? Let assume that we know whether a patient received a c section. Let's try to predict whether she has high blood pressure. \n",
        "\n",
        "Create the SVC model with a linear kernel with Blood Pressure as the target variable. Report both the train and the test scores."
      ]
    },
    {
      "cell_type": "code",
      "execution_count": 31,
      "metadata": {},
      "outputs": [
        {
          "data": {
            "text/html": "<div>\n<style scoped>\n    .dataframe tbody tr th:only-of-type {\n        vertical-align: middle;\n    }\n\n    .dataframe tbody tr th {\n        vertical-align: top;\n    }\n\n    .dataframe thead th {\n        text-align: right;\n    }\n</style>\n<table border=\"1\" class=\"dataframe\">\n  <thead>\n    <tr style=\"text-align: right;\">\n      <th></th>\n      <th>Age</th>\n      <th>Delivery number</th>\n      <th>Delivery time</th>\n      <th>Blood Pressure</th>\n      <th>Heart Problem</th>\n      <th>Caesarian</th>\n    </tr>\n  </thead>\n  <tbody>\n    <tr>\n      <th>0</th>\n      <td>22</td>\n      <td>1</td>\n      <td>0</td>\n      <td>2</td>\n      <td>0</td>\n      <td>0</td>\n    </tr>\n    <tr>\n      <th>1</th>\n      <td>26</td>\n      <td>2</td>\n      <td>0</td>\n      <td>1</td>\n      <td>0</td>\n      <td>1</td>\n    </tr>\n    <tr>\n      <th>2</th>\n      <td>26</td>\n      <td>2</td>\n      <td>1</td>\n      <td>1</td>\n      <td>0</td>\n      <td>0</td>\n    </tr>\n    <tr>\n      <th>3</th>\n      <td>28</td>\n      <td>1</td>\n      <td>0</td>\n      <td>2</td>\n      <td>0</td>\n      <td>0</td>\n    </tr>\n    <tr>\n      <th>4</th>\n      <td>22</td>\n      <td>2</td>\n      <td>0</td>\n      <td>1</td>\n      <td>0</td>\n      <td>1</td>\n    </tr>\n  </tbody>\n</table>\n</div>",
            "text/plain": "   Age Delivery number Delivery time Blood Pressure  Heart Problem  Caesarian\n0   22               1             0              2              0          0\n1   26               2             0              1              0          1\n2   26               2             1              1              0          0\n3   28               1             0              2              0          0\n4   22               2             0              1              0          1"
          },
          "execution_count": 31,
          "metadata": {},
          "output_type": "execute_result"
        }
      ],
      "source": [
        "# answer below:\n",
        "\n",
        "csection.head()"
      ]
    },
    {
      "cell_type": "code",
      "execution_count": 45,
      "metadata": {},
      "outputs": [
        {
          "data": {
            "text/html": "<div>\n<style scoped>\n    .dataframe tbody tr th:only-of-type {\n        vertical-align: middle;\n    }\n\n    .dataframe tbody tr th {\n        vertical-align: top;\n    }\n\n    .dataframe thead th {\n        text-align: right;\n    }\n</style>\n<table border=\"1\" class=\"dataframe\">\n  <thead>\n    <tr style=\"text-align: right;\">\n      <th></th>\n      <th>Delivery number_2</th>\n      <th>Delivery number_3</th>\n      <th>Delivery number_4</th>\n      <th>Delivery time_1</th>\n      <th>Delivery time_2</th>\n      <th>Heart Problem_1</th>\n      <th>Caesarian_1</th>\n      <th>Age</th>\n      <th>Blood Pressure</th>\n    </tr>\n  </thead>\n  <tbody>\n    <tr>\n      <th>0</th>\n      <td>0</td>\n      <td>0</td>\n      <td>0</td>\n      <td>0</td>\n      <td>0</td>\n      <td>0</td>\n      <td>0</td>\n      <td>22</td>\n      <td>2</td>\n    </tr>\n    <tr>\n      <th>1</th>\n      <td>1</td>\n      <td>0</td>\n      <td>0</td>\n      <td>0</td>\n      <td>0</td>\n      <td>0</td>\n      <td>1</td>\n      <td>26</td>\n      <td>1</td>\n    </tr>\n    <tr>\n      <th>2</th>\n      <td>1</td>\n      <td>0</td>\n      <td>0</td>\n      <td>1</td>\n      <td>0</td>\n      <td>0</td>\n      <td>0</td>\n      <td>26</td>\n      <td>1</td>\n    </tr>\n    <tr>\n      <th>3</th>\n      <td>0</td>\n      <td>0</td>\n      <td>0</td>\n      <td>0</td>\n      <td>0</td>\n      <td>0</td>\n      <td>0</td>\n      <td>28</td>\n      <td>2</td>\n    </tr>\n    <tr>\n      <th>4</th>\n      <td>1</td>\n      <td>0</td>\n      <td>0</td>\n      <td>0</td>\n      <td>0</td>\n      <td>0</td>\n      <td>1</td>\n      <td>22</td>\n      <td>1</td>\n    </tr>\n  </tbody>\n</table>\n</div>",
            "text/plain": "   Delivery number_2  Delivery number_3  Delivery number_4  Delivery time_1  \\\n0                  0                  0                  0                0   \n1                  1                  0                  0                0   \n2                  1                  0                  0                1   \n3                  0                  0                  0                0   \n4                  1                  0                  0                0   \n\n   Delivery time_2  Heart Problem_1  Caesarian_1  Age  Blood Pressure  \n0                0                0            0   22               2  \n1                0                0            1   26               1  \n2                0                0            0   26               1  \n3                0                0            0   28               2  \n4                0                0            1   22               1  "
          },
          "execution_count": 45,
          "metadata": {},
          "output_type": "execute_result"
        }
      ],
      "source": [
        "target = 'Blood Pressure'\n",
        "csection = csection.astype('int64')\n",
        "dum_cols = get_categorical_columns(csection.drop(target, axis=1), unique_thresh=5, non_binary=True)\n",
        "\n",
        "csection[dum_cols] = csection[dum_cols].astype('object')\n",
        "\n",
        "dums = pd.get_dummies(csection[dum_cols], drop_first=True)\n",
        "\n",
        "csec_feat = pd.concat([dums, csection.drop(dum_cols, axis=1)], axis=1)\n",
        "csec_feat.head()"
      ]
    },
    {
      "cell_type": "code",
      "execution_count": 46,
      "metadata": {},
      "outputs": [],
      "source": [
        "X = csec_feat.drop('Blood Pressure', axis=1)\n",
        "Y= csec_feat['Blood Pressure']\n",
        "\n",
        "X_train, X_test, Y_train, Y_test = train_test_split(X, Y, test_size=.2, random_state=134)"
      ]
    },
    {
      "cell_type": "code",
      "execution_count": 50,
      "metadata": {},
      "outputs": [
        {
          "name": "stdout",
          "output_type": "stream",
          "text": "Accuracy on training set 0.5\nAccuracy on testing set 0.5\n"
        }
      ],
      "source": [
        "svm = SVC(C=.1, kernel='linear', decision_function_shape='ovr')\n",
        "svm.fit(X_train, Y_train)\n",
        "\n",
        "print('Accuracy on training set', svm.score(X_train, Y_train))\n",
        "print('Accuracy on testing set', svm.score(X_test, Y_test))"
      ]
    },
    {
      "cell_type": "markdown",
      "metadata": {
        "colab_type": "text",
        "id": "-Gs6homepuRv"
      },
      "source": [
        "Now try to generate the model using the one vs. one decision function."
      ]
    },
    {
      "cell_type": "code",
      "execution_count": 51,
      "metadata": {},
      "outputs": [
        {
          "name": "stdout",
          "output_type": "stream",
          "text": "Accuracy on training set 0.5\nAccuracy on testing set 0.5\n"
        }
      ],
      "source": [
        "# answer below:\n",
        "svm = SVC(C=.1, kernel='linear', decision_function_shape='ovo')\n",
        "svm.fit(X_train, Y_train)\n",
        "\n",
        "print('Accuracy on training set', svm.score(X_train, Y_train))\n",
        "print('Accuracy on testing set', svm.score(X_test, Y_test))"
      ]
    }
  ]
}