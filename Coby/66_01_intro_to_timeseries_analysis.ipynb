{
 "nbformat": 4,
 "nbformat_minor": 2,
 "metadata": {
  "language_info": {
   "name": "python",
   "codemirror_mode": {
    "name": "ipython",
    "version": 3
   },
   "version": "3.7.2-final"
  },
  "orig_nbformat": 2,
  "file_extension": ".py",
  "mimetype": "text/x-python",
  "name": "python",
  "npconvert_exporter": "python",
  "pygments_lexer": "ipython3",
  "version": 3,
  "kernelspec": {
   "name": "python37264bitd7afea03727a45fea46fb3907f3e48bf",
   "display_name": "Python 3.7.2 64-bit"
  }
 },
 "cells": [
  {
   "cell_type": "markdown",
   "metadata": {},
   "source": [
    "# TimeSeries Analysis Lecture 1 assignment"
   ]
  },
  {
   "cell_type": "code",
   "execution_count": 1,
   "metadata": {},
   "outputs": [],
   "source": [
    "from datetime import datetime as dt\n",
    "from datetime import timedelta\n",
    ""
   ]
  },
  {
   "cell_type": "code",
   "execution_count": 6,
   "metadata": {},
   "outputs": [
    {
     "output_type": "stream",
     "name": "stdout",
     "text": "<class 'str'>\n10/20/2019\n"
    }
   ],
   "source": [
    "strdate = '10/20/2019'\n",
    "print(type(strdate))\n",
    "print(strdate)"
   ]
  },
  {
   "cell_type": "code",
   "execution_count": 7,
   "metadata": {},
   "outputs": [
    {
     "output_type": "stream",
     "name": "stdout",
     "text": "<class 'datetime.datetime'>\n2019-10-20 00:00:00\n"
    }
   ],
   "source": [
    "dt_date = dt.strptime(strdate, '%m/%d/%Y')\n",
    "print(type(dt_date))\n",
    "print(dt_date)"
   ]
  },
  {
   "cell_type": "code",
   "execution_count": 12,
   "metadata": {},
   "outputs": [
    {
     "output_type": "stream",
     "name": "stdout",
     "text": "Month: 10\nDay: 20\nYear: 2019\n"
    }
   ],
   "source": [
    "print('Month:', dt_date.month)\n",
    "print('Day:', dt_date.day)\n",
    "print('Year:', dt_date.year)"
   ]
  },
  {
   "cell_type": "code",
   "execution_count": 14,
   "metadata": {},
   "outputs": [
    {
     "output_type": "stream",
     "name": "stdout",
     "text": "<class 'str'>\n2019-10-20\n"
    }
   ],
   "source": [
    "new_strdate = dt_date.strftime('%Y-%m-%d')\n",
    "print(type(new_strdate))\n",
    "print(new_strdate)"
   ]
  },
  {
   "cell_type": "code",
   "execution_count": 16,
   "metadata": {},
   "outputs": [
    {
     "output_type": "stream",
     "name": "stdout",
     "text": "Weekday number: 6\n"
    }
   ],
   "source": [
    "print('Weekday number:', dt_date.weekday())"
   ]
  },
  {
   "cell_type": "code",
   "execution_count": 40,
   "metadata": {},
   "outputs": [
    {
     "output_type": "stream",
     "name": "stdout",
     "text": "Minutes between: 60480\n"
    }
   ],
   "source": [
    "future_date = dt_date + timedelta(weeks=6)\n",
    "delta =  future_date - dt_date\n",
    "delta_mins = delta.days * 24 * 60\n",
    "print('Minutes between:', delta_mins)"
   ]
  },
  {
   "cell_type": "code",
   "execution_count": 55,
   "metadata": {},
   "outputs": [
    {
     "output_type": "stream",
     "name": "stdout",
     "text": "2015-01-01 00:00:00\n2016-01-01 00:00:00\n52.142857142857146\n\n2016-01-01 00:00:00\n2017-01-01 00:00:00\n52.285714285714285\n\n2017-01-01 00:00:00\n2018-01-01 00:00:00\n52.142857142857146\n\n2018-01-01 00:00:00\n2019-01-01 00:00:00\n52.142857142857146\n\n2019-01-01 00:00:00\n2020-01-01 00:00:00\n52.142857142857146\n\n2020-01-01 00:00:00\n2021-01-01 00:00:00\n52.285714285714285\n\n"
    }
   ],
   "source": [
    "years = range(2015, 2021)\n",
    "\n",
    "\n",
    "for year in years: \n",
    "    year_dt = dt.strptime(str(year), '%Y')\n",
    "    print(year_dt)\n",
    "    year_dt_next = dt.strptime(str(year + 1), '%Y')\n",
    "    print(year_dt_next)\n",
    "    year_delta = year_dt_next - year_dt\n",
    "    days = year_delta.days\n",
    "    weeks = days/7\n",
    "    print(weeks)\n",
    "    print()\n"
   ]
  },
  {
   "cell_type": "code",
   "execution_count": 56,
   "metadata": {},
   "outputs": [
    {
     "output_type": "stream",
     "name": "stdout",
     "text": "For each leap year, the number of weeks adds 1/7 of a week (1 day)\n"
    }
   ],
   "source": [
    "print('For each leap year, the number of weeks adds 1/7 of a week (1 day)')"
   ]
  },
  {
   "cell_type": "code",
   "execution_count": null,
   "metadata": {},
   "outputs": [],
   "source": []
  }
 ]
}