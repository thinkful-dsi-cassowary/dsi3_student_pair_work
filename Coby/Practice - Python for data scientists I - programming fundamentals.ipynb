{
 "cells": [
  {
   "cell_type": "markdown",
   "metadata": {
    "colab_type": "text",
    "id": "hJs1uxYP5wAR"
   },
   "source": [
    "## Practice - Python for data scientists I - programming fundamentals\n",
    "\n",
    "Answer all **Questions**"
   ]
  },
  {
   "cell_type": "markdown",
   "metadata": {
    "colab_type": "text",
    "id": "ZHgDmujZ5wAV"
   },
   "source": [
    "### Variables and Objects"
   ]
  },
  {
   "cell_type": "markdown",
   "metadata": {
    "colab_type": "text",
    "id": "u9O1S55U5wAX"
   },
   "source": [
    "#### Question:\n",
    "\n",
    "Consider the following sequence of statements:\n",
    "\n",
    "```python\n",
    "n = 300\n",
    "m = n\n",
    "```\n",
    "\n",
    "Following execution of these statements, Python has created how many objects and how many references?"
   ]
  },
  {
   "cell_type": "code",
   "execution_count": 38,
   "metadata": {
    "colab": {},
    "colab_type": "code",
    "id": "Cw8MmpzT5wAa"
   },
   "outputs": [
    {
     "name": "stdout",
     "output_type": "stream",
     "text": [
      "300\n",
      "300\n"
     ]
    }
   ],
   "source": [
    "# Answer:\n",
    "n = 300\n",
    "m = n\n",
    "\n",
    "type(300)\n",
    "print(n)\n",
    "print(m)\n",
    "\n",
    "# Objects created: 1 <int> object\n",
    "# References: 2 (n, m)"
   ]
  },
  {
   "cell_type": "markdown",
   "metadata": {
    "colab_type": "text",
    "id": "62vD1gqC5wAi"
   },
   "source": [
    "#### Question:\n",
    "\n",
    "Which of the following functions return the unique identfier of a python object?\n",
    "    \n",
    "- ref\n",
    "\n",
    "\n",
    "- identifier\n",
    "\n",
    "\n",
    "- objectId\n",
    "\n",
    "\n",
    "- id\n",
    "\n",
    "\n",
    "- route66"
   ]
  },
  {
   "cell_type": "code",
   "execution_count": 39,
   "metadata": {
    "colab": {},
    "colab_type": "code",
    "id": "h0vd0Pbj5wAk"
   },
   "outputs": [
    {
     "name": "stdout",
     "output_type": "stream",
     "text": [
      "1954747689488\n",
      "1954747689488\n",
      "Both referencing the same object\n"
     ]
    }
   ],
   "source": [
    "# Answer: \n",
    "\n",
    "# id. Printing each reference to see if they point to the same object\n",
    "print(id(n))\n",
    "print(id(m))\n",
    "\n",
    "if id(n) == id(m):\n",
    "    print('Both referencing the same object')\n",
    "else:\n",
    "    print('referencing separate objects')"
   ]
  },
  {
   "cell_type": "markdown",
   "metadata": {
    "colab_type": "text",
    "id": "HJG8zh5f5wAo"
   },
   "source": [
    "#### Question:\n",
    "Which of the following are valid Python variable names?\n",
    "    \n",
    "- ver3.7\n",
    "\n",
    "\n",
    "- Age\n",
    "\n",
    "\n",
    "- 4square\n",
    "\n",
    "\n",
    "- return\n",
    "\n",
    "\n",
    "- home_address\n",
    "\n",
    "\n",
    "- route66"
   ]
  },
  {
   "cell_type": "code",
   "execution_count": 55,
   "metadata": {},
   "outputs": [
    {
     "ename": "SyntaxError",
     "evalue": "invalid syntax (<ipython-input-55-556b91dcf5dc>, line 1)",
     "output_type": "error",
     "traceback": [
      "\u001b[1;36m  File \u001b[1;32m\"<ipython-input-55-556b91dcf5dc>\"\u001b[1;36m, line \u001b[1;32m1\u001b[0m\n\u001b[1;33m    ver3.7 = 9\u001b[0m\n\u001b[1;37m         ^\u001b[0m\n\u001b[1;31mSyntaxError\u001b[0m\u001b[1;31m:\u001b[0m invalid syntax\n"
     ]
    }
   ],
   "source": [
    "ver3.7 = 9"
   ]
  },
  {
   "cell_type": "code",
   "execution_count": 56,
   "metadata": {},
   "outputs": [],
   "source": [
    "Age = 9"
   ]
  },
  {
   "cell_type": "code",
   "execution_count": 57,
   "metadata": {},
   "outputs": [
    {
     "ename": "SyntaxError",
     "evalue": "invalid syntax (<ipython-input-57-c3cac265753e>, line 1)",
     "output_type": "error",
     "traceback": [
      "\u001b[1;36m  File \u001b[1;32m\"<ipython-input-57-c3cac265753e>\"\u001b[1;36m, line \u001b[1;32m1\u001b[0m\n\u001b[1;33m    4square = 9\u001b[0m\n\u001b[1;37m          ^\u001b[0m\n\u001b[1;31mSyntaxError\u001b[0m\u001b[1;31m:\u001b[0m invalid syntax\n"
     ]
    }
   ],
   "source": [
    "4square = 9"
   ]
  },
  {
   "cell_type": "code",
   "execution_count": 58,
   "metadata": {},
   "outputs": [
    {
     "ename": "SyntaxError",
     "evalue": "invalid syntax (<ipython-input-58-e073b3c73cbf>, line 1)",
     "output_type": "error",
     "traceback": [
      "\u001b[1;36m  File \u001b[1;32m\"<ipython-input-58-e073b3c73cbf>\"\u001b[1;36m, line \u001b[1;32m1\u001b[0m\n\u001b[1;33m    return = 9\u001b[0m\n\u001b[1;37m           ^\u001b[0m\n\u001b[1;31mSyntaxError\u001b[0m\u001b[1;31m:\u001b[0m invalid syntax\n"
     ]
    }
   ],
   "source": [
    "return = 9"
   ]
  },
  {
   "cell_type": "code",
   "execution_count": 59,
   "metadata": {},
   "outputs": [],
   "source": [
    "home_address = 9"
   ]
  },
  {
   "cell_type": "code",
   "execution_count": 60,
   "metadata": {},
   "outputs": [],
   "source": [
    "route66 = 9"
   ]
  },
  {
   "cell_type": "code",
   "execution_count": 54,
   "metadata": {
    "colab": {},
    "colab_type": "code",
    "id": "617HWLow5wAq"
   },
   "outputs": [
    {
     "name": "stdout",
     "output_type": "stream",
     "text": [
      "valid python variable names: ['Age', 'home_address', 'route66']\n",
      "invalid python variable names: ['ver3.7', '4square', 'return']\n"
     ]
    }
   ],
   "source": [
    "#Your answer here\n",
    "\n",
    "print('valid python variable names:', ['Age', 'home_address', 'route66'])\n",
    "print('invalid python variable names:', ['ver3.7', '4square', 'return'])"
   ]
  },
  {
   "cell_type": "markdown",
   "metadata": {
    "colab_type": "text",
    "id": "ygsuzrSx5wAu"
   },
   "source": [
    "#### Question:\n",
    "Which of the following styles does PEP8 recommend for multi-word variable names:\n",
    "\n",
    "\n",
    "- DistanceToNearestTown (Pascal Case)\n",
    "\n",
    "\n",
    "- distanceToNearestTown (Camel Case)\n",
    "\n",
    "\n",
    "- distance_to_nearest_town (Snake Case)"
   ]
  },
  {
   "cell_type": "code",
   "execution_count": 61,
   "metadata": {
    "colab": {},
    "colab_type": "code",
    "id": "6yK76Ym35wAv"
   },
   "outputs": [
    {
     "name": "stdout",
     "output_type": "stream",
     "text": [
      "PEP8 prefers camel_case() for long function names\n"
     ]
    }
   ],
   "source": [
    "# Answer\n",
    "\n",
    "print('PEP8 prefers snake_case() for long function names')\n",
    "print('distance_to_nearest_town(Snake Case)')"
   ]
  },
  {
   "cell_type": "markdown",
   "metadata": {
    "colab_type": "text",
    "id": "fvRaPVip5wAy"
   },
   "source": [
    "## Strings\n",
    "\n",
    "#### Question:\n",
    "\n",
    "Ask the user for a string using `input` and print out whether this string is a palindrome or not. (A palindrome is a string that reads the same forwards and backwards.)\n"
   ]
  },
  {
   "cell_type": "code",
   "execution_count": 84,
   "metadata": {
    "colab": {},
    "colab_type": "code",
    "id": "dQlG1cOy5wA0"
   },
   "outputs": [
    {
     "name": "stdout",
     "output_type": "stream",
     "text": [
      "Please enter a palindrome string.mo m\n",
      "mom\n",
      "\"mo m\" is a palindrome\n"
     ]
    },
    {
     "data": {
      "text/plain": [
       "True"
      ]
     },
     "execution_count": 84,
     "metadata": {},
     "output_type": "execute_result"
    }
   ],
   "source": [
    "# Answer\n",
    "\n",
    "def is_palindrome(string):\n",
    "    test_string = string.replace(' ', '')\n",
    "    print(test_string)\n",
    "    if test_string[::-1] == test_string:\n",
    "        print('\"{}\"'.format(string), 'is a palindrome')\n",
    "        return True\n",
    "    print('\"{}\"'.format(string), 'is not a palindrome')\n",
    "    return False\n",
    "    \n",
    "user_input = str(input('Please enter a palindrome string.'))\n",
    "\n",
    "is_palindrome(user_input)"
   ]
  },
  {
   "cell_type": "markdown",
   "metadata": {
    "colab_type": "text",
    "id": "h28yQ2CM5wA4"
   },
   "source": [
    "### Lists"
   ]
  },
  {
   "cell_type": "markdown",
   "metadata": {
    "colab_type": "text",
    "id": "5pQ2O2lw5wA5"
   },
   "source": [
    "#### Question:\n",
    "\n",
    "Make a list that includes at least four people in lower case that you would like to invite to dinner. Then use your list to print a message to each person, inviting them to dinner."
   ]
  },
  {
   "cell_type": "code",
   "execution_count": 104,
   "metadata": {
    "colab": {},
    "colab_type": "code",
    "id": "LRcwsEQc5wA6"
   },
   "outputs": [
    {
     "name": "stdout",
     "output_type": "stream",
     "text": [
      "Hey angela martin, would you like to join me and the gang for dinner?\n",
      "Hey dwight schrute, would you like to join me and the gang for dinner?\n",
      "Hey jim halpert, would you like to join me and the gang for dinner?\n",
      "Hey pam beesley, would you like to join me and the gang for dinner?\n"
     ]
    }
   ],
   "source": [
    "# Answer\n",
    "\n",
    "invitees = ['angela martin', 'dwight schrute', 'jim halpert', 'pam beesley']\n",
    "\n",
    "def print_invites(invitees):\n",
    "    for invitee in invitees:\n",
    "        print('Hey {}, would you like to join me and the gang for dinner?'.format(invitee))\n",
    "\n",
    "print_invites(invitees)"
   ]
  },
  {
   "cell_type": "markdown",
   "metadata": {
    "colab_type": "text",
    "id": "03MHsGAY5wA-"
   },
   "source": [
    "#### Question:\n",
    "The 3rd person in your list alphabetically can’t make the dinner, replace this guest with a new guest.\n",
    "\n",
    "You realize you should properly capitalize names, so properly capitalize each name.\n",
    "\n",
    "Print out an updated invitation list."
   ]
  },
  {
   "cell_type": "code",
   "execution_count": 105,
   "metadata": {
    "colab": {},
    "colab_type": "code",
    "id": "9eeIKs9-5wA_"
   },
   "outputs": [
    {
     "name": "stdout",
     "output_type": "stream",
     "text": [
      "Hey Angela martin, would you like to join me and the gang for dinner?\n",
      "Hey Dwight schrute, would you like to join me and the gang for dinner?\n",
      "Hey Michael scott, would you like to join me and the gang for dinner?\n",
      "Hey Pam beesley, would you like to join me and the gang for dinner?\n"
     ]
    }
   ],
   "source": [
    "# Answer\n",
    "\n",
    "invitees.sort()\n",
    "\n",
    "invitees[2] = 'michael scott'\n",
    "\n",
    "new_invitees = []\n",
    "\n",
    "for invitee in invitees:\n",
    "    new_invitees.append(invitee.capitalize())\n",
    "    \n",
    "invitees = new_invitees\n",
    "\n",
    "print_invites(invitees)"
   ]
  },
  {
   "cell_type": "markdown",
   "metadata": {
    "colab_type": "text",
    "id": "j_ImShuA5wBC"
   },
   "source": [
    "#### Question:\n",
    "\n",
    "Your significant other, a sports fan, would like to invite the following additional guests:\n",
    "    \n",
    "additional_guests = ['michael phelps', 'roger federer', 'bonnie blair', 'usain bolt', 'simone biles']\n",
    "\n",
    "Append the additional guests to the original guest list.\n",
    "\n",
    "Print out the updated invitation list."
   ]
  },
  {
   "cell_type": "code",
   "execution_count": 106,
   "metadata": {
    "colab": {},
    "colab_type": "code",
    "id": "sbxzvO0n5wBE"
   },
   "outputs": [
    {
     "name": "stdout",
     "output_type": "stream",
     "text": [
      "Hey Angela martin, would you like to join me and the gang for dinner?\n",
      "Hey Dwight schrute, would you like to join me and the gang for dinner?\n",
      "Hey Michael scott, would you like to join me and the gang for dinner?\n",
      "Hey Pam beesley, would you like to join me and the gang for dinner?\n",
      "Hey Michael phelps, would you like to join me and the gang for dinner?\n",
      "Hey Roger federer, would you like to join me and the gang for dinner?\n",
      "Hey Bonnie blair, would you like to join me and the gang for dinner?\n",
      "Hey Usain bolt, would you like to join me and the gang for dinner?\n",
      "Hey Simone biles, would you like to join me and the gang for dinner?\n"
     ]
    }
   ],
   "source": [
    "# Answer:\n",
    "\n",
    "additional_guests = ['michael phelps', 'roger federer', 'bonnie blair', 'usain bolt', 'simone biles']\n",
    "\n",
    "for guest in additional_guests:\n",
    "    invitees.append(guest.capitalize())\n",
    "\n",
    "print_invites(invitees)"
   ]
  },
  {
   "cell_type": "markdown",
   "metadata": {
    "colab_type": "text",
    "id": "eihDRHiO5wBL"
   },
   "source": [
    "#### Question:\n",
    "Your brother-in-law, \"Slacks Moodring\", insists on coming. Please add him to the list.\n",
    "\n",
    "Resort the list.\n",
    "\n",
    "Print the updated list."
   ]
  },
  {
   "cell_type": "code",
   "execution_count": 107,
   "metadata": {
    "colab": {},
    "colab_type": "code",
    "id": "dCyptA5G5wBN"
   },
   "outputs": [
    {
     "name": "stdout",
     "output_type": "stream",
     "text": [
      "Hey Angela martin, would you like to join me and the gang for dinner?\n",
      "Hey Bonnie blair, would you like to join me and the gang for dinner?\n",
      "Hey Dwight schrute, would you like to join me and the gang for dinner?\n",
      "Hey Michael phelps, would you like to join me and the gang for dinner?\n",
      "Hey Michael scott, would you like to join me and the gang for dinner?\n",
      "Hey Pam beesley, would you like to join me and the gang for dinner?\n",
      "Hey Roger federer, would you like to join me and the gang for dinner?\n",
      "Hey Simone biles, would you like to join me and the gang for dinner?\n",
      "Hey Slacks Moodring, would you like to join me and the gang for dinner?\n",
      "Hey Usain bolt, would you like to join me and the gang for dinner?\n"
     ]
    }
   ],
   "source": [
    "# Answer:\n",
    "\n",
    "invitees.append('Slacks Moodring')\n",
    "\n",
    "invitees.sort()\n",
    "\n",
    "print_invites(invitees)"
   ]
  },
  {
   "cell_type": "markdown",
   "metadata": {
    "colab_type": "text",
    "id": "ieZKVMB75wBU"
   },
   "source": [
    "#### Question:\n",
    "You realize you can not afford to feed the large number of people on your guest list.\n",
    "\n",
    "Select a subset of guests by splicing your list on every 3rd person starting from the end of the list.\n",
    "\n",
    "Sort the list.\n",
    "\n",
    "Print the updated invitation list.\n"
   ]
  },
  {
   "cell_type": "code",
   "execution_count": 108,
   "metadata": {
    "colab": {},
    "colab_type": "code",
    "id": "-XgUgnAo5wBV"
   },
   "outputs": [
    {
     "name": "stdout",
     "output_type": "stream",
     "text": [
      "Hey Angela martin, would you like to join me and the gang for dinner?\n",
      "Hey Bonnie blair, would you like to join me and the gang for dinner?\n",
      "Hey Michael phelps, would you like to join me and the gang for dinner?\n",
      "Hey Michael scott, would you like to join me and the gang for dinner?\n",
      "Hey Roger federer, would you like to join me and the gang for dinner?\n",
      "Hey Simone biles, would you like to join me and the gang for dinner?\n",
      "Hey Usain bolt, would you like to join me and the gang for dinner?\n"
     ]
    }
   ],
   "source": [
    "# Answer:\n",
    "updated_invitees = []\n",
    "for i, invitee in enumerate(invitees):\n",
    "    if (i+1) % 3 > 0:\n",
    "        updated_invitees.append(invitee)\n",
    "\n",
    "print_invites(updated_invitees)"
   ]
  },
  {
   "cell_type": "markdown",
   "metadata": {
    "colab_type": "text",
    "id": "Jbn3pTZz5wBc"
   },
   "source": [
    "#### Question:\n",
    "\n",
    "Generate the following list:\n",
    "\n",
    "```\n",
    "[0, 1, 2, 3, 4, 5, 6, 7, 8, 9]\n",
    "```"
   ]
  },
  {
   "cell_type": "code",
   "execution_count": 113,
   "metadata": {
    "colab": {},
    "colab_type": "code",
    "id": "gyJaQYYh5wBe"
   },
   "outputs": [
    {
     "name": "stdout",
     "output_type": "stream",
     "text": [
      "[0, 1, 2, 3, 4, 5, 6, 7, 8, 9]\n"
     ]
    }
   ],
   "source": [
    "# Answer:\n",
    "\n",
    "newlist = []\n",
    "i = 0\n",
    "\n",
    "while i<10:\n",
    "    newlist.append(i)\n",
    "    i+=1\n",
    "\n",
    "print(newlist)"
   ]
  },
  {
   "cell_type": "markdown",
   "metadata": {
    "colab_type": "text",
    "id": "0ptdH0EK5wBk"
   },
   "source": [
    "### Dictionaries\n",
    "\n",
    "Below is a table of the top 10 most popular computer languages for professional developers taken from the 2019 Stack Overlow survey.\n",
    "\n",
    "https://insights.stackoverflow.com/survey/2019#technology\n",
    "\n",
    "|Language|Popularity (%)|\n",
    "|-|-|\n",
    "|JavaScript|69.7%|\n",
    "|HTML/CSS|63.1%|\n",
    "|SQL|56.5%|\n",
    "|Python|39.4%|\n",
    "|Java|39.2%|\n",
    "|Bash/Shell/PowerShell|37.9%|\n",
    "|C#|31.9%|\n",
    "|PHP|25.8%|\n",
    "|TypeScript|23.5%|\n",
    "|C++|20.4%|\n",
    "\n",
    "#### Question:\n",
    "\n",
    "Construct a dictionary `lang_pop` from this list.\n",
    "\n",
    "Print out each key-value pair with a ':' immediately after each key.\n"
   ]
  },
  {
   "cell_type": "code",
   "execution_count": 0,
   "metadata": {
    "colab": {},
    "colab_type": "code",
    "id": "AmdApTbO5wBn"
   },
   "outputs": [],
   "source": [
    "# Answer:\n"
   ]
  },
  {
   "cell_type": "markdown",
   "metadata": {
    "colab_type": "text",
    "id": "TVKA42Fi5wB-"
   },
   "source": [
    "#### Question:\n",
    "\n",
    "Print out the languages from `lang_pop` in sorted order."
   ]
  },
  {
   "cell_type": "code",
   "execution_count": 0,
   "metadata": {
    "colab": {},
    "colab_type": "code",
    "id": "RurHvkUx5wCA"
   },
   "outputs": [],
   "source": [
    "# Answer:\n"
   ]
  },
  {
   "cell_type": "markdown",
   "metadata": {
    "colab_type": "text",
    "id": "Nig9M6bd5wCE"
   },
   "source": [
    "#### Question:\n",
    "\n",
    "Python has we know is very popular. Update the % of Python by 2x.\n",
    "\n",
    "Print out each key-value pair with a ':' immediately after each key."
   ]
  },
  {
   "cell_type": "code",
   "execution_count": 0,
   "metadata": {
    "colab": {},
    "colab_type": "code",
    "id": "Qeh-a8F95wCG"
   },
   "outputs": [],
   "source": [
    "# Answer:\n"
   ]
  },
  {
   "cell_type": "markdown",
   "metadata": {
    "colab_type": "text",
    "id": "-1WqdM0g5wCN"
   },
   "source": [
    "### Working with numbers"
   ]
  },
  {
   "cell_type": "markdown",
   "metadata": {
    "colab_type": "text",
    "id": "YTgbYmVI5wCQ"
   },
   "source": [
    "#### Question:\n",
    "\n",
    "Create a program that asks the user for a number and then prints out a list of all the divisors of that number. \n",
    "\n",
    "A divisor is a number that divides evenly into another number. For example, 4 is a divisor of 1. 3 is not a divisor of 5."
   ]
  },
  {
   "cell_type": "code",
   "execution_count": 0,
   "metadata": {
    "colab": {},
    "colab_type": "code",
    "id": "DaynFX6Z5wCT"
   },
   "outputs": [],
   "source": [
    "# Answer\n"
   ]
  },
  {
   "cell_type": "markdown",
   "metadata": {
    "colab_type": "text",
    "id": "TvMqWRzo5wCf"
   },
   "source": [
    "### Functions, Iteration, and Logic"
   ]
  },
  {
   "cell_type": "markdown",
   "metadata": {
    "colab_type": "text",
    "id": "RbH30DD-5wCm"
   },
   "source": [
    "#### Question:\n",
    "\n",
    "Rock Paper Scissors \n",
    "\n",
    "Make a two-player Rock-Paper-Scissors game. \n",
    "\n",
    "Ask each player player for their name (using `input`).\n",
    "\n",
    "Prompt each player for their name, and ask each player by name + `do you want to choose rock, paper or scissors?`\n",
    "\n",
    "Compare the selection from each player.  Print out a message of congratulations to the winner, or a message if there is a tie, or if their input was invalid, i.e., if both user made the same selection.\n",
    "\n",
    "Remember the rules:  \n",
    "- Rock beats scissors  \n",
    "- Scissors beats paper  \n",
    "- Paper beats rock\n"
   ]
  },
  {
   "cell_type": "code",
   "execution_count": 0,
   "metadata": {
    "colab": {},
    "colab_type": "code",
    "id": "s2wp7I3A5wCp"
   },
   "outputs": [],
   "source": [
    "# Answer:\n"
   ]
  },
  {
   "cell_type": "markdown",
   "metadata": {
    "colab_type": "text",
    "id": "NYqMK_bx5wCt"
   },
   "source": [
    "#### Question:\n",
    "\n",
    "Longest word - looping, logic, and functions.\n",
    "\n",
    "Create a function called `longest_word` that takes one argument, a list of words, and returns the word and length of the longest word in the list.\n",
    "\n",
    "For example, longest_word(['simple', 'is', 'better', 'than', 'complex']) should return ('complex', 7) because the longest word there is complex, at 7 characters.\n",
    "\n",
    "Your function should not modify the input list.\n"
   ]
  },
  {
   "cell_type": "code",
   "execution_count": 0,
   "metadata": {
    "colab": {},
    "colab_type": "code",
    "id": "zcuf3FA15wCw"
   },
   "outputs": [],
   "source": [
    "# Answer:\n"
   ]
  },
  {
   "cell_type": "markdown",
   "metadata": {
    "colab_type": "text",
    "id": "PtlGRnbh5wC1"
   },
   "source": [
    "### Custom objects "
   ]
  },
  {
   "cell_type": "markdown",
   "metadata": {
    "colab_type": "text",
    "id": "tfqH3UCE5wC3"
   },
   "source": [
    "#### Question:\n",
    "\n",
    "Create a `Person` class.\n",
    "\n",
    "Each person will have the attributes:\n",
    "- name(int)\n",
    "- gender(int)\n",
    "- age (int)\n",
    "\n",
    "Each attribute is provided to `__init__()`\n",
    "\n",
    "Provide a `__repr__()` method to generate a formated string for printing.\n",
    "\n",
    "Create a list with at least 3 people objects.\n",
    "\n",
    "Iterate through the list and print each object."
   ]
  },
  {
   "cell_type": "code",
   "execution_count": 0,
   "metadata": {
    "colab": {},
    "colab_type": "code",
    "id": "Yc0jFh445wC4"
   },
   "outputs": [],
   "source": [
    "# Answer:\n"
   ]
  },
  {
   "cell_type": "markdown",
   "metadata": {
    "colab_type": "text",
    "id": "v94YO9ss5wC8"
   },
   "source": [
    "### Importing modules"
   ]
  },
  {
   "cell_type": "markdown",
   "metadata": {
    "colab_type": "text",
    "id": "7Ro0niJw5wC9"
   },
   "source": [
    "#### Question:\n",
    "\n",
    "From the python `random` module import the `seed` and `random` functions. Set `seed()` to `1`, i.e., `seed(1)`.\n",
    "\n",
    "Use the `random` number to generate `10` numbers between `0-100`"
   ]
  },
  {
   "cell_type": "code",
   "execution_count": 0,
   "metadata": {
    "colab": {},
    "colab_type": "code",
    "id": "lkxxNKOF5wC-"
   },
   "outputs": [],
   "source": [
    "# Answer:\n"
   ]
  },
  {
   "cell_type": "code",
   "execution_count": 0,
   "metadata": {
    "colab": {},
    "colab_type": "code",
    "id": "ZKW3zFUc5wDF"
   },
   "outputs": [],
   "source": []
  }
 ],
 "metadata": {
  "colab": {
   "collapsed_sections": [],
   "name": "Practice - Python for data scientists I - programming fundamentals.ipynb",
   "provenance": []
  },
  "kernelspec": {
   "display_name": "Python 3",
   "language": "python",
   "name": "python3"
  },
  "language_info": {
   "codemirror_mode": {
    "name": "ipython",
    "version": 3
   },
   "file_extension": ".py",
   "mimetype": "text/x-python",
   "name": "python",
   "nbconvert_exporter": "python",
   "pygments_lexer": "ipython3",
   "version": "3.7.4"
  }
 },
 "nbformat": 4,
 "nbformat_minor": 1
}
