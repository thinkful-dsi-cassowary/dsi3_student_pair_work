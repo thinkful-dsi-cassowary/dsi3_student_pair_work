{
 "cells": [
  {
   "cell_type": "markdown",
   "metadata": {
    "colab_type": "text",
    "id": "hJs1uxYP5wAR"
   },
   "source": [
    "## Practice - Python for data scientists I - programming fundamentals\n",
    "\n",
    "Answer all **Questions**"
   ]
  },
  {
   "cell_type": "markdown",
   "metadata": {
    "colab_type": "text",
    "id": "ZHgDmujZ5wAV"
   },
   "source": [
    "### Variables and Objects"
   ]
  },
  {
   "cell_type": "markdown",
   "metadata": {
    "colab_type": "text",
    "id": "u9O1S55U5wAX"
   },
   "source": [
    "#### Question:\n",
    "\n",
    "Consider the following sequence of statements:\n",
    "\n",
    "```python\n",
    "n = 300\n",
    "m = n\n",
    "```\n",
    "\n",
    "Following execution of these statements, Python has created how many objects and how many references?"
   ]
  },
  {
   "cell_type": "code",
   "execution_count": 1,
   "metadata": {},
   "outputs": [
    {
     "name": "stdout",
     "output_type": "stream",
     "text": "300\n300\n"
    }
   ],
   "source": [
    "# Answer:\n",
    "n = 300\n",
    "m = n\n",
    "\n",
    "type(300)\n",
    "print(n)\n",
    "print(m)\n",
    "\n",
    "# Objects created: 1 <int> object\n",
    "# References: 2 (n, m)"
   ]
  },
  {
   "cell_type": "markdown",
   "metadata": {
    "colab_type": "text",
    "id": "62vD1gqC5wAi"
   },
   "source": [
    "#### Question:\n",
    "\n",
    "Which of the following functions return the unique identfier of a python object?\n",
    "    \n",
    "- ref\n",
    "\n",
    "\n",
    "- identifier\n",
    "\n",
    "\n",
    "- objectId\n",
    "\n",
    "\n",
    "- id\n",
    "\n",
    "\n",
    "- route66"
   ]
  },
  {
   "cell_type": "code",
   "execution_count": 2,
   "metadata": {},
   "outputs": [
    {
     "name": "stdout",
     "output_type": "stream",
     "text": "3262993580656\n3262993580656\nBoth referencing the same object\n"
    }
   ],
   "source": [
    "# Answer: \n",
    "\n",
    "# id. Printing each reference to see if they point to the same object\n",
    "print(id(n))\n",
    "print(id(m))\n",
    "\n",
    "if id(n) == id(m):\n",
    "    print('Both referencing the same object')\n",
    "else:\n",
    "    print('referencing separate objects')"
   ]
  },
  {
   "cell_type": "markdown",
   "metadata": {
    "colab_type": "text",
    "id": "HJG8zh5f5wAo"
   },
   "source": [
    "#### Question:\n",
    "Which of the following are valid Python variable names?\n",
    "    \n",
    "- ver3.7\n",
    "\n",
    "\n",
    "- Age\n",
    "\n",
    "\n",
    "- 4square\n",
    "\n",
    "\n",
    "- return\n",
    "\n",
    "\n",
    "- home_address\n",
    "\n",
    "\n",
    "- route66"
   ]
  },
  {
   "cell_type": "code",
   "execution_count": 3,
   "metadata": {},
   "outputs": [
    {
     "ename": "SyntaxError",
     "evalue": "invalid syntax (<ipython-input-3-556b91dcf5dc>, line 1)",
     "output_type": "error",
     "traceback": [
      "\u001b[1;36m  File \u001b[1;32m\"<ipython-input-3-556b91dcf5dc>\"\u001b[1;36m, line \u001b[1;32m1\u001b[0m\n\u001b[1;33m    ver3.7 = 9\u001b[0m\n\u001b[1;37m         ^\u001b[0m\n\u001b[1;31mSyntaxError\u001b[0m\u001b[1;31m:\u001b[0m invalid syntax\n"
     ]
    }
   ],
   "source": [
    "ver3.7 = 9"
   ]
  },
  {
   "cell_type": "code",
   "execution_count": 4,
   "metadata": {},
   "outputs": [],
   "source": [
    "Age = 9"
   ]
  },
  {
   "cell_type": "code",
   "execution_count": 5,
   "metadata": {},
   "outputs": [
    {
     "ename": "SyntaxError",
     "evalue": "invalid syntax (<ipython-input-5-c3cac265753e>, line 1)",
     "output_type": "error",
     "traceback": [
      "\u001b[1;36m  File \u001b[1;32m\"<ipython-input-5-c3cac265753e>\"\u001b[1;36m, line \u001b[1;32m1\u001b[0m\n\u001b[1;33m    4square = 9\u001b[0m\n\u001b[1;37m          ^\u001b[0m\n\u001b[1;31mSyntaxError\u001b[0m\u001b[1;31m:\u001b[0m invalid syntax\n"
     ]
    }
   ],
   "source": [
    "4square = 9"
   ]
  },
  {
   "cell_type": "code",
   "execution_count": 6,
   "metadata": {},
   "outputs": [
    {
     "ename": "SyntaxError",
     "evalue": "invalid syntax (<ipython-input-6-e073b3c73cbf>, line 1)",
     "output_type": "error",
     "traceback": [
      "\u001b[1;36m  File \u001b[1;32m\"<ipython-input-6-e073b3c73cbf>\"\u001b[1;36m, line \u001b[1;32m1\u001b[0m\n\u001b[1;33m    return = 9\u001b[0m\n\u001b[1;37m           ^\u001b[0m\n\u001b[1;31mSyntaxError\u001b[0m\u001b[1;31m:\u001b[0m invalid syntax\n"
     ]
    }
   ],
   "source": [
    "return = 9"
   ]
  },
  {
   "cell_type": "code",
   "execution_count": 7,
   "metadata": {},
   "outputs": [],
   "source": [
    "home_address = 9"
   ]
  },
  {
   "cell_type": "code",
   "execution_count": 8,
   "metadata": {},
   "outputs": [],
   "source": [
    "route66 = 9"
   ]
  },
  {
   "cell_type": "code",
   "execution_count": 9,
   "metadata": {},
   "outputs": [
    {
     "name": "stdout",
     "output_type": "stream",
     "text": "valid python variable names: ['Age', 'home_address', 'route66']\ninvalid python variable names: ['ver3.7', '4square', 'return']\n"
    }
   ],
   "source": [
    "#Your answer here\n",
    "\n",
    "print('valid python variable names:', ['Age', 'home_address', 'route66'])\n",
    "print('invalid python variable names:', ['ver3.7', '4square', 'return'])"
   ]
  },
  {
   "cell_type": "markdown",
   "metadata": {
    "colab_type": "text",
    "id": "ygsuzrSx5wAu"
   },
   "source": [
    "#### Question:\n",
    "Which of the following styles does PEP8 recommend for multi-word variable names:\n",
    "\n",
    "\n",
    "- DistanceToNearestTown (Pascal Case)\n",
    "\n",
    "\n",
    "- distanceToNearestTown (Camel Case)\n",
    "\n",
    "\n",
    "- distance_to_nearest_town (Snake Case)"
   ]
  },
  {
   "cell_type": "code",
   "execution_count": 10,
   "metadata": {},
   "outputs": [
    {
     "name": "stdout",
     "output_type": "stream",
     "text": "PEP8 prefers snake_case() for long function names\ndistance_to_nearest_town(Snake Case)\n"
    }
   ],
   "source": [
    "# Answer\n",
    "\n",
    "print('PEP8 prefers snake_case() for long function names')\n",
    "print('distance_to_nearest_town(Snake Case)')"
   ]
  },
  {
   "cell_type": "markdown",
   "metadata": {
    "colab_type": "text",
    "id": "fvRaPVip5wAy"
   },
   "source": [
    "## Strings\n",
    "\n",
    "#### Question:\n",
    "\n",
    "Ask the user for a string using `input` and print out whether this string is a palindrome or not. (A palindrome is a string that reads the same forwards and backwards.)\n"
   ]
  },
  {
   "cell_type": "code",
   "execution_count": 11,
   "metadata": {},
   "outputs": [
    {
     "name": "stdout",
     "output_type": "stream",
     "text": "\n\"\" is a palindrome\n"
    },
    {
     "data": {
      "text/plain": "True"
     },
     "execution_count": 11,
     "metadata": {},
     "output_type": "execute_result"
    }
   ],
   "source": [
    "# Answer\n",
    "\n",
    "def is_palindrome(string):\n",
    "    test_string = string.replace(' ', '')\n",
    "    print(test_string)\n",
    "    if test_string[::-1] == test_string:\n",
    "        print('\"{}\"'.format(string), 'is a palindrome')\n",
    "        return True\n",
    "    print('\"{}\"'.format(string), 'is not a palindrome')\n",
    "    return False\n",
    "    \n",
    "user_input = str(input('Please enter a palindrome string.'))\n",
    "\n",
    "is_palindrome(user_input)"
   ]
  },
  {
   "cell_type": "markdown",
   "metadata": {
    "colab_type": "text",
    "id": "h28yQ2CM5wA4"
   },
   "source": [
    "### Lists"
   ]
  },
  {
   "cell_type": "markdown",
   "metadata": {
    "colab_type": "text",
    "id": "5pQ2O2lw5wA5"
   },
   "source": [
    "#### Question:\n",
    "\n",
    "Make a list that includes at least four people in lower case that you would like to invite to dinner. Then use your list to print a message to each person, inviting them to dinner."
   ]
  },
  {
   "cell_type": "code",
   "execution_count": 12,
   "metadata": {},
   "outputs": [
    {
     "name": "stdout",
     "output_type": "stream",
     "text": "Hey angela martin, would you like to join me and the gang for dinner?\nHey dwight schrute, would you like to join me and the gang for dinner?\nHey jim halpert, would you like to join me and the gang for dinner?\nHey pam beesley, would you like to join me and the gang for dinner?\n"
    }
   ],
   "source": [
    "# Answer\n",
    "\n",
    "invitees = ['angela martin', 'dwight schrute', 'jim halpert', 'pam beesley']\n",
    "\n",
    "def print_invites(invitees):\n",
    "    for invitee in invitees:\n",
    "        print('Hey {}, would you like to join me and the gang for dinner?'.format(invitee))\n",
    "\n",
    "print_invites(invitees)"
   ]
  },
  {
   "cell_type": "markdown",
   "metadata": {
    "colab_type": "text",
    "id": "03MHsGAY5wA-"
   },
   "source": [
    "#### Question:\n",
    "The 3rd person in your list alphabetically can’t make the dinner, replace this guest with a new guest.\n",
    "\n",
    "You realize you should properly capitalize names, so properly capitalize each name.\n",
    "\n",
    "Print out an updated invitation list."
   ]
  },
  {
   "cell_type": "code",
   "execution_count": 13,
   "metadata": {},
   "outputs": [
    {
     "name": "stdout",
     "output_type": "stream",
     "text": "Hey Angela martin, would you like to join me and the gang for dinner?\nHey Dwight schrute, would you like to join me and the gang for dinner?\nHey Michael scott, would you like to join me and the gang for dinner?\nHey Pam beesley, would you like to join me and the gang for dinner?\n"
    }
   ],
   "source": [
    "# Answer\n",
    "\n",
    "invitees.sort()\n",
    "\n",
    "invitees[2] = 'michael scott'\n",
    "\n",
    "new_invitees = []\n",
    "\n",
    "for invitee in invitees:\n",
    "    new_invitees.append(invitee.capitalize())\n",
    "    \n",
    "invitees = new_invitees\n",
    "\n",
    "print_invites(invitees)"
   ]
  },
  {
   "cell_type": "markdown",
   "metadata": {
    "colab_type": "text",
    "id": "j_ImShuA5wBC"
   },
   "source": [
    "#### Question:\n",
    "\n",
    "Your significant other, a sports fan, would like to invite the following additional guests:\n",
    "    \n",
    "additional_guests = ['michael phelps', 'roger federer', 'bonnie blair', 'usain bolt', 'simone biles']\n",
    "\n",
    "Append the additional guests to the original guest list.\n",
    "\n",
    "Print out the updated invitation list."
   ]
  },
  {
   "cell_type": "code",
   "execution_count": 14,
   "metadata": {},
   "outputs": [
    {
     "name": "stdout",
     "output_type": "stream",
     "text": "Hey Angela martin, would you like to join me and the gang for dinner?\nHey Dwight schrute, would you like to join me and the gang for dinner?\nHey Michael scott, would you like to join me and the gang for dinner?\nHey Pam beesley, would you like to join me and the gang for dinner?\nHey Michael phelps, would you like to join me and the gang for dinner?\nHey Roger federer, would you like to join me and the gang for dinner?\nHey Bonnie blair, would you like to join me and the gang for dinner?\nHey Usain bolt, would you like to join me and the gang for dinner?\nHey Simone biles, would you like to join me and the gang for dinner?\n"
    }
   ],
   "source": [
    "# Answer:\n",
    "\n",
    "additional_guests = ['michael phelps', 'roger federer', 'bonnie blair', 'usain bolt', 'simone biles']\n",
    "\n",
    "for guest in additional_guests:\n",
    "    invitees.append(guest.capitalize())\n",
    "\n",
    "print_invites(invitees)"
   ]
  },
  {
   "cell_type": "markdown",
   "metadata": {
    "colab_type": "text",
    "id": "eihDRHiO5wBL"
   },
   "source": [
    "#### Question:\n",
    "Your brother-in-law, \"Slacks Moodring\", insists on coming. Please add him to the list.\n",
    "\n",
    "Resort the list.\n",
    "\n",
    "Print the updated list."
   ]
  },
  {
   "cell_type": "code",
   "execution_count": 15,
   "metadata": {},
   "outputs": [
    {
     "name": "stdout",
     "output_type": "stream",
     "text": "Hey Angela martin, would you like to join me and the gang for dinner?\nHey Bonnie blair, would you like to join me and the gang for dinner?\nHey Dwight schrute, would you like to join me and the gang for dinner?\nHey Michael phelps, would you like to join me and the gang for dinner?\nHey Michael scott, would you like to join me and the gang for dinner?\nHey Pam beesley, would you like to join me and the gang for dinner?\nHey Roger federer, would you like to join me and the gang for dinner?\nHey Simone biles, would you like to join me and the gang for dinner?\nHey Slacks Moodring, would you like to join me and the gang for dinner?\nHey Usain bolt, would you like to join me and the gang for dinner?\n"
    }
   ],
   "source": [
    "# Answer:\n",
    "\n",
    "invitees.append('Slacks Moodring')\n",
    "\n",
    "invitees.sort()\n",
    "\n",
    "print_invites(invitees)"
   ]
  },
  {
   "cell_type": "markdown",
   "metadata": {
    "colab_type": "text",
    "id": "ieZKVMB75wBU"
   },
   "source": [
    "#### Question:\n",
    "You realize you can not afford to feed the large number of people on your guest list.\n",
    "\n",
    "Select a subset of guests by splicing your list on every 3rd person starting from the end of the list.\n",
    "\n",
    "Sort the list.\n",
    "\n",
    "Print the updated invitation list.\n"
   ]
  },
  {
   "cell_type": "code",
   "execution_count": 16,
   "metadata": {},
   "outputs": [
    {
     "name": "stdout",
     "output_type": "stream",
     "text": "Hey Angela martin, would you like to join me and the gang for dinner?\nHey Bonnie blair, would you like to join me and the gang for dinner?\nHey Michael phelps, would you like to join me and the gang for dinner?\nHey Michael scott, would you like to join me and the gang for dinner?\nHey Roger federer, would you like to join me and the gang for dinner?\nHey Simone biles, would you like to join me and the gang for dinner?\nHey Usain bolt, would you like to join me and the gang for dinner?\n"
    }
   ],
   "source": [
    "# Answer:\n",
    "updated_invitees = []\n",
    "for i, invitee in enumerate(invitees):\n",
    "    if (i+1) % 3 > 0:\n",
    "        updated_invitees.append(invitee)\n",
    "\n",
    "print_invites(updated_invitees)"
   ]
  },
  {
   "cell_type": "markdown",
   "metadata": {
    "colab_type": "text",
    "id": "Jbn3pTZz5wBc"
   },
   "source": [
    "#### Question:\n",
    "\n",
    "Generate the following list:\n",
    "\n",
    "```\n",
    "[0, 1, 2, 3, 4, 5, 6, 7, 8, 9]\n",
    "```"
   ]
  },
  {
   "cell_type": "code",
   "execution_count": 17,
   "metadata": {},
   "outputs": [
    {
     "name": "stdout",
     "output_type": "stream",
     "text": "[0, 1, 2, 3, 4, 5, 6, 7, 8, 9]\n"
    }
   ],
   "source": [
    "# Answer:\n",
    "\n",
    "newlist = []\n",
    "i = 0\n",
    "\n",
    "while i<10:\n",
    "    newlist.append(i)\n",
    "    i+=1\n",
    "\n",
    "print(newlist)"
   ]
  },
  {
   "cell_type": "markdown",
   "metadata": {
    "colab_type": "text",
    "id": "0ptdH0EK5wBk"
   },
   "source": [
    "### Dictionaries\n",
    "\n",
    "Below is a table of the top 10 most popular computer languages for professional developers taken from the 2019 Stack Overlow survey.\n",
    "\n",
    "https://insights.stackoverflow.com/survey/2019#technology\n",
    "\n",
    "|Language|Popularity (%)|\n",
    "|-|-|\n",
    "|JavaScript|69.7%|\n",
    "|HTML/CSS|63.1%|\n",
    "|SQL|56.5%|\n",
    "|Python|39.4%|\n",
    "|Java|39.2%|\n",
    "|Bash/Shell/PowerShell|37.9%|\n",
    "|C#|31.9%|\n",
    "|PHP|25.8%|\n",
    "|TypeScript|23.5%|\n",
    "|C++|20.4%|\n",
    "\n",
    "#### Question:\n",
    "\n",
    "Construct a dictionary `lang_pop` from this list.\n",
    "\n",
    "Print out each key-value pair with a ':' immediately after each key.\n"
   ]
  },
  {
   "cell_type": "code",
   "execution_count": 18,
   "metadata": {},
   "outputs": [
    {
     "name": "stdout",
     "output_type": "stream",
     "text": "JavaScript: 69.7\nHTML/CSS: 63.1\nSQL: 56.5\nPython: 39.4\nJava: 39.2\nBash/Shell/PowerShell: 37.9\nC#: 31.9\nPHP: 25.8\nTypeScript: 23.5\nC++: 20.4\n"
    }
   ],
   "source": [
    "# Answer:\n",
    "\n",
    "lang_pop = {\n",
    "    'JavaScript': 69.7,\n",
    "    'HTML/CSS': 63.1,\n",
    "    'SQL': 56.5,\n",
    "    'Python': 39.4,\n",
    "    'Java': 39.2,\n",
    "    'Bash/Shell/PowerShell': 37.9,\n",
    "    'C#': 31.9,\n",
    "    'PHP': 25.8,\n",
    "    'TypeScript': 23.5,\n",
    "    'C++': 20.4}\n",
    "\n",
    "# Print out a dictionary in a readable way\n",
    "def print_dict(dictionary):\n",
    "    for key in dictionary:\n",
    "        print('{}: {}'.format(key, dictionary[key]))\n",
    "        \n",
    "# Print out lang_pop dictionary\n",
    "print_dict(lang_pop)"
   ]
  },
  {
   "cell_type": "markdown",
   "metadata": {
    "colab_type": "text",
    "id": "TVKA42Fi5wB-"
   },
   "source": [
    "#### Question:\n",
    "\n",
    "Print out the languages from `lang_pop` in sorted order."
   ]
  },
  {
   "cell_type": "code",
   "execution_count": 19,
   "metadata": {},
   "outputs": [
    {
     "name": "stdout",
     "output_type": "stream",
     "text": "Bash/Shell/PowerShell: 37.9\nC#: 31.9\nC++: 20.4\nHTML/CSS: 63.1\nJava: 39.2\nJavaScript: 69.7\nPHP: 25.8\nPython: 39.4\nSQL: 56.5\nTypeScript: 23.5\n"
    }
   ],
   "source": [
    "# Answer:\n",
    "\n",
    "# iterate through the keys in a sorted order and print each key-value pair\n",
    "for key in sorted (lang_pop.keys()):\n",
    "    print('{}: {}'.format(key, lang_pop[key]))"
   ]
  },
  {
   "cell_type": "markdown",
   "metadata": {
    "colab_type": "text",
    "id": "Nig9M6bd5wCE"
   },
   "source": [
    "#### Question:\n",
    "\n",
    "Python has we know is very popular. Update the % of Python by 2x.\n",
    "\n",
    "Print out each key-value pair with a ':' immediately after each key."
   ]
  },
  {
   "cell_type": "code",
   "execution_count": 20,
   "metadata": {},
   "outputs": [
    {
     "name": "stdout",
     "output_type": "stream",
     "text": "JavaScript: 69.7\nHTML/CSS: 63.1\nSQL: 56.5\nPython: 118.19999999999999\nJava: 39.2\nBash/Shell/PowerShell: 37.9\nC#: 31.9\nPHP: 25.8\nTypeScript: 23.5\nC++: 20.4\n"
    }
   ],
   "source": [
    "# Answer:\n",
    "\n",
    "lang_pop['Python'] *= 3\n",
    "\n",
    "print_dict(lang_pop)"
   ]
  },
  {
   "cell_type": "markdown",
   "metadata": {
    "colab_type": "text",
    "id": "-1WqdM0g5wCN"
   },
   "source": [
    "### Working with numbers"
   ]
  },
  {
   "cell_type": "markdown",
   "metadata": {
    "colab_type": "text",
    "id": "YTgbYmVI5wCQ"
   },
   "source": [
    "#### Question:\n",
    "\n",
    "Create a program that asks the user for a number and then prints out a list of all the divisors of that number. \n",
    "\n",
    "A divisor is a number that divides evenly into another number. For example, 4 is a divisor of 1. 3 is not a divisor of 5."
   ]
  },
  {
   "cell_type": "code",
   "execution_count": 3,
   "metadata": {},
   "outputs": [
    {
     "name": "stdout",
     "output_type": "stream",
     "text": "[1, 2, 4, 41, 61, 82, 122, 164, 244, 2501, 5002, 10004]\n"
    }
   ],
   "source": [
    "# Answer\n",
    "\n",
    "# Get a number from the user\n",
    "num = int(input('Please enter a positive integer: '))\n",
    "\n",
    "divisors = [] # create an empty list for divisors\n",
    "i = 1 # set an iterator\n",
    "\n",
    "while i <= num:\n",
    "    if i > num / 2:\n",
    "        divisors.append(num)\n",
    "        break\n",
    "    if num == 0:\n",
    "        break\n",
    "    if num % i == 0:\n",
    "        divisors.append(i)\n",
    "    i += 1\n",
    "        \n",
    "print(divisors)"
   ]
  },
  {
   "cell_type": "markdown",
   "metadata": {
    "colab_type": "text",
    "id": "TvMqWRzo5wCf"
   },
   "source": [
    "### Functions, Iteration, and Logic"
   ]
  },
  {
   "cell_type": "markdown",
   "metadata": {
    "colab_type": "text",
    "id": "RbH30DD-5wCm"
   },
   "source": [
    "#### Question:\n",
    "\n",
    "Rock Paper Scissors \n",
    "\n",
    "Make a two-player Rock-Paper-Scissors game. \n",
    "\n",
    "Ask each player player for their name (using `input`).\n",
    "\n",
    "Prompt each player for their name, and ask each player by name + `do you want to choose rock, paper or scissors?`\n",
    "\n",
    "Compare the selection from each player.  Print out a message of congratulations to the winner, or a message if there is a tie, or if their input was invalid, i.e., if both user made the same selection.\n",
    "\n",
    "Remember the rules:  \n",
    "- Rock beats scissors  \n",
    "- Scissors beats paper  \n",
    "- Paper beats rock\n"
   ]
  },
  {
   "cell_type": "code",
   "execution_count": 7,
   "metadata": {},
   "outputs": [
    {
     "name": "stdout",
     "output_type": "stream",
     "text": "Nobody won. It was a tie. Both chose rock\n"
    }
   ],
   "source": [
    "# Answer:\n",
    "\n",
    "# Creat a dictionary for the rules. <Key> beats <Value>\n",
    "rules = {\n",
    "    'rock' : 'scissors',\n",
    "    'scissors': 'paper',\n",
    "    'paper': 'rock'\n",
    "}\n",
    "\n",
    "# Player class with name and selection\n",
    "class Player:\n",
    "    def __init__(self, player_name):\n",
    "        self.name = player_name.capitalize()\n",
    "        self.selection = ''\n",
    "\n",
    "    def ask_selection(self):\n",
    "        while True:\n",
    "            prompt = self.name + 'Please choose \\'rock\\', \\'paper\\', or \\'scissors\\':\\n'\n",
    "            self.selection = str(input(prompt)).lower()\n",
    "            if self.selection in rules:\n",
    "                break\n",
    "\n",
    "def play_round(players):\n",
    "    for p in players:\n",
    "        p.ask_selection()\n",
    "    \n",
    "    for i in range(len(players)):\n",
    "        winner_index = -1\n",
    "        compare = i + 1\n",
    "        if i == len(players) - 1: compare = 0\n",
    "\n",
    "        if rules[players[i].selection] == players[compare].selection:\n",
    "            winner_index = i\n",
    "    \n",
    "    if winner_index == -1:\n",
    "        print('Nobody won. It was a tie. Both chose {}'.format(players[0].selection))\n",
    "    else:\n",
    "        winner = players[winner_index].name\n",
    "        winning_selection = players[winner_index].selection\n",
    "        losing_selection = rules[winning_selection]\n",
    "        print('The winner is {}, beating {} with {}'.format(winner, losing_selection, winning_selection))\n",
    "\n",
    "players = []\n",
    "for i in range(2):\n",
    "    player_name = input('Please type your name')\n",
    "    players.append(Player(player_name))\n",
    "\n",
    "play_round(players)"
   ]
  },
  {
   "cell_type": "markdown",
   "metadata": {
    "colab_type": "text",
    "id": "NYqMK_bx5wCt"
   },
   "source": [
    "#### Question:\n",
    "\n",
    "Longest word - looping, logic, and functions.\n",
    "\n",
    "Create a function called `longest_word` that takes one argument, a list of words, and returns the word and length of the longest word in the list.\n",
    "\n",
    "For example, longest_word(['simple', 'is', 'better', 'than', 'complex']) should return ('complex', 7) because the longest word there is complex, at 7 characters.\n",
    "\n",
    "Your function should not modify the input list.\n"
   ]
  },
  {
   "cell_type": "code",
   "execution_count": 10,
   "metadata": {},
   "outputs": [
    {
     "name": "stdout",
     "output_type": "stream",
     "text": "('antihistemines', 14)\n"
    }
   ],
   "source": [
    "# Answer:\n",
    "\n",
    "def longest_word(word_list):\n",
    "    longest = ''\n",
    "    for word in word_list:\n",
    "        if len(word) > len(longest):\n",
    "            longest = word\n",
    "    \n",
    "    return (longest, len(longest))\n",
    "\n",
    "thelist = ['simple', 'is', 'better', 'than', 'complex', 'antihistemines']\n",
    "print(longest_word(thelist))"
   ]
  },
  {
   "cell_type": "markdown",
   "metadata": {
    "colab_type": "text",
    "id": "PtlGRnbh5wC1"
   },
   "source": [
    "### Custom objects "
   ]
  },
  {
   "cell_type": "markdown",
   "metadata": {
    "colab_type": "text",
    "id": "tfqH3UCE5wC3"
   },
   "source": [
    "#### Question:\n",
    "\n",
    "Create a `Person` class.\n",
    "\n",
    "Each person will have the attributes:\n",
    "- name(int)\n",
    "- gender(int)\n",
    "- age (int)\n",
    "\n",
    "Each attribute is provided to `__init__()`\n",
    "\n",
    "Provide a `__repr__()` method to generate a formated string for printing.\n",
    "\n",
    "Create a list with at least 3 people objects.\n",
    "\n",
    "Iterate through the list and print each object."
   ]
  },
  {
   "cell_type": "code",
   "execution_count": 23,
   "metadata": {},
   "outputs": [],
   "source": [
    "# Answer:\n",
    "\n",
    "class Person:\n",
    "    def __init__(self, name:int, gender:int, age:int):\n",
    "        self.name = name\n",
    "        self.gender = gender\n",
    "        self.age = age\n",
    "\n",
    "    def __repr__(self):\n",
    "        return 'Person with  name: {}  gender: {}  age: {}'.format(self.name, self.gender, self.age)"
   ]
  },
  {
   "cell_type": "code",
   "execution_count": 24,
   "metadata": {},
   "outputs": [],
   "source": [
    "people = [\n",
    "    Person(1,1,1),\n",
    "    Person(2,3,2),\n",
    "    Person(5,4,5)\n",
    "]"
   ]
  },
  {
   "cell_type": "code",
   "execution_count": 25,
   "metadata": {},
   "outputs": [
    {
     "name": "stdout",
     "output_type": "stream",
     "text": "Person with  name: 1  gender: 1  age: 1\nPerson with  name: 2  gender: 3  age: 2\nPerson with  name: 5  gender: 4  age: 5\n"
    }
   ],
   "source": [
    "for p in people:\n",
    "    print(p)"
   ]
  },
  {
   "cell_type": "markdown",
   "metadata": {
    "colab_type": "text",
    "id": "v94YO9ss5wC8"
   },
   "source": [
    "### Importing modules"
   ]
  },
  {
   "cell_type": "markdown",
   "metadata": {
    "colab_type": "text",
    "id": "7Ro0niJw5wC9"
   },
   "source": [
    "#### Question:\n",
    "\n",
    "From the python `random` module import the `seed` and `random` functions. Set `seed()` to `1`, i.e., `seed(1)`.\n",
    "\n",
    "Use the `random` number to generate `10` numbers between `0-100`"
   ]
  },
  {
   "cell_type": "code",
   "execution_count": 26,
   "metadata": {},
   "outputs": [],
   "source": [
    "# Answer:\n",
    "from random import seed\n",
    "from random import random\n",
    "\n",
    "seed(1)"
   ]
  },
  {
   "cell_type": "code",
   "execution_count": 36,
   "metadata": {},
   "outputs": [
    {
     "name": "stdout",
     "output_type": "stream",
     "text": "2\n22\n43\n49\n23\n23\n21\n45\n28\n2\n"
    }
   ],
   "source": [
    "for i in range(10):\n",
    "    print(int(random() * 100))"
   ]
  },
  {
   "cell_type": "markdown",
   "execution_count": null,
   "metadata": {},
   "outputs": [],
   "source": [
    "# All Done Lads!\n",
    "Coby"
   ]
  }
 ],
 "metadata": {
  "colab": {
   "collapsed_sections": [],
   "name": "Practice - Python for data scientists I - programming fundamentals.ipynb",
   "provenance": []
  },
  "kernelspec": {
   "display_name": "Python 3.7.2 64-bit",
   "language": "python",
   "name": "python37264bitd7afea03727a45fea46fb3907f3e48bf"
  },
  "language_info": {
   "codemirror_mode": {
    "name": "ipython",
    "version": 3
   },
   "file_extension": ".py",
   "mimetype": "text/x-python",
   "name": "python",
   "nbconvert_exporter": "python",
   "pygments_lexer": "ipython3",
   "version": "3.7.2-final"
  }
 },
 "nbformat": 4,
 "nbformat_minor": 1
}