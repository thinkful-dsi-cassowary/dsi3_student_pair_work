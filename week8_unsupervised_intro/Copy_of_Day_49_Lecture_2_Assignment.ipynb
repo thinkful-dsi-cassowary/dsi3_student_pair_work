{
  "nbformat": 4,
  "nbformat_minor": 0,
  "metadata": {
    "colab": {
      "name": "Copy of Day 49 Lecture 2 Assignment.ipynb",
      "provenance": [],
      "collapsed_sections": []
    },
    "kernelspec": {
      "display_name": "Python 3",
      "language": "python",
      "name": "python3"
    },
    "language_info": {
      "codemirror_mode": {
        "name": "ipython",
        "version": 3
      },
      "file_extension": ".py",
      "mimetype": "text/x-python",
      "name": "python",
      "nbconvert_exporter": "python",
      "pygments_lexer": "ipython3",
      "version": "3.7.0"
    }
  },
  "cells": [
    {
      "cell_type": "markdown",
      "metadata": {
        "colab_type": "text",
        "id": "xdL0Yz0D1D_q"
      },
      "source": [
        "## Day 49 Lecture 2 Assignment\n",
        "\n",
        "In this assignment, we will apply mean shift clustering to a dataset containing the results of a survey on financial wellbeing."
      ]
    },
    {
      "cell_type": "code",
      "metadata": {
        "colab_type": "code",
        "id": "OulyiH_C1D_r",
        "colab": {}
      },
      "source": [
        "%matplotlib inline\n",
        "\n",
        "import matplotlib.pyplot as plt\n",
        "import numpy as np\n",
        "import pandas as pd\n",
        "from sklearn.cluster import MeanShift\n",
        "from sklearn.preprocessing import StandardScaler\n",
        "from sklearn import datasets, metrics"
      ],
      "execution_count": 0,
      "outputs": []
    },
    {
      "cell_type": "markdown",
      "metadata": {
        "colab_type": "text",
        "id": "ezMvoRlB1D_t"
      },
      "source": [
        "This dataset contains the results of a survey on a financial wellbeing conducted by the US Consumer Finance Protection Bureau that were published in October 2017. This dataset has a large number of columns, most of which correspond to specific questions on the survey. These codebook for translating the column names to questions can be found here:\n",
        "\n",
        "https://s3.amazonaws.com/files.consumerfinance.gov/f/documents/cfpb_nfwbs-puf-codebook.pdf\n",
        "\n",
        "Load the dataset."
      ]
    },
    {
      "cell_type": "code",
      "metadata": {
        "colab_type": "code",
        "id": "wP1U4eQ91D_u",
        "colab": {}
      },
      "source": [
        "# answer goes here\n",
        "\n",
        "finance= pd.read_csv('https://tf-assets-prod.s3.amazonaws.com/tf-curric/data-science/Data%20Sets%20Clustering/financial_wellbeing.csv')\n",
        "\n"
      ],
      "execution_count": 0,
      "outputs": []
    },
    {
      "cell_type": "code",
      "metadata": {
        "id": "cHPRjeZk3A6z",
        "colab_type": "code",
        "colab": {
          "base_uri": "https://localhost:8080/",
          "height": 253
        },
        "outputId": "c1d38b7c-1ff5-47a9-c896-1d951649186f"
      },
      "source": [
        "finance.head()"
      ],
      "execution_count": 3,
      "outputs": [
        {
          "output_type": "execute_result",
          "data": {
            "text/html": [
              "<div>\n",
              "<style scoped>\n",
              "    .dataframe tbody tr th:only-of-type {\n",
              "        vertical-align: middle;\n",
              "    }\n",
              "\n",
              "    .dataframe tbody tr th {\n",
              "        vertical-align: top;\n",
              "    }\n",
              "\n",
              "    .dataframe thead th {\n",
              "        text-align: right;\n",
              "    }\n",
              "</style>\n",
              "<table border=\"1\" class=\"dataframe\">\n",
              "  <thead>\n",
              "    <tr style=\"text-align: right;\">\n",
              "      <th></th>\n",
              "      <th>PUF_ID</th>\n",
              "      <th>sample</th>\n",
              "      <th>fpl</th>\n",
              "      <th>SWB_1</th>\n",
              "      <th>SWB_2</th>\n",
              "      <th>SWB_3</th>\n",
              "      <th>FWBscore</th>\n",
              "      <th>FWB1_1</th>\n",
              "      <th>FWB1_2</th>\n",
              "      <th>FWB1_3</th>\n",
              "      <th>FWB1_4</th>\n",
              "      <th>FWB1_5</th>\n",
              "      <th>FWB1_6</th>\n",
              "      <th>FWB2_1</th>\n",
              "      <th>FWB2_2</th>\n",
              "      <th>FWB2_3</th>\n",
              "      <th>FWB2_4</th>\n",
              "      <th>FSscore</th>\n",
              "      <th>FS1_1</th>\n",
              "      <th>FS1_2</th>\n",
              "      <th>FS1_3</th>\n",
              "      <th>FS1_4</th>\n",
              "      <th>FS1_5</th>\n",
              "      <th>FS1_6</th>\n",
              "      <th>FS1_7</th>\n",
              "      <th>FS2_1</th>\n",
              "      <th>FS2_2</th>\n",
              "      <th>FS2_3</th>\n",
              "      <th>SUBKNOWL1</th>\n",
              "      <th>ACT1_1</th>\n",
              "      <th>ACT1_2</th>\n",
              "      <th>FINGOALS</th>\n",
              "      <th>PROPPLAN_1</th>\n",
              "      <th>PROPPLAN_2</th>\n",
              "      <th>PROPPLAN_3</th>\n",
              "      <th>PROPPLAN_4</th>\n",
              "      <th>MANAGE1_1</th>\n",
              "      <th>MANAGE1_2</th>\n",
              "      <th>MANAGE1_3</th>\n",
              "      <th>MANAGE1_4</th>\n",
              "      <th>...</th>\n",
              "      <th>SOCSEC2</th>\n",
              "      <th>SOCSEC3</th>\n",
              "      <th>LIFEEXPECT</th>\n",
              "      <th>HHEDUC</th>\n",
              "      <th>KIDS_NoChildren</th>\n",
              "      <th>KIDS_1</th>\n",
              "      <th>KIDS_2</th>\n",
              "      <th>KIDS_3</th>\n",
              "      <th>KIDS_4</th>\n",
              "      <th>EMPLOY</th>\n",
              "      <th>EMPLOY1_1</th>\n",
              "      <th>EMPLOY1_2</th>\n",
              "      <th>EMPLOY1_3</th>\n",
              "      <th>EMPLOY1_4</th>\n",
              "      <th>EMPLOY1_5</th>\n",
              "      <th>EMPLOY1_6</th>\n",
              "      <th>EMPLOY1_7</th>\n",
              "      <th>EMPLOY1_8</th>\n",
              "      <th>EMPLOY1_9</th>\n",
              "      <th>RETIRE</th>\n",
              "      <th>MILITARY</th>\n",
              "      <th>Military_Status</th>\n",
              "      <th>agecat</th>\n",
              "      <th>generation</th>\n",
              "      <th>PPEDUC</th>\n",
              "      <th>PPETHM</th>\n",
              "      <th>PPGENDER</th>\n",
              "      <th>PPHHSIZE</th>\n",
              "      <th>PPINCIMP</th>\n",
              "      <th>PPMARIT</th>\n",
              "      <th>PPMSACAT</th>\n",
              "      <th>PPREG4</th>\n",
              "      <th>PPREG9</th>\n",
              "      <th>PPT01</th>\n",
              "      <th>PPT25</th>\n",
              "      <th>PPT612</th>\n",
              "      <th>PPT1317</th>\n",
              "      <th>PPT18OV</th>\n",
              "      <th>PCTLT200FPL</th>\n",
              "      <th>finalwt</th>\n",
              "    </tr>\n",
              "  </thead>\n",
              "  <tbody>\n",
              "    <tr>\n",
              "      <th>0</th>\n",
              "      <td>10350</td>\n",
              "      <td>2</td>\n",
              "      <td>3</td>\n",
              "      <td>5</td>\n",
              "      <td>5</td>\n",
              "      <td>6</td>\n",
              "      <td>55</td>\n",
              "      <td>3</td>\n",
              "      <td>3</td>\n",
              "      <td>3</td>\n",
              "      <td>3</td>\n",
              "      <td>2</td>\n",
              "      <td>3</td>\n",
              "      <td>2</td>\n",
              "      <td>3</td>\n",
              "      <td>2</td>\n",
              "      <td>4</td>\n",
              "      <td>44</td>\n",
              "      <td>3</td>\n",
              "      <td>3</td>\n",
              "      <td>4</td>\n",
              "      <td>3</td>\n",
              "      <td>3</td>\n",
              "      <td>3</td>\n",
              "      <td>4</td>\n",
              "      <td>4</td>\n",
              "      <td>3</td>\n",
              "      <td>4</td>\n",
              "      <td>5</td>\n",
              "      <td>4</td>\n",
              "      <td>3</td>\n",
              "      <td>1</td>\n",
              "      <td>5</td>\n",
              "      <td>4</td>\n",
              "      <td>4</td>\n",
              "      <td>3</td>\n",
              "      <td>4</td>\n",
              "      <td>4</td>\n",
              "      <td>2</td>\n",
              "      <td>4</td>\n",
              "      <td>...</td>\n",
              "      <td>62</td>\n",
              "      <td>-2</td>\n",
              "      <td>-2</td>\n",
              "      <td>4</td>\n",
              "      <td>-1</td>\n",
              "      <td>0</td>\n",
              "      <td>0</td>\n",
              "      <td>0</td>\n",
              "      <td>0</td>\n",
              "      <td>8</td>\n",
              "      <td>0</td>\n",
              "      <td>0</td>\n",
              "      <td>0</td>\n",
              "      <td>0</td>\n",
              "      <td>0</td>\n",
              "      <td>0</td>\n",
              "      <td>0</td>\n",
              "      <td>1</td>\n",
              "      <td>0</td>\n",
              "      <td>1</td>\n",
              "      <td>0</td>\n",
              "      <td>5</td>\n",
              "      <td>8</td>\n",
              "      <td>1</td>\n",
              "      <td>4</td>\n",
              "      <td>1</td>\n",
              "      <td>1</td>\n",
              "      <td>1</td>\n",
              "      <td>7</td>\n",
              "      <td>3</td>\n",
              "      <td>1</td>\n",
              "      <td>4</td>\n",
              "      <td>8</td>\n",
              "      <td>0</td>\n",
              "      <td>0</td>\n",
              "      <td>0</td>\n",
              "      <td>0</td>\n",
              "      <td>1</td>\n",
              "      <td>0</td>\n",
              "      <td>0.367292</td>\n",
              "    </tr>\n",
              "    <tr>\n",
              "      <th>1</th>\n",
              "      <td>7740</td>\n",
              "      <td>1</td>\n",
              "      <td>3</td>\n",
              "      <td>6</td>\n",
              "      <td>6</td>\n",
              "      <td>6</td>\n",
              "      <td>51</td>\n",
              "      <td>2</td>\n",
              "      <td>2</td>\n",
              "      <td>3</td>\n",
              "      <td>3</td>\n",
              "      <td>3</td>\n",
              "      <td>4</td>\n",
              "      <td>2</td>\n",
              "      <td>2</td>\n",
              "      <td>2</td>\n",
              "      <td>3</td>\n",
              "      <td>43</td>\n",
              "      <td>3</td>\n",
              "      <td>3</td>\n",
              "      <td>3</td>\n",
              "      <td>3</td>\n",
              "      <td>4</td>\n",
              "      <td>3</td>\n",
              "      <td>2</td>\n",
              "      <td>4</td>\n",
              "      <td>3</td>\n",
              "      <td>2</td>\n",
              "      <td>5</td>\n",
              "      <td>4</td>\n",
              "      <td>3</td>\n",
              "      <td>0</td>\n",
              "      <td>3</td>\n",
              "      <td>2</td>\n",
              "      <td>2</td>\n",
              "      <td>1</td>\n",
              "      <td>4</td>\n",
              "      <td>4</td>\n",
              "      <td>1</td>\n",
              "      <td>4</td>\n",
              "      <td>...</td>\n",
              "      <td>-2</td>\n",
              "      <td>66</td>\n",
              "      <td>90</td>\n",
              "      <td>2</td>\n",
              "      <td>1</td>\n",
              "      <td>0</td>\n",
              "      <td>0</td>\n",
              "      <td>0</td>\n",
              "      <td>0</td>\n",
              "      <td>2</td>\n",
              "      <td>0</td>\n",
              "      <td>1</td>\n",
              "      <td>0</td>\n",
              "      <td>0</td>\n",
              "      <td>0</td>\n",
              "      <td>0</td>\n",
              "      <td>0</td>\n",
              "      <td>0</td>\n",
              "      <td>0</td>\n",
              "      <td>-2</td>\n",
              "      <td>0</td>\n",
              "      <td>5</td>\n",
              "      <td>3</td>\n",
              "      <td>3</td>\n",
              "      <td>2</td>\n",
              "      <td>1</td>\n",
              "      <td>1</td>\n",
              "      <td>2</td>\n",
              "      <td>6</td>\n",
              "      <td>3</td>\n",
              "      <td>1</td>\n",
              "      <td>2</td>\n",
              "      <td>3</td>\n",
              "      <td>0</td>\n",
              "      <td>0</td>\n",
              "      <td>0</td>\n",
              "      <td>0</td>\n",
              "      <td>2</td>\n",
              "      <td>0</td>\n",
              "      <td>1.327561</td>\n",
              "    </tr>\n",
              "    <tr>\n",
              "      <th>2</th>\n",
              "      <td>13699</td>\n",
              "      <td>1</td>\n",
              "      <td>3</td>\n",
              "      <td>4</td>\n",
              "      <td>3</td>\n",
              "      <td>4</td>\n",
              "      <td>49</td>\n",
              "      <td>3</td>\n",
              "      <td>3</td>\n",
              "      <td>3</td>\n",
              "      <td>3</td>\n",
              "      <td>3</td>\n",
              "      <td>3</td>\n",
              "      <td>3</td>\n",
              "      <td>3</td>\n",
              "      <td>3</td>\n",
              "      <td>3</td>\n",
              "      <td>42</td>\n",
              "      <td>3</td>\n",
              "      <td>3</td>\n",
              "      <td>3</td>\n",
              "      <td>3</td>\n",
              "      <td>3</td>\n",
              "      <td>3</td>\n",
              "      <td>3</td>\n",
              "      <td>3</td>\n",
              "      <td>3</td>\n",
              "      <td>3</td>\n",
              "      <td>5</td>\n",
              "      <td>3</td>\n",
              "      <td>3</td>\n",
              "      <td>1</td>\n",
              "      <td>4</td>\n",
              "      <td>4</td>\n",
              "      <td>4</td>\n",
              "      <td>4</td>\n",
              "      <td>3</td>\n",
              "      <td>3</td>\n",
              "      <td>3</td>\n",
              "      <td>3</td>\n",
              "      <td>...</td>\n",
              "      <td>-2</td>\n",
              "      <td>68</td>\n",
              "      <td>78</td>\n",
              "      <td>3</td>\n",
              "      <td>0</td>\n",
              "      <td>0</td>\n",
              "      <td>0</td>\n",
              "      <td>0</td>\n",
              "      <td>1</td>\n",
              "      <td>2</td>\n",
              "      <td>0</td>\n",
              "      <td>1</td>\n",
              "      <td>0</td>\n",
              "      <td>0</td>\n",
              "      <td>0</td>\n",
              "      <td>0</td>\n",
              "      <td>0</td>\n",
              "      <td>0</td>\n",
              "      <td>0</td>\n",
              "      <td>-2</td>\n",
              "      <td>0</td>\n",
              "      <td>5</td>\n",
              "      <td>3</td>\n",
              "      <td>3</td>\n",
              "      <td>3</td>\n",
              "      <td>2</td>\n",
              "      <td>1</td>\n",
              "      <td>3</td>\n",
              "      <td>6</td>\n",
              "      <td>3</td>\n",
              "      <td>1</td>\n",
              "      <td>4</td>\n",
              "      <td>9</td>\n",
              "      <td>0</td>\n",
              "      <td>0</td>\n",
              "      <td>0</td>\n",
              "      <td>1</td>\n",
              "      <td>2</td>\n",
              "      <td>1</td>\n",
              "      <td>0.835156</td>\n",
              "    </tr>\n",
              "    <tr>\n",
              "      <th>3</th>\n",
              "      <td>7267</td>\n",
              "      <td>1</td>\n",
              "      <td>3</td>\n",
              "      <td>6</td>\n",
              "      <td>6</td>\n",
              "      <td>6</td>\n",
              "      <td>49</td>\n",
              "      <td>3</td>\n",
              "      <td>3</td>\n",
              "      <td>3</td>\n",
              "      <td>3</td>\n",
              "      <td>3</td>\n",
              "      <td>3</td>\n",
              "      <td>3</td>\n",
              "      <td>3</td>\n",
              "      <td>3</td>\n",
              "      <td>3</td>\n",
              "      <td>42</td>\n",
              "      <td>3</td>\n",
              "      <td>3</td>\n",
              "      <td>3</td>\n",
              "      <td>3</td>\n",
              "      <td>3</td>\n",
              "      <td>3</td>\n",
              "      <td>3</td>\n",
              "      <td>3</td>\n",
              "      <td>3</td>\n",
              "      <td>3</td>\n",
              "      <td>-1</td>\n",
              "      <td>-1</td>\n",
              "      <td>-1</td>\n",
              "      <td>-1</td>\n",
              "      <td>3</td>\n",
              "      <td>3</td>\n",
              "      <td>3</td>\n",
              "      <td>3</td>\n",
              "      <td>4</td>\n",
              "      <td>4</td>\n",
              "      <td>2</td>\n",
              "      <td>4</td>\n",
              "      <td>...</td>\n",
              "      <td>-2</td>\n",
              "      <td>-1</td>\n",
              "      <td>-1</td>\n",
              "      <td>-1</td>\n",
              "      <td>-1</td>\n",
              "      <td>0</td>\n",
              "      <td>0</td>\n",
              "      <td>0</td>\n",
              "      <td>0</td>\n",
              "      <td>99</td>\n",
              "      <td>0</td>\n",
              "      <td>0</td>\n",
              "      <td>0</td>\n",
              "      <td>0</td>\n",
              "      <td>0</td>\n",
              "      <td>0</td>\n",
              "      <td>0</td>\n",
              "      <td>0</td>\n",
              "      <td>1</td>\n",
              "      <td>-2</td>\n",
              "      <td>-1</td>\n",
              "      <td>-1</td>\n",
              "      <td>3</td>\n",
              "      <td>3</td>\n",
              "      <td>2</td>\n",
              "      <td>1</td>\n",
              "      <td>1</td>\n",
              "      <td>1</td>\n",
              "      <td>8</td>\n",
              "      <td>3</td>\n",
              "      <td>1</td>\n",
              "      <td>3</td>\n",
              "      <td>7</td>\n",
              "      <td>0</td>\n",
              "      <td>0</td>\n",
              "      <td>0</td>\n",
              "      <td>0</td>\n",
              "      <td>1</td>\n",
              "      <td>0</td>\n",
              "      <td>1.410871</td>\n",
              "    </tr>\n",
              "    <tr>\n",
              "      <th>4</th>\n",
              "      <td>7375</td>\n",
              "      <td>1</td>\n",
              "      <td>3</td>\n",
              "      <td>4</td>\n",
              "      <td>4</td>\n",
              "      <td>4</td>\n",
              "      <td>49</td>\n",
              "      <td>3</td>\n",
              "      <td>3</td>\n",
              "      <td>3</td>\n",
              "      <td>3</td>\n",
              "      <td>3</td>\n",
              "      <td>3</td>\n",
              "      <td>3</td>\n",
              "      <td>3</td>\n",
              "      <td>3</td>\n",
              "      <td>3</td>\n",
              "      <td>42</td>\n",
              "      <td>3</td>\n",
              "      <td>3</td>\n",
              "      <td>3</td>\n",
              "      <td>3</td>\n",
              "      <td>3</td>\n",
              "      <td>3</td>\n",
              "      <td>3</td>\n",
              "      <td>3</td>\n",
              "      <td>3</td>\n",
              "      <td>3</td>\n",
              "      <td>4</td>\n",
              "      <td>3</td>\n",
              "      <td>3</td>\n",
              "      <td>1</td>\n",
              "      <td>3</td>\n",
              "      <td>3</td>\n",
              "      <td>3</td>\n",
              "      <td>3</td>\n",
              "      <td>3</td>\n",
              "      <td>3</td>\n",
              "      <td>3</td>\n",
              "      <td>3</td>\n",
              "      <td>...</td>\n",
              "      <td>-2</td>\n",
              "      <td>65</td>\n",
              "      <td>75</td>\n",
              "      <td>2</td>\n",
              "      <td>1</td>\n",
              "      <td>0</td>\n",
              "      <td>0</td>\n",
              "      <td>0</td>\n",
              "      <td>0</td>\n",
              "      <td>2</td>\n",
              "      <td>0</td>\n",
              "      <td>1</td>\n",
              "      <td>0</td>\n",
              "      <td>1</td>\n",
              "      <td>0</td>\n",
              "      <td>0</td>\n",
              "      <td>0</td>\n",
              "      <td>0</td>\n",
              "      <td>0</td>\n",
              "      <td>-2</td>\n",
              "      <td>0</td>\n",
              "      <td>5</td>\n",
              "      <td>2</td>\n",
              "      <td>4</td>\n",
              "      <td>2</td>\n",
              "      <td>3</td>\n",
              "      <td>1</td>\n",
              "      <td>5</td>\n",
              "      <td>7</td>\n",
              "      <td>1</td>\n",
              "      <td>1</td>\n",
              "      <td>2</td>\n",
              "      <td>4</td>\n",
              "      <td>0</td>\n",
              "      <td>0</td>\n",
              "      <td>1</td>\n",
              "      <td>0</td>\n",
              "      <td>4</td>\n",
              "      <td>1</td>\n",
              "      <td>4.260668</td>\n",
              "    </tr>\n",
              "  </tbody>\n",
              "</table>\n",
              "<p>5 rows × 217 columns</p>\n",
              "</div>"
            ],
            "text/plain": [
              "   PUF_ID  sample  fpl  SWB_1  ...  PPT1317  PPT18OV  PCTLT200FPL   finalwt\n",
              "0   10350       2    3      5  ...        0        1            0  0.367292\n",
              "1    7740       1    3      6  ...        0        2            0  1.327561\n",
              "2   13699       1    3      4  ...        1        2            1  0.835156\n",
              "3    7267       1    3      6  ...        0        1            0  1.410871\n",
              "4    7375       1    3      4  ...        0        4            1  4.260668\n",
              "\n",
              "[5 rows x 217 columns]"
            ]
          },
          "metadata": {
            "tags": []
          },
          "execution_count": 3
        }
      ]
    },
    {
      "cell_type": "markdown",
      "metadata": {
        "colab_type": "text",
        "id": "o_K1eQ0x1D_y"
      },
      "source": [
        "While the survey questions have the potential for interesting cluster analysis, we will stick to the \"score\" columns to avoid clustering in an unreasonably high-dimensional space. The columns we are interested in all have \"score\" in their names; identify and isolate these columns. (There should be 4 in total.)"
      ]
    },
    {
      "cell_type": "code",
      "metadata": {
        "colab_type": "code",
        "id": "xfYVreyw1D_y",
        "colab": {
          "base_uri": "https://localhost:8080/",
          "height": 170
        },
        "outputId": "6684881a-a322-45a6-ce87-8ab5c21c390a"
      },
      "source": [
        "# answer goes here\n",
        "\n",
        "\n",
        "X= finance.filter(regex='score')\n",
        "X.info()\n"
      ],
      "execution_count": 6,
      "outputs": [
        {
          "output_type": "stream",
          "text": [
            "<class 'pandas.core.frame.DataFrame'>\n",
            "RangeIndex: 6394 entries, 0 to 6393\n",
            "Data columns (total 4 columns):\n",
            "FWBscore    6394 non-null int64\n",
            "FSscore     6394 non-null int64\n",
            "LMscore     6394 non-null int64\n",
            "KHscore     6394 non-null float64\n",
            "dtypes: float64(1), int64(3)\n",
            "memory usage: 199.9 KB\n"
          ],
          "name": "stdout"
        }
      ]
    },
    {
      "cell_type": "code",
      "metadata": {
        "id": "NcifmT77AvJ5",
        "colab_type": "code",
        "colab": {
          "base_uri": "https://localhost:8080/",
          "height": 297
        },
        "outputId": "70696135-2282-420e-e42f-09197da96521"
      },
      "source": [
        "X.describe()"
      ],
      "execution_count": 45,
      "outputs": [
        {
          "output_type": "execute_result",
          "data": {
            "text/html": [
              "<div>\n",
              "<style scoped>\n",
              "    .dataframe tbody tr th:only-of-type {\n",
              "        vertical-align: middle;\n",
              "    }\n",
              "\n",
              "    .dataframe tbody tr th {\n",
              "        vertical-align: top;\n",
              "    }\n",
              "\n",
              "    .dataframe thead th {\n",
              "        text-align: right;\n",
              "    }\n",
              "</style>\n",
              "<table border=\"1\" class=\"dataframe\">\n",
              "  <thead>\n",
              "    <tr style=\"text-align: right;\">\n",
              "      <th></th>\n",
              "      <th>FWBscore</th>\n",
              "      <th>FSscore</th>\n",
              "      <th>LMscore</th>\n",
              "      <th>KHscore</th>\n",
              "    </tr>\n",
              "  </thead>\n",
              "  <tbody>\n",
              "    <tr>\n",
              "      <th>count</th>\n",
              "      <td>6394.000000</td>\n",
              "      <td>6394.000000</td>\n",
              "      <td>6394.000000</td>\n",
              "      <td>6394.000000</td>\n",
              "    </tr>\n",
              "    <tr>\n",
              "      <th>mean</th>\n",
              "      <td>56.034094</td>\n",
              "      <td>50.719112</td>\n",
              "      <td>2.506256</td>\n",
              "      <td>-0.056935</td>\n",
              "    </tr>\n",
              "    <tr>\n",
              "      <th>std</th>\n",
              "      <td>14.154676</td>\n",
              "      <td>12.656921</td>\n",
              "      <td>0.755215</td>\n",
              "      <td>0.814936</td>\n",
              "    </tr>\n",
              "    <tr>\n",
              "      <th>min</th>\n",
              "      <td>-4.000000</td>\n",
              "      <td>-1.000000</td>\n",
              "      <td>0.000000</td>\n",
              "      <td>-2.053000</td>\n",
              "    </tr>\n",
              "    <tr>\n",
              "      <th>25%</th>\n",
              "      <td>48.000000</td>\n",
              "      <td>42.000000</td>\n",
              "      <td>2.000000</td>\n",
              "      <td>-0.570000</td>\n",
              "    </tr>\n",
              "    <tr>\n",
              "      <th>50%</th>\n",
              "      <td>56.000000</td>\n",
              "      <td>50.000000</td>\n",
              "      <td>3.000000</td>\n",
              "      <td>-0.188000</td>\n",
              "    </tr>\n",
              "    <tr>\n",
              "      <th>75%</th>\n",
              "      <td>65.000000</td>\n",
              "      <td>57.000000</td>\n",
              "      <td>3.000000</td>\n",
              "      <td>0.712000</td>\n",
              "    </tr>\n",
              "    <tr>\n",
              "      <th>max</th>\n",
              "      <td>95.000000</td>\n",
              "      <td>85.000000</td>\n",
              "      <td>3.000000</td>\n",
              "      <td>1.267000</td>\n",
              "    </tr>\n",
              "  </tbody>\n",
              "</table>\n",
              "</div>"
            ],
            "text/plain": [
              "          FWBscore      FSscore      LMscore      KHscore\n",
              "count  6394.000000  6394.000000  6394.000000  6394.000000\n",
              "mean     56.034094    50.719112     2.506256    -0.056935\n",
              "std      14.154676    12.656921     0.755215     0.814936\n",
              "min      -4.000000    -1.000000     0.000000    -2.053000\n",
              "25%      48.000000    42.000000     2.000000    -0.570000\n",
              "50%      56.000000    50.000000     3.000000    -0.188000\n",
              "75%      65.000000    57.000000     3.000000     0.712000\n",
              "max      95.000000    85.000000     3.000000     1.267000"
            ]
          },
          "metadata": {
            "tags": []
          },
          "execution_count": 45
        }
      ]
    },
    {
      "cell_type": "markdown",
      "metadata": {
        "colab_type": "text",
        "id": "MUjcLMMk1D_2"
      },
      "source": [
        "Standardize the features in your dataset using scikit-learn's StandardScaler, which will set the mean of each feature to 0 and the variance to 1."
      ]
    },
    {
      "cell_type": "code",
      "metadata": {
        "colab_type": "code",
        "id": "6OTdN8oF1D_2",
        "colab": {}
      },
      "source": [
        "# answer goes here\n",
        "\n",
        "scaler = StandardScaler()\n",
        "X_std = scaler.fit_transform(X)\n",
        "\n"
      ],
      "execution_count": 0,
      "outputs": []
    },
    {
      "cell_type": "markdown",
      "metadata": {
        "colab_type": "text",
        "id": "ao3Y5FVp1D_4"
      },
      "source": [
        "Run mean shift clustering on the scores in the survey dataset using the default bandwidth. Then answer the following by printing or typing as appropriate:\n",
        "\n",
        "- How many clusters are produced? \n",
        "- What are the cluster centers?\n",
        "- How many responses are assigned to each cluster?\n",
        "- Are these results reasonable? If not, what changes should we make?"
      ]
    },
    {
      "cell_type": "code",
      "metadata": {
        "colab_type": "code",
        "id": "sUhMxZdL1D_4",
        "colab": {
          "base_uri": "https://localhost:8080/",
          "height": 51
        },
        "outputId": "db7d3a4c-c5a7-450d-b996-a4eee1213514"
      },
      "source": [
        "# answer goes here\n",
        "\n",
        "mean_shift= MeanShift()\n",
        "mean_shift.fit(X_std)\n",
        "\n"
      ],
      "execution_count": 39,
      "outputs": [
        {
          "output_type": "execute_result",
          "data": {
            "text/plain": [
              "MeanShift(bandwidth=None, bin_seeding=False, cluster_all=True, max_iter=300,\n",
              "          min_bin_freq=1, n_jobs=None, seeds=None)"
            ]
          },
          "metadata": {
            "tags": []
          },
          "execution_count": 39
        }
      ]
    },
    {
      "cell_type": "code",
      "metadata": {
        "id": "iTXXHT_Q_S-h",
        "colab_type": "code",
        "colab": {
          "base_uri": "https://localhost:8080/",
          "height": 51
        },
        "outputId": "d7afde59-611f-4d51-aea0-a27ee6f1442a"
      },
      "source": [
        "mean_shift.get_params"
      ],
      "execution_count": 40,
      "outputs": [
        {
          "output_type": "execute_result",
          "data": {
            "text/plain": [
              "<bound method BaseEstimator.get_params of MeanShift(bandwidth=None, bin_seeding=False, cluster_all=True, max_iter=300,\n",
              "          min_bin_freq=1, n_jobs=None, seeds=None)>"
            ]
          },
          "metadata": {
            "tags": []
          },
          "execution_count": 40
        }
      ]
    },
    {
      "cell_type": "code",
      "metadata": {
        "id": "gnZ9HUdyALJX",
        "colab_type": "code",
        "colab": {
          "base_uri": "https://localhost:8080/",
          "height": 68
        },
        "outputId": "15c265a6-731b-4e5a-f7f2-2ea2153adea9"
      },
      "source": [
        "print(pd.DataFrame(scaler.inverse_transform(mean_shift.cluster_centers_), columns=X.columns))"
      ],
      "execution_count": 43,
      "outputs": [
        {
          "output_type": "stream",
          "text": [
            "    FWBscore    FSscore   LMscore   KHscore\n",
            "0  57.437953  50.121439  2.814341  0.217414\n",
            "1  -1.000000  -1.000000  0.250000 -1.826000\n"
          ],
          "name": "stdout"
        }
      ]
    },
    {
      "cell_type": "code",
      "metadata": {
        "id": "D2nxtIbP4rRQ",
        "colab_type": "code",
        "colab": {
          "base_uri": "https://localhost:8080/",
          "height": 111
        },
        "outputId": "13976a19-e865-4036-d73b-ba59d6dd454d"
      },
      "source": [
        "mean_clusters= pd.DataFrame(mean_shift.cluster_centers_, columns= X.columns)\n",
        "mean_clusters"
      ],
      "execution_count": 41,
      "outputs": [
        {
          "output_type": "execute_result",
          "data": {
            "text/html": [
              "<div>\n",
              "<style scoped>\n",
              "    .dataframe tbody tr th:only-of-type {\n",
              "        vertical-align: middle;\n",
              "    }\n",
              "\n",
              "    .dataframe tbody tr th {\n",
              "        vertical-align: top;\n",
              "    }\n",
              "\n",
              "    .dataframe thead th {\n",
              "        text-align: right;\n",
              "    }\n",
              "</style>\n",
              "<table border=\"1\" class=\"dataframe\">\n",
              "  <thead>\n",
              "    <tr style=\"text-align: right;\">\n",
              "      <th></th>\n",
              "      <th>FWBscore</th>\n",
              "      <th>FSscore</th>\n",
              "      <th>LMscore</th>\n",
              "      <th>KHscore</th>\n",
              "    </tr>\n",
              "  </thead>\n",
              "  <tbody>\n",
              "    <tr>\n",
              "      <th>0</th>\n",
              "      <td>0.099188</td>\n",
              "      <td>-0.047225</td>\n",
              "      <td>0.407975</td>\n",
              "      <td>0.336678</td>\n",
              "    </tr>\n",
              "    <tr>\n",
              "      <th>1</th>\n",
              "      <td>-4.029662</td>\n",
              "      <td>-4.086551</td>\n",
              "      <td>-2.987800</td>\n",
              "      <td>-2.170973</td>\n",
              "    </tr>\n",
              "  </tbody>\n",
              "</table>\n",
              "</div>"
            ],
            "text/plain": [
              "   FWBscore   FSscore   LMscore   KHscore\n",
              "0  0.099188 -0.047225  0.407975  0.336678\n",
              "1 -4.029662 -4.086551 -2.987800 -2.170973"
            ]
          },
          "metadata": {
            "tags": []
          },
          "execution_count": 41
        }
      ]
    },
    {
      "cell_type": "code",
      "metadata": {
        "id": "xm8QJCY55tah",
        "colab_type": "code",
        "colab": {
          "base_uri": "https://localhost:8080/",
          "height": 255
        },
        "outputId": "c9a50967-6534-45d4-9c47-1a4a4cf2a65b"
      },
      "source": [
        "print('The number of cluster produced is:', len(mean_shift.cluster_centers_))\n",
        "print('The cluster scaled centers are \\n{}'.format(mean_clusters))\n",
        "print('The cluster unscaled centers are \\n{}'.format(pd.DataFrame(scaler.inverse_transform(mean_shift.cluster_centers_), columns=X.columns)))\n",
        "print('The number of responses assigned to each cluster are: \\n{}'.format(pd.Series(mean_shift.labels_).value_counts()))\n",
        "print('The results are not reasonable. A possible solution is to adjust the bandwith.')"
      ],
      "execution_count": 62,
      "outputs": [
        {
          "output_type": "stream",
          "text": [
            "The number of cluster produced is: 2\n",
            "The cluster scaled centers are \n",
            "   FWBscore   FSscore   LMscore   KHscore\n",
            "0  0.099188 -0.047225  0.407975  0.336678\n",
            "1 -4.029662 -4.086551 -2.987800 -2.170973\n",
            "The cluster unscaled centers are \n",
            "    FWBscore    FSscore   LMscore   KHscore\n",
            "0  57.437953  50.121439  2.814341  0.217414\n",
            "1  -1.000000  -1.000000  0.250000 -1.826000\n",
            "The number of responses assigned to each cluster are: \n",
            "0    6326\n",
            "1      68\n",
            "dtype: int64\n",
            "The results are not reasonable. A possible solution is to adjust the bandwith.\n"
          ],
          "name": "stdout"
        }
      ]
    },
    {
      "cell_type": "code",
      "metadata": {
        "id": "u5l3ijVgC7FD",
        "colab_type": "code",
        "colab": {
          "base_uri": "https://localhost:8080/",
          "height": 34
        },
        "outputId": "e4795d85-1bc3-4e27-d529-fd76706ed3fb"
      },
      "source": [
        "# the silhouette score is \n",
        "labels = MeanShift().fit_predict(X_std)\n",
        "print(metrics.silhouette_score(X_std, labels, metric='euclidean'))"
      ],
      "execution_count": 66,
      "outputs": [
        {
          "output_type": "stream",
          "text": [
            "0.4061338865387727\n"
          ],
          "name": "stdout"
        }
      ]
    },
    {
      "cell_type": "markdown",
      "metadata": {
        "colab_type": "text",
        "id": "y0wBOUWJ1D_6"
      },
      "source": [
        "Try changing the appropriate parameters of the mean shift algorithm to achieve a better clustering result. Answer all of the same questions from the previous clustering step."
      ]
    },
    {
      "cell_type": "code",
      "metadata": {
        "colab_type": "code",
        "id": "AdKYEBx61D_6",
        "colab": {
          "base_uri": "https://localhost:8080/",
          "height": 51
        },
        "outputId": "237728d6-8093-4391-9083-0fcc78a75266"
      },
      "source": [
        "# answer goes here\n",
        "\n",
        "mean_shift_adj= MeanShift(bandwidth=1.6)\n",
        "mean_shift_adj.fit(X_std)\n",
        "\n"
      ],
      "execution_count": 92,
      "outputs": [
        {
          "output_type": "execute_result",
          "data": {
            "text/plain": [
              "MeanShift(bandwidth=1.6, bin_seeding=False, cluster_all=True, max_iter=300,\n",
              "          min_bin_freq=1, n_jobs=None, seeds=None)"
            ]
          },
          "metadata": {
            "tags": []
          },
          "execution_count": 92
        }
      ]
    },
    {
      "cell_type": "code",
      "metadata": {
        "id": "6OIuEJxU9YJI",
        "colab_type": "code",
        "colab": {
          "base_uri": "https://localhost:8080/",
          "height": 235
        },
        "outputId": "b462da49-9bcc-4635-9ae3-ca8bdd6ada9c"
      },
      "source": [
        "mean_clusters_adj= pd.DataFrame(mean_shift_adj.cluster_centers_, columns= X.columns)\n",
        "mean_clusters_adj"
      ],
      "execution_count": 93,
      "outputs": [
        {
          "output_type": "execute_result",
          "data": {
            "text/html": [
              "<div>\n",
              "<style scoped>\n",
              "    .dataframe tbody tr th:only-of-type {\n",
              "        vertical-align: middle;\n",
              "    }\n",
              "\n",
              "    .dataframe tbody tr th {\n",
              "        vertical-align: top;\n",
              "    }\n",
              "\n",
              "    .dataframe thead th {\n",
              "        text-align: right;\n",
              "    }\n",
              "</style>\n",
              "<table border=\"1\" class=\"dataframe\">\n",
              "  <thead>\n",
              "    <tr style=\"text-align: right;\">\n",
              "      <th></th>\n",
              "      <th>FWBscore</th>\n",
              "      <th>FSscore</th>\n",
              "      <th>LMscore</th>\n",
              "      <th>KHscore</th>\n",
              "    </tr>\n",
              "  </thead>\n",
              "  <tbody>\n",
              "    <tr>\n",
              "      <th>0</th>\n",
              "      <td>0.174503</td>\n",
              "      <td>-0.021170</td>\n",
              "      <td>0.534077</td>\n",
              "      <td>0.502707</td>\n",
              "    </tr>\n",
              "    <tr>\n",
              "      <th>1</th>\n",
              "      <td>-0.319867</td>\n",
              "      <td>-0.396715</td>\n",
              "      <td>-0.983611</td>\n",
              "      <td>-0.814066</td>\n",
              "    </tr>\n",
              "    <tr>\n",
              "      <th>2</th>\n",
              "      <td>-0.042782</td>\n",
              "      <td>-3.454437</td>\n",
              "      <td>-3.129681</td>\n",
              "      <td>-2.250390</td>\n",
              "    </tr>\n",
              "    <tr>\n",
              "      <th>3</th>\n",
              "      <td>-4.029662</td>\n",
              "      <td>-4.086551</td>\n",
              "      <td>-2.987800</td>\n",
              "      <td>-2.170973</td>\n",
              "    </tr>\n",
              "    <tr>\n",
              "      <th>4</th>\n",
              "      <td>2.753080</td>\n",
              "      <td>2.708682</td>\n",
              "      <td>-3.318857</td>\n",
              "      <td>-2.449544</td>\n",
              "    </tr>\n",
              "    <tr>\n",
              "      <th>5</th>\n",
              "      <td>1.693276</td>\n",
              "      <td>-3.217394</td>\n",
              "      <td>0.653830</td>\n",
              "      <td>0.943627</td>\n",
              "    </tr>\n",
              "  </tbody>\n",
              "</table>\n",
              "</div>"
            ],
            "text/plain": [
              "   FWBscore   FSscore   LMscore   KHscore\n",
              "0  0.174503 -0.021170  0.534077  0.502707\n",
              "1 -0.319867 -0.396715 -0.983611 -0.814066\n",
              "2 -0.042782 -3.454437 -3.129681 -2.250390\n",
              "3 -4.029662 -4.086551 -2.987800 -2.170973\n",
              "4  2.753080  2.708682 -3.318857 -2.449544\n",
              "5  1.693276 -3.217394  0.653830  0.943627"
            ]
          },
          "metadata": {
            "tags": []
          },
          "execution_count": 93
        }
      ]
    },
    {
      "cell_type": "code",
      "metadata": {
        "id": "nb8JfzdI9dsH",
        "colab_type": "code",
        "colab": {
          "base_uri": "https://localhost:8080/",
          "height": 442
        },
        "outputId": "c98fff2d-f1e9-4e1f-90f9-386c8fb2ef51"
      },
      "source": [
        "print('The number of cluster produced is:', len(mean_shift_adj.cluster_centers_))\n",
        "print('The cluster scaled centers are \\n{}'.format(mean_clusters_adj))\n",
        "print('The cluster unscaled centers are \\n{}'.format(pd.DataFrame(scaler.inverse_transform(mean_shift_adj.cluster_centers_), columns=X.columns)))\n",
        "print('The number of responses assigned to each cluster are: \\n{}'.format(pd.Series(mean_shift_adj.labels_).value_counts()))"
      ],
      "execution_count": 94,
      "outputs": [
        {
          "output_type": "stream",
          "text": [
            "The number of cluster produced is: 6\n",
            "The cluster scaled centers are \n",
            "   FWBscore   FSscore   LMscore   KHscore\n",
            "0  0.174503 -0.021170  0.534077  0.502707\n",
            "1 -0.319867 -0.396715 -0.983611 -0.814066\n",
            "2 -0.042782 -3.454437 -3.129681 -2.250390\n",
            "3 -4.029662 -4.086551 -2.987800 -2.170973\n",
            "4  2.753080  2.708682 -3.318857 -2.449544\n",
            "5  1.693276 -3.217394  0.653830  0.943627\n",
            "The cluster unscaled centers are \n",
            "    FWBscore    FSscore   LMscore   KHscore\n",
            "0  58.503932  50.451180  2.909567  0.352707\n",
            "1  51.506838  45.698311  1.763475 -0.720294\n",
            "2  55.428571   7.000000  0.142857 -1.890714\n",
            "3  -1.000000  -1.000000  0.250000 -1.826000\n",
            "4  95.000000  85.000000  0.000000 -2.053000\n",
            "5  80.000000  10.000000  3.000000  0.712000\n",
            "The number of responses assigned to each cluster are: \n",
            "0    4154\n",
            "1    2137\n",
            "4      48\n",
            "2      28\n",
            "5      16\n",
            "3      11\n",
            "dtype: int64\n"
          ],
          "name": "stdout"
        }
      ]
    },
    {
      "cell_type": "code",
      "metadata": {
        "id": "QXiRaLUABrm_",
        "colab_type": "code",
        "colab": {
          "base_uri": "https://localhost:8080/",
          "height": 34
        },
        "outputId": "fad06403-d86b-4644-b610-274e2669f6ae"
      },
      "source": [
        "# the silhouette score is \n",
        "labels = MeanShift(bandwidth=1.6).fit_predict(X_std)\n",
        "print(metrics.silhouette_score(X_std, labels, metric='euclidean'))"
      ],
      "execution_count": 95,
      "outputs": [
        {
          "output_type": "stream",
          "text": [
            "0.27300608551818184\n"
          ],
          "name": "stdout"
        }
      ]
    },
    {
      "cell_type": "markdown",
      "metadata": {
        "id": "gj3SnkO3GRss",
        "colab_type": "text"
      },
      "source": [
        "Adjusted model round 2"
      ]
    },
    {
      "cell_type": "code",
      "metadata": {
        "id": "ik0VBrwBGDtq",
        "colab_type": "code",
        "colab": {
          "base_uri": "https://localhost:8080/",
          "height": 51
        },
        "outputId": "f2d1b32b-59da-4934-c010-cc94262b6bdf"
      },
      "source": [
        "mean_shift_adj= MeanShift(bandwidth=1.8)\n",
        "mean_shift_adj.fit(X_std)\n"
      ],
      "execution_count": 84,
      "outputs": [
        {
          "output_type": "execute_result",
          "data": {
            "text/plain": [
              "MeanShift(bandwidth=1.8, bin_seeding=False, cluster_all=True, max_iter=300,\n",
              "          min_bin_freq=1, n_jobs=None, seeds=None)"
            ]
          },
          "metadata": {
            "tags": []
          },
          "execution_count": 84
        }
      ]
    },
    {
      "cell_type": "code",
      "metadata": {
        "id": "Nafao83kGGtD",
        "colab_type": "code",
        "colab": {
          "base_uri": "https://localhost:8080/",
          "height": 142
        },
        "outputId": "ee07be22-6cac-4ce8-ddd2-b3591e814509"
      },
      "source": [
        "mean_clusters_adj= pd.DataFrame(mean_shift_adj.cluster_centers_, columns= X.columns)\n",
        "mean_clusters_adj"
      ],
      "execution_count": 85,
      "outputs": [
        {
          "output_type": "execute_result",
          "data": {
            "text/html": [
              "<div>\n",
              "<style scoped>\n",
              "    .dataframe tbody tr th:only-of-type {\n",
              "        vertical-align: middle;\n",
              "    }\n",
              "\n",
              "    .dataframe tbody tr th {\n",
              "        vertical-align: top;\n",
              "    }\n",
              "\n",
              "    .dataframe thead th {\n",
              "        text-align: right;\n",
              "    }\n",
              "</style>\n",
              "<table border=\"1\" class=\"dataframe\">\n",
              "  <thead>\n",
              "    <tr style=\"text-align: right;\">\n",
              "      <th></th>\n",
              "      <th>FWBscore</th>\n",
              "      <th>FSscore</th>\n",
              "      <th>LMscore</th>\n",
              "      <th>KHscore</th>\n",
              "    </tr>\n",
              "  </thead>\n",
              "  <tbody>\n",
              "    <tr>\n",
              "      <th>0</th>\n",
              "      <td>0.128907</td>\n",
              "      <td>-0.052100</td>\n",
              "      <td>0.459315</td>\n",
              "      <td>0.412017</td>\n",
              "    </tr>\n",
              "    <tr>\n",
              "      <th>1</th>\n",
              "      <td>-0.128015</td>\n",
              "      <td>-3.112041</td>\n",
              "      <td>-3.171720</td>\n",
              "      <td>-2.201925</td>\n",
              "    </tr>\n",
              "    <tr>\n",
              "      <th>2</th>\n",
              "      <td>-4.029662</td>\n",
              "      <td>-4.086551</td>\n",
              "      <td>-2.987800</td>\n",
              "      <td>-2.170973</td>\n",
              "    </tr>\n",
              "  </tbody>\n",
              "</table>\n",
              "</div>"
            ],
            "text/plain": [
              "   FWBscore   FSscore   LMscore   KHscore\n",
              "0  0.128907 -0.052100  0.459315  0.412017\n",
              "1 -0.128015 -3.112041 -3.171720 -2.201925\n",
              "2 -4.029662 -4.086551 -2.987800 -2.170973"
            ]
          },
          "metadata": {
            "tags": []
          },
          "execution_count": 85
        }
      ]
    },
    {
      "cell_type": "code",
      "metadata": {
        "id": "oXIZ491YGKKH",
        "colab_type": "code",
        "colab": {
          "base_uri": "https://localhost:8080/",
          "height": 289
        },
        "outputId": "6b804610-f235-4524-fe43-f34332f601da"
      },
      "source": [
        "print('The number of cluster produced is:', len(mean_shift_adj.cluster_centers_))\n",
        "print('The cluster scaled centers are \\n{}'.format(mean_clusters_adj))\n",
        "print('The cluster unscaled centers are \\n{}'.format(pd.DataFrame(scaler.inverse_transform(mean_shift_adj.cluster_centers_), columns=X.columns)))\n",
        "print('The number of responses assigned to each cluster are: \\n{}'.format(pd.Series(mean_shift_adj.labels_).value_counts()))"
      ],
      "execution_count": 86,
      "outputs": [
        {
          "output_type": "stream",
          "text": [
            "The number of cluster produced is: 3\n",
            "The cluster scaled centers are \n",
            "   FWBscore   FSscore   LMscore   KHscore\n",
            "0  0.128907 -0.052100  0.459315  0.412017\n",
            "1 -0.128015 -3.112041 -3.171720 -2.201925\n",
            "2 -4.029662 -4.086551 -2.987800 -2.170973\n",
            "The cluster unscaled centers are \n",
            "    FWBscore    FSscore   LMscore   KHscore\n",
            "0  57.858591  50.059742  2.853110  0.278806\n",
            "1  54.222222  11.333333  0.111111 -1.851222\n",
            "2  -1.000000  -1.000000  0.250000 -1.826000\n",
            "The number of responses assigned to each cluster are: \n",
            "0    5972\n",
            "1     405\n",
            "2      17\n",
            "dtype: int64\n"
          ],
          "name": "stdout"
        }
      ]
    },
    {
      "cell_type": "code",
      "metadata": {
        "id": "WRHpxaQ7GM7f",
        "colab_type": "code",
        "colab": {
          "base_uri": "https://localhost:8080/",
          "height": 34
        },
        "outputId": "fcf4fcbb-27a2-4699-f315-713290b48a72"
      },
      "source": [
        "# the silhouette score is \n",
        "labels = MeanShift(bandwidth=1.8).fit_predict(X_std)\n",
        "print(metrics.silhouette_score(X_std, labels, metric='euclidean'))"
      ],
      "execution_count": 87,
      "outputs": [
        {
          "output_type": "stream",
          "text": [
            "0.329682272456272\n"
          ],
          "name": "stdout"
        }
      ]
    }
  ]
}