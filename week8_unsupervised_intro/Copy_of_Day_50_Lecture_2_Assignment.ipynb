{
  "nbformat": 4,
  "nbformat_minor": 0,
  "metadata": {
    "colab": {
      "name": "Copy of Day 50 Lecture 2 Assignment.ipynb",
      "provenance": [],
      "collapsed_sections": []
    },
    "kernelspec": {
      "display_name": "Python 3",
      "language": "python",
      "name": "python3"
    },
    "language_info": {
      "codemirror_mode": {
        "name": "ipython",
        "version": 3
      },
      "file_extension": ".py",
      "mimetype": "text/x-python",
      "name": "python",
      "nbconvert_exporter": "python",
      "pygments_lexer": "ipython3",
      "version": "3.7.0"
    }
  },
  "cells": [
    {
      "cell_type": "markdown",
      "metadata": {
        "colab_type": "text",
        "id": "xdL0Yz0D1D_q"
      },
      "source": [
        "## Day 50 Lecture 2 Assignment\n",
        "\n",
        "In this assignment, we will apply various methods of internal evaluation to the results of K-Means clustering on a dataset containing the results of a survey on financial wellbeing."
      ]
    },
    {
      "cell_type": "code",
      "metadata": {
        "colab_type": "code",
        "id": "OulyiH_C1D_r",
        "colab": {}
      },
      "source": [
        "%matplotlib inline\n",
        "\n",
        "import matplotlib.pyplot as plt\n",
        "import numpy as np\n",
        "import pandas as pd\n",
        "from sklearn.cluster import KMeans\n",
        "from sklearn.preprocessing import StandardScaler\n",
        "from sklearn.metrics import silhouette_score"
      ],
      "execution_count": 0,
      "outputs": []
    },
    {
      "cell_type": "markdown",
      "metadata": {
        "colab_type": "text",
        "id": "ezMvoRlB1D_t"
      },
      "source": [
        "This dataset contains the results of a survey on a financial wellbeing conducted by the US Consumer Finance Protection Bureau that were published in October 2017. This dataset has a large number of columns, most of which correspond to specific questions on the survey. These codebook for translating the column names to questions can be found here:\n",
        "\n",
        "https://s3.amazonaws.com/files.consumerfinance.gov/f/documents/cfpb_nfwbs-puf-codebook.pdf\n",
        "\n",
        "Load the dataset."
      ]
    },
    {
      "cell_type": "code",
      "metadata": {
        "colab_type": "code",
        "id": "wP1U4eQ91D_u",
        "colab": {}
      },
      "source": [
        "# answer goes here\n",
        "\n",
        "\n",
        "finance= pd.read_csv('https://tf-assets-prod.s3.amazonaws.com/tf-curric/data-science/Data%20Sets%20Clustering/financial_wellbeing.csv')\n"
      ],
      "execution_count": 0,
      "outputs": []
    },
    {
      "cell_type": "markdown",
      "metadata": {
        "colab_type": "text",
        "id": "o_K1eQ0x1D_y"
      },
      "source": [
        "As we did in the previous assignment, we will only use the score columns. Filter the columns of the dataset to only include these columns."
      ]
    },
    {
      "cell_type": "code",
      "metadata": {
        "colab_type": "code",
        "id": "xfYVreyw1D_y",
        "colab": {
          "base_uri": "https://localhost:8080/",
          "height": 170
        },
        "outputId": "5a7a75e7-f890-4737-ca1f-9575f2b453de"
      },
      "source": [
        "# answer goes here\n",
        "\n",
        "X= finance.filter(regex='score')\n",
        "X.info()\n",
        "\n"
      ],
      "execution_count": 3,
      "outputs": [
        {
          "output_type": "stream",
          "text": [
            "<class 'pandas.core.frame.DataFrame'>\n",
            "RangeIndex: 6394 entries, 0 to 6393\n",
            "Data columns (total 4 columns):\n",
            "FWBscore    6394 non-null int64\n",
            "FSscore     6394 non-null int64\n",
            "LMscore     6394 non-null int64\n",
            "KHscore     6394 non-null float64\n",
            "dtypes: float64(1), int64(3)\n",
            "memory usage: 199.9 KB\n"
          ],
          "name": "stdout"
        }
      ]
    },
    {
      "cell_type": "markdown",
      "metadata": {
        "colab_type": "text",
        "id": "MUjcLMMk1D_2"
      },
      "source": [
        "Standardize the features in your dataset using scikit-learn's StandardScaler, which will set the mean of each feature to 0 and the variance to 1."
      ]
    },
    {
      "cell_type": "code",
      "metadata": {
        "colab_type": "code",
        "id": "6OTdN8oF1D_2",
        "colab": {}
      },
      "source": [
        "# answer goes here\n",
        "\n",
        "scaler = StandardScaler()\n",
        "X_std = scaler.fit_transform(X)\n",
        "\n"
      ],
      "execution_count": 0,
      "outputs": []
    },
    {
      "cell_type": "markdown",
      "metadata": {
        "colab_type": "text",
        "id": "ao3Y5FVp1D_4"
      },
      "source": [
        "Create an elbow plot showing how the SSE changes with respect to the number of clusters in K-Means. Allow K to vary from 2 to 30. Does a clear \"elbow\" emerge from the plot?"
      ]
    },
    {
      "cell_type": "code",
      "metadata": {
        "colab_type": "code",
        "id": "sUhMxZdL1D_4",
        "colab": {}
      },
      "source": [
        "# answer goes here\n",
        "from scipy.spatial.distance import cdist\n",
        "distortions= []\n",
        "K= range(2,30)\n",
        "\n",
        "for k in K:\n",
        "  models= KMeans(n_clusters=k).fit(X_std)\n",
        "  models.fit(X_std)\n",
        "  distortions.append(sum(np.min(cdist(X_std, models.cluster_centers_, 'euclidean'), axis=1)) / X.shape[0])"
      ],
      "execution_count": 0,
      "outputs": []
    },
    {
      "cell_type": "code",
      "metadata": {
        "id": "3GmS1JRTJ-gK",
        "colab_type": "code",
        "colab": {
          "base_uri": "https://localhost:8080/",
          "height": 295
        },
        "outputId": "57dabe63-0e86-4fd5-836a-e9509e18f5fe"
      },
      "source": [
        "# Plot the elbow\n",
        "plt.plot(K, distortions, 'bx-')\n",
        "plt.xlabel('k')\n",
        "plt.ylabel('Distortion')\n",
        "plt.title('The Elbow Method showing the optimal k')\n",
        "plt.show()\n"
      ],
      "execution_count": 19,
      "outputs": [
        {
          "output_type": "display_data",
          "data": {
            "image/png": "[encoded data removed]",
            "text/plain": [
              "<Figure size 432x288 with 1 Axes>"
            ]
          },
          "metadata": {
            "tags": []
          }
        }
      ]
    },
    {
      "cell_type": "markdown",
      "metadata": {
        "colab_type": "text",
        "id": "y0wBOUWJ1D_6"
      },
      "source": [
        "Create a silhouette plot for the results of K-Means, again with K varying from 2 to 30. What is the optimal number of clusters according to the silhouette method? Is this consistent with the output of the elbow plot?"
      ]
    },
    {
      "cell_type": "code",
      "metadata": {
        "colab_type": "code",
        "id": "AdKYEBx61D_6",
        "colab": {
          "base_uri": "https://localhost:8080/",
          "height": 295
        },
        "outputId": "effcecf4-e874-4698-d366-faa727df9e32"
      },
      "source": [
        "# answer goes here\n",
        "import sklearn\n",
        "from sklearn import cluster\n",
        "\n",
        "silhouette_score_values=list()\n",
        "\n",
        "for k in K:\n",
        "    \n",
        "    classifier=cluster.KMeans(k,init='k-means++', n_init=10, max_iter=300, tol=0.0001, verbose=0, random_state=None, copy_x=True)\n",
        "    classifier.fit(X_std)\n",
        "    labels= classifier.predict(X_std)\n",
        "    silhouette_score_values.append(sklearn.metrics.silhouette_score(X_std,labels ,metric='euclidean', sample_size=None, random_state=None))\n",
        " \n",
        "plt.plot(K, silhouette_score_values, 'bx-')\n",
        "plt.xlabel('k')\n",
        "plt.ylabel('Score')\n",
        "plt.title(\"Silhouette score values vs Numbers of Clusters \")\n",
        "plt.show()\n",
        " \n",
        "# Optimal_NumberOf_Components=K[silhouette_score_values.index(max(silhouette_score_values))]\n",
        "# print \"Optimal number of components is:\"\n",
        "# print Optimal_NumberOf_Components\n",
        "\n",
        "\n"
      ],
      "execution_count": 32,
      "outputs": [
        {
          "output_type": "display_data",
          "data": {
            "image/png": "[encoded data removed]",
            "text/plain": [
              "<Figure size 432x288 with 1 Axes>"
            ]
          },
          "metadata": {
            "tags": []
          }
        }
      ]
    },
    {
      "cell_type": "code",
      "metadata": {
        "id": "lglyTumPLki_",
        "colab_type": "code",
        "colab": {}
      },
      "source": [
        "K= 20?"
      ],
      "execution_count": 0,
      "outputs": []
    }
  ]
}