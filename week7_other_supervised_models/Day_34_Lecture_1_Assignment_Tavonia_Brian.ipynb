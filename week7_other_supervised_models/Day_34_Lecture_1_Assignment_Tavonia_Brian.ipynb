{
  "nbformat": 4,
  "nbformat_minor": 0,
  "metadata": {
    "kernelspec": {
      "display_name": "Python 3",
      "language": "python",
      "name": "python3"
    },
    "language_info": {
      "codemirror_mode": {
        "name": "ipython",
        "version": 3
      },
      "file_extension": ".py",
      "mimetype": "text/x-python",
      "name": "python",
      "nbconvert_exporter": "python",
      "pygments_lexer": "ipython3",
      "version": "3.7.0"
    },
    "colab": {
      "name": "Copy of Day 34 Lecture 1 Assignment.ipynb",
      "provenance": [],
      "collapsed_sections": []
    }
  },
  "cells": [
    {
      "cell_type": "markdown",
      "metadata": {
        "id": "ek_P857brqWQ",
        "colab_type": "text"
      },
      "source": [
        "## Day 34 Lecture 1 Assignment\n",
        "\n",
        "In this assignment, we will learn about SVR. We will use the absenteeism at work dataset loaded below and analyze the model generated for this dataset."
      ]
    },
    {
      "cell_type": "code",
      "metadata": {
        "id": "Y2OJAjVKrqWR",
        "colab_type": "code",
        "colab": {}
      },
      "source": [
        "%matplotlib inline\n",
        "\n",
        "import math\n",
        "\n",
        "import matplotlib.pyplot as plt\n",
        "import numpy as np\n",
        "import pandas as pd"
      ],
      "execution_count": 0,
      "outputs": []
    },
    {
      "cell_type": "code",
      "metadata": {
        "id": "2xl3uos0rqWU",
        "colab_type": "code",
        "colab": {}
      },
      "source": [
        "absentdf = pd.read_csv('https://tf-assets-prod.s3.amazonaws.com/tf-curric/data-science/Absenteeism_at_work.csv', sep=';')"
      ],
      "execution_count": 0,
      "outputs": []
    },
    {
      "cell_type": "code",
      "metadata": {
        "id": "pZV57O_ZrqWV",
        "colab_type": "code",
        "outputId": "99be0ddc-ad64-4d3e-adb0-654f1684d556",
        "colab": {
          "base_uri": "https://localhost:8080/",
          "height": 278
        }
      },
      "source": [
        "absent = absentdf.copy()\n",
        "absent.head()"
      ],
      "execution_count": 0,
      "outputs": [
        {
          "output_type": "execute_result",
          "data": {
            "text/html": [
              "<div>\n",
              "<style scoped>\n",
              "    .dataframe tbody tr th:only-of-type {\n",
              "        vertical-align: middle;\n",
              "    }\n",
              "\n",
              "    .dataframe tbody tr th {\n",
              "        vertical-align: top;\n",
              "    }\n",
              "\n",
              "    .dataframe thead th {\n",
              "        text-align: right;\n",
              "    }\n",
              "</style>\n",
              "<table border=\"1\" class=\"dataframe\">\n",
              "  <thead>\n",
              "    <tr style=\"text-align: right;\">\n",
              "      <th></th>\n",
              "      <th>ID</th>\n",
              "      <th>Reason for absence</th>\n",
              "      <th>Month of absence</th>\n",
              "      <th>Day of the week</th>\n",
              "      <th>Seasons</th>\n",
              "      <th>Transportation expense</th>\n",
              "      <th>Distance from Residence to Work</th>\n",
              "      <th>Service time</th>\n",
              "      <th>Age</th>\n",
              "      <th>Work load Average/day</th>\n",
              "      <th>Hit target</th>\n",
              "      <th>Disciplinary failure</th>\n",
              "      <th>Education</th>\n",
              "      <th>Son</th>\n",
              "      <th>Social drinker</th>\n",
              "      <th>Social smoker</th>\n",
              "      <th>Pet</th>\n",
              "      <th>Weight</th>\n",
              "      <th>Height</th>\n",
              "      <th>Body mass index</th>\n",
              "      <th>Absenteeism time in hours</th>\n",
              "    </tr>\n",
              "  </thead>\n",
              "  <tbody>\n",
              "    <tr>\n",
              "      <th>0</th>\n",
              "      <td>11</td>\n",
              "      <td>26</td>\n",
              "      <td>7</td>\n",
              "      <td>3</td>\n",
              "      <td>1</td>\n",
              "      <td>289</td>\n",
              "      <td>36</td>\n",
              "      <td>13</td>\n",
              "      <td>33</td>\n",
              "      <td>239.554</td>\n",
              "      <td>97</td>\n",
              "      <td>0</td>\n",
              "      <td>1</td>\n",
              "      <td>2</td>\n",
              "      <td>1</td>\n",
              "      <td>0</td>\n",
              "      <td>1</td>\n",
              "      <td>90</td>\n",
              "      <td>172</td>\n",
              "      <td>30</td>\n",
              "      <td>4</td>\n",
              "    </tr>\n",
              "    <tr>\n",
              "      <th>1</th>\n",
              "      <td>36</td>\n",
              "      <td>0</td>\n",
              "      <td>7</td>\n",
              "      <td>3</td>\n",
              "      <td>1</td>\n",
              "      <td>118</td>\n",
              "      <td>13</td>\n",
              "      <td>18</td>\n",
              "      <td>50</td>\n",
              "      <td>239.554</td>\n",
              "      <td>97</td>\n",
              "      <td>1</td>\n",
              "      <td>1</td>\n",
              "      <td>1</td>\n",
              "      <td>1</td>\n",
              "      <td>0</td>\n",
              "      <td>0</td>\n",
              "      <td>98</td>\n",
              "      <td>178</td>\n",
              "      <td>31</td>\n",
              "      <td>0</td>\n",
              "    </tr>\n",
              "    <tr>\n",
              "      <th>2</th>\n",
              "      <td>3</td>\n",
              "      <td>23</td>\n",
              "      <td>7</td>\n",
              "      <td>4</td>\n",
              "      <td>1</td>\n",
              "      <td>179</td>\n",
              "      <td>51</td>\n",
              "      <td>18</td>\n",
              "      <td>38</td>\n",
              "      <td>239.554</td>\n",
              "      <td>97</td>\n",
              "      <td>0</td>\n",
              "      <td>1</td>\n",
              "      <td>0</td>\n",
              "      <td>1</td>\n",
              "      <td>0</td>\n",
              "      <td>0</td>\n",
              "      <td>89</td>\n",
              "      <td>170</td>\n",
              "      <td>31</td>\n",
              "      <td>2</td>\n",
              "    </tr>\n",
              "    <tr>\n",
              "      <th>3</th>\n",
              "      <td>7</td>\n",
              "      <td>7</td>\n",
              "      <td>7</td>\n",
              "      <td>5</td>\n",
              "      <td>1</td>\n",
              "      <td>279</td>\n",
              "      <td>5</td>\n",
              "      <td>14</td>\n",
              "      <td>39</td>\n",
              "      <td>239.554</td>\n",
              "      <td>97</td>\n",
              "      <td>0</td>\n",
              "      <td>1</td>\n",
              "      <td>2</td>\n",
              "      <td>1</td>\n",
              "      <td>1</td>\n",
              "      <td>0</td>\n",
              "      <td>68</td>\n",
              "      <td>168</td>\n",
              "      <td>24</td>\n",
              "      <td>4</td>\n",
              "    </tr>\n",
              "    <tr>\n",
              "      <th>4</th>\n",
              "      <td>11</td>\n",
              "      <td>23</td>\n",
              "      <td>7</td>\n",
              "      <td>5</td>\n",
              "      <td>1</td>\n",
              "      <td>289</td>\n",
              "      <td>36</td>\n",
              "      <td>13</td>\n",
              "      <td>33</td>\n",
              "      <td>239.554</td>\n",
              "      <td>97</td>\n",
              "      <td>0</td>\n",
              "      <td>1</td>\n",
              "      <td>2</td>\n",
              "      <td>1</td>\n",
              "      <td>0</td>\n",
              "      <td>1</td>\n",
              "      <td>90</td>\n",
              "      <td>172</td>\n",
              "      <td>30</td>\n",
              "      <td>2</td>\n",
              "    </tr>\n",
              "  </tbody>\n",
              "</table>\n",
              "</div>"
            ],
            "text/plain": [
              "   ID  Reason for absence  ...  Body mass index  Absenteeism time in hours\n",
              "0  11                  26  ...               30                          4\n",
              "1  36                   0  ...               31                          0\n",
              "2   3                  23  ...               31                          2\n",
              "3   7                   7  ...               24                          4\n",
              "4  11                  23  ...               30                          2\n",
              "\n",
              "[5 rows x 21 columns]"
            ]
          },
          "metadata": {
            "tags": []
          },
          "execution_count": 44
        }
      ]
    },
    {
      "cell_type": "markdown",
      "metadata": {
        "id": "9scC5B5zXI2I",
        "colab_type": "text"
      },
      "source": [
        ""
      ]
    },
    {
      "cell_type": "markdown",
      "metadata": {
        "id": "0cY0ffxDrqWY",
        "colab_type": "text"
      },
      "source": [
        "Recall that we removed all correlated columns as well as columns that are a function of two or more other columns (like BMI and weight and height) as well as columns that are not usefu to us (like ID).\n",
        "We also created dummy variables for the categorical columns in our dataset.\n",
        "Finally, we split the data into test and train (with test being 20% of the data).\n",
        "\n",
        "Perform these actions below."
      ]
    },
    {
      "cell_type": "code",
      "metadata": {
        "id": "umCTrhgU1AOB",
        "colab_type": "code",
        "colab": {}
      },
      "source": [
        "absent = absent.drop(['ID', 'Weight', 'Height'], axis=1)"
      ],
      "execution_count": 0,
      "outputs": []
    },
    {
      "cell_type": "code",
      "metadata": {
        "id": "NZQ0f2vKZv37",
        "colab_type": "code",
        "outputId": "bd225767-4d7b-4cf8-a4d9-f810525fb0c8",
        "colab": {
          "base_uri": "https://localhost:8080/",
          "height": 1000
        }
      },
      "source": [
        "for label, content in absent.items():\n",
        "    #print('label:', label)\n",
        "    print(absent[label].describe())"
      ],
      "execution_count": 0,
      "outputs": [
        {
          "output_type": "stream",
          "text": [
            "count    740.000000\n",
            "mean      19.216216\n",
            "std        8.433406\n",
            "min        0.000000\n",
            "25%       13.000000\n",
            "50%       23.000000\n",
            "75%       26.000000\n",
            "max       28.000000\n",
            "Name: Reason for absence, dtype: float64\n",
            "count    740.000000\n",
            "mean       6.324324\n",
            "std        3.436287\n",
            "min        0.000000\n",
            "25%        3.000000\n",
            "50%        6.000000\n",
            "75%        9.000000\n",
            "max       12.000000\n",
            "Name: Month of absence, dtype: float64\n",
            "count    740.000000\n",
            "mean       3.914865\n",
            "std        1.421675\n",
            "min        2.000000\n",
            "25%        3.000000\n",
            "50%        4.000000\n",
            "75%        5.000000\n",
            "max        6.000000\n",
            "Name: Day of the week, dtype: float64\n",
            "count    740.000000\n",
            "mean       2.544595\n",
            "std        1.111831\n",
            "min        1.000000\n",
            "25%        2.000000\n",
            "50%        3.000000\n",
            "75%        4.000000\n",
            "max        4.000000\n",
            "Name: Seasons, dtype: float64\n",
            "count    740.000000\n",
            "mean     221.329730\n",
            "std       66.952223\n",
            "min      118.000000\n",
            "25%      179.000000\n",
            "50%      225.000000\n",
            "75%      260.000000\n",
            "max      388.000000\n",
            "Name: Transportation expense, dtype: float64\n",
            "count    740.000000\n",
            "mean      29.631081\n",
            "std       14.836788\n",
            "min        5.000000\n",
            "25%       16.000000\n",
            "50%       26.000000\n",
            "75%       50.000000\n",
            "max       52.000000\n",
            "Name: Distance from Residence to Work, dtype: float64\n",
            "count    740.000000\n",
            "mean      12.554054\n",
            "std        4.384873\n",
            "min        1.000000\n",
            "25%        9.000000\n",
            "50%       13.000000\n",
            "75%       16.000000\n",
            "max       29.000000\n",
            "Name: Service time, dtype: float64\n",
            "count    740.000000\n",
            "mean      36.450000\n",
            "std        6.478772\n",
            "min       27.000000\n",
            "25%       31.000000\n",
            "50%       37.000000\n",
            "75%       40.000000\n",
            "max       58.000000\n",
            "Name: Age, dtype: float64\n",
            "count    740.000000\n",
            "mean     271.490235\n",
            "std       39.058116\n",
            "min      205.917000\n",
            "25%      244.387000\n",
            "50%      264.249000\n",
            "75%      294.217000\n",
            "max      378.884000\n",
            "Name: Work load Average/day , dtype: float64\n",
            "count    740.000000\n",
            "mean      94.587838\n",
            "std        3.779313\n",
            "min       81.000000\n",
            "25%       93.000000\n",
            "50%       95.000000\n",
            "75%       97.000000\n",
            "max      100.000000\n",
            "Name: Hit target, dtype: float64\n",
            "count    740.000000\n",
            "mean       0.054054\n",
            "std        0.226277\n",
            "min        0.000000\n",
            "25%        0.000000\n",
            "50%        0.000000\n",
            "75%        0.000000\n",
            "max        1.000000\n",
            "Name: Disciplinary failure, dtype: float64\n",
            "count    740.000000\n",
            "mean       1.291892\n",
            "std        0.673238\n",
            "min        1.000000\n",
            "25%        1.000000\n",
            "50%        1.000000\n",
            "75%        1.000000\n",
            "max        4.000000\n",
            "Name: Education, dtype: float64\n",
            "count    740.000000\n",
            "mean       1.018919\n",
            "std        1.098489\n",
            "min        0.000000\n",
            "25%        0.000000\n",
            "50%        1.000000\n",
            "75%        2.000000\n",
            "max        4.000000\n",
            "Name: Son, dtype: float64\n",
            "count    740.000000\n",
            "mean       0.567568\n",
            "std        0.495749\n",
            "min        0.000000\n",
            "25%        0.000000\n",
            "50%        1.000000\n",
            "75%        1.000000\n",
            "max        1.000000\n",
            "Name: Social drinker, dtype: float64\n",
            "count    740.000000\n",
            "mean       0.072973\n",
            "std        0.260268\n",
            "min        0.000000\n",
            "25%        0.000000\n",
            "50%        0.000000\n",
            "75%        0.000000\n",
            "max        1.000000\n",
            "Name: Social smoker, dtype: float64\n",
            "count    740.000000\n",
            "mean       0.745946\n",
            "std        1.318258\n",
            "min        0.000000\n",
            "25%        0.000000\n",
            "50%        0.000000\n",
            "75%        1.000000\n",
            "max        8.000000\n",
            "Name: Pet, dtype: float64\n",
            "count    740.000000\n",
            "mean      26.677027\n",
            "std        4.285452\n",
            "min       19.000000\n",
            "25%       24.000000\n",
            "50%       25.000000\n",
            "75%       31.000000\n",
            "max       38.000000\n",
            "Name: Body mass index, dtype: float64\n",
            "count    740.000000\n",
            "mean       6.924324\n",
            "std       13.330998\n",
            "min        0.000000\n",
            "25%        2.000000\n",
            "50%        3.000000\n",
            "75%        8.000000\n",
            "max      120.000000\n",
            "Name: Absenteeism time in hours, dtype: float64\n"
          ],
          "name": "stdout"
        }
      ]
    },
    {
      "cell_type": "code",
      "metadata": {
        "id": "sqixfxTv4j2E",
        "colab_type": "code",
        "outputId": "49b3ecfa-826e-471d-b617-6bcc631115e1",
        "colab": {
          "base_uri": "https://localhost:8080/",
          "height": 53
        }
      },
      "source": [
        "absent['Reason for absence'].unique()"
      ],
      "execution_count": 0,
      "outputs": [
        {
          "output_type": "execute_result",
          "data": {
            "text/plain": [
              "array([26,  0, 23,  7, 22, 19,  1, 11, 14, 21, 10, 13, 28, 18, 25, 24,  6,\n",
              "       27, 17,  8, 12,  5,  9, 15,  4,  3,  2, 16])"
            ]
          },
          "metadata": {
            "tags": []
          },
          "execution_count": 47
        }
      ]
    },
    {
      "cell_type": "code",
      "metadata": {
        "id": "4qNyuKHXXwrI",
        "colab_type": "code",
        "outputId": "89524653-d24f-4536-a75d-5b43ff93bea5",
        "colab": {
          "base_uri": "https://localhost:8080/",
          "height": 1000
        }
      },
      "source": [
        "hist = absent.hist(figsize=(18,30))"
      ],
      "execution_count": 0,
      "outputs": [
        {
          "output_type": "display_data",
          "data": {
            "image/png": "[encoded data removed]",
            "text/plain": [
              "<Figure size 1296x2160 with 20 Axes>"
            ]
          },
          "metadata": {
            "tags": []
          }
        }
      ]
    },
    {
      "cell_type": "code",
      "metadata": {
        "id": "D9V5g0kyef7w",
        "colab_type": "code",
        "outputId": "20cadce4-519d-438a-b6a9-b7726b06d19a",
        "colab": {
          "base_uri": "https://localhost:8080/",
          "height": 278
        }
      },
      "source": [
        "absent['Social drinker'] = absent['Social drinker'].astype('object')\n",
        "absent['Social smoker'] = absent['Social smoker'].astype('object')\n",
        "absent['Disciplinary failure'] = absent['Disciplinary failure'].astype('object')\n",
        "absent['Education'] = absent['Education'].astype('object')\n",
        "absent['Seasons'] = absent['Seasons'].astype('object')\n",
        "absent['Day of the week'] = absent['Day of the week'].astype('object')\n",
        "absent['Month of absence'] = absent['Month of absence'].astype('object')\n",
        "absent['Reason for absence'] = absent['Reason for absence'].astype('object')\n",
        "\n",
        "absent = pd.concat([absent,pd.get_dummies(absent['Seasons'], prefix=\"sea\", drop_first=True)], axis=1)\n",
        "absent = pd.concat([absent,pd.get_dummies(absent['Day of the week'], prefix=\"dow\", drop_first=True)], axis=1)\n",
        "absent = pd.concat([absent,pd.get_dummies(absent['Month of absence'], prefix=\"moa\", drop_first=True)], axis=1)\n",
        "absent = pd.concat([absent,pd.get_dummies(absent['Reason for absence'], prefix=\"rfa\", drop_first=True)], axis=1)\n",
        "absent = pd.concat([absent,pd.get_dummies(absent['Education'], prefix=\"edu\", drop_first=True)], axis=1)\n",
        "\n",
        "\n",
        "dummy_column_names = list(pd.get_dummies(absent['Seasons'], prefix=\"sea\", drop_first=True).columns)\n",
        "dummy_column_names = dummy_column_names + list(pd.get_dummies(absent['Day of the week'], prefix=\"dow\", drop_first=True).columns)\n",
        "dummy_column_names = dummy_column_names + list(pd.get_dummies(absent['Month of absence'], prefix=\"moa\", drop_first=True).columns)\n",
        "dummy_column_names = dummy_column_names + list(pd.get_dummies(absent['Reason for absence'], prefix=\"rfa\", drop_first=True).columns)\n",
        "dummy_column_names = dummy_column_names + list(pd.get_dummies(absent['Education'], prefix=\"edu\", drop_first=True).columns)\n",
        "\n",
        "\n",
        "absent.head()\n"
      ],
      "execution_count": 0,
      "outputs": [
        {
          "output_type": "execute_result",
          "data": {
            "text/html": [
              "<div>\n",
              "<style scoped>\n",
              "    .dataframe tbody tr th:only-of-type {\n",
              "        vertical-align: middle;\n",
              "    }\n",
              "\n",
              "    .dataframe tbody tr th {\n",
              "        vertical-align: top;\n",
              "    }\n",
              "\n",
              "    .dataframe thead th {\n",
              "        text-align: right;\n",
              "    }\n",
              "</style>\n",
              "<table border=\"1\" class=\"dataframe\">\n",
              "  <thead>\n",
              "    <tr style=\"text-align: right;\">\n",
              "      <th></th>\n",
              "      <th>Reason for absence</th>\n",
              "      <th>Month of absence</th>\n",
              "      <th>Day of the week</th>\n",
              "      <th>Seasons</th>\n",
              "      <th>Transportation expense</th>\n",
              "      <th>Distance from Residence to Work</th>\n",
              "      <th>Service time</th>\n",
              "      <th>Age</th>\n",
              "      <th>Work load Average/day</th>\n",
              "      <th>Hit target</th>\n",
              "      <th>Disciplinary failure</th>\n",
              "      <th>Education</th>\n",
              "      <th>Son</th>\n",
              "      <th>Social drinker</th>\n",
              "      <th>Social smoker</th>\n",
              "      <th>Pet</th>\n",
              "      <th>Body mass index</th>\n",
              "      <th>Absenteeism time in hours</th>\n",
              "      <th>sea_2</th>\n",
              "      <th>sea_3</th>\n",
              "      <th>sea_4</th>\n",
              "      <th>dow_3</th>\n",
              "      <th>dow_4</th>\n",
              "      <th>dow_5</th>\n",
              "      <th>dow_6</th>\n",
              "      <th>moa_1</th>\n",
              "      <th>moa_2</th>\n",
              "      <th>moa_3</th>\n",
              "      <th>moa_4</th>\n",
              "      <th>moa_5</th>\n",
              "      <th>moa_6</th>\n",
              "      <th>moa_7</th>\n",
              "      <th>moa_8</th>\n",
              "      <th>moa_9</th>\n",
              "      <th>moa_10</th>\n",
              "      <th>moa_11</th>\n",
              "      <th>moa_12</th>\n",
              "      <th>rfa_1</th>\n",
              "      <th>rfa_2</th>\n",
              "      <th>rfa_3</th>\n",
              "      <th>rfa_4</th>\n",
              "      <th>rfa_5</th>\n",
              "      <th>rfa_6</th>\n",
              "      <th>rfa_7</th>\n",
              "      <th>rfa_8</th>\n",
              "      <th>rfa_9</th>\n",
              "      <th>rfa_10</th>\n",
              "      <th>rfa_11</th>\n",
              "      <th>rfa_12</th>\n",
              "      <th>rfa_13</th>\n",
              "      <th>rfa_14</th>\n",
              "      <th>rfa_15</th>\n",
              "      <th>rfa_16</th>\n",
              "      <th>rfa_17</th>\n",
              "      <th>rfa_18</th>\n",
              "      <th>rfa_19</th>\n",
              "      <th>rfa_21</th>\n",
              "      <th>rfa_22</th>\n",
              "      <th>rfa_23</th>\n",
              "      <th>rfa_24</th>\n",
              "      <th>rfa_25</th>\n",
              "      <th>rfa_26</th>\n",
              "      <th>rfa_27</th>\n",
              "      <th>rfa_28</th>\n",
              "      <th>edu_2</th>\n",
              "      <th>edu_3</th>\n",
              "      <th>edu_4</th>\n",
              "    </tr>\n",
              "  </thead>\n",
              "  <tbody>\n",
              "    <tr>\n",
              "      <th>0</th>\n",
              "      <td>26</td>\n",
              "      <td>7</td>\n",
              "      <td>3</td>\n",
              "      <td>1</td>\n",
              "      <td>289</td>\n",
              "      <td>36</td>\n",
              "      <td>13</td>\n",
              "      <td>33</td>\n",
              "      <td>239.554</td>\n",
              "      <td>97</td>\n",
              "      <td>0</td>\n",
              "      <td>1</td>\n",
              "      <td>2</td>\n",
              "      <td>1</td>\n",
              "      <td>0</td>\n",
              "      <td>1</td>\n",
              "      <td>30</td>\n",
              "      <td>4</td>\n",
              "      <td>0</td>\n",
              "      <td>0</td>\n",
              "      <td>0</td>\n",
              "      <td>1</td>\n",
              "      <td>0</td>\n",
              "      <td>0</td>\n",
              "      <td>0</td>\n",
              "      <td>0</td>\n",
              "      <td>0</td>\n",
              "      <td>0</td>\n",
              "      <td>0</td>\n",
              "      <td>0</td>\n",
              "      <td>0</td>\n",
              "      <td>1</td>\n",
              "      <td>0</td>\n",
              "      <td>0</td>\n",
              "      <td>0</td>\n",
              "      <td>0</td>\n",
              "      <td>0</td>\n",
              "      <td>0</td>\n",
              "      <td>0</td>\n",
              "      <td>0</td>\n",
              "      <td>0</td>\n",
              "      <td>0</td>\n",
              "      <td>0</td>\n",
              "      <td>0</td>\n",
              "      <td>0</td>\n",
              "      <td>0</td>\n",
              "      <td>0</td>\n",
              "      <td>0</td>\n",
              "      <td>0</td>\n",
              "      <td>0</td>\n",
              "      <td>0</td>\n",
              "      <td>0</td>\n",
              "      <td>0</td>\n",
              "      <td>0</td>\n",
              "      <td>0</td>\n",
              "      <td>0</td>\n",
              "      <td>0</td>\n",
              "      <td>0</td>\n",
              "      <td>0</td>\n",
              "      <td>0</td>\n",
              "      <td>0</td>\n",
              "      <td>1</td>\n",
              "      <td>0</td>\n",
              "      <td>0</td>\n",
              "      <td>0</td>\n",
              "      <td>0</td>\n",
              "      <td>0</td>\n",
              "    </tr>\n",
              "    <tr>\n",
              "      <th>1</th>\n",
              "      <td>0</td>\n",
              "      <td>7</td>\n",
              "      <td>3</td>\n",
              "      <td>1</td>\n",
              "      <td>118</td>\n",
              "      <td>13</td>\n",
              "      <td>18</td>\n",
              "      <td>50</td>\n",
              "      <td>239.554</td>\n",
              "      <td>97</td>\n",
              "      <td>1</td>\n",
              "      <td>1</td>\n",
              "      <td>1</td>\n",
              "      <td>1</td>\n",
              "      <td>0</td>\n",
              "      <td>0</td>\n",
              "      <td>31</td>\n",
              "      <td>0</td>\n",
              "      <td>0</td>\n",
              "      <td>0</td>\n",
              "      <td>0</td>\n",
              "      <td>1</td>\n",
              "      <td>0</td>\n",
              "      <td>0</td>\n",
              "      <td>0</td>\n",
              "      <td>0</td>\n",
              "      <td>0</td>\n",
              "      <td>0</td>\n",
              "      <td>0</td>\n",
              "      <td>0</td>\n",
              "      <td>0</td>\n",
              "      <td>1</td>\n",
              "      <td>0</td>\n",
              "      <td>0</td>\n",
              "      <td>0</td>\n",
              "      <td>0</td>\n",
              "      <td>0</td>\n",
              "      <td>0</td>\n",
              "      <td>0</td>\n",
              "      <td>0</td>\n",
              "      <td>0</td>\n",
              "      <td>0</td>\n",
              "      <td>0</td>\n",
              "      <td>0</td>\n",
              "      <td>0</td>\n",
              "      <td>0</td>\n",
              "      <td>0</td>\n",
              "      <td>0</td>\n",
              "      <td>0</td>\n",
              "      <td>0</td>\n",
              "      <td>0</td>\n",
              "      <td>0</td>\n",
              "      <td>0</td>\n",
              "      <td>0</td>\n",
              "      <td>0</td>\n",
              "      <td>0</td>\n",
              "      <td>0</td>\n",
              "      <td>0</td>\n",
              "      <td>0</td>\n",
              "      <td>0</td>\n",
              "      <td>0</td>\n",
              "      <td>0</td>\n",
              "      <td>0</td>\n",
              "      <td>0</td>\n",
              "      <td>0</td>\n",
              "      <td>0</td>\n",
              "      <td>0</td>\n",
              "    </tr>\n",
              "    <tr>\n",
              "      <th>2</th>\n",
              "      <td>23</td>\n",
              "      <td>7</td>\n",
              "      <td>4</td>\n",
              "      <td>1</td>\n",
              "      <td>179</td>\n",
              "      <td>51</td>\n",
              "      <td>18</td>\n",
              "      <td>38</td>\n",
              "      <td>239.554</td>\n",
              "      <td>97</td>\n",
              "      <td>0</td>\n",
              "      <td>1</td>\n",
              "      <td>0</td>\n",
              "      <td>1</td>\n",
              "      <td>0</td>\n",
              "      <td>0</td>\n",
              "      <td>31</td>\n",
              "      <td>2</td>\n",
              "      <td>0</td>\n",
              "      <td>0</td>\n",
              "      <td>0</td>\n",
              "      <td>0</td>\n",
              "      <td>1</td>\n",
              "      <td>0</td>\n",
              "      <td>0</td>\n",
              "      <td>0</td>\n",
              "      <td>0</td>\n",
              "      <td>0</td>\n",
              "      <td>0</td>\n",
              "      <td>0</td>\n",
              "      <td>0</td>\n",
              "      <td>1</td>\n",
              "      <td>0</td>\n",
              "      <td>0</td>\n",
              "      <td>0</td>\n",
              "      <td>0</td>\n",
              "      <td>0</td>\n",
              "      <td>0</td>\n",
              "      <td>0</td>\n",
              "      <td>0</td>\n",
              "      <td>0</td>\n",
              "      <td>0</td>\n",
              "      <td>0</td>\n",
              "      <td>0</td>\n",
              "      <td>0</td>\n",
              "      <td>0</td>\n",
              "      <td>0</td>\n",
              "      <td>0</td>\n",
              "      <td>0</td>\n",
              "      <td>0</td>\n",
              "      <td>0</td>\n",
              "      <td>0</td>\n",
              "      <td>0</td>\n",
              "      <td>0</td>\n",
              "      <td>0</td>\n",
              "      <td>0</td>\n",
              "      <td>0</td>\n",
              "      <td>0</td>\n",
              "      <td>1</td>\n",
              "      <td>0</td>\n",
              "      <td>0</td>\n",
              "      <td>0</td>\n",
              "      <td>0</td>\n",
              "      <td>0</td>\n",
              "      <td>0</td>\n",
              "      <td>0</td>\n",
              "      <td>0</td>\n",
              "    </tr>\n",
              "    <tr>\n",
              "      <th>3</th>\n",
              "      <td>7</td>\n",
              "      <td>7</td>\n",
              "      <td>5</td>\n",
              "      <td>1</td>\n",
              "      <td>279</td>\n",
              "      <td>5</td>\n",
              "      <td>14</td>\n",
              "      <td>39</td>\n",
              "      <td>239.554</td>\n",
              "      <td>97</td>\n",
              "      <td>0</td>\n",
              "      <td>1</td>\n",
              "      <td>2</td>\n",
              "      <td>1</td>\n",
              "      <td>1</td>\n",
              "      <td>0</td>\n",
              "      <td>24</td>\n",
              "      <td>4</td>\n",
              "      <td>0</td>\n",
              "      <td>0</td>\n",
              "      <td>0</td>\n",
              "      <td>0</td>\n",
              "      <td>0</td>\n",
              "      <td>1</td>\n",
              "      <td>0</td>\n",
              "      <td>0</td>\n",
              "      <td>0</td>\n",
              "      <td>0</td>\n",
              "      <td>0</td>\n",
              "      <td>0</td>\n",
              "      <td>0</td>\n",
              "      <td>1</td>\n",
              "      <td>0</td>\n",
              "      <td>0</td>\n",
              "      <td>0</td>\n",
              "      <td>0</td>\n",
              "      <td>0</td>\n",
              "      <td>0</td>\n",
              "      <td>0</td>\n",
              "      <td>0</td>\n",
              "      <td>0</td>\n",
              "      <td>0</td>\n",
              "      <td>0</td>\n",
              "      <td>1</td>\n",
              "      <td>0</td>\n",
              "      <td>0</td>\n",
              "      <td>0</td>\n",
              "      <td>0</td>\n",
              "      <td>0</td>\n",
              "      <td>0</td>\n",
              "      <td>0</td>\n",
              "      <td>0</td>\n",
              "      <td>0</td>\n",
              "      <td>0</td>\n",
              "      <td>0</td>\n",
              "      <td>0</td>\n",
              "      <td>0</td>\n",
              "      <td>0</td>\n",
              "      <td>0</td>\n",
              "      <td>0</td>\n",
              "      <td>0</td>\n",
              "      <td>0</td>\n",
              "      <td>0</td>\n",
              "      <td>0</td>\n",
              "      <td>0</td>\n",
              "      <td>0</td>\n",
              "      <td>0</td>\n",
              "    </tr>\n",
              "    <tr>\n",
              "      <th>4</th>\n",
              "      <td>23</td>\n",
              "      <td>7</td>\n",
              "      <td>5</td>\n",
              "      <td>1</td>\n",
              "      <td>289</td>\n",
              "      <td>36</td>\n",
              "      <td>13</td>\n",
              "      <td>33</td>\n",
              "      <td>239.554</td>\n",
              "      <td>97</td>\n",
              "      <td>0</td>\n",
              "      <td>1</td>\n",
              "      <td>2</td>\n",
              "      <td>1</td>\n",
              "      <td>0</td>\n",
              "      <td>1</td>\n",
              "      <td>30</td>\n",
              "      <td>2</td>\n",
              "      <td>0</td>\n",
              "      <td>0</td>\n",
              "      <td>0</td>\n",
              "      <td>0</td>\n",
              "      <td>0</td>\n",
              "      <td>1</td>\n",
              "      <td>0</td>\n",
              "      <td>0</td>\n",
              "      <td>0</td>\n",
              "      <td>0</td>\n",
              "      <td>0</td>\n",
              "      <td>0</td>\n",
              "      <td>0</td>\n",
              "      <td>1</td>\n",
              "      <td>0</td>\n",
              "      <td>0</td>\n",
              "      <td>0</td>\n",
              "      <td>0</td>\n",
              "      <td>0</td>\n",
              "      <td>0</td>\n",
              "      <td>0</td>\n",
              "      <td>0</td>\n",
              "      <td>0</td>\n",
              "      <td>0</td>\n",
              "      <td>0</td>\n",
              "      <td>0</td>\n",
              "      <td>0</td>\n",
              "      <td>0</td>\n",
              "      <td>0</td>\n",
              "      <td>0</td>\n",
              "      <td>0</td>\n",
              "      <td>0</td>\n",
              "      <td>0</td>\n",
              "      <td>0</td>\n",
              "      <td>0</td>\n",
              "      <td>0</td>\n",
              "      <td>0</td>\n",
              "      <td>0</td>\n",
              "      <td>0</td>\n",
              "      <td>0</td>\n",
              "      <td>1</td>\n",
              "      <td>0</td>\n",
              "      <td>0</td>\n",
              "      <td>0</td>\n",
              "      <td>0</td>\n",
              "      <td>0</td>\n",
              "      <td>0</td>\n",
              "      <td>0</td>\n",
              "      <td>0</td>\n",
              "    </tr>\n",
              "  </tbody>\n",
              "</table>\n",
              "</div>"
            ],
            "text/plain": [
              "  Reason for absence Month of absence Day of the week  ... edu_2  edu_3  edu_4\n",
              "0                 26                7               3  ...     0      0      0\n",
              "1                  0                7               3  ...     0      0      0\n",
              "2                 23                7               4  ...     0      0      0\n",
              "3                  7                7               5  ...     0      0      0\n",
              "4                 23                7               5  ...     0      0      0\n",
              "\n",
              "[5 rows x 67 columns]"
            ]
          },
          "metadata": {
            "tags": []
          },
          "execution_count": 49
        }
      ]
    },
    {
      "cell_type": "code",
      "metadata": {
        "id": "0bOAae4z5RPO",
        "colab_type": "code",
        "colab": {}
      },
      "source": [
        "absent = absent.drop(['Seasons', 'Day of the week', 'Month of absence', 'Reason for absence', 'Education'], axis=1)"
      ],
      "execution_count": 0,
      "outputs": []
    },
    {
      "cell_type": "code",
      "metadata": {
        "id": "_CYvx3JQ5p2E",
        "colab_type": "code",
        "outputId": "9e7dd0bc-4d2e-4e4c-b4f5-24ae368d1220",
        "colab": {
          "base_uri": "https://localhost:8080/",
          "height": 278
        }
      },
      "source": [
        "absent.head()"
      ],
      "execution_count": 0,
      "outputs": [
        {
          "output_type": "execute_result",
          "data": {
            "text/html": [
              "<div>\n",
              "<style scoped>\n",
              "    .dataframe tbody tr th:only-of-type {\n",
              "        vertical-align: middle;\n",
              "    }\n",
              "\n",
              "    .dataframe tbody tr th {\n",
              "        vertical-align: top;\n",
              "    }\n",
              "\n",
              "    .dataframe thead th {\n",
              "        text-align: right;\n",
              "    }\n",
              "</style>\n",
              "<table border=\"1\" class=\"dataframe\">\n",
              "  <thead>\n",
              "    <tr style=\"text-align: right;\">\n",
              "      <th></th>\n",
              "      <th>Transportation expense</th>\n",
              "      <th>Distance from Residence to Work</th>\n",
              "      <th>Service time</th>\n",
              "      <th>Age</th>\n",
              "      <th>Work load Average/day</th>\n",
              "      <th>Hit target</th>\n",
              "      <th>Disciplinary failure</th>\n",
              "      <th>Son</th>\n",
              "      <th>Social drinker</th>\n",
              "      <th>Social smoker</th>\n",
              "      <th>Pet</th>\n",
              "      <th>Body mass index</th>\n",
              "      <th>Absenteeism time in hours</th>\n",
              "      <th>sea_2</th>\n",
              "      <th>sea_3</th>\n",
              "      <th>sea_4</th>\n",
              "      <th>dow_3</th>\n",
              "      <th>dow_4</th>\n",
              "      <th>dow_5</th>\n",
              "      <th>dow_6</th>\n",
              "      <th>moa_1</th>\n",
              "      <th>moa_2</th>\n",
              "      <th>moa_3</th>\n",
              "      <th>moa_4</th>\n",
              "      <th>moa_5</th>\n",
              "      <th>moa_6</th>\n",
              "      <th>moa_7</th>\n",
              "      <th>moa_8</th>\n",
              "      <th>moa_9</th>\n",
              "      <th>moa_10</th>\n",
              "      <th>moa_11</th>\n",
              "      <th>moa_12</th>\n",
              "      <th>rfa_1</th>\n",
              "      <th>rfa_2</th>\n",
              "      <th>rfa_3</th>\n",
              "      <th>rfa_4</th>\n",
              "      <th>rfa_5</th>\n",
              "      <th>rfa_6</th>\n",
              "      <th>rfa_7</th>\n",
              "      <th>rfa_8</th>\n",
              "      <th>rfa_9</th>\n",
              "      <th>rfa_10</th>\n",
              "      <th>rfa_11</th>\n",
              "      <th>rfa_12</th>\n",
              "      <th>rfa_13</th>\n",
              "      <th>rfa_14</th>\n",
              "      <th>rfa_15</th>\n",
              "      <th>rfa_16</th>\n",
              "      <th>rfa_17</th>\n",
              "      <th>rfa_18</th>\n",
              "      <th>rfa_19</th>\n",
              "      <th>rfa_21</th>\n",
              "      <th>rfa_22</th>\n",
              "      <th>rfa_23</th>\n",
              "      <th>rfa_24</th>\n",
              "      <th>rfa_25</th>\n",
              "      <th>rfa_26</th>\n",
              "      <th>rfa_27</th>\n",
              "      <th>rfa_28</th>\n",
              "      <th>edu_2</th>\n",
              "      <th>edu_3</th>\n",
              "      <th>edu_4</th>\n",
              "    </tr>\n",
              "  </thead>\n",
              "  <tbody>\n",
              "    <tr>\n",
              "      <th>0</th>\n",
              "      <td>289</td>\n",
              "      <td>36</td>\n",
              "      <td>13</td>\n",
              "      <td>33</td>\n",
              "      <td>239.554</td>\n",
              "      <td>97</td>\n",
              "      <td>0</td>\n",
              "      <td>2</td>\n",
              "      <td>1</td>\n",
              "      <td>0</td>\n",
              "      <td>1</td>\n",
              "      <td>30</td>\n",
              "      <td>4</td>\n",
              "      <td>0</td>\n",
              "      <td>0</td>\n",
              "      <td>0</td>\n",
              "      <td>1</td>\n",
              "      <td>0</td>\n",
              "      <td>0</td>\n",
              "      <td>0</td>\n",
              "      <td>0</td>\n",
              "      <td>0</td>\n",
              "      <td>0</td>\n",
              "      <td>0</td>\n",
              "      <td>0</td>\n",
              "      <td>0</td>\n",
              "      <td>1</td>\n",
              "      <td>0</td>\n",
              "      <td>0</td>\n",
              "      <td>0</td>\n",
              "      <td>0</td>\n",
              "      <td>0</td>\n",
              "      <td>0</td>\n",
              "      <td>0</td>\n",
              "      <td>0</td>\n",
              "      <td>0</td>\n",
              "      <td>0</td>\n",
              "      <td>0</td>\n",
              "      <td>0</td>\n",
              "      <td>0</td>\n",
              "      <td>0</td>\n",
              "      <td>0</td>\n",
              "      <td>0</td>\n",
              "      <td>0</td>\n",
              "      <td>0</td>\n",
              "      <td>0</td>\n",
              "      <td>0</td>\n",
              "      <td>0</td>\n",
              "      <td>0</td>\n",
              "      <td>0</td>\n",
              "      <td>0</td>\n",
              "      <td>0</td>\n",
              "      <td>0</td>\n",
              "      <td>0</td>\n",
              "      <td>0</td>\n",
              "      <td>0</td>\n",
              "      <td>1</td>\n",
              "      <td>0</td>\n",
              "      <td>0</td>\n",
              "      <td>0</td>\n",
              "      <td>0</td>\n",
              "      <td>0</td>\n",
              "    </tr>\n",
              "    <tr>\n",
              "      <th>1</th>\n",
              "      <td>118</td>\n",
              "      <td>13</td>\n",
              "      <td>18</td>\n",
              "      <td>50</td>\n",
              "      <td>239.554</td>\n",
              "      <td>97</td>\n",
              "      <td>1</td>\n",
              "      <td>1</td>\n",
              "      <td>1</td>\n",
              "      <td>0</td>\n",
              "      <td>0</td>\n",
              "      <td>31</td>\n",
              "      <td>0</td>\n",
              "      <td>0</td>\n",
              "      <td>0</td>\n",
              "      <td>0</td>\n",
              "      <td>1</td>\n",
              "      <td>0</td>\n",
              "      <td>0</td>\n",
              "      <td>0</td>\n",
              "      <td>0</td>\n",
              "      <td>0</td>\n",
              "      <td>0</td>\n",
              "      <td>0</td>\n",
              "      <td>0</td>\n",
              "      <td>0</td>\n",
              "      <td>1</td>\n",
              "      <td>0</td>\n",
              "      <td>0</td>\n",
              "      <td>0</td>\n",
              "      <td>0</td>\n",
              "      <td>0</td>\n",
              "      <td>0</td>\n",
              "      <td>0</td>\n",
              "      <td>0</td>\n",
              "      <td>0</td>\n",
              "      <td>0</td>\n",
              "      <td>0</td>\n",
              "      <td>0</td>\n",
              "      <td>0</td>\n",
              "      <td>0</td>\n",
              "      <td>0</td>\n",
              "      <td>0</td>\n",
              "      <td>0</td>\n",
              "      <td>0</td>\n",
              "      <td>0</td>\n",
              "      <td>0</td>\n",
              "      <td>0</td>\n",
              "      <td>0</td>\n",
              "      <td>0</td>\n",
              "      <td>0</td>\n",
              "      <td>0</td>\n",
              "      <td>0</td>\n",
              "      <td>0</td>\n",
              "      <td>0</td>\n",
              "      <td>0</td>\n",
              "      <td>0</td>\n",
              "      <td>0</td>\n",
              "      <td>0</td>\n",
              "      <td>0</td>\n",
              "      <td>0</td>\n",
              "      <td>0</td>\n",
              "    </tr>\n",
              "    <tr>\n",
              "      <th>2</th>\n",
              "      <td>179</td>\n",
              "      <td>51</td>\n",
              "      <td>18</td>\n",
              "      <td>38</td>\n",
              "      <td>239.554</td>\n",
              "      <td>97</td>\n",
              "      <td>0</td>\n",
              "      <td>0</td>\n",
              "      <td>1</td>\n",
              "      <td>0</td>\n",
              "      <td>0</td>\n",
              "      <td>31</td>\n",
              "      <td>2</td>\n",
              "      <td>0</td>\n",
              "      <td>0</td>\n",
              "      <td>0</td>\n",
              "      <td>0</td>\n",
              "      <td>1</td>\n",
              "      <td>0</td>\n",
              "      <td>0</td>\n",
              "      <td>0</td>\n",
              "      <td>0</td>\n",
              "      <td>0</td>\n",
              "      <td>0</td>\n",
              "      <td>0</td>\n",
              "      <td>0</td>\n",
              "      <td>1</td>\n",
              "      <td>0</td>\n",
              "      <td>0</td>\n",
              "      <td>0</td>\n",
              "      <td>0</td>\n",
              "      <td>0</td>\n",
              "      <td>0</td>\n",
              "      <td>0</td>\n",
              "      <td>0</td>\n",
              "      <td>0</td>\n",
              "      <td>0</td>\n",
              "      <td>0</td>\n",
              "      <td>0</td>\n",
              "      <td>0</td>\n",
              "      <td>0</td>\n",
              "      <td>0</td>\n",
              "      <td>0</td>\n",
              "      <td>0</td>\n",
              "      <td>0</td>\n",
              "      <td>0</td>\n",
              "      <td>0</td>\n",
              "      <td>0</td>\n",
              "      <td>0</td>\n",
              "      <td>0</td>\n",
              "      <td>0</td>\n",
              "      <td>0</td>\n",
              "      <td>0</td>\n",
              "      <td>1</td>\n",
              "      <td>0</td>\n",
              "      <td>0</td>\n",
              "      <td>0</td>\n",
              "      <td>0</td>\n",
              "      <td>0</td>\n",
              "      <td>0</td>\n",
              "      <td>0</td>\n",
              "      <td>0</td>\n",
              "    </tr>\n",
              "    <tr>\n",
              "      <th>3</th>\n",
              "      <td>279</td>\n",
              "      <td>5</td>\n",
              "      <td>14</td>\n",
              "      <td>39</td>\n",
              "      <td>239.554</td>\n",
              "      <td>97</td>\n",
              "      <td>0</td>\n",
              "      <td>2</td>\n",
              "      <td>1</td>\n",
              "      <td>1</td>\n",
              "      <td>0</td>\n",
              "      <td>24</td>\n",
              "      <td>4</td>\n",
              "      <td>0</td>\n",
              "      <td>0</td>\n",
              "      <td>0</td>\n",
              "      <td>0</td>\n",
              "      <td>0</td>\n",
              "      <td>1</td>\n",
              "      <td>0</td>\n",
              "      <td>0</td>\n",
              "      <td>0</td>\n",
              "      <td>0</td>\n",
              "      <td>0</td>\n",
              "      <td>0</td>\n",
              "      <td>0</td>\n",
              "      <td>1</td>\n",
              "      <td>0</td>\n",
              "      <td>0</td>\n",
              "      <td>0</td>\n",
              "      <td>0</td>\n",
              "      <td>0</td>\n",
              "      <td>0</td>\n",
              "      <td>0</td>\n",
              "      <td>0</td>\n",
              "      <td>0</td>\n",
              "      <td>0</td>\n",
              "      <td>0</td>\n",
              "      <td>1</td>\n",
              "      <td>0</td>\n",
              "      <td>0</td>\n",
              "      <td>0</td>\n",
              "      <td>0</td>\n",
              "      <td>0</td>\n",
              "      <td>0</td>\n",
              "      <td>0</td>\n",
              "      <td>0</td>\n",
              "      <td>0</td>\n",
              "      <td>0</td>\n",
              "      <td>0</td>\n",
              "      <td>0</td>\n",
              "      <td>0</td>\n",
              "      <td>0</td>\n",
              "      <td>0</td>\n",
              "      <td>0</td>\n",
              "      <td>0</td>\n",
              "      <td>0</td>\n",
              "      <td>0</td>\n",
              "      <td>0</td>\n",
              "      <td>0</td>\n",
              "      <td>0</td>\n",
              "      <td>0</td>\n",
              "    </tr>\n",
              "    <tr>\n",
              "      <th>4</th>\n",
              "      <td>289</td>\n",
              "      <td>36</td>\n",
              "      <td>13</td>\n",
              "      <td>33</td>\n",
              "      <td>239.554</td>\n",
              "      <td>97</td>\n",
              "      <td>0</td>\n",
              "      <td>2</td>\n",
              "      <td>1</td>\n",
              "      <td>0</td>\n",
              "      <td>1</td>\n",
              "      <td>30</td>\n",
              "      <td>2</td>\n",
              "      <td>0</td>\n",
              "      <td>0</td>\n",
              "      <td>0</td>\n",
              "      <td>0</td>\n",
              "      <td>0</td>\n",
              "      <td>1</td>\n",
              "      <td>0</td>\n",
              "      <td>0</td>\n",
              "      <td>0</td>\n",
              "      <td>0</td>\n",
              "      <td>0</td>\n",
              "      <td>0</td>\n",
              "      <td>0</td>\n",
              "      <td>1</td>\n",
              "      <td>0</td>\n",
              "      <td>0</td>\n",
              "      <td>0</td>\n",
              "      <td>0</td>\n",
              "      <td>0</td>\n",
              "      <td>0</td>\n",
              "      <td>0</td>\n",
              "      <td>0</td>\n",
              "      <td>0</td>\n",
              "      <td>0</td>\n",
              "      <td>0</td>\n",
              "      <td>0</td>\n",
              "      <td>0</td>\n",
              "      <td>0</td>\n",
              "      <td>0</td>\n",
              "      <td>0</td>\n",
              "      <td>0</td>\n",
              "      <td>0</td>\n",
              "      <td>0</td>\n",
              "      <td>0</td>\n",
              "      <td>0</td>\n",
              "      <td>0</td>\n",
              "      <td>0</td>\n",
              "      <td>0</td>\n",
              "      <td>0</td>\n",
              "      <td>0</td>\n",
              "      <td>1</td>\n",
              "      <td>0</td>\n",
              "      <td>0</td>\n",
              "      <td>0</td>\n",
              "      <td>0</td>\n",
              "      <td>0</td>\n",
              "      <td>0</td>\n",
              "      <td>0</td>\n",
              "      <td>0</td>\n",
              "    </tr>\n",
              "  </tbody>\n",
              "</table>\n",
              "</div>"
            ],
            "text/plain": [
              "   Transportation expense  Distance from Residence to Work  ...  edu_3  edu_4\n",
              "0                     289                               36  ...      0      0\n",
              "1                     118                               13  ...      0      0\n",
              "2                     179                               51  ...      0      0\n",
              "3                     279                                5  ...      0      0\n",
              "4                     289                               36  ...      0      0\n",
              "\n",
              "[5 rows x 62 columns]"
            ]
          },
          "metadata": {
            "tags": []
          },
          "execution_count": 51
        }
      ]
    },
    {
      "cell_type": "code",
      "metadata": {
        "id": "9-iEGywl6aoO",
        "colab_type": "code",
        "outputId": "c24bf30f-4c7e-487e-d4e1-33b1cbced246",
        "colab": {
          "base_uri": "https://localhost:8080/",
          "height": 1000
        }
      },
      "source": [
        "absent.info()"
      ],
      "execution_count": 0,
      "outputs": [
        {
          "output_type": "stream",
          "text": [
            "<class 'pandas.core.frame.DataFrame'>\n",
            "RangeIndex: 740 entries, 0 to 739\n",
            "Data columns (total 62 columns):\n",
            "Transportation expense             740 non-null int64\n",
            "Distance from Residence to Work    740 non-null int64\n",
            "Service time                       740 non-null int64\n",
            "Age                                740 non-null int64\n",
            "Work load Average/day              740 non-null float64\n",
            "Hit target                         740 non-null int64\n",
            "Disciplinary failure               740 non-null object\n",
            "Son                                740 non-null int64\n",
            "Social drinker                     740 non-null object\n",
            "Social smoker                      740 non-null object\n",
            "Pet                                740 non-null int64\n",
            "Body mass index                    740 non-null int64\n",
            "Absenteeism time in hours          740 non-null int64\n",
            "sea_2                              740 non-null uint8\n",
            "sea_3                              740 non-null uint8\n",
            "sea_4                              740 non-null uint8\n",
            "dow_3                              740 non-null uint8\n",
            "dow_4                              740 non-null uint8\n",
            "dow_5                              740 non-null uint8\n",
            "dow_6                              740 non-null uint8\n",
            "moa_1                              740 non-null uint8\n",
            "moa_2                              740 non-null uint8\n",
            "moa_3                              740 non-null uint8\n",
            "moa_4                              740 non-null uint8\n",
            "moa_5                              740 non-null uint8\n",
            "moa_6                              740 non-null uint8\n",
            "moa_7                              740 non-null uint8\n",
            "moa_8                              740 non-null uint8\n",
            "moa_9                              740 non-null uint8\n",
            "moa_10                             740 non-null uint8\n",
            "moa_11                             740 non-null uint8\n",
            "moa_12                             740 non-null uint8\n",
            "rfa_1                              740 non-null uint8\n",
            "rfa_2                              740 non-null uint8\n",
            "rfa_3                              740 non-null uint8\n",
            "rfa_4                              740 non-null uint8\n",
            "rfa_5                              740 non-null uint8\n",
            "rfa_6                              740 non-null uint8\n",
            "rfa_7                              740 non-null uint8\n",
            "rfa_8                              740 non-null uint8\n",
            "rfa_9                              740 non-null uint8\n",
            "rfa_10                             740 non-null uint8\n",
            "rfa_11                             740 non-null uint8\n",
            "rfa_12                             740 non-null uint8\n",
            "rfa_13                             740 non-null uint8\n",
            "rfa_14                             740 non-null uint8\n",
            "rfa_15                             740 non-null uint8\n",
            "rfa_16                             740 non-null uint8\n",
            "rfa_17                             740 non-null uint8\n",
            "rfa_18                             740 non-null uint8\n",
            "rfa_19                             740 non-null uint8\n",
            "rfa_21                             740 non-null uint8\n",
            "rfa_22                             740 non-null uint8\n",
            "rfa_23                             740 non-null uint8\n",
            "rfa_24                             740 non-null uint8\n",
            "rfa_25                             740 non-null uint8\n",
            "rfa_26                             740 non-null uint8\n",
            "rfa_27                             740 non-null uint8\n",
            "rfa_28                             740 non-null uint8\n",
            "edu_2                              740 non-null uint8\n",
            "edu_3                              740 non-null uint8\n",
            "edu_4                              740 non-null uint8\n",
            "dtypes: float64(1), int64(9), object(3), uint8(49)\n",
            "memory usage: 110.7+ KB\n"
          ],
          "name": "stdout"
        }
      ]
    },
    {
      "cell_type": "markdown",
      "metadata": {
        "id": "p-_QJzwYrqWa",
        "colab_type": "text"
      },
      "source": [
        "Scale the indepdendent variables using the standard scaler"
      ]
    },
    {
      "cell_type": "code",
      "metadata": {
        "id": "wMpq6owTrqWa",
        "colab_type": "code",
        "colab": {}
      },
      "source": [
        "# answer below:\n",
        "\n",
        "from sklearn.preprocessing import StandardScaler\n",
        "\n",
        "y = absent['Absenteeism time in hours']\n",
        "\n",
        "X = absent.drop('Absenteeism time in hours', axis=1)\n",
        "\n",
        "X = StandardScaler().fit_transform(X)"
      ],
      "execution_count": 0,
      "outputs": []
    },
    {
      "cell_type": "code",
      "metadata": {
        "id": "yHETxV2m0BuH",
        "colab_type": "code",
        "outputId": "7e8e566a-7bc0-4f64-8138-2ad574781ec6",
        "colab": {
          "base_uri": "https://localhost:8080/",
          "height": 253
        }
      },
      "source": [
        "print(X)"
      ],
      "execution_count": 0,
      "outputs": [
        {
          "output_type": "stream",
          "text": [
            "[[ 1.01140838  0.42955567  0.10176977 ... -0.25745373 -0.3457107\n",
            "  -0.07372098]\n",
            " [-1.54437915 -1.12169354  1.24282479 ... -0.25745373 -0.3457107\n",
            "  -0.07372098]\n",
            " [-0.63266547  1.44123994  1.24282479 ... -0.25745373 -0.3457107\n",
            "  -0.07372098]\n",
            " ...\n",
            " [-1.54437915 -1.05424792  0.10176977 ... -0.25745373 -0.3457107\n",
            "  -0.07372098]\n",
            " [ 0.14453308  0.36211005  0.32998078 ... -0.25745373 -0.3457107\n",
            "  -0.07372098]\n",
            " [-0.63266547  1.03656623  0.32998078 ... -0.25745373 -0.3457107\n",
            "  -0.07372098]]\n"
          ],
          "name": "stdout"
        }
      ]
    },
    {
      "cell_type": "code",
      "metadata": {
        "id": "b-HVPz4F0Uso",
        "colab_type": "code",
        "outputId": "d3a40d7f-75c6-438f-e5e3-131129ae7f16",
        "colab": {
          "base_uri": "https://localhost:8080/",
          "height": 235
        }
      },
      "source": [
        "print(y)"
      ],
      "execution_count": 0,
      "outputs": [
        {
          "output_type": "stream",
          "text": [
            "0      4\n",
            "1      0\n",
            "2      2\n",
            "3      4\n",
            "4      2\n",
            "      ..\n",
            "735    8\n",
            "736    4\n",
            "737    0\n",
            "738    0\n",
            "739    0\n",
            "Name: Absenteeism time in hours, Length: 740, dtype: int64\n"
          ],
          "name": "stdout"
        }
      ]
    },
    {
      "cell_type": "code",
      "metadata": {
        "id": "uWeMG2l60Up4",
        "colab_type": "code",
        "colab": {}
      },
      "source": [
        ""
      ],
      "execution_count": 0,
      "outputs": []
    },
    {
      "cell_type": "markdown",
      "metadata": {
        "id": "F14dqtXJrqWc",
        "colab_type": "text"
      },
      "source": [
        "Split the data into train and test (test proportion=0.2)."
      ]
    },
    {
      "cell_type": "code",
      "metadata": {
        "id": "3VePSftDrqWc",
        "colab_type": "code",
        "colab": {}
      },
      "source": [
        "# answer below:\n",
        "from sklearn.model_selection import train_test_split\n",
        "\n",
        "X_train, X_test, y_train, y_test= train_test_split(X, y, test_size=.2)\n"
      ],
      "execution_count": 0,
      "outputs": []
    },
    {
      "cell_type": "markdown",
      "metadata": {
        "id": "Z7aLdNOIrqWe",
        "colab_type": "text"
      },
      "source": [
        "Generate an SVR model to predict the number of hours of absenteeism. Compare the train and test scores."
      ]
    },
    {
      "cell_type": "code",
      "metadata": {
        "id": "By2JhvYwrqWe",
        "colab_type": "code",
        "outputId": "6c59a8e6-c7cf-4996-c225-68a49549308a",
        "colab": {
          "base_uri": "https://localhost:8080/",
          "height": 53
        }
      },
      "source": [
        "# answer below:\n",
        "from sklearn.svm import SVR\n",
        "\n",
        "svr_linear = SVR(kernel='linear', C=1, epsilon=0.01)\n",
        "svr_linear.fit(X_train, y_train)\n",
        "\n"
      ],
      "execution_count": 0,
      "outputs": [
        {
          "output_type": "execute_result",
          "data": {
            "text/plain": [
              "SVR(C=1, cache_size=200, coef0=0.0, degree=3, epsilon=0.01, gamma='scale',\n",
              "    kernel='linear', max_iter=-1, shrinking=True, tol=0.001, verbose=False)"
            ]
          },
          "metadata": {
            "tags": []
          },
          "execution_count": 57
        }
      ]
    },
    {
      "cell_type": "code",
      "metadata": {
        "id": "CMeJll5Ck7vB",
        "colab_type": "code",
        "outputId": "f150bb38-83a7-4652-994e-f5561b7030d6",
        "colab": {
          "base_uri": "https://localhost:8080/",
          "height": 53
        }
      },
      "source": [
        "print(svr_linear.score(X_train, y_train))\n",
        "print(svr_linear.score(X_test, y_test))"
      ],
      "execution_count": 0,
      "outputs": [
        {
          "output_type": "stream",
          "text": [
            "0.10399533701150587\n",
            "0.15252058423994674\n"
          ],
          "name": "stdout"
        }
      ]
    },
    {
      "cell_type": "markdown",
      "metadata": {
        "id": "_sn-m37hrqWg",
        "colab_type": "text"
      },
      "source": [
        "If you are unhappy with your model's performance, perform a grid search to optimize C."
      ]
    },
    {
      "cell_type": "code",
      "metadata": {
        "id": "BpvxxapErqWg",
        "colab_type": "code",
        "outputId": "5a351d13-1845-41bd-8a0e-aa1c67d52dc9",
        "colab": {
          "base_uri": "https://localhost:8080/",
          "height": 35
        }
      },
      "source": [
        "# answer below:\n",
        "\n",
        "from sklearn.model_selection import GridSearchCV\n",
        "\n",
        "svr = SVR(kernel='linear', epsilon=0.01)\n",
        "\n",
        "tuned_parameters = [{'C': [.000001 ,.00001, .0001, .001, .01, .1, .5, 1, 5, 10]}]\n",
        "svr = GridSearchCV(svr,  param_grid=tuned_parameters, cv=10)\n",
        "svr.fit(X_train, y_train)\n",
        "print(svr.best_params_)\n",
        "\n"
      ],
      "execution_count": 0,
      "outputs": [
        {
          "output_type": "stream",
          "text": [
            "{'C': 0.01}\n"
          ],
          "name": "stdout"
        }
      ]
    },
    {
      "cell_type": "code",
      "metadata": {
        "id": "qkQ846fqrqWi",
        "colab_type": "code",
        "outputId": "c1b50d76-bd75-4fbc-8dfc-ecde4b61944c",
        "colab": {
          "base_uri": "https://localhost:8080/",
          "height": 53
        }
      },
      "source": [
        "\n",
        "svr_linear = SVR(kernel='linear', C=0.01, epsilon=0.01)\n",
        "svr_linear.fit(X_train, y_train)\n"
      ],
      "execution_count": 0,
      "outputs": [
        {
          "output_type": "execute_result",
          "data": {
            "text/plain": [
              "SVR(C=0.01, cache_size=200, coef0=0.0, degree=3, epsilon=0.01, gamma='scale',\n",
              "    kernel='linear', max_iter=-1, shrinking=True, tol=0.001, verbose=False)"
            ]
          },
          "metadata": {
            "tags": []
          },
          "execution_count": 60
        }
      ]
    },
    {
      "cell_type": "code",
      "metadata": {
        "id": "WaA28XM4yOgY",
        "colab_type": "code",
        "outputId": "43ce619e-aef9-4add-b6cd-f3fb73e31246",
        "colab": {
          "base_uri": "https://localhost:8080/",
          "height": 53
        }
      },
      "source": [
        "print(svr_linear.score(X_train, y_train))\n",
        "print(svr_linear.score(X_test, y_test))"
      ],
      "execution_count": 0,
      "outputs": [
        {
          "output_type": "stream",
          "text": [
            "0.06454676145687577\n",
            "0.08994987415386546\n"
          ],
          "name": "stdout"
        }
      ]
    },
    {
      "cell_type": "code",
      "metadata": {
        "id": "R3uC2-nDyOlD",
        "colab_type": "code",
        "outputId": "ffdc4bf8-6a36-43f3-c668-d5e08b92f369",
        "colab": {
          "base_uri": "https://localhost:8080/",
          "height": 35
        }
      },
      "source": [
        "epsvr = SVR(kernel='linear', C=0.01)\n",
        "\n",
        "tuned_parameters = [{'epsilon': [.000001 ,.00001, .0001, .001, .01, .1, .5, 1, 5, 10, 100, 1000]}]\n",
        "epsvr = GridSearchCV(epsvr,  param_grid=tuned_parameters, cv=10)\n",
        "epsvr.fit(X_train, y_train)\n",
        "print(epsvr.best_params_)\n"
      ],
      "execution_count": 0,
      "outputs": [
        {
          "output_type": "stream",
          "text": [
            "{'epsilon': 0.5}\n"
          ],
          "name": "stdout"
        }
      ]
    },
    {
      "cell_type": "code",
      "metadata": {
        "id": "iTfYLHenysrY",
        "colab_type": "code",
        "outputId": "a1ea6802-94f7-49b0-c58f-72052dc8045c",
        "colab": {
          "base_uri": "https://localhost:8080/",
          "height": 53
        }
      },
      "source": [
        "svr_linear = SVR(kernel='linear', C=10, epsilon=0.1)\n",
        "svr_linear.fit(X_train, y_train)"
      ],
      "execution_count": 0,
      "outputs": [
        {
          "output_type": "execute_result",
          "data": {
            "text/plain": [
              "SVR(C=10, cache_size=200, coef0=0.0, degree=3, epsilon=0.1, gamma='scale',\n",
              "    kernel='linear', max_iter=-1, shrinking=True, tol=0.001, verbose=False)"
            ]
          },
          "metadata": {
            "tags": []
          },
          "execution_count": 69
        }
      ]
    },
    {
      "cell_type": "code",
      "metadata": {
        "id": "ZT-iM_6lyyHC",
        "colab_type": "code",
        "outputId": "61d776e7-bfd5-437d-e14e-a51ee31089ac",
        "colab": {
          "base_uri": "https://localhost:8080/",
          "height": 53
        }
      },
      "source": [
        "print(svr_linear.score(X_train, y_train))\n",
        "print(svr_linear.score(X_test, y_test))"
      ],
      "execution_count": 0,
      "outputs": [
        {
          "output_type": "stream",
          "text": [
            "0.10536370139076257\n",
            "0.1547111020093881\n"
          ],
          "name": "stdout"
        }
      ]
    },
    {
      "cell_type": "code",
      "metadata": {
        "id": "0_ZdCKe3_ccc",
        "colab_type": "code",
        "outputId": "74bec71a-1157-47d8-86d7-23248ddc8c30",
        "colab": {
          "base_uri": "https://localhost:8080/",
          "height": 53
        }
      },
      "source": [
        "svr_linear = SVR(kernel='rbf', C=10, epsilon=0.1)\n",
        "svr_linear.fit(X_train, y_train)"
      ],
      "execution_count": 0,
      "outputs": [
        {
          "output_type": "execute_result",
          "data": {
            "text/plain": [
              "SVR(C=10, cache_size=200, coef0=0.0, degree=3, epsilon=0.1, gamma='scale',\n",
              "    kernel='rbf', max_iter=-1, shrinking=True, tol=0.001, verbose=False)"
            ]
          },
          "metadata": {
            "tags": []
          },
          "execution_count": 67
        }
      ]
    },
    {
      "cell_type": "code",
      "metadata": {
        "id": "Xv6KGqrw_iHe",
        "colab_type": "code",
        "outputId": "25e26424-272b-4c15-8d27-29c89552ff3a",
        "colab": {
          "base_uri": "https://localhost:8080/",
          "height": 53
        }
      },
      "source": [
        "print(svr_linear.score(X_train, y_train))\n",
        "print(svr_linear.score(X_test, y_test))"
      ],
      "execution_count": 0,
      "outputs": [
        {
          "output_type": "stream",
          "text": [
            "0.21254868544570116\n",
            "0.11424011556368298\n"
          ],
          "name": "stdout"
        }
      ]
    },
    {
      "cell_type": "code",
      "metadata": {
        "id": "YS8ocUXu__jo",
        "colab_type": "code",
        "outputId": "7b3ce3b1-4584-4ef5-a0fa-e52d81886657",
        "colab": {
          "base_uri": "https://localhost:8080/",
          "height": 53
        }
      },
      "source": [
        "svr_linear = SVR(kernel='poly', C=10, epsilon=0.1)\n",
        "svr_linear.fit(X_train, y_train)"
      ],
      "execution_count": 0,
      "outputs": [
        {
          "output_type": "execute_result",
          "data": {
            "text/plain": [
              "SVR(C=10, cache_size=200, coef0=0.0, degree=3, epsilon=0.1, gamma='scale',\n",
              "    kernel='poly', max_iter=-1, shrinking=True, tol=0.001, verbose=False)"
            ]
          },
          "metadata": {
            "tags": []
          },
          "execution_count": 71
        }
      ]
    },
    {
      "cell_type": "code",
      "metadata": {
        "id": "1C-P_N4CAD-w",
        "colab_type": "code",
        "outputId": "527703b4-8d23-4982-89f6-442c400a0d78",
        "colab": {
          "base_uri": "https://localhost:8080/",
          "height": 53
        }
      },
      "source": [
        "print(svr_linear.score(X_train, y_train))\n",
        "print(svr_linear.score(X_test, y_test))"
      ],
      "execution_count": 0,
      "outputs": [
        {
          "output_type": "stream",
          "text": [
            "0.3135360461039305\n",
            "0.09221931312545717\n"
          ],
          "name": "stdout"
        }
      ]
    }
  ]
}