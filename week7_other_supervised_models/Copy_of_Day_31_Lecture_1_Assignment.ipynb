{
  "nbformat": 4,
  "nbformat_minor": 0,
  "metadata": {
    "kernelspec": {
      "display_name": "Python 3",
      "language": "python",
      "name": "python3"
    },
    "language_info": {
      "codemirror_mode": {
        "name": "ipython",
        "version": 3
      },
      "file_extension": ".py",
      "mimetype": "text/x-python",
      "name": "python",
      "nbconvert_exporter": "python",
      "pygments_lexer": "ipython3",
      "version": "3.7.0"
    },
    "colab": {
      "name": "Copy of Day 31 Lecture 1 Assignment.ipynb",
      "provenance": [],
      "collapsed_sections": []
    }
  },
  "cells": [
    {
      "cell_type": "markdown",
      "metadata": {
        "id": "M2KdyctgnibH",
        "colab_type": "text"
      },
      "source": [
        "## Day 31 Lecture 1 Assignment\n",
        "\n",
        "In this assignment, we will learn about the K nearest neighbor algorithm. We will use the acute nephritis dataset loaded below and analyze the model generated for this datasett."
      ]
    },
    {
      "cell_type": "code",
      "metadata": {
        "id": "_4W40Ca-nibI",
        "colab_type": "code",
        "colab": {}
      },
      "source": [
        "%matplotlib inline\n",
        "\n",
        "import math\n",
        "\n",
        "import matplotlib.pyplot as plt\n",
        "import numpy as np\n",
        "import pandas as pd"
      ],
      "execution_count": 0,
      "outputs": []
    },
    {
      "cell_type": "code",
      "metadata": {
        "id": "xLDuKv44nibK",
        "colab_type": "code",
        "colab": {}
      },
      "source": [
        "# columns: \n",
        "# Temperature of patient { 35C-42C }\n",
        "# Occurrence of nausea { yes, no }\n",
        "# Lumbar pain { yes, no }\n",
        "# Urine pushing (continuous need for urination) { yes, no }\n",
        "# Micturition pains { yes, no }\n",
        "# Burning of urethra, itch, swelling of urethra outlet { yes, no }\n",
        "# decision: Nephritis of renal pelvis origin { yes, no } \n",
        "\n",
        "cols = ['temp', 'nausea', 'lumbar_pain', 'urine_pushing', 'micturition_pains', 'burning', 'nephritis']\n",
        "nep = pd.read_csv('https://tf-assets-prod.s3.amazonaws.com/tf-curric/data-science/acute.csv', names=cols)"
      ],
      "execution_count": 0,
      "outputs": []
    },
    {
      "cell_type": "code",
      "metadata": {
        "id": "mGz23CJAnibM",
        "colab_type": "code",
        "outputId": "ec9824d8-2c43-4f82-8d6e-96d47b7778a8",
        "colab": {
          "base_uri": "https://localhost:8080/",
          "height": 669
        }
      },
      "source": [
        "nep.head(20)"
      ],
      "execution_count": 0,
      "outputs": [
        {
          "output_type": "execute_result",
          "data": {
            "text/html": [
              "<div>\n",
              "<style scoped>\n",
              "    .dataframe tbody tr th:only-of-type {\n",
              "        vertical-align: middle;\n",
              "    }\n",
              "\n",
              "    .dataframe tbody tr th {\n",
              "        vertical-align: top;\n",
              "    }\n",
              "\n",
              "    .dataframe thead th {\n",
              "        text-align: right;\n",
              "    }\n",
              "</style>\n",
              "<table border=\"1\" class=\"dataframe\">\n",
              "  <thead>\n",
              "    <tr style=\"text-align: right;\">\n",
              "      <th></th>\n",
              "      <th>temp</th>\n",
              "      <th>nausea</th>\n",
              "      <th>lumbar_pain</th>\n",
              "      <th>urine_pushing</th>\n",
              "      <th>micturition_pains</th>\n",
              "      <th>burning</th>\n",
              "      <th>nephritis</th>\n",
              "    </tr>\n",
              "  </thead>\n",
              "  <tbody>\n",
              "    <tr>\n",
              "      <th>35</th>\n",
              "      <td>5</td>\n",
              "      <td>no</td>\n",
              "      <td>yes</td>\n",
              "      <td>no</td>\n",
              "      <td>no</td>\n",
              "      <td>no</td>\n",
              "      <td>no</td>\n",
              "    </tr>\n",
              "    <tr>\n",
              "      <th>35</th>\n",
              "      <td>9</td>\n",
              "      <td>no</td>\n",
              "      <td>no</td>\n",
              "      <td>yes</td>\n",
              "      <td>yes</td>\n",
              "      <td>yes</td>\n",
              "      <td>no</td>\n",
              "    </tr>\n",
              "    <tr>\n",
              "      <th>35</th>\n",
              "      <td>9</td>\n",
              "      <td>no</td>\n",
              "      <td>yes</td>\n",
              "      <td>no</td>\n",
              "      <td>no</td>\n",
              "      <td>no</td>\n",
              "      <td>no</td>\n",
              "    </tr>\n",
              "    <tr>\n",
              "      <th>36</th>\n",
              "      <td>0</td>\n",
              "      <td>no</td>\n",
              "      <td>no</td>\n",
              "      <td>yes</td>\n",
              "      <td>yes</td>\n",
              "      <td>yes</td>\n",
              "      <td>no</td>\n",
              "    </tr>\n",
              "    <tr>\n",
              "      <th>36</th>\n",
              "      <td>0</td>\n",
              "      <td>no</td>\n",
              "      <td>yes</td>\n",
              "      <td>no</td>\n",
              "      <td>no</td>\n",
              "      <td>no</td>\n",
              "      <td>no</td>\n",
              "    </tr>\n",
              "    <tr>\n",
              "      <th>36</th>\n",
              "      <td>0</td>\n",
              "      <td>no</td>\n",
              "      <td>yes</td>\n",
              "      <td>no</td>\n",
              "      <td>no</td>\n",
              "      <td>no</td>\n",
              "      <td>no</td>\n",
              "    </tr>\n",
              "    <tr>\n",
              "      <th>36</th>\n",
              "      <td>2</td>\n",
              "      <td>no</td>\n",
              "      <td>no</td>\n",
              "      <td>yes</td>\n",
              "      <td>yes</td>\n",
              "      <td>yes</td>\n",
              "      <td>no</td>\n",
              "    </tr>\n",
              "    <tr>\n",
              "      <th>36</th>\n",
              "      <td>2</td>\n",
              "      <td>no</td>\n",
              "      <td>yes</td>\n",
              "      <td>no</td>\n",
              "      <td>no</td>\n",
              "      <td>no</td>\n",
              "      <td>no</td>\n",
              "    </tr>\n",
              "    <tr>\n",
              "      <th>36</th>\n",
              "      <td>3</td>\n",
              "      <td>no</td>\n",
              "      <td>no</td>\n",
              "      <td>yes</td>\n",
              "      <td>yes</td>\n",
              "      <td>yes</td>\n",
              "      <td>no</td>\n",
              "    </tr>\n",
              "    <tr>\n",
              "      <th>36</th>\n",
              "      <td>6</td>\n",
              "      <td>no</td>\n",
              "      <td>no</td>\n",
              "      <td>yes</td>\n",
              "      <td>yes</td>\n",
              "      <td>yes</td>\n",
              "      <td>no</td>\n",
              "    </tr>\n",
              "    <tr>\n",
              "      <th>36</th>\n",
              "      <td>6</td>\n",
              "      <td>no</td>\n",
              "      <td>no</td>\n",
              "      <td>yes</td>\n",
              "      <td>yes</td>\n",
              "      <td>yes</td>\n",
              "      <td>no</td>\n",
              "    </tr>\n",
              "    <tr>\n",
              "      <th>36</th>\n",
              "      <td>6</td>\n",
              "      <td>no</td>\n",
              "      <td>yes</td>\n",
              "      <td>no</td>\n",
              "      <td>no</td>\n",
              "      <td>no</td>\n",
              "      <td>no</td>\n",
              "    </tr>\n",
              "    <tr>\n",
              "      <th>36</th>\n",
              "      <td>6</td>\n",
              "      <td>no</td>\n",
              "      <td>yes</td>\n",
              "      <td>no</td>\n",
              "      <td>no</td>\n",
              "      <td>no</td>\n",
              "      <td>no</td>\n",
              "    </tr>\n",
              "    <tr>\n",
              "      <th>36</th>\n",
              "      <td>7</td>\n",
              "      <td>no</td>\n",
              "      <td>no</td>\n",
              "      <td>yes</td>\n",
              "      <td>yes</td>\n",
              "      <td>yes</td>\n",
              "      <td>no</td>\n",
              "    </tr>\n",
              "    <tr>\n",
              "      <th>36</th>\n",
              "      <td>7</td>\n",
              "      <td>no</td>\n",
              "      <td>yes</td>\n",
              "      <td>no</td>\n",
              "      <td>no</td>\n",
              "      <td>no</td>\n",
              "      <td>no</td>\n",
              "    </tr>\n",
              "    <tr>\n",
              "      <th>36</th>\n",
              "      <td>7</td>\n",
              "      <td>no</td>\n",
              "      <td>yes</td>\n",
              "      <td>no</td>\n",
              "      <td>no</td>\n",
              "      <td>no</td>\n",
              "      <td>no</td>\n",
              "    </tr>\n",
              "    <tr>\n",
              "      <th>36</th>\n",
              "      <td>8</td>\n",
              "      <td>no</td>\n",
              "      <td>no</td>\n",
              "      <td>yes</td>\n",
              "      <td>yes</td>\n",
              "      <td>yes</td>\n",
              "      <td>no</td>\n",
              "    </tr>\n",
              "    <tr>\n",
              "      <th>36</th>\n",
              "      <td>8</td>\n",
              "      <td>no</td>\n",
              "      <td>no</td>\n",
              "      <td>yes</td>\n",
              "      <td>yes</td>\n",
              "      <td>yes</td>\n",
              "      <td>no</td>\n",
              "    </tr>\n",
              "    <tr>\n",
              "      <th>36</th>\n",
              "      <td>9</td>\n",
              "      <td>no</td>\n",
              "      <td>no</td>\n",
              "      <td>yes</td>\n",
              "      <td>yes</td>\n",
              "      <td>yes</td>\n",
              "      <td>no</td>\n",
              "    </tr>\n",
              "    <tr>\n",
              "      <th>36</th>\n",
              "      <td>9</td>\n",
              "      <td>no</td>\n",
              "      <td>yes</td>\n",
              "      <td>no</td>\n",
              "      <td>no</td>\n",
              "      <td>no</td>\n",
              "      <td>no</td>\n",
              "    </tr>\n",
              "  </tbody>\n",
              "</table>\n",
              "</div>"
            ],
            "text/plain": [
              "    temp nausea lumbar_pain urine_pushing micturition_pains burning nephritis\n",
              "35     5     no         yes            no                no      no        no\n",
              "35     9     no          no           yes               yes     yes        no\n",
              "35     9     no         yes            no                no      no        no\n",
              "36     0     no          no           yes               yes     yes        no\n",
              "36     0     no         yes            no                no      no        no\n",
              "36     0     no         yes            no                no      no        no\n",
              "36     2     no          no           yes               yes     yes        no\n",
              "36     2     no         yes            no                no      no        no\n",
              "36     3     no          no           yes               yes     yes        no\n",
              "36     6     no          no           yes               yes     yes        no\n",
              "36     6     no          no           yes               yes     yes        no\n",
              "36     6     no         yes            no                no      no        no\n",
              "36     6     no         yes            no                no      no        no\n",
              "36     7     no          no           yes               yes     yes        no\n",
              "36     7     no         yes            no                no      no        no\n",
              "36     7     no         yes            no                no      no        no\n",
              "36     8     no          no           yes               yes     yes        no\n",
              "36     8     no          no           yes               yes     yes        no\n",
              "36     9     no          no           yes               yes     yes        no\n",
              "36     9     no         yes            no                no      no        no"
            ]
          },
          "metadata": {
            "tags": []
          },
          "execution_count": 126
        }
      ]
    },
    {
      "cell_type": "markdown",
      "metadata": {
        "id": "W-WdgVdQnibO",
        "colab_type": "text"
      },
      "source": [
        "First, check for missing data and remove all rows containing missing data"
      ]
    },
    {
      "cell_type": "code",
      "metadata": {
        "id": "jZBtOoojnibO",
        "colab_type": "code",
        "outputId": "5a512851-ba9e-4cbf-d07e-fb16bde0bbcd",
        "colab": {
          "base_uri": "https://localhost:8080/",
          "height": 221
        }
      },
      "source": [
        "# answer below:\n",
        "nep.info()\n"
      ],
      "execution_count": 0,
      "outputs": [
        {
          "output_type": "stream",
          "text": [
            "<class 'pandas.core.frame.DataFrame'>\n",
            "Int64Index: 120 entries, 35 to 41\n",
            "Data columns (total 7 columns):\n",
            "temp                 120 non-null int64\n",
            "nausea               120 non-null object\n",
            "lumbar_pain          120 non-null object\n",
            "urine_pushing        120 non-null object\n",
            "micturition_pains    120 non-null object\n",
            "burning              120 non-null object\n",
            "nephritis            120 non-null object\n",
            "dtypes: int64(1), object(6)\n",
            "memory usage: 7.5+ KB\n"
          ],
          "name": "stdout"
        }
      ]
    },
    {
      "cell_type": "markdown",
      "metadata": {
        "id": "iWPncc2LnibQ",
        "colab_type": "text"
      },
      "source": [
        "To use the data, we must convert all columns to numeric. Do this using the `get_dummies` function for all non-numeric columns.\n",
        "\n",
        "Note: remember to drop the first value."
      ]
    },
    {
      "cell_type": "code",
      "metadata": {
        "id": "0fN78_zKF3fu",
        "colab_type": "code",
        "outputId": "105ecb8c-a513-427b-d23a-72b21d00d3b2",
        "colab": {
          "base_uri": "https://localhost:8080/",
          "height": 221
        }
      },
      "source": [
        "nep_ft.info()"
      ],
      "execution_count": 0,
      "outputs": [
        {
          "output_type": "stream",
          "text": [
            "<class 'pandas.core.frame.DataFrame'>\n",
            "Int64Index: 120 entries, 35 to 41\n",
            "Data columns (total 7 columns):\n",
            "nausea_yes               120 non-null uint8\n",
            "lumbar_pain_yes          120 non-null uint8\n",
            "urine_pushing_yes        120 non-null uint8\n",
            "micturition_pains_yes    120 non-null uint8\n",
            "burning_yes              120 non-null uint8\n",
            "nephritis_yes            120 non-null uint8\n",
            "temp                     120 non-null int64\n",
            "dtypes: int64(1), uint8(6)\n",
            "memory usage: 2.6 KB\n"
          ],
          "name": "stdout"
        }
      ]
    },
    {
      "cell_type": "code",
      "metadata": {
        "id": "gjhVEZWfnibQ",
        "colab_type": "code",
        "outputId": "bf8c0ac9-92e5-46b9-9b9f-27d84115ab9a",
        "colab": {
          "base_uri": "https://localhost:8080/",
          "height": 419
        }
      },
      "source": [
        "# answer below:\n",
        "dums= pd.get_dummies(nep.select_dtypes(include='object'), drop_first=True)\n",
        "nep_ft = pd.concat([dums, nep.temp], axis=1)\n",
        "nep_ft"
      ],
      "execution_count": 0,
      "outputs": [
        {
          "output_type": "execute_result",
          "data": {
            "text/html": [
              "<div>\n",
              "<style scoped>\n",
              "    .dataframe tbody tr th:only-of-type {\n",
              "        vertical-align: middle;\n",
              "    }\n",
              "\n",
              "    .dataframe tbody tr th {\n",
              "        vertical-align: top;\n",
              "    }\n",
              "\n",
              "    .dataframe thead th {\n",
              "        text-align: right;\n",
              "    }\n",
              "</style>\n",
              "<table border=\"1\" class=\"dataframe\">\n",
              "  <thead>\n",
              "    <tr style=\"text-align: right;\">\n",
              "      <th></th>\n",
              "      <th>nausea_yes</th>\n",
              "      <th>lumbar_pain_yes</th>\n",
              "      <th>urine_pushing_yes</th>\n",
              "      <th>micturition_pains_yes</th>\n",
              "      <th>burning_yes</th>\n",
              "      <th>nephritis_yes</th>\n",
              "      <th>temp</th>\n",
              "    </tr>\n",
              "  </thead>\n",
              "  <tbody>\n",
              "    <tr>\n",
              "      <th>35</th>\n",
              "      <td>0</td>\n",
              "      <td>1</td>\n",
              "      <td>0</td>\n",
              "      <td>0</td>\n",
              "      <td>0</td>\n",
              "      <td>0</td>\n",
              "      <td>5</td>\n",
              "    </tr>\n",
              "    <tr>\n",
              "      <th>35</th>\n",
              "      <td>0</td>\n",
              "      <td>0</td>\n",
              "      <td>1</td>\n",
              "      <td>1</td>\n",
              "      <td>1</td>\n",
              "      <td>0</td>\n",
              "      <td>9</td>\n",
              "    </tr>\n",
              "    <tr>\n",
              "      <th>35</th>\n",
              "      <td>0</td>\n",
              "      <td>1</td>\n",
              "      <td>0</td>\n",
              "      <td>0</td>\n",
              "      <td>0</td>\n",
              "      <td>0</td>\n",
              "      <td>9</td>\n",
              "    </tr>\n",
              "    <tr>\n",
              "      <th>36</th>\n",
              "      <td>0</td>\n",
              "      <td>0</td>\n",
              "      <td>1</td>\n",
              "      <td>1</td>\n",
              "      <td>1</td>\n",
              "      <td>0</td>\n",
              "      <td>0</td>\n",
              "    </tr>\n",
              "    <tr>\n",
              "      <th>36</th>\n",
              "      <td>0</td>\n",
              "      <td>1</td>\n",
              "      <td>0</td>\n",
              "      <td>0</td>\n",
              "      <td>0</td>\n",
              "      <td>0</td>\n",
              "      <td>0</td>\n",
              "    </tr>\n",
              "    <tr>\n",
              "      <th>...</th>\n",
              "      <td>...</td>\n",
              "      <td>...</td>\n",
              "      <td>...</td>\n",
              "      <td>...</td>\n",
              "      <td>...</td>\n",
              "      <td>...</td>\n",
              "      <td>...</td>\n",
              "    </tr>\n",
              "    <tr>\n",
              "      <th>41</th>\n",
              "      <td>0</td>\n",
              "      <td>1</td>\n",
              "      <td>1</td>\n",
              "      <td>0</td>\n",
              "      <td>1</td>\n",
              "      <td>1</td>\n",
              "      <td>4</td>\n",
              "    </tr>\n",
              "    <tr>\n",
              "      <th>41</th>\n",
              "      <td>0</td>\n",
              "      <td>0</td>\n",
              "      <td>0</td>\n",
              "      <td>0</td>\n",
              "      <td>0</td>\n",
              "      <td>0</td>\n",
              "      <td>5</td>\n",
              "    </tr>\n",
              "    <tr>\n",
              "      <th>41</th>\n",
              "      <td>1</td>\n",
              "      <td>1</td>\n",
              "      <td>0</td>\n",
              "      <td>1</td>\n",
              "      <td>0</td>\n",
              "      <td>1</td>\n",
              "      <td>5</td>\n",
              "    </tr>\n",
              "    <tr>\n",
              "      <th>41</th>\n",
              "      <td>0</td>\n",
              "      <td>1</td>\n",
              "      <td>1</td>\n",
              "      <td>0</td>\n",
              "      <td>1</td>\n",
              "      <td>1</td>\n",
              "      <td>5</td>\n",
              "    </tr>\n",
              "    <tr>\n",
              "      <th>41</th>\n",
              "      <td>0</td>\n",
              "      <td>1</td>\n",
              "      <td>1</td>\n",
              "      <td>0</td>\n",
              "      <td>1</td>\n",
              "      <td>1</td>\n",
              "      <td>5</td>\n",
              "    </tr>\n",
              "  </tbody>\n",
              "</table>\n",
              "<p>120 rows × 7 columns</p>\n",
              "</div>"
            ],
            "text/plain": [
              "    nausea_yes  lumbar_pain_yes  ...  nephritis_yes  temp\n",
              "35           0                1  ...              0     5\n",
              "35           0                0  ...              0     9\n",
              "35           0                1  ...              0     9\n",
              "36           0                0  ...              0     0\n",
              "36           0                1  ...              0     0\n",
              "..         ...              ...  ...            ...   ...\n",
              "41           0                1  ...              1     4\n",
              "41           0                0  ...              0     5\n",
              "41           1                1  ...              1     5\n",
              "41           0                1  ...              1     5\n",
              "41           0                1  ...              1     5\n",
              "\n",
              "[120 rows x 7 columns]"
            ]
          },
          "metadata": {
            "tags": []
          },
          "execution_count": 130
        }
      ]
    },
    {
      "cell_type": "markdown",
      "metadata": {
        "id": "23bu6dmdnibS",
        "colab_type": "text"
      },
      "source": [
        "Split the data into train and test. Use 20% of the data for our test subset. Use nephritis as the target variable."
      ]
    },
    {
      "cell_type": "code",
      "metadata": {
        "id": "4wJEzH6JnibT",
        "colab_type": "code",
        "colab": {}
      },
      "source": [
        "# answer below:\n",
        "from sklearn.model_selection import train_test_split\n",
        "\n",
        "X= nep_ft.drop('nephritis_yes', axis=1)\n",
        "y= nep_ft['nephritis_yes']\n",
        "\n",
        "X_train, X_test, y_train, y_test= train_test_split(X, y, test_size=.2)\n"
      ],
      "execution_count": 0,
      "outputs": []
    },
    {
      "cell_type": "markdown",
      "metadata": {
        "id": "8J8-ejQmnibV",
        "colab_type": "text"
      },
      "source": [
        "Generate a KNN model with k=5 for the dataset.  What is the accuracy score for the train and test subsamples?"
      ]
    },
    {
      "cell_type": "code",
      "metadata": {
        "id": "RIspj5YFnibV",
        "colab_type": "code",
        "outputId": "15ad0065-cabf-4527-8df9-b35ec036567c",
        "colab": {
          "base_uri": "https://localhost:8080/",
          "height": 51
        }
      },
      "source": [
        "# answer below:\n",
        "from sklearn.neighbors import KNeighborsClassifier\n",
        "\n",
        "knn = KNeighborsClassifier(n_neighbors=5)\n",
        "knn.fit(X_train, y_train)\n",
        "\n",
        "print(knn.score(X_train, y_train))\n",
        "print(knn.score(X_test, y_test))"
      ],
      "execution_count": 0,
      "outputs": [
        {
          "output_type": "stream",
          "text": [
            "0.9895833333333334\n",
            "0.9583333333333334\n"
          ],
          "name": "stdout"
        }
      ]
    },
    {
      "cell_type": "markdown",
      "metadata": {
        "id": "MbOiVNTwnibX",
        "colab_type": "text"
      },
      "source": [
        "Would you say the model overfits? Why or why not? Put your answer in the comment below."
      ]
    },
    {
      "cell_type": "code",
      "metadata": {
        "id": "o7GQxMwKnibY",
        "colab_type": "code",
        "colab": {}
      },
      "source": [
        "# answer below:\n",
        "\n",
        "# I would not say it overfits because I ran the score on the test data "
      ],
      "execution_count": 0,
      "outputs": []
    },
    {
      "cell_type": "markdown",
      "metadata": {
        "id": "e2So7eMOnibZ",
        "colab_type": "text"
      },
      "source": [
        "Let's optimize k. Produce a plot with training and testing accuracy for a wide range of k."
      ]
    },
    {
      "cell_type": "code",
      "metadata": {
        "id": "m-uag4WNniba",
        "colab_type": "code",
        "colab": {}
      },
      "source": [
        "# answer below:\n",
        "train_scores = []\n",
        "test_scores = []\n",
        "\n",
        "k_list = [1, 3, 5, 7, 9, 11, 31, 51, 71, 91]\n",
        "\n",
        "for k in k_list:\n",
        "    neighbors = KNeighborsClassifier(n_neighbors=k, weights='uniform')\n",
        "    neighbors.fit(X_train, y_train)\n",
        "    train_scores.append(neighbors.score(X_train, y_train))\n",
        "    test_scores.append(neighbors.score(X_test, y_test))\n"
      ],
      "execution_count": 0,
      "outputs": []
    },
    {
      "cell_type": "code",
      "metadata": {
        "id": "tBAPFw1gnibb",
        "colab_type": "code",
        "outputId": "8155e74d-1743-4476-b2db-d54eb65724a1",
        "colab": {
          "base_uri": "https://localhost:8080/",
          "height": 353
        }
      },
      "source": [
        "plt.figure(figsize=(8, 5))\n",
        "plt.plot(k_list, train_scores, label='Train')\n",
        "plt.plot(k_list, test_scores, label='Test')\n",
        "plt.legend()\n",
        "plt.title('KNN accuracy with changing K')\n",
        "plt.xscale('log')\n",
        "plt.xlabel('K')\n",
        "plt.ylabel('Accuracy Score')\n",
        "plt.show()"
      ],
      "execution_count": 0,
      "outputs": [
        {
          "output_type": "display_data",
          "data": {
            "image/png": "[encoded data removed]",
            "text/plain": [
              "<Figure size 576x360 with 1 Axes>"
            ]
          },
          "metadata": {
            "tags": []
          }
        }
      ]
    }
  ]
}