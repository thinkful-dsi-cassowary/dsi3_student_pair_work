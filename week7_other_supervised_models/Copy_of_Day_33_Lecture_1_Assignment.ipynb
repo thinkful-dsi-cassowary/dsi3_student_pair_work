{
  "nbformat": 4,
  "nbformat_minor": 0,
  "metadata": {
    "kernelspec": {
      "display_name": "Python 3",
      "language": "python",
      "name": "python3"
    },
    "language_info": {
      "codemirror_mode": {
        "name": "ipython",
        "version": 3
      },
      "file_extension": ".py",
      "mimetype": "text/x-python",
      "name": "python",
      "nbconvert_exporter": "python",
      "pygments_lexer": "ipython3",
      "version": "3.7.0"
    },
    "colab": {
      "name": "Copy of Day 33 Lecture 1 Assignment.ipynb",
      "provenance": [],
      "collapsed_sections": []
    }
  },
  "cells": [
    {
      "cell_type": "markdown",
      "metadata": {
        "id": "N-dUAbfgpuRb",
        "colab_type": "text"
      },
      "source": [
        "## Day 33 Lecture 1 Assignment\n",
        "\n",
        "In this assignment, we will learn about SVM. We will use the csection dataset loaded below and analyze the model generated for this dataset."
      ]
    },
    {
      "cell_type": "code",
      "metadata": {
        "id": "frNvugKHpuRd",
        "colab_type": "code",
        "colab": {}
      },
      "source": [
        "%matplotlib inline\n",
        "\n",
        "import matplotlib.pyplot as plt\n",
        "import numpy as np\n",
        "import pandas as pd"
      ],
      "execution_count": 0,
      "outputs": []
    },
    {
      "cell_type": "code",
      "metadata": {
        "id": "B_1e4lobpuRf",
        "colab_type": "code",
        "colab": {}
      },
      "source": [
        "# Age -  ranges from 18 to 40  \n",
        "# Delivery number - ranges from 1 to 4\n",
        "# Delivery time -  {0 = timely , 1 = premature , 2 = latecomer}\n",
        "# Blood of Pressure - {0 = low , 1 = normal , 2 = high }\n",
        "# Heart Problem - {0 = apt, 1 = inept }\n",
        "\n",
        "# Target - Caesarian - {0 = No, 1 = Yes }\n",
        "\n",
        "csection = pd.read_csv('https://tf-assets-prod.s3.amazonaws.com/tf-curric/data-science/csection.csv')"
      ],
      "execution_count": 0,
      "outputs": []
    },
    {
      "cell_type": "code",
      "metadata": {
        "id": "HsO8-iwpe0bx",
        "colab_type": "code",
        "colab": {}
      },
      "source": [
        "csec= csection.copy()"
      ],
      "execution_count": 0,
      "outputs": []
    },
    {
      "cell_type": "markdown",
      "metadata": {
        "id": "XSlVp6FRpuRg",
        "colab_type": "text"
      },
      "source": [
        "Recall our c section dataset. Process the data by removing any missing values, creating the appropriate dummy variables and splitting the data into train and test (20% in the test dataset)."
      ]
    },
    {
      "cell_type": "code",
      "metadata": {
        "id": "p8LyaYcIpuRh",
        "colab_type": "code",
        "colab": {
          "base_uri": "https://localhost:8080/",
          "height": 204
        },
        "outputId": "c6a8add2-9c89-4742-97d5-625a089ef1d6"
      },
      "source": [
        "# answer below:\n",
        "csection['Blood Pressure'] = csection['Blood Pressure'].astype('object')\n",
        "csection['Delivery number'] = csection['Delivery number'].astype('object')\n",
        "csection['Delivery time'] = csection['Delivery time'].astype('object')\n",
        "\n",
        "csection = pd.concat([csection,pd.get_dummies(csection['Blood Pressure'], prefix=\"bp\", drop_first=True)], axis=1)\n",
        "csection = pd.concat([csection,pd.get_dummies(csection['Delivery number'], prefix=\"dn\", drop_first=True)], axis=1)\n",
        "csection = pd.concat([csection,pd.get_dummies(csection['Delivery time'], prefix=\"dt\", drop_first=True)], axis=1)\n",
        "\n",
        "dummy_column_names = list(pd.get_dummies(csection['Blood Pressure'], prefix=\"bp\", drop_first=True).columns)\n",
        "dummy_column_names = dummy_column_names + list(pd.get_dummies(csection['Delivery number'], prefix=\"dn\", drop_first=True).columns)\n",
        "dummy_column_names = dummy_column_names + list(pd.get_dummies(csection['Delivery time'], prefix=\"dt\", drop_first=True).columns)\n",
        "\n",
        "csection.head()\n"
      ],
      "execution_count": 196,
      "outputs": [
        {
          "output_type": "execute_result",
          "data": {
            "text/html": [
              "<div>\n",
              "<style scoped>\n",
              "    .dataframe tbody tr th:only-of-type {\n",
              "        vertical-align: middle;\n",
              "    }\n",
              "\n",
              "    .dataframe tbody tr th {\n",
              "        vertical-align: top;\n",
              "    }\n",
              "\n",
              "    .dataframe thead th {\n",
              "        text-align: right;\n",
              "    }\n",
              "</style>\n",
              "<table border=\"1\" class=\"dataframe\">\n",
              "  <thead>\n",
              "    <tr style=\"text-align: right;\">\n",
              "      <th></th>\n",
              "      <th>Age</th>\n",
              "      <th>Delivery number</th>\n",
              "      <th>Delivery time</th>\n",
              "      <th>Blood Pressure</th>\n",
              "      <th>Heart Problem</th>\n",
              "      <th>Caesarian</th>\n",
              "      <th>bp_1</th>\n",
              "      <th>bp_2</th>\n",
              "      <th>dn_2</th>\n",
              "      <th>dn_3</th>\n",
              "      <th>dn_4</th>\n",
              "      <th>dt_1</th>\n",
              "      <th>dt_2</th>\n",
              "    </tr>\n",
              "  </thead>\n",
              "  <tbody>\n",
              "    <tr>\n",
              "      <th>0</th>\n",
              "      <td>22</td>\n",
              "      <td>1</td>\n",
              "      <td>0</td>\n",
              "      <td>2</td>\n",
              "      <td>0</td>\n",
              "      <td>0</td>\n",
              "      <td>0</td>\n",
              "      <td>1</td>\n",
              "      <td>0</td>\n",
              "      <td>0</td>\n",
              "      <td>0</td>\n",
              "      <td>0</td>\n",
              "      <td>0</td>\n",
              "    </tr>\n",
              "    <tr>\n",
              "      <th>1</th>\n",
              "      <td>26</td>\n",
              "      <td>2</td>\n",
              "      <td>0</td>\n",
              "      <td>1</td>\n",
              "      <td>0</td>\n",
              "      <td>1</td>\n",
              "      <td>1</td>\n",
              "      <td>0</td>\n",
              "      <td>1</td>\n",
              "      <td>0</td>\n",
              "      <td>0</td>\n",
              "      <td>0</td>\n",
              "      <td>0</td>\n",
              "    </tr>\n",
              "    <tr>\n",
              "      <th>2</th>\n",
              "      <td>26</td>\n",
              "      <td>2</td>\n",
              "      <td>1</td>\n",
              "      <td>1</td>\n",
              "      <td>0</td>\n",
              "      <td>0</td>\n",
              "      <td>1</td>\n",
              "      <td>0</td>\n",
              "      <td>1</td>\n",
              "      <td>0</td>\n",
              "      <td>0</td>\n",
              "      <td>1</td>\n",
              "      <td>0</td>\n",
              "    </tr>\n",
              "    <tr>\n",
              "      <th>3</th>\n",
              "      <td>28</td>\n",
              "      <td>1</td>\n",
              "      <td>0</td>\n",
              "      <td>2</td>\n",
              "      <td>0</td>\n",
              "      <td>0</td>\n",
              "      <td>0</td>\n",
              "      <td>1</td>\n",
              "      <td>0</td>\n",
              "      <td>0</td>\n",
              "      <td>0</td>\n",
              "      <td>0</td>\n",
              "      <td>0</td>\n",
              "    </tr>\n",
              "    <tr>\n",
              "      <th>4</th>\n",
              "      <td>22</td>\n",
              "      <td>2</td>\n",
              "      <td>0</td>\n",
              "      <td>1</td>\n",
              "      <td>0</td>\n",
              "      <td>1</td>\n",
              "      <td>1</td>\n",
              "      <td>0</td>\n",
              "      <td>1</td>\n",
              "      <td>0</td>\n",
              "      <td>0</td>\n",
              "      <td>0</td>\n",
              "      <td>0</td>\n",
              "    </tr>\n",
              "  </tbody>\n",
              "</table>\n",
              "</div>"
            ],
            "text/plain": [
              "   Age Delivery number Delivery time Blood Pressure  ...  dn_3  dn_4  dt_1  dt_2\n",
              "0   22               1             0              2  ...     0     0     0     0\n",
              "1   26               2             0              1  ...     0     0     0     0\n",
              "2   26               2             1              1  ...     0     0     1     0\n",
              "3   28               1             0              2  ...     0     0     0     0\n",
              "4   22               2             0              1  ...     0     0     0     0\n",
              "\n",
              "[5 rows x 13 columns]"
            ]
          },
          "metadata": {
            "tags": []
          },
          "execution_count": 196
        }
      ]
    },
    {
      "cell_type": "code",
      "metadata": {
        "id": "9ApXQDRuUtrK",
        "colab_type": "code",
        "colab": {}
      },
      "source": [
        "# answer below:\n",
        "from sklearn.model_selection import train_test_split\n",
        "\n",
        "X = csection[['Age', 'Heart Problem'] + dummy_column_names]\n",
        "\n",
        "y= csection['Caesarian']\n",
        "\n",
        "X_train, X_test, y_train, y_test= train_test_split(X, y, test_size=.2)"
      ],
      "execution_count": 0,
      "outputs": []
    },
    {
      "cell_type": "markdown",
      "metadata": {
        "id": "P_h8WYktpuRj",
        "colab_type": "text"
      },
      "source": [
        "Generate an SVC model with a linear kernel. Set C=10. Check the score for both train and test. Does the model overfit?"
      ]
    },
    {
      "cell_type": "code",
      "metadata": {
        "id": "s7ZPqXMGpuRj",
        "colab_type": "code",
        "colab": {
          "base_uri": "https://localhost:8080/",
          "height": 85
        },
        "outputId": "c142f637-4bfa-4779-f145-817ea90b9aeb"
      },
      "source": [
        "# answer below:\n",
        "from sklearn.svm import SVC\n",
        "\n",
        "\n",
        "svm = SVC(kernel = 'linear', C=10)\n",
        "svm.fit(X_train, y_train)\n"
      ],
      "execution_count": 198,
      "outputs": [
        {
          "output_type": "execute_result",
          "data": {
            "text/plain": [
              "SVC(C=10, break_ties=False, cache_size=200, class_weight=None, coef0=0.0,\n",
              "    decision_function_shape='ovr', degree=3, gamma='scale', kernel='linear',\n",
              "    max_iter=-1, probability=False, random_state=None, shrinking=True,\n",
              "    tol=0.001, verbose=False)"
            ]
          },
          "metadata": {
            "tags": []
          },
          "execution_count": 198
        }
      ]
    },
    {
      "cell_type": "code",
      "metadata": {
        "id": "7TR-44hppuRm",
        "colab_type": "code",
        "colab": {
          "base_uri": "https://localhost:8080/",
          "height": 51
        },
        "outputId": "261fccdc-714e-463f-e72c-d2f25db4617d"
      },
      "source": [
        "print(svm.score(X_train, y_train))\n",
        "print(svm.score(X_test, y_test))"
      ],
      "execution_count": 199,
      "outputs": [
        {
          "output_type": "stream",
          "text": [
            "0.671875\n",
            "0.75\n"
          ],
          "name": "stdout"
        }
      ]
    },
    {
      "cell_type": "code",
      "metadata": {
        "id": "SORQQf_6VQm4",
        "colab_type": "code",
        "colab": {}
      },
      "source": [
        "# due to the large difference between train and test scores the model does appear to overfit "
      ],
      "execution_count": 0,
      "outputs": []
    },
    {
      "cell_type": "markdown",
      "metadata": {
        "id": "ahsyvz1LpuRn",
        "colab_type": "text"
      },
      "source": [
        "If you have determined the model to overfit, pick a value of C based on your conclusion and show that the difference between the scores has improved."
      ]
    },
    {
      "cell_type": "code",
      "metadata": {
        "id": "tE_-fqFcpuRo",
        "colab_type": "code",
        "colab": {
          "base_uri": "https://localhost:8080/",
          "height": 34
        },
        "outputId": "ce6def7a-81dc-48e8-ae8f-900625633d77"
      },
      "source": [
        "# answer below:\n",
        "from sklearn.model_selection import GridSearchCV\n",
        "\n",
        "\n",
        "svm= SVC(kernel='linear')\n",
        "\n",
        "tuned_parameters = [{'C': [.000001 ,.00001, .0001, .001, .01, .1, .5, 1, 5, 10, 100]}]\n",
        "\n",
        "csvm = GridSearchCV(svm,  param_grid=tuned_parameters, cv=10)\n",
        "csvm.fit(X_train, y_train)\n",
        "\n",
        "print(csvm.best_params_)"
      ],
      "execution_count": 201,
      "outputs": [
        {
          "output_type": "stream",
          "text": [
            "{'C': 1e-06}\n"
          ],
          "name": "stdout"
        }
      ]
    },
    {
      "cell_type": "code",
      "metadata": {
        "id": "pDFBrtDApuRp",
        "colab_type": "code",
        "colab": {
          "base_uri": "https://localhost:8080/",
          "height": 51
        },
        "outputId": "ef34338a-8268-4a9a-c809-cc277fa0f5b5"
      },
      "source": [
        "svm2 = SVC(kernel = 'linear', C= .1)\n",
        "svm2.fit(X_train, y_train)\n",
        "\n",
        "print(svm2.score(X_train, y_train))\n",
        "print(svm2.score(X_test, y_test))\n"
      ],
      "execution_count": 202,
      "outputs": [
        {
          "output_type": "stream",
          "text": [
            "0.59375\n",
            "0.5\n"
          ],
          "name": "stdout"
        }
      ]
    },
    {
      "cell_type": "markdown",
      "metadata": {
        "id": "oUzyujbwpuRr",
        "colab_type": "text"
      },
      "source": [
        "What if we switched up the target variable? Let assume that we know whether a patient received a c section. Let's try to predict whether she has high blood pressure. \n",
        "\n",
        "Create the SVC model with a linear kernel with Blood Pressure as the target variable. Report both the train and the test scores."
      ]
    },
    {
      "cell_type": "code",
      "metadata": {
        "id": "67gR7n1Ee4xn",
        "colab_type": "code",
        "colab": {
          "base_uri": "https://localhost:8080/",
          "height": 204
        },
        "outputId": "a2694bae-9aeb-4175-f668-c16f7f817f54"
      },
      "source": [
        "\n",
        "csec['Delivery number'] = csec['Delivery number'].astype('object')\n",
        "csec['Delivery time'] = csec['Delivery time'].astype('object')\n",
        "\n",
        "\n",
        "csec = pd.concat([csec,pd.get_dummies(csec['Delivery number'], prefix=\"dn\", drop_first=True)], axis=1)\n",
        "csec = pd.concat([csec,pd.get_dummies(csec['Delivery time'], prefix=\"dt\", drop_first=True)], axis=1)\n",
        "\n",
        "\n",
        "dummy_column_names = dummy_column_names + list(pd.get_dummies(csec['Delivery number'], prefix=\"dn\", drop_first=True).columns)\n",
        "dummy_column_names = dummy_column_names + list(pd.get_dummies(csec['Delivery time'], prefix=\"dt\", drop_first=True).columns)\n",
        "\n",
        "csec.head()"
      ],
      "execution_count": 203,
      "outputs": [
        {
          "output_type": "execute_result",
          "data": {
            "text/html": [
              "<div>\n",
              "<style scoped>\n",
              "    .dataframe tbody tr th:only-of-type {\n",
              "        vertical-align: middle;\n",
              "    }\n",
              "\n",
              "    .dataframe tbody tr th {\n",
              "        vertical-align: top;\n",
              "    }\n",
              "\n",
              "    .dataframe thead th {\n",
              "        text-align: right;\n",
              "    }\n",
              "</style>\n",
              "<table border=\"1\" class=\"dataframe\">\n",
              "  <thead>\n",
              "    <tr style=\"text-align: right;\">\n",
              "      <th></th>\n",
              "      <th>Age</th>\n",
              "      <th>Delivery number</th>\n",
              "      <th>Delivery time</th>\n",
              "      <th>Blood Pressure</th>\n",
              "      <th>Heart Problem</th>\n",
              "      <th>Caesarian</th>\n",
              "      <th>dn_2</th>\n",
              "      <th>dn_3</th>\n",
              "      <th>dn_4</th>\n",
              "      <th>dt_1</th>\n",
              "      <th>dt_2</th>\n",
              "    </tr>\n",
              "  </thead>\n",
              "  <tbody>\n",
              "    <tr>\n",
              "      <th>0</th>\n",
              "      <td>22</td>\n",
              "      <td>1</td>\n",
              "      <td>0</td>\n",
              "      <td>2</td>\n",
              "      <td>0</td>\n",
              "      <td>0</td>\n",
              "      <td>0</td>\n",
              "      <td>0</td>\n",
              "      <td>0</td>\n",
              "      <td>0</td>\n",
              "      <td>0</td>\n",
              "    </tr>\n",
              "    <tr>\n",
              "      <th>1</th>\n",
              "      <td>26</td>\n",
              "      <td>2</td>\n",
              "      <td>0</td>\n",
              "      <td>1</td>\n",
              "      <td>0</td>\n",
              "      <td>1</td>\n",
              "      <td>1</td>\n",
              "      <td>0</td>\n",
              "      <td>0</td>\n",
              "      <td>0</td>\n",
              "      <td>0</td>\n",
              "    </tr>\n",
              "    <tr>\n",
              "      <th>2</th>\n",
              "      <td>26</td>\n",
              "      <td>2</td>\n",
              "      <td>1</td>\n",
              "      <td>1</td>\n",
              "      <td>0</td>\n",
              "      <td>0</td>\n",
              "      <td>1</td>\n",
              "      <td>0</td>\n",
              "      <td>0</td>\n",
              "      <td>1</td>\n",
              "      <td>0</td>\n",
              "    </tr>\n",
              "    <tr>\n",
              "      <th>3</th>\n",
              "      <td>28</td>\n",
              "      <td>1</td>\n",
              "      <td>0</td>\n",
              "      <td>2</td>\n",
              "      <td>0</td>\n",
              "      <td>0</td>\n",
              "      <td>0</td>\n",
              "      <td>0</td>\n",
              "      <td>0</td>\n",
              "      <td>0</td>\n",
              "      <td>0</td>\n",
              "    </tr>\n",
              "    <tr>\n",
              "      <th>4</th>\n",
              "      <td>22</td>\n",
              "      <td>2</td>\n",
              "      <td>0</td>\n",
              "      <td>1</td>\n",
              "      <td>0</td>\n",
              "      <td>1</td>\n",
              "      <td>1</td>\n",
              "      <td>0</td>\n",
              "      <td>0</td>\n",
              "      <td>0</td>\n",
              "      <td>0</td>\n",
              "    </tr>\n",
              "  </tbody>\n",
              "</table>\n",
              "</div>"
            ],
            "text/plain": [
              "   Age Delivery number Delivery time  Blood Pressure  ...  dn_3  dn_4  dt_1  dt_2\n",
              "0   22               1             0               2  ...     0     0     0     0\n",
              "1   26               2             0               1  ...     0     0     0     0\n",
              "2   26               2             1               1  ...     0     0     1     0\n",
              "3   28               1             0               2  ...     0     0     0     0\n",
              "4   22               2             0               1  ...     0     0     0     0\n",
              "\n",
              "[5 rows x 11 columns]"
            ]
          },
          "metadata": {
            "tags": []
          },
          "execution_count": 203
        }
      ]
    },
    {
      "cell_type": "code",
      "metadata": {
        "id": "3daZ4qn0yyAN",
        "colab_type": "code",
        "colab": {
          "base_uri": "https://localhost:8080/",
          "height": 221
        },
        "outputId": "0c62b87b-8c0a-4092-88f8-9f98f91a732a"
      },
      "source": [
        "# get dummy column names\n",
        "dummy_column_names"
      ],
      "execution_count": 204,
      "outputs": [
        {
          "output_type": "execute_result",
          "data": {
            "text/plain": [
              "['bp_1',\n",
              " 'bp_2',\n",
              " 'dn_2',\n",
              " 'dn_3',\n",
              " 'dn_4',\n",
              " 'dt_1',\n",
              " 'dt_2',\n",
              " 'dn_2',\n",
              " 'dn_3',\n",
              " 'dn_4',\n",
              " 'dt_1',\n",
              " 'dt_2']"
            ]
          },
          "metadata": {
            "tags": []
          },
          "execution_count": 204
        }
      ]
    },
    {
      "cell_type": "code",
      "metadata": {
        "id": "p-rKXjzGzjKl",
        "colab_type": "code",
        "colab": {
          "base_uri": "https://localhost:8080/",
          "height": 34
        },
        "outputId": "0662ba2b-d3cd-4ef2-a375-79835470887d"
      },
      "source": [
        "# get rid of bp_1 and bp_2\n",
        "dummy_column_names.pop(0)\n",
        "dummy_column_names.pop(0)"
      ],
      "execution_count": 205,
      "outputs": [
        {
          "output_type": "execute_result",
          "data": {
            "text/plain": [
              "'bp_2'"
            ]
          },
          "metadata": {
            "tags": []
          },
          "execution_count": 205
        }
      ]
    },
    {
      "cell_type": "code",
      "metadata": {
        "id": "SFSmEa7QzpBH",
        "colab_type": "code",
        "colab": {
          "base_uri": "https://localhost:8080/",
          "height": 187
        },
        "outputId": "c76babe0-12cb-4fd6-9494-7e00449fdfbf"
      },
      "source": [
        "# check to make sure they're gone\n",
        "dummy_column_names"
      ],
      "execution_count": 206,
      "outputs": [
        {
          "output_type": "execute_result",
          "data": {
            "text/plain": [
              "['dn_2',\n",
              " 'dn_3',\n",
              " 'dn_4',\n",
              " 'dt_1',\n",
              " 'dt_2',\n",
              " 'dn_2',\n",
              " 'dn_3',\n",
              " 'dn_4',\n",
              " 'dt_1',\n",
              " 'dt_2']"
            ]
          },
          "metadata": {
            "tags": []
          },
          "execution_count": 206
        }
      ]
    },
    {
      "cell_type": "code",
      "metadata": {
        "id": "lKPF7TSdpuRs",
        "colab_type": "code",
        "colab": {}
      },
      "source": [
        "# new split with blood pressure as target\n",
        "X2 = csec[['Age', 'Heart Problem', 'Caesarian'] + dummy_column_names]\n",
        "\n",
        "\n",
        "y2= csec['Blood Pressure']\n",
        "\n",
        "X_train_2, X_test_2, y_train_2, y_test_2= train_test_split(X2, y2, test_size=.2)"
      ],
      "execution_count": 0,
      "outputs": []
    },
    {
      "cell_type": "code",
      "metadata": {
        "id": "TcCHdVcm0QJQ",
        "colab_type": "code",
        "colab": {
          "base_uri": "https://localhost:8080/",
          "height": 51
        },
        "outputId": "ee4ef981-a138-4068-e5ff-79f701299026"
      },
      "source": [
        "# new model and scores \n",
        "svm2 = SVC(kernel = 'linear', C=10)\n",
        "svm2.fit(X_train_2, y_train_2)\n",
        "\n",
        "print(svm2.score(X_train_2, y_train_2))\n",
        "print(svm2.score(X_test_2, y_test_2))"
      ],
      "execution_count": 208,
      "outputs": [
        {
          "output_type": "stream",
          "text": [
            "0.625\n",
            "0.375\n"
          ],
          "name": "stdout"
        }
      ]
    },
    {
      "cell_type": "code",
      "metadata": {
        "id": "95cICrmy0Rro",
        "colab_type": "code",
        "colab": {
          "base_uri": "https://localhost:8080/",
          "height": 34
        },
        "outputId": "402b6ebb-8a82-4b9d-f278-61315eb25938"
      },
      "source": [
        "# GridSearch to find best C\n",
        "svm= SVC(kernel='linear')\n",
        "\n",
        "tuned_parameters = [{'C': [.000001 ,.00001, .0001, .001, .01, .1, .5, 1, 5, 10, 100]}]\n",
        "\n",
        "csvm2 = GridSearchCV(svm,  param_grid=tuned_parameters, cv=10)\n",
        "csvm2.fit(X_train_2, y_train_2)\n",
        "\n",
        "print(csvm2.best_params_)"
      ],
      "execution_count": 209,
      "outputs": [
        {
          "output_type": "stream",
          "text": [
            "{'C': 0.1}\n"
          ],
          "name": "stdout"
        }
      ]
    },
    {
      "cell_type": "code",
      "metadata": {
        "id": "3H-wFBjs0gzE",
        "colab_type": "code",
        "colab": {
          "base_uri": "https://localhost:8080/",
          "height": 51
        },
        "outputId": "a5840599-e53c-4654-eb41-229a3439a1f0"
      },
      "source": [
        "# implement best C\n",
        "svm = SVC(kernel = 'linear', C=.1)\n",
        "svm.fit(X_train_2, y_train_2)\n",
        "\n",
        "print(svm.score(X_train_2, y_train_2))\n",
        "print(svm.score(X_test_2, y_test_2))"
      ],
      "execution_count": 213,
      "outputs": [
        {
          "output_type": "stream",
          "text": [
            "0.546875\n",
            "0.5625\n"
          ],
          "name": "stdout"
        }
      ]
    },
    {
      "cell_type": "markdown",
      "metadata": {
        "id": "-Gs6homepuRv",
        "colab_type": "text"
      },
      "source": [
        "Now try to generate the model using the one vs. one decision function."
      ]
    },
    {
      "cell_type": "code",
      "metadata": {
        "id": "a9BWcNAmpuRv",
        "colab_type": "code",
        "colab": {
          "base_uri": "https://localhost:8080/",
          "height": 51
        },
        "outputId": "9ec4f407-18f8-41a1-b3ab-2f2b9159ea85"
      },
      "source": [
        "# answer below:\n",
        "svm = SVC(C=.1, kernel='linear', decision_function_shape='ovo')\n",
        "svm.fit(X_train_2, y_train_2)\n",
        "\n",
        "print('Accuracy on training set', svm.score(X_train_2, y_train_2))\n",
        "print('Accuracy on testing set', svm.score(X_test_2, y_test_2))"
      ],
      "execution_count": 215,
      "outputs": [
        {
          "output_type": "stream",
          "text": [
            "Accuracy on training set 0.546875\n",
            "Accuracy on testing set 0.5625\n"
          ],
          "name": "stdout"
        }
      ]
    }
  ]
}