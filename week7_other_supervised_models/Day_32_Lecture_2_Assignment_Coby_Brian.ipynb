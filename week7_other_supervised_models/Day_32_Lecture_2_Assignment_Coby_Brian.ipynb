{
  "nbformat": 4,
  "nbformat_minor": 0,
  "metadata": {
    "kernelspec": {
      "display_name": "Python 3",
      "language": "python",
      "name": "python3"
    },
    "language_info": {
      "codemirror_mode": {
        "name": "ipython",
        "version": 3
      },
      "file_extension": ".py",
      "mimetype": "text/x-python",
      "name": "python",
      "nbconvert_exporter": "python",
      "pygments_lexer": "ipython3",
      "version": "3.7.0"
    },
    "colab": {
      "name": "Day 32 Lecture 2 Assignment Coby/Brian.ipynb",
      "provenance": [],
      "collapsed_sections": []
    }
  },
  "cells": [
    {
      "cell_type": "markdown",
      "metadata": {
        "id": "TNewN9PjovQQ",
        "colab_type": "text"
      },
      "source": [
        "## Day 32 Lecture 2 Assignment\n",
        "\n",
        "In this assignment, we will learn about SVM. We will use the csection dataset loaded below and analyze the model generated for this dataset."
      ]
    },
    {
      "cell_type": "code",
      "metadata": {
        "id": "LytTJ7m3ovQR",
        "colab_type": "code",
        "colab": {}
      },
      "source": [
        "%matplotlib inline\n",
        "\n",
        "import matplotlib.pyplot as plt\n",
        "import numpy as np\n",
        "import pandas as pd\n",
        "\n",
        "from scipy import stats\n",
        "import seaborn as sns\n",
        "\n",
        "from sklearn.model_selection import train_test_split\n",
        "\n"
      ],
      "execution_count": 0,
      "outputs": []
    },
    {
      "cell_type": "code",
      "metadata": {
        "id": "suyUnuV1ovQT",
        "colab_type": "code",
        "colab": {}
      },
      "source": [
        "# Age -  ranges from 18 to 40  \n",
        "# Delivery number - ranges from 1 to 4\n",
        "# Delivery time -  {0 = timely , 1 = premature , 2 = latecomer}\n",
        "# Blood of Pressure - {0 = low , 1 = normal , 2 = high }\n",
        "# Heart Problem - {0 = apt, 1 = inept }\n",
        "\n",
        "# Target - Caesarian - {0 = No, 1 = Yes }\n",
        "\n",
        "csect = pd.read_csv('https://tf-assets-prod.s3.amazonaws.com/tf-curric/data-science/csection.csv')"
      ],
      "execution_count": 0,
      "outputs": []
    },
    {
      "cell_type": "markdown",
      "metadata": {
        "id": "3Bmh_TY6ovQU",
        "colab_type": "text"
      },
      "source": [
        "Our goal is to predict the patient needed a csection."
      ]
    },
    {
      "cell_type": "code",
      "metadata": {
        "id": "azzR0Ke4ovQV",
        "colab_type": "code",
        "outputId": "afdc5b3d-8a66-4bb7-8ea7-b7ecb17eb0ab",
        "colab": {
          "base_uri": "https://localhost:8080/",
          "height": 206
        }
      },
      "source": [
        "csection = csect.copy()\n",
        "csection.head()"
      ],
      "execution_count": 71,
      "outputs": [
        {
          "output_type": "execute_result",
          "data": {
            "text/html": [
              "<div>\n",
              "<style scoped>\n",
              "    .dataframe tbody tr th:only-of-type {\n",
              "        vertical-align: middle;\n",
              "    }\n",
              "\n",
              "    .dataframe tbody tr th {\n",
              "        vertical-align: top;\n",
              "    }\n",
              "\n",
              "    .dataframe thead th {\n",
              "        text-align: right;\n",
              "    }\n",
              "</style>\n",
              "<table border=\"1\" class=\"dataframe\">\n",
              "  <thead>\n",
              "    <tr style=\"text-align: right;\">\n",
              "      <th></th>\n",
              "      <th>Age</th>\n",
              "      <th>Delivery number</th>\n",
              "      <th>Delivery time</th>\n",
              "      <th>Blood Pressure</th>\n",
              "      <th>Heart Problem</th>\n",
              "      <th>Caesarian</th>\n",
              "    </tr>\n",
              "  </thead>\n",
              "  <tbody>\n",
              "    <tr>\n",
              "      <th>0</th>\n",
              "      <td>22</td>\n",
              "      <td>1</td>\n",
              "      <td>0</td>\n",
              "      <td>2</td>\n",
              "      <td>0</td>\n",
              "      <td>0</td>\n",
              "    </tr>\n",
              "    <tr>\n",
              "      <th>1</th>\n",
              "      <td>26</td>\n",
              "      <td>2</td>\n",
              "      <td>0</td>\n",
              "      <td>1</td>\n",
              "      <td>0</td>\n",
              "      <td>1</td>\n",
              "    </tr>\n",
              "    <tr>\n",
              "      <th>2</th>\n",
              "      <td>26</td>\n",
              "      <td>2</td>\n",
              "      <td>1</td>\n",
              "      <td>1</td>\n",
              "      <td>0</td>\n",
              "      <td>0</td>\n",
              "    </tr>\n",
              "    <tr>\n",
              "      <th>3</th>\n",
              "      <td>28</td>\n",
              "      <td>1</td>\n",
              "      <td>0</td>\n",
              "      <td>2</td>\n",
              "      <td>0</td>\n",
              "      <td>0</td>\n",
              "    </tr>\n",
              "    <tr>\n",
              "      <th>4</th>\n",
              "      <td>22</td>\n",
              "      <td>2</td>\n",
              "      <td>0</td>\n",
              "      <td>1</td>\n",
              "      <td>0</td>\n",
              "      <td>1</td>\n",
              "    </tr>\n",
              "  </tbody>\n",
              "</table>\n",
              "</div>"
            ],
            "text/plain": [
              "   Age  Delivery number  ...  Heart Problem  Caesarian\n",
              "0   22                1  ...              0          0\n",
              "1   26                2  ...              0          1\n",
              "2   26                2  ...              0          0\n",
              "3   28                1  ...              0          0\n",
              "4   22                2  ...              0          1\n",
              "\n",
              "[5 rows x 6 columns]"
            ]
          },
          "metadata": {
            "tags": []
          },
          "execution_count": 71
        }
      ]
    },
    {
      "cell_type": "markdown",
      "metadata": {
        "id": "czH3rbgvovQX",
        "colab_type": "text"
      },
      "source": [
        "Check whether the data has missing values and remove all rows containing missing values."
      ]
    },
    {
      "cell_type": "code",
      "metadata": {
        "id": "SQ5lvwgtovQY",
        "colab_type": "code",
        "outputId": "f336c455-9042-4a84-d682-ad23c8c760ae",
        "colab": {
          "base_uri": "https://localhost:8080/",
          "height": 144
        }
      },
      "source": [
        "# answer below:\n",
        "csection.isnull().sum()*100/csection.isnull().count()\n"
      ],
      "execution_count": 72,
      "outputs": [
        {
          "output_type": "execute_result",
          "data": {
            "text/plain": [
              "Age                0.0\n",
              "Delivery number    0.0\n",
              "Delivery time      0.0\n",
              "Blood Pressure     0.0\n",
              "Heart Problem      0.0\n",
              "Caesarian          0.0\n",
              "dtype: float64"
            ]
          },
          "metadata": {
            "tags": []
          },
          "execution_count": 72
        }
      ]
    },
    {
      "cell_type": "code",
      "metadata": {
        "id": "oSJs6axorPxC",
        "colab_type": "code",
        "outputId": "060fe8ac-4a17-4ce9-ec6e-c55cf07507ca",
        "colab": {
          "base_uri": "https://localhost:8080/",
          "height": 108
        }
      },
      "source": [
        "print(csection['Blood Pressure'].nunique())\n",
        "print(csection['Delivery number'].nunique())\n",
        "print(csection['Delivery time'].nunique())\n",
        "print(csection['Heart Problem'].nunique())\n",
        "print(csection['Caesarian'].nunique())"
      ],
      "execution_count": 73,
      "outputs": [
        {
          "output_type": "stream",
          "text": [
            "3\n",
            "4\n",
            "3\n",
            "2\n",
            "2\n"
          ],
          "name": "stdout"
        }
      ]
    },
    {
      "cell_type": "markdown",
      "metadata": {
        "id": "ctUa7VJaovQa",
        "colab_type": "text"
      },
      "source": [
        "Examine the distribution of delivery number, blood pressure and heart problem."
      ]
    },
    {
      "cell_type": "code",
      "metadata": {
        "id": "vHNgbQFEsrG_",
        "colab_type": "code",
        "outputId": "af816e17-a836-4212-aa3d-328349c4522d",
        "colab": {
          "base_uri": "https://localhost:8080/",
          "height": 217
        }
      },
      "source": [
        "csection.info()"
      ],
      "execution_count": 74,
      "outputs": [
        {
          "output_type": "stream",
          "text": [
            "<class 'pandas.core.frame.DataFrame'>\n",
            "RangeIndex: 80 entries, 0 to 79\n",
            "Data columns (total 6 columns):\n",
            "Age                80 non-null int64\n",
            "Delivery number    80 non-null int64\n",
            "Delivery time      80 non-null int64\n",
            "Blood Pressure     80 non-null int64\n",
            "Heart Problem      80 non-null int64\n",
            "Caesarian          80 non-null int64\n",
            "dtypes: int64(6)\n",
            "memory usage: 3.9 KB\n"
          ],
          "name": "stdout"
        }
      ]
    },
    {
      "cell_type": "code",
      "metadata": {
        "id": "hwLw5sCDovQa",
        "colab_type": "code",
        "outputId": "9b7c7d5a-b576-43b7-e27c-ea4c33725e3f",
        "colab": {
          "base_uri": "https://localhost:8080/",
          "height": 126
        }
      },
      "source": [
        "# answer below:\n",
        "print(stats.shapiro(csection['Age']))\n",
        "print(stats.shapiro(csection['Delivery number']))\n",
        "print(stats.shapiro(csection['Delivery time']))\n",
        "print(stats.shapiro(csection['Blood Pressure']))\n",
        "print(stats.shapiro(csection['Heart Problem']))\n",
        "print(stats.shapiro(csection['Caesarian']))\n"
      ],
      "execution_count": 75,
      "outputs": [
        {
          "output_type": "stream",
          "text": [
            "(0.985468327999115, 0.5022286772727966)\n",
            "(0.7658017873764038, 5.813566850143559e-10)\n",
            "(0.708907961845398, 2.658044964687356e-11)\n",
            "(0.8076173663139343, 7.82169262691923e-09)\n",
            "(0.6133193969726562, 3.385373578690398e-13)\n",
            "(0.628216028213501, 6.333036851012552e-13)\n"
          ],
          "name": "stdout"
        }
      ]
    },
    {
      "cell_type": "code",
      "metadata": {
        "id": "oqHDA6teujbM",
        "colab_type": "code",
        "outputId": "04475a0c-8b79-46ea-9557-10b887366072",
        "colab": {
          "base_uri": "https://localhost:8080/",
          "height": 279
        }
      },
      "source": [
        "ax = sns.distplot(csection['Age'])"
      ],
      "execution_count": 76,
      "outputs": [
        {
          "output_type": "display_data",
          "data": {
            "image/png": "[encoded data removed]",
            "text/plain": [
              "<Figure size 432x288 with 1 Axes>"
            ]
          },
          "metadata": {
            "tags": []
          }
        }
      ]
    },
    {
      "cell_type": "code",
      "metadata": {
        "id": "zOZ9yOjJu4aE",
        "colab_type": "code",
        "outputId": "404ab2cc-b026-4024-f69c-a581337840c5",
        "colab": {
          "base_uri": "https://localhost:8080/",
          "height": 279
        }
      },
      "source": [
        "ax = sns.distplot(csection['Delivery number'])"
      ],
      "execution_count": 77,
      "outputs": [
        {
          "output_type": "display_data",
          "data": {
            "image/png": "[encoded data removed]",
            "text/plain": [
              "<Figure size 432x288 with 1 Axes>"
            ]
          },
          "metadata": {
            "tags": []
          }
        }
      ]
    },
    {
      "cell_type": "code",
      "metadata": {
        "id": "ri1aTpeCu_X2",
        "colab_type": "code",
        "outputId": "1e77f752-595d-4463-84f6-0f3b949154ca",
        "colab": {
          "base_uri": "https://localhost:8080/",
          "height": 279
        }
      },
      "source": [
        "ax = sns.distplot(csection['Delivery time'])"
      ],
      "execution_count": 78,
      "outputs": [
        {
          "output_type": "display_data",
          "data": {
            "image/png": "[encoded data removed]",
            "text/plain": [
              "<Figure size 432x288 with 1 Axes>"
            ]
          },
          "metadata": {
            "tags": []
          }
        }
      ]
    },
    {
      "cell_type": "code",
      "metadata": {
        "id": "x5aGFUyzvF6C",
        "colab_type": "code",
        "outputId": "c704889d-a5d1-4267-a81d-81f6a5479798",
        "colab": {
          "base_uri": "https://localhost:8080/",
          "height": 279
        }
      },
      "source": [
        "ax = sns.distplot(csection['Blood Pressure'])"
      ],
      "execution_count": 79,
      "outputs": [
        {
          "output_type": "display_data",
          "data": {
            "image/png": "[encoded data removed]",
            "text/plain": [
              "<Figure size 432x288 with 1 Axes>"
            ]
          },
          "metadata": {
            "tags": []
          }
        }
      ]
    },
    {
      "cell_type": "code",
      "metadata": {
        "id": "DiuDjFLvvWE9",
        "colab_type": "code",
        "outputId": "3f24d2f6-43fe-43ca-b09c-71a679a43439",
        "colab": {
          "base_uri": "https://localhost:8080/",
          "height": 279
        }
      },
      "source": [
        "ax = sns.distplot(csection['Heart Problem'])"
      ],
      "execution_count": 80,
      "outputs": [
        {
          "output_type": "display_data",
          "data": {
            "image/png": "[encoded data removed]",
            "text/plain": [
              "<Figure size 432x288 with 1 Axes>"
            ]
          },
          "metadata": {
            "tags": []
          }
        }
      ]
    },
    {
      "cell_type": "code",
      "metadata": {
        "id": "DkJdkT-Kvf9m",
        "colab_type": "code",
        "outputId": "313e6fe1-8b74-475e-c8a0-b27011ef6a00",
        "colab": {
          "base_uri": "https://localhost:8080/",
          "height": 279
        }
      },
      "source": [
        "ax = sns.distplot(csection['Caesarian'])"
      ],
      "execution_count": 81,
      "outputs": [
        {
          "output_type": "display_data",
          "data": {
            "image/png": "[encoded data removed]",
            "text/plain": [
              "<Figure size 432x288 with 1 Axes>"
            ]
          },
          "metadata": {
            "tags": []
          }
        }
      ]
    },
    {
      "cell_type": "markdown",
      "metadata": {
        "id": "bfwT1rHQovQc",
        "colab_type": "text"
      },
      "source": [
        "What are your conclusions from the distributions of these variables? Write them below."
      ]
    },
    {
      "cell_type": "markdown",
      "metadata": {
        "id": "TviWzPMCvp8-",
        "colab_type": "text"
      },
      "source": [
        "They are not normally distributed from looking at the Shapiro tests and histogram plots."
      ]
    },
    {
      "cell_type": "code",
      "metadata": {
        "id": "x1eDQXs8ovQc",
        "colab_type": "code",
        "outputId": "2f35a3b6-91d0-4753-fee7-5dce974ac4d6",
        "colab": {
          "base_uri": "https://localhost:8080/",
          "height": 72
        }
      },
      "source": [
        "# answer below:\n",
        "print(csection['Blood Pressure'].unique())\n",
        "print(csection['Delivery number'].unique())\n",
        "print(csection['Delivery time'].unique())\n",
        "\n"
      ],
      "execution_count": 82,
      "outputs": [
        {
          "output_type": "stream",
          "text": [
            "[2 1 0]\n",
            "[1 2 3 4]\n",
            "[0 1 2]\n"
          ],
          "name": "stdout"
        }
      ]
    },
    {
      "cell_type": "markdown",
      "metadata": {
        "id": "uuntXGeFovQe",
        "colab_type": "text"
      },
      "source": [
        "Create dummy variables from all columns containing categorical variables with more than two values."
      ]
    },
    {
      "cell_type": "code",
      "metadata": {
        "id": "bCNx1HLBovQe",
        "colab_type": "code",
        "outputId": "d734c670-6233-4a3c-ba65-a763efc2d086",
        "colab": {
          "base_uri": "https://localhost:8080/",
          "height": 243
        }
      },
      "source": [
        "# answer below:\n",
        "\n",
        "csection['Blood Pressure'] = csection['Blood Pressure'].astype('object')\n",
        "csection['Delivery number'] = csection['Delivery number'].astype('object')\n",
        "csection['Delivery time'] = csection['Delivery time'].astype('object')\n",
        "\n",
        "csection = pd.concat([csection,pd.get_dummies(csection['Blood Pressure'], prefix=\"bp\", drop_first=True)], axis=1)\n",
        "csection = pd.concat([csection,pd.get_dummies(csection['Delivery number'], prefix=\"dn\", drop_first=True)], axis=1)\n",
        "csection = pd.concat([csection,pd.get_dummies(csection['Delivery time'], prefix=\"dt\", drop_first=True)], axis=1)\n",
        "\n",
        "dummy_column_names = list(pd.get_dummies(csection['Blood Pressure'], prefix=\"bp\", drop_first=True).columns)\n",
        "dummy_column_names = dummy_column_names + list(pd.get_dummies(csection['Delivery number'], prefix=\"dn\", drop_first=True).columns)\n",
        "dummy_column_names = dummy_column_names + list(pd.get_dummies(csection['Delivery time'], prefix=\"dt\", drop_first=True).columns)\n",
        "\n",
        "csection.head()"
      ],
      "execution_count": 83,
      "outputs": [
        {
          "output_type": "execute_result",
          "data": {
            "text/html": [
              "<div>\n",
              "<style scoped>\n",
              "    .dataframe tbody tr th:only-of-type {\n",
              "        vertical-align: middle;\n",
              "    }\n",
              "\n",
              "    .dataframe tbody tr th {\n",
              "        vertical-align: top;\n",
              "    }\n",
              "\n",
              "    .dataframe thead th {\n",
              "        text-align: right;\n",
              "    }\n",
              "</style>\n",
              "<table border=\"1\" class=\"dataframe\">\n",
              "  <thead>\n",
              "    <tr style=\"text-align: right;\">\n",
              "      <th></th>\n",
              "      <th>Age</th>\n",
              "      <th>Delivery number</th>\n",
              "      <th>Delivery time</th>\n",
              "      <th>Blood Pressure</th>\n",
              "      <th>Heart Problem</th>\n",
              "      <th>Caesarian</th>\n",
              "      <th>bp_1</th>\n",
              "      <th>bp_2</th>\n",
              "      <th>dn_2</th>\n",
              "      <th>dn_3</th>\n",
              "      <th>dn_4</th>\n",
              "      <th>dt_1</th>\n",
              "      <th>dt_2</th>\n",
              "    </tr>\n",
              "  </thead>\n",
              "  <tbody>\n",
              "    <tr>\n",
              "      <th>0</th>\n",
              "      <td>22</td>\n",
              "      <td>1</td>\n",
              "      <td>0</td>\n",
              "      <td>2</td>\n",
              "      <td>0</td>\n",
              "      <td>0</td>\n",
              "      <td>0</td>\n",
              "      <td>1</td>\n",
              "      <td>0</td>\n",
              "      <td>0</td>\n",
              "      <td>0</td>\n",
              "      <td>0</td>\n",
              "      <td>0</td>\n",
              "    </tr>\n",
              "    <tr>\n",
              "      <th>1</th>\n",
              "      <td>26</td>\n",
              "      <td>2</td>\n",
              "      <td>0</td>\n",
              "      <td>1</td>\n",
              "      <td>0</td>\n",
              "      <td>1</td>\n",
              "      <td>1</td>\n",
              "      <td>0</td>\n",
              "      <td>1</td>\n",
              "      <td>0</td>\n",
              "      <td>0</td>\n",
              "      <td>0</td>\n",
              "      <td>0</td>\n",
              "    </tr>\n",
              "    <tr>\n",
              "      <th>2</th>\n",
              "      <td>26</td>\n",
              "      <td>2</td>\n",
              "      <td>1</td>\n",
              "      <td>1</td>\n",
              "      <td>0</td>\n",
              "      <td>0</td>\n",
              "      <td>1</td>\n",
              "      <td>0</td>\n",
              "      <td>1</td>\n",
              "      <td>0</td>\n",
              "      <td>0</td>\n",
              "      <td>1</td>\n",
              "      <td>0</td>\n",
              "    </tr>\n",
              "    <tr>\n",
              "      <th>3</th>\n",
              "      <td>28</td>\n",
              "      <td>1</td>\n",
              "      <td>0</td>\n",
              "      <td>2</td>\n",
              "      <td>0</td>\n",
              "      <td>0</td>\n",
              "      <td>0</td>\n",
              "      <td>1</td>\n",
              "      <td>0</td>\n",
              "      <td>0</td>\n",
              "      <td>0</td>\n",
              "      <td>0</td>\n",
              "      <td>0</td>\n",
              "    </tr>\n",
              "    <tr>\n",
              "      <th>4</th>\n",
              "      <td>22</td>\n",
              "      <td>2</td>\n",
              "      <td>0</td>\n",
              "      <td>1</td>\n",
              "      <td>0</td>\n",
              "      <td>1</td>\n",
              "      <td>1</td>\n",
              "      <td>0</td>\n",
              "      <td>1</td>\n",
              "      <td>0</td>\n",
              "      <td>0</td>\n",
              "      <td>0</td>\n",
              "      <td>0</td>\n",
              "    </tr>\n",
              "  </tbody>\n",
              "</table>\n",
              "</div>"
            ],
            "text/plain": [
              "   Age Delivery number Delivery time Blood Pressure  ...  dn_3  dn_4  dt_1  dt_2\n",
              "0   22               1             0              2  ...     0     0     0     0\n",
              "1   26               2             0              1  ...     0     0     0     0\n",
              "2   26               2             1              1  ...     0     0     1     0\n",
              "3   28               1             0              2  ...     0     0     0     0\n",
              "4   22               2             0              1  ...     0     0     0     0\n",
              "\n",
              "[5 rows x 13 columns]"
            ]
          },
          "metadata": {
            "tags": []
          },
          "execution_count": 83
        }
      ]
    },
    {
      "cell_type": "markdown",
      "metadata": {
        "id": "-H-fgAcvovQg",
        "colab_type": "text"
      },
      "source": [
        "Split the data into test and train with test containing 20% of the data."
      ]
    },
    {
      "cell_type": "code",
      "metadata": {
        "id": "Fjauxq1WovQg",
        "colab_type": "code",
        "colab": {}
      },
      "source": [
        "# answer below:\n",
        "\n",
        "X = csection[['Age'] + dummy_column_names]\n",
        "\n",
        "y = csection['Caesarian']\n",
        "\n",
        "X_train, X_test, y_train, y_test= train_test_split(X, y, test_size=.2)\n"
      ],
      "execution_count": 0,
      "outputs": []
    },
    {
      "cell_type": "markdown",
      "metadata": {
        "id": "Dqv8gMI-ovQi",
        "colab_type": "text"
      },
      "source": [
        "Use the linear kernel to train a SVC model on our training data. Report the score for the test data."
      ]
    },
    {
      "cell_type": "code",
      "metadata": {
        "id": "8M10J0FYWWnO",
        "colab_type": "code",
        "colab": {
          "base_uri": "https://localhost:8080/",
          "height": 35
        },
        "outputId": "89b9bfe2-12ba-48b3-8c8d-dd53442859c1"
      },
      "source": [
        "from sklearn.svm import SVC\n",
        "from sklearn.model_selection import GridSearchCV\n",
        "\n",
        "lin_svm= SVC(kernel='linear')\n",
        "tuned_parameters = [{'C': [.000001, .00001, .0001, .001, .01, .1, .5, 1, 5, 10, 100]}]\n",
        "lin_svm = GridSearchCV(lin_svm,  param_grid=tuned_parameters, cv=10)\n",
        "lin_svm.fit(X_train, y_train)\n",
        "print(lin_svm.best_params_)"
      ],
      "execution_count": 88,
      "outputs": [
        {
          "output_type": "stream",
          "text": [
            "{'C': 0.5}\n"
          ],
          "name": "stdout"
        }
      ]
    },
    {
      "cell_type": "code",
      "metadata": {
        "id": "Fw3loKixovQi",
        "colab_type": "code",
        "outputId": "b861c05b-5f85-4501-d097-c33faa1293ef",
        "colab": {
          "base_uri": "https://localhost:8080/",
          "height": 90
        }
      },
      "source": [
        "from sklearn.svm import SVC\n",
        "\n",
        "lin_svm = SVC(C=0.5, kernel='linear', probability=True)\n",
        "\n",
        "lin_svm.fit(X_train, y_train)\n"
      ],
      "execution_count": 89,
      "outputs": [
        {
          "output_type": "execute_result",
          "data": {
            "text/plain": [
              "SVC(C=0.5, break_ties=False, cache_size=200, class_weight=None, coef0=0.0,\n",
              "    decision_function_shape='ovr', degree=3, gamma='scale', kernel='linear',\n",
              "    max_iter=-1, probability=True, random_state=None, shrinking=True, tol=0.001,\n",
              "    verbose=False)"
            ]
          },
          "metadata": {
            "tags": []
          },
          "execution_count": 89
        }
      ]
    },
    {
      "cell_type": "code",
      "metadata": {
        "id": "crvhE4_fVIfQ",
        "colab_type": "code",
        "colab": {
          "base_uri": "https://localhost:8080/",
          "height": 53
        },
        "outputId": "76055f4b-189a-4833-bae7-b311c241ea92"
      },
      "source": [
        "from sklearn.metrics import accuracy_score\n",
        "\n",
        "svm.predict(X_train)\n",
        "\n",
        "y_train_pred = svm.predict(X_train)\n",
        "\n",
        "y_test_pred = svm.predict(X_test)\n",
        "\n",
        "print(accuracy_score(y_train, y_train_pred))\n",
        "\n",
        "print(accuracy_score(y_test, y_test_pred))"
      ],
      "execution_count": 90,
      "outputs": [
        {
          "output_type": "stream",
          "text": [
            "0.6875\n",
            "0.6875\n"
          ],
          "name": "stdout"
        }
      ]
    }
  ]
}