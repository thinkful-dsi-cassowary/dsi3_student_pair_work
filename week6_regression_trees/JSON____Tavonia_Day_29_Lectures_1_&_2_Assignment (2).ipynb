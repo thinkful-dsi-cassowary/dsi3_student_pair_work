{
  "nbformat": 4,
  "nbformat_minor": 0,
  "metadata": {
    "kernelspec": {
      "display_name": "Python 3",
      "language": "python",
      "name": "python3"
    },
    "language_info": {
      "codemirror_mode": {
        "name": "ipython",
        "version": 3
      },
      "file_extension": ".py",
      "mimetype": "text/x-python",
      "name": "python",
      "nbconvert_exporter": "python",
      "pygments_lexer": "ipython3",
      "version": "3.7.0"
    },
    "colab": {
      "name": "JSON <> Tavonia Day 29 Lectures 1 & 2 Assignment.ipynb",
      "provenance": [],
      "collapsed_sections": []
    }
  },
  "cells": [
    {
      "cell_type": "markdown",
      "metadata": {
        "id": "8aqm5lPgA1Bv",
        "colab_type": "text"
      },
      "source": [
        "https://sessions.thinkful.com/Jason-Tavonia\n",
        "\n",
        "https://colab.research.google.com/drive/1kqkgyq_VLeuDNAasojnYHdUrC6TBoaiz"
      ]
    },
    {
      "cell_type": "markdown",
      "metadata": {
        "id": "VqUtIOgdcSjK",
        "colab_type": "text"
      },
      "source": [
        "## Day 29 Lecture 1 Assignment\n",
        "\n",
        "In this assignment, we will learn about decision trees. We will use the Chicago salary dataset loaded below."
      ]
    },
    {
      "cell_type": "code",
      "metadata": {
        "id": "JOsKrr-kcSjL",
        "colab_type": "code",
        "colab": {}
      },
      "source": [
        "%matplotlib inline\n",
        "\n",
        "import matplotlib.pyplot as plt\n",
        "import numpy as np\n",
        "import pandas as pd\n",
        "from sklearn.model_selection import train_test_split\n",
        "from sklearn.tree import DecisionTreeRegressor\n",
        "from math import log2"
      ],
      "execution_count": 0,
      "outputs": []
    },
    {
      "cell_type": "code",
      "metadata": {
        "id": "2vSkCX1rcSjN",
        "colab_type": "code",
        "colab": {}
      },
      "source": [
        "chicago = pd.read_csv('https://tf-assets-prod.s3.amazonaws.com/tf-curric/data-science/Current_Employee_Names__Salaries__and_Position_Titles.csv')"
      ],
      "execution_count": 0,
      "outputs": []
    },
    {
      "cell_type": "code",
      "metadata": {
        "id": "PoyrvgWqcSjP",
        "colab_type": "code",
        "outputId": "3f4071f5-b892-4ac2-eaa4-e46435d317de",
        "colab": {
          "base_uri": "https://localhost:8080/",
          "height": 204
        }
      },
      "source": [
        "chicago.head()"
      ],
      "execution_count": 0,
      "outputs": [
        {
          "output_type": "execute_result",
          "data": {
            "text/html": [
              "<div>\n",
              "<style scoped>\n",
              "    .dataframe tbody tr th:only-of-type {\n",
              "        vertical-align: middle;\n",
              "    }\n",
              "\n",
              "    .dataframe tbody tr th {\n",
              "        vertical-align: top;\n",
              "    }\n",
              "\n",
              "    .dataframe thead th {\n",
              "        text-align: right;\n",
              "    }\n",
              "</style>\n",
              "<table border=\"1\" class=\"dataframe\">\n",
              "  <thead>\n",
              "    <tr style=\"text-align: right;\">\n",
              "      <th></th>\n",
              "      <th>Name</th>\n",
              "      <th>Job Titles</th>\n",
              "      <th>Department</th>\n",
              "      <th>Full or Part-Time</th>\n",
              "      <th>Salary or Hourly</th>\n",
              "      <th>Typical Hours</th>\n",
              "      <th>Annual Salary</th>\n",
              "      <th>Hourly Rate</th>\n",
              "    </tr>\n",
              "  </thead>\n",
              "  <tbody>\n",
              "    <tr>\n",
              "      <th>0</th>\n",
              "      <td>ALLISON,  PAUL W</td>\n",
              "      <td>LIEUTENANT</td>\n",
              "      <td>FIRE</td>\n",
              "      <td>F</td>\n",
              "      <td>Salary</td>\n",
              "      <td>NaN</td>\n",
              "      <td>$107790.00</td>\n",
              "      <td>NaN</td>\n",
              "    </tr>\n",
              "    <tr>\n",
              "      <th>1</th>\n",
              "      <td>BRUNO,  KEVIN D</td>\n",
              "      <td>SERGEANT</td>\n",
              "      <td>POLICE</td>\n",
              "      <td>F</td>\n",
              "      <td>Salary</td>\n",
              "      <td>NaN</td>\n",
              "      <td>$104628.00</td>\n",
              "      <td>NaN</td>\n",
              "    </tr>\n",
              "    <tr>\n",
              "      <th>2</th>\n",
              "      <td>COOPER,  JOHN E</td>\n",
              "      <td>LIEUTENANT-EMT</td>\n",
              "      <td>FIRE</td>\n",
              "      <td>F</td>\n",
              "      <td>Salary</td>\n",
              "      <td>NaN</td>\n",
              "      <td>$114324.00</td>\n",
              "      <td>NaN</td>\n",
              "    </tr>\n",
              "    <tr>\n",
              "      <th>3</th>\n",
              "      <td>CRESPO,  VILMA I</td>\n",
              "      <td>STAFF ASST</td>\n",
              "      <td>LAW</td>\n",
              "      <td>F</td>\n",
              "      <td>Salary</td>\n",
              "      <td>NaN</td>\n",
              "      <td>$76932.00</td>\n",
              "      <td>NaN</td>\n",
              "    </tr>\n",
              "    <tr>\n",
              "      <th>4</th>\n",
              "      <td>DOLAN,  ROBERT J</td>\n",
              "      <td>SERGEANT</td>\n",
              "      <td>POLICE</td>\n",
              "      <td>F</td>\n",
              "      <td>Salary</td>\n",
              "      <td>NaN</td>\n",
              "      <td>$111474.00</td>\n",
              "      <td>NaN</td>\n",
              "    </tr>\n",
              "  </tbody>\n",
              "</table>\n",
              "</div>"
            ],
            "text/plain": [
              "               Name      Job Titles  ... Annual Salary Hourly Rate\n",
              "0  ALLISON,  PAUL W      LIEUTENANT  ...    $107790.00         NaN\n",
              "1   BRUNO,  KEVIN D        SERGEANT  ...    $104628.00         NaN\n",
              "2   COOPER,  JOHN E  LIEUTENANT-EMT  ...    $114324.00         NaN\n",
              "3  CRESPO,  VILMA I      STAFF ASST  ...     $76932.00         NaN\n",
              "4  DOLAN,  ROBERT J        SERGEANT  ...    $111474.00         NaN\n",
              "\n",
              "[5 rows x 8 columns]"
            ]
          },
          "metadata": {
            "tags": []
          },
          "execution_count": 3
        }
      ]
    },
    {
      "cell_type": "markdown",
      "metadata": {
        "id": "Yvk4IgCocSjQ",
        "colab_type": "text"
      },
      "source": [
        "To simplify this problem, we will limit our model to only salary employees. Create a new dataset that does not contain any hourly employees."
      ]
    },
    {
      "cell_type": "code",
      "metadata": {
        "id": "X8mndXF2cSjR",
        "colab_type": "code",
        "outputId": "703b358a-f301-4f63-bd56-89f73101beb7",
        "colab": {
          "base_uri": "https://localhost:8080/",
          "height": 419
        }
      },
      "source": [
        "chicago.drop(chicago.loc[chicago['Salary or Hourly'] == 'Hourly'].index, axis=0, inplace=True)\n",
        "chicago"
      ],
      "execution_count": 0,
      "outputs": [
        {
          "output_type": "execute_result",
          "data": {
            "text/html": [
              "<div>\n",
              "<style scoped>\n",
              "    .dataframe tbody tr th:only-of-type {\n",
              "        vertical-align: middle;\n",
              "    }\n",
              "\n",
              "    .dataframe tbody tr th {\n",
              "        vertical-align: top;\n",
              "    }\n",
              "\n",
              "    .dataframe thead th {\n",
              "        text-align: right;\n",
              "    }\n",
              "</style>\n",
              "<table border=\"1\" class=\"dataframe\">\n",
              "  <thead>\n",
              "    <tr style=\"text-align: right;\">\n",
              "      <th></th>\n",
              "      <th>Name</th>\n",
              "      <th>Job Titles</th>\n",
              "      <th>Department</th>\n",
              "      <th>Full or Part-Time</th>\n",
              "      <th>Salary or Hourly</th>\n",
              "      <th>Typical Hours</th>\n",
              "      <th>Annual Salary</th>\n",
              "      <th>Hourly Rate</th>\n",
              "    </tr>\n",
              "  </thead>\n",
              "  <tbody>\n",
              "    <tr>\n",
              "      <th>0</th>\n",
              "      <td>ALLISON,  PAUL W</td>\n",
              "      <td>LIEUTENANT</td>\n",
              "      <td>FIRE</td>\n",
              "      <td>F</td>\n",
              "      <td>Salary</td>\n",
              "      <td>NaN</td>\n",
              "      <td>$107790.00</td>\n",
              "      <td>NaN</td>\n",
              "    </tr>\n",
              "    <tr>\n",
              "      <th>1</th>\n",
              "      <td>BRUNO,  KEVIN D</td>\n",
              "      <td>SERGEANT</td>\n",
              "      <td>POLICE</td>\n",
              "      <td>F</td>\n",
              "      <td>Salary</td>\n",
              "      <td>NaN</td>\n",
              "      <td>$104628.00</td>\n",
              "      <td>NaN</td>\n",
              "    </tr>\n",
              "    <tr>\n",
              "      <th>2</th>\n",
              "      <td>COOPER,  JOHN E</td>\n",
              "      <td>LIEUTENANT-EMT</td>\n",
              "      <td>FIRE</td>\n",
              "      <td>F</td>\n",
              "      <td>Salary</td>\n",
              "      <td>NaN</td>\n",
              "      <td>$114324.00</td>\n",
              "      <td>NaN</td>\n",
              "    </tr>\n",
              "    <tr>\n",
              "      <th>3</th>\n",
              "      <td>CRESPO,  VILMA I</td>\n",
              "      <td>STAFF ASST</td>\n",
              "      <td>LAW</td>\n",
              "      <td>F</td>\n",
              "      <td>Salary</td>\n",
              "      <td>NaN</td>\n",
              "      <td>$76932.00</td>\n",
              "      <td>NaN</td>\n",
              "    </tr>\n",
              "    <tr>\n",
              "      <th>4</th>\n",
              "      <td>DOLAN,  ROBERT J</td>\n",
              "      <td>SERGEANT</td>\n",
              "      <td>POLICE</td>\n",
              "      <td>F</td>\n",
              "      <td>Salary</td>\n",
              "      <td>NaN</td>\n",
              "      <td>$111474.00</td>\n",
              "      <td>NaN</td>\n",
              "    </tr>\n",
              "    <tr>\n",
              "      <th>...</th>\n",
              "      <td>...</td>\n",
              "      <td>...</td>\n",
              "      <td>...</td>\n",
              "      <td>...</td>\n",
              "      <td>...</td>\n",
              "      <td>...</td>\n",
              "      <td>...</td>\n",
              "      <td>...</td>\n",
              "    </tr>\n",
              "    <tr>\n",
              "      <th>32653</th>\n",
              "      <td>ZYGOWICZ,  PETER J</td>\n",
              "      <td>POLICE OFFICER</td>\n",
              "      <td>POLICE</td>\n",
              "      <td>F</td>\n",
              "      <td>Salary</td>\n",
              "      <td>NaN</td>\n",
              "      <td>$90024.00</td>\n",
              "      <td>NaN</td>\n",
              "    </tr>\n",
              "    <tr>\n",
              "      <th>32654</th>\n",
              "      <td>ZYLINSKA,  KATARZYNA</td>\n",
              "      <td>POLICE OFFICER</td>\n",
              "      <td>POLICE</td>\n",
              "      <td>F</td>\n",
              "      <td>Salary</td>\n",
              "      <td>NaN</td>\n",
              "      <td>$48078.00</td>\n",
              "      <td>NaN</td>\n",
              "    </tr>\n",
              "    <tr>\n",
              "      <th>32655</th>\n",
              "      <td>ZYMANTAS,  MARK E</td>\n",
              "      <td>POLICE OFFICER</td>\n",
              "      <td>POLICE</td>\n",
              "      <td>F</td>\n",
              "      <td>Salary</td>\n",
              "      <td>NaN</td>\n",
              "      <td>$87006.00</td>\n",
              "      <td>NaN</td>\n",
              "    </tr>\n",
              "    <tr>\n",
              "      <th>32656</th>\n",
              "      <td>ZYRKOWSKI,  CARLO E</td>\n",
              "      <td>POLICE OFFICER</td>\n",
              "      <td>POLICE</td>\n",
              "      <td>F</td>\n",
              "      <td>Salary</td>\n",
              "      <td>NaN</td>\n",
              "      <td>$93354.00</td>\n",
              "      <td>NaN</td>\n",
              "    </tr>\n",
              "    <tr>\n",
              "      <th>32657</th>\n",
              "      <td>ZYSKOWSKI,  DARIUSZ</td>\n",
              "      <td>CHIEF DATA BASE ANALYST</td>\n",
              "      <td>DoIT</td>\n",
              "      <td>F</td>\n",
              "      <td>Salary</td>\n",
              "      <td>NaN</td>\n",
              "      <td>$115932.00</td>\n",
              "      <td>NaN</td>\n",
              "    </tr>\n",
              "  </tbody>\n",
              "</table>\n",
              "<p>24775 rows × 8 columns</p>\n",
              "</div>"
            ],
            "text/plain": [
              "                        Name               Job Titles  ... Annual Salary Hourly Rate\n",
              "0           ALLISON,  PAUL W               LIEUTENANT  ...    $107790.00         NaN\n",
              "1            BRUNO,  KEVIN D                 SERGEANT  ...    $104628.00         NaN\n",
              "2            COOPER,  JOHN E           LIEUTENANT-EMT  ...    $114324.00         NaN\n",
              "3           CRESPO,  VILMA I               STAFF ASST  ...     $76932.00         NaN\n",
              "4           DOLAN,  ROBERT J                 SERGEANT  ...    $111474.00         NaN\n",
              "...                      ...                      ...  ...           ...         ...\n",
              "32653     ZYGOWICZ,  PETER J           POLICE OFFICER  ...     $90024.00         NaN\n",
              "32654  ZYLINSKA,  KATARZYNA            POLICE OFFICER  ...     $48078.00         NaN\n",
              "32655      ZYMANTAS,  MARK E           POLICE OFFICER  ...     $87006.00         NaN\n",
              "32656    ZYRKOWSKI,  CARLO E           POLICE OFFICER  ...     $93354.00         NaN\n",
              "32657   ZYSKOWSKI,  DARIUSZ   CHIEF DATA BASE ANALYST  ...    $115932.00         NaN\n",
              "\n",
              "[24775 rows x 8 columns]"
            ]
          },
          "metadata": {
            "tags": []
          },
          "execution_count": 4
        }
      ]
    },
    {
      "cell_type": "markdown",
      "metadata": {
        "id": "IjEAhiyfcSjT",
        "colab_type": "text"
      },
      "source": [
        "Next, we will look at the count of all values for both job titles and department to ensure that we don't use features that are too sparse in our model."
      ]
    },
    {
      "cell_type": "code",
      "metadata": {
        "id": "RSpn997lcSjT",
        "colab_type": "code",
        "outputId": "c2673758-4543-44c0-9f87-6f1900b03681",
        "colab": {
          "base_uri": "https://localhost:8080/",
          "height": 884
        }
      },
      "source": [
        "# answer below:\n",
        "print('Unique Job Title values total:', chicago['Job Titles'].nunique())\n",
        "\n",
        "print(chicago['Job Titles'].value_counts())\n",
        "\n",
        "print('Unique Department values total:', chicago['Department'].nunique())\n",
        "\n",
        "print(chicago['Department'].value_counts())"
      ],
      "execution_count": 0,
      "outputs": [
        {
          "output_type": "stream",
          "text": [
            "Unique Job Title values total: 954\n",
            "POLICE OFFICER                            9393\n",
            "FIREFIGHTER-EMT                           1424\n",
            "SERGEANT                                  1118\n",
            "POLICE OFFICER (ASSIGNED AS DETECTIVE)     845\n",
            "FIREFIGHTER                                564\n",
            "                                          ... \n",
            "WATER QUALITY MANAGER                        1\n",
            "GIS MANAGER                                  1\n",
            "MANAGER OF CERTIFICATION / COMPLIANCE        1\n",
            "DIR OF NUTRITION                             1\n",
            "HATE CRIME VICTIM ADVOCATE                   1\n",
            "Name: Job Titles, Length: 954, dtype: int64\n",
            "Unique Department values total: 36\n",
            "POLICE                   12941\n",
            "FIRE                      4798\n",
            "OEMC                       832\n",
            "PUBLIC LIBRARY             708\n",
            "AVIATION                   556\n",
            "FINANCE                    532\n",
            "HEALTH                     512\n",
            "TRANSPORTN                 396\n",
            "WATER MGMNT                366\n",
            "LAW                        361\n",
            "CITY COUNCIL               348\n",
            "FAMILY & SUPPORT           321\n",
            "STREETS & SAN              321\n",
            "BUILDINGS                  266\n",
            "COMMUNITY DEVELOPMENT      210\n",
            "GENERAL SERVICES           205\n",
            "BUSINESS AFFAIRS           160\n",
            "BOARD OF ELECTION          112\n",
            "DoIT                       101\n",
            "PROCUREMENT                 82\n",
            "CITY CLERK                  82\n",
            "MAYOR'S OFFICE              78\n",
            "HUMAN RESOURCES             67\n",
            "CULTURAL AFFAIRS            66\n",
            "INSPECTOR GEN               63\n",
            "ANIMAL CONTRL               57\n",
            "IPRA                        56\n",
            "BUDGET & MGMT               43\n",
            "ADMIN HEARNG                38\n",
            "DISABILITIES                29\n",
            "TREASURER                   23\n",
            "HUMAN RELATIONS             17\n",
            "COPA                        17\n",
            "BOARD OF ETHICS              8\n",
            "POLICE BOARD                 2\n",
            "LICENSE APPL COMM            1\n",
            "Name: Department, dtype: int64\n"
          ],
          "name": "stdout"
        }
      ]
    },
    {
      "cell_type": "markdown",
      "metadata": {
        "id": "S8wwWbE5cSjV",
        "colab_type": "text"
      },
      "source": [
        "Choose the between department and job title and use the variable with the smallest number of values to for one hot encoding. Additionally, create dummy variables for full ot part-time."
      ]
    },
    {
      "cell_type": "code",
      "metadata": {
        "id": "1Y017CXqcSjV",
        "colab_type": "code",
        "colab": {}
      },
      "source": [
        "# answer below:\n",
        "dummy_cols = ['Full or Part-Time', 'Department']\n",
        "dummies = pd.get_dummies(chicago[dummy_cols], drop_first=True)"
      ],
      "execution_count": 0,
      "outputs": []
    },
    {
      "cell_type": "markdown",
      "metadata": {
        "id": "KH4kKrHVcSjX",
        "colab_type": "text"
      },
      "source": [
        "Remove all irrelevant columns (Name, Job Titles, Salary or Hourly, Typical Hours, Hourly Rate)"
      ]
    },
    {
      "cell_type": "code",
      "metadata": {
        "id": "h-MaRcptcSjX",
        "colab_type": "code",
        "colab": {}
      },
      "source": [
        "# answer below:\n",
        "irrelevant_columns = ['Name', 'Job Titles', 'Salary or Hourly', 'Typical Hours', 'Hourly Rate', 'Department', 'Full or Part-Time']\n",
        "\n",
        "chicago.drop(irrelevant_columns, axis=1, inplace=True)"
      ],
      "execution_count": 0,
      "outputs": []
    },
    {
      "cell_type": "markdown",
      "metadata": {
        "id": "MttxKtdscSjZ",
        "colab_type": "text"
      },
      "source": [
        "Check that none of the remaining columns are of object type and convert them to numeric if they are of object type."
      ]
    },
    {
      "cell_type": "code",
      "metadata": {
        "id": "W34P6H5KcSjZ",
        "colab_type": "code",
        "outputId": "731e4221-96e2-4d75-f6f9-49dba01be8be",
        "colab": {
          "base_uri": "https://localhost:8080/",
          "height": 119
        }
      },
      "source": [
        "# answer below:\n",
        "chicago.select_dtypes('object')\n",
        "\n",
        "chicago['Annual Salary'] = pd.to_numeric(chicago['Annual Salary'].str.replace('$', ''))\n",
        "chicago.info()"
      ],
      "execution_count": 0,
      "outputs": [
        {
          "output_type": "stream",
          "text": [
            "<class 'pandas.core.frame.DataFrame'>\n",
            "Int64Index: 24775 entries, 0 to 32657\n",
            "Data columns (total 1 columns):\n",
            "Annual Salary    24775 non-null float64\n",
            "dtypes: float64(1)\n",
            "memory usage: 387.1 KB\n"
          ],
          "name": "stdout"
        }
      ]
    },
    {
      "cell_type": "markdown",
      "metadata": {
        "id": "OrKDy_59cSjb",
        "colab_type": "text"
      },
      "source": [
        "Split the data into a test and train sample. Use annual salary as the dependent variable. 20% of the data should be assigned to the test sample."
      ]
    },
    {
      "cell_type": "code",
      "metadata": {
        "id": "_s85YxVZcSjb",
        "colab_type": "code",
        "colab": {}
      },
      "source": [
        "# answer below:\n",
        "X_train, X_test, y_train, y_test = train_test_split(dummies, chicago, test_size=.2)"
      ],
      "execution_count": 0,
      "outputs": []
    },
    {
      "cell_type": "markdown",
      "metadata": {
        "id": "D_paBe77cSjd",
        "colab_type": "text"
      },
      "source": [
        "Generate a regession decision tree using `DecisionTreeRegressor` in sklearn. Fit the model on the training set and calculate the score for both train and test."
      ]
    },
    {
      "cell_type": "code",
      "metadata": {
        "id": "OkLxsJCwcSjd",
        "colab_type": "code",
        "outputId": "85a70c54-9e1a-475f-d54b-df29286a285f",
        "colab": {
          "base_uri": "https://localhost:8080/",
          "height": 51
        }
      },
      "source": [
        "# answer below:\n",
        "d_tree = DecisionTreeRegressor()\n",
        "d_tree.fit(X_train, y_train)\n",
        "\n",
        "print('Train score:', d_tree.score(X_train, y_train))\n",
        "print('Test score:', d_tree.score(X_test, y_test))\n"
      ],
      "execution_count": 0,
      "outputs": [
        {
          "output_type": "stream",
          "text": [
            "Train score: 0.14201045117176603\n",
            "Test score: 0.16327469758818136\n"
          ],
          "name": "stdout"
        }
      ]
    },
    {
      "cell_type": "markdown",
      "metadata": {
        "id": "bFc7fapXAYPY",
        "colab_type": "text"
      },
      "source": [
        "# Day 29 Lecture 2 Assignment\n",
        "# In this assignment, we will learn about entropy and information gain in the ID3 algorithm."
      ]
    },
    {
      "cell_type": "code",
      "metadata": {
        "id": "stCn4jhdAoYz",
        "colab_type": "code",
        "colab": {}
      },
      "source": [
        "tennis = pd.read_csv('https://tf-assets-prod.s3.amazonaws.com/tf-curric/data-science/tennis_decision.csv')"
      ],
      "execution_count": 0,
      "outputs": []
    },
    {
      "cell_type": "code",
      "metadata": {
        "id": "b95A26w6As-d",
        "colab_type": "code",
        "outputId": "ed1b6da5-3508-48c9-9aef-274807b1e26a",
        "colab": {
          "base_uri": "https://localhost:8080/",
          "height": 483
        }
      },
      "source": [
        "tennis"
      ],
      "execution_count": 0,
      "outputs": [
        {
          "output_type": "execute_result",
          "data": {
            "text/html": [
              "<div>\n",
              "<style scoped>\n",
              "    .dataframe tbody tr th:only-of-type {\n",
              "        vertical-align: middle;\n",
              "    }\n",
              "\n",
              "    .dataframe tbody tr th {\n",
              "        vertical-align: top;\n",
              "    }\n",
              "\n",
              "    .dataframe thead th {\n",
              "        text-align: right;\n",
              "    }\n",
              "</style>\n",
              "<table border=\"1\" class=\"dataframe\">\n",
              "  <thead>\n",
              "    <tr style=\"text-align: right;\">\n",
              "      <th></th>\n",
              "      <th>Day</th>\n",
              "      <th>Outlook</th>\n",
              "      <th>Temp.</th>\n",
              "      <th>Humidity</th>\n",
              "      <th>Wind</th>\n",
              "      <th>Decision</th>\n",
              "    </tr>\n",
              "  </thead>\n",
              "  <tbody>\n",
              "    <tr>\n",
              "      <th>0</th>\n",
              "      <td>1</td>\n",
              "      <td>Sunny</td>\n",
              "      <td>Hot</td>\n",
              "      <td>High</td>\n",
              "      <td>Weak</td>\n",
              "      <td>No</td>\n",
              "    </tr>\n",
              "    <tr>\n",
              "      <th>1</th>\n",
              "      <td>2</td>\n",
              "      <td>Sunny</td>\n",
              "      <td>Hot</td>\n",
              "      <td>High</td>\n",
              "      <td>Strong</td>\n",
              "      <td>No</td>\n",
              "    </tr>\n",
              "    <tr>\n",
              "      <th>2</th>\n",
              "      <td>3</td>\n",
              "      <td>Overcast</td>\n",
              "      <td>Hot</td>\n",
              "      <td>High</td>\n",
              "      <td>Weak</td>\n",
              "      <td>Yes</td>\n",
              "    </tr>\n",
              "    <tr>\n",
              "      <th>3</th>\n",
              "      <td>4</td>\n",
              "      <td>Rain</td>\n",
              "      <td>Mild</td>\n",
              "      <td>High</td>\n",
              "      <td>Weak</td>\n",
              "      <td>Yes</td>\n",
              "    </tr>\n",
              "    <tr>\n",
              "      <th>4</th>\n",
              "      <td>5</td>\n",
              "      <td>Rain</td>\n",
              "      <td>Cool</td>\n",
              "      <td>Normal</td>\n",
              "      <td>Weak</td>\n",
              "      <td>Yes</td>\n",
              "    </tr>\n",
              "    <tr>\n",
              "      <th>5</th>\n",
              "      <td>6</td>\n",
              "      <td>Rain</td>\n",
              "      <td>Cool</td>\n",
              "      <td>Normal</td>\n",
              "      <td>Strong</td>\n",
              "      <td>No</td>\n",
              "    </tr>\n",
              "    <tr>\n",
              "      <th>6</th>\n",
              "      <td>7</td>\n",
              "      <td>Overcast</td>\n",
              "      <td>Cool</td>\n",
              "      <td>Normal</td>\n",
              "      <td>Strong</td>\n",
              "      <td>Yes</td>\n",
              "    </tr>\n",
              "    <tr>\n",
              "      <th>7</th>\n",
              "      <td>8</td>\n",
              "      <td>Sunny</td>\n",
              "      <td>Mild</td>\n",
              "      <td>High</td>\n",
              "      <td>Weak</td>\n",
              "      <td>No</td>\n",
              "    </tr>\n",
              "    <tr>\n",
              "      <th>8</th>\n",
              "      <td>9</td>\n",
              "      <td>Sunny</td>\n",
              "      <td>Cool</td>\n",
              "      <td>Normal</td>\n",
              "      <td>Weak</td>\n",
              "      <td>Yes</td>\n",
              "    </tr>\n",
              "    <tr>\n",
              "      <th>9</th>\n",
              "      <td>10</td>\n",
              "      <td>Rain</td>\n",
              "      <td>Mild</td>\n",
              "      <td>Normal</td>\n",
              "      <td>Weak</td>\n",
              "      <td>Yes</td>\n",
              "    </tr>\n",
              "    <tr>\n",
              "      <th>10</th>\n",
              "      <td>11</td>\n",
              "      <td>Sunny</td>\n",
              "      <td>Mild</td>\n",
              "      <td>Normal</td>\n",
              "      <td>Strong</td>\n",
              "      <td>Yes</td>\n",
              "    </tr>\n",
              "    <tr>\n",
              "      <th>11</th>\n",
              "      <td>12</td>\n",
              "      <td>Overcast</td>\n",
              "      <td>Mild</td>\n",
              "      <td>High</td>\n",
              "      <td>Strong</td>\n",
              "      <td>Yes</td>\n",
              "    </tr>\n",
              "    <tr>\n",
              "      <th>12</th>\n",
              "      <td>13</td>\n",
              "      <td>Overcast</td>\n",
              "      <td>Hot</td>\n",
              "      <td>Normal</td>\n",
              "      <td>Weak</td>\n",
              "      <td>Yes</td>\n",
              "    </tr>\n",
              "    <tr>\n",
              "      <th>13</th>\n",
              "      <td>14</td>\n",
              "      <td>Rain</td>\n",
              "      <td>Mild</td>\n",
              "      <td>High</td>\n",
              "      <td>Strong</td>\n",
              "      <td>No</td>\n",
              "    </tr>\n",
              "  </tbody>\n",
              "</table>\n",
              "</div>"
            ],
            "text/plain": [
              "    Day   Outlook Temp. Humidity    Wind Decision\n",
              "0     1     Sunny   Hot     High    Weak       No\n",
              "1     2     Sunny   Hot     High  Strong       No\n",
              "2     3  Overcast   Hot     High    Weak      Yes\n",
              "3     4      Rain  Mild     High    Weak      Yes\n",
              "4     5      Rain  Cool   Normal    Weak      Yes\n",
              "5     6      Rain  Cool   Normal  Strong       No\n",
              "6     7  Overcast  Cool   Normal  Strong      Yes\n",
              "7     8     Sunny  Mild     High    Weak       No\n",
              "8     9     Sunny  Cool   Normal    Weak      Yes\n",
              "9    10      Rain  Mild   Normal    Weak      Yes\n",
              "10   11     Sunny  Mild   Normal  Strong      Yes\n",
              "11   12  Overcast  Mild     High  Strong      Yes\n",
              "12   13  Overcast   Hot   Normal    Weak      Yes\n",
              "13   14      Rain  Mild     High  Strong       No"
            ]
          },
          "metadata": {
            "tags": []
          },
          "execution_count": 9
        }
      ]
    },
    {
      "cell_type": "code",
      "metadata": {
        "id": "QG9hOgaRBYe8",
        "colab_type": "code",
        "colab": {}
      },
      "source": [
        ""
      ],
      "execution_count": 0,
      "outputs": []
    },
    {
      "cell_type": "markdown",
      "metadata": {
        "id": "isXT3EUxBhLO",
        "colab_type": "text"
      },
      "source": [
        "# Write a function to compute entropy given an input of a sequence of probabilities."
      ]
    },
    {
      "cell_type": "code",
      "metadata": {
        "id": "KoSs_2hkbHR3",
        "colab_type": "code",
        "colab": {}
      },
      "source": [
        "import scipy.stats"
      ],
      "execution_count": 0,
      "outputs": []
    },
    {
      "cell_type": "code",
      "metadata": {
        "id": "jUorv5L2Biov",
        "colab_type": "code",
        "colab": {}
      },
      "source": [
        "def ent(data):\n",
        "    \"\"\"Calculates entropy of the passed `pd.Series`\n",
        "    \"\"\"\n",
        "    data = data.value_counts()           # counts occurrence of each value\n",
        "    entropy = scipy.stats.entropy(data)  # get entropy from counts\n",
        "    return entropy\n"
      ],
      "execution_count": 0,
      "outputs": []
    },
    {
      "cell_type": "code",
      "metadata": {
        "id": "jvCKCd_da-HM",
        "colab_type": "code",
        "outputId": "048c0aab-3512-44bc-87ba-737d1aa6c3da",
        "colab": {
          "base_uri": "https://localhost:8080/",
          "height": 34
        }
      },
      "source": [
        "ent(tennis)"
      ],
      "execution_count": 0,
      "outputs": [
        {
          "output_type": "execute_result",
          "data": {
            "text/plain": [
              "0.0"
            ]
          },
          "metadata": {
            "tags": []
          },
          "execution_count": 32
        }
      ]
    },
    {
      "cell_type": "markdown",
      "metadata": {
        "id": "nmxkn6YgB1Lt",
        "colab_type": "text"
      },
      "source": [
        "#Aggregate the tennis decision table for each value of each column. Start with Outlook below. Compute the weighted mean of the entropy for outlook (the weighted mean of the yes decision and the no decision)."
      ]
    },
    {
      "cell_type": "code",
      "metadata": {
        "id": "wbVk53dsB6xM",
        "colab_type": "code",
        "colab": {}
      },
      "source": [
        ""
      ],
      "execution_count": 0,
      "outputs": []
    },
    {
      "cell_type": "markdown",
      "metadata": {
        "id": "9LbHXENICEyd",
        "colab_type": "text"
      },
      "source": [
        "# Compute the weighted mean of the entropy for temperature, humidity and wind as well and decide based on these values which should be the first variable chosen for a split."
      ]
    },
    {
      "cell_type": "code",
      "metadata": {
        "id": "H5YNb8O4CGyA",
        "colab_type": "code",
        "colab": {}
      },
      "source": [
        ""
      ],
      "execution_count": 0,
      "outputs": []
    },
    {
      "cell_type": "markdown",
      "metadata": {
        "id": "rFZybYL0nXXg",
        "colab_type": "text"
      },
      "source": [
        "Participants (2)\n",
        "\n",
        "https://sessions.thinkful.com/Jason-Tavonia\n",
        "10:05 AM\n",
        "Jason Randall Smith joined \n",
        "Jason Randall Smith joined the stage \n",
        "Tavonia Evans joined \n",
        "Tavonia Evans joined the stage \n",
        "Jason Randall SmithJason Randall Smith10:12 AM\n",
        "https://colab.research.google.com/drive/1kqkgyq_VLeuDNAasojnYHdUrC6TBoaiz\n",
        "\n",
        "Tavonia EvansTavonia Evans10:23 AM\n",
        "https://colab.research.google.com/drive/1iUf5lWFOdeJ8WOwYS9CJfgT5AoYc0_vx\n",
        "\n",
        "11:01 AM\n",
        "Tavonia Evans left \n",
        "12:38 PM\n",
        "Tavonia Evans joined \n",
        "Tavonia Evans joined the stage \n",
        "Jason Randall SmithJason Randall Smith12:45 PM\n",
        "https://colab.research.google.com/drive/1OdfJ5aQYmKGSWEzOoXyK7xaONIFFXmiJ\n",
        "\n",
        "Jason Randall SmithJason Randall Smith1:30 PM\n",
        "https://colab.research.google.com/drive/1kqkgyq_VLeuDNAasojnYHdUrC6TBoaiz\n",
        "\n",
        "Jason Randall SmithJason Randall Smith1:49 PM\n",
        "def entropy(labels): \"\"\" Computes entropy of 0-1 vector. \"\"\" n_labels = len(labels)\n",
        "\n",
        "if n_labels <= 1:\n",
        "    return 0\n",
        "\n",
        "counts = np.bincount(labels)\n",
        "probs = counts[np.nonzero(counts)] / n_labels\n",
        "n_classes = len(probs)\n",
        "\n",
        "if n_classes <= 1:\n",
        "    return 0\n",
        "return - np.sum(probs * np.log(probs)) / np.log(n_classes)\n",
        "Tavonia EvansTavonia Evans1:50 PM\n",
        "<code>def entropy(labels): \"\"\" Computes entropy of 0-1 vector. \"\"\" n_labels = len(labels)</code>\n",
        "\n",
        "Jason Randall SmithJason Randall Smith1:51 PM\n",
        "Fastest way to compute entropy in Python\n",
        "\n",
        "https://stackoverflow.com/questions/15450192/fastest-way-to-compute-entropy-in-python\n",
        "\n",
        "2:05 PM\n",
        "Jason Randall Smith left \n",
        "2:33 PM\n",
        "Micah Gerelnyam joined \n",
        "Micah Gerelnyam joined the stage \n",
        "Micah GerelnyamMicah Gerelnyam2:34 PM\n",
        "1 sec\n",
        "\n",
        "Jason Randall Smith gave a thumbs up \n",
        "Micah Gerelnyam joined \n",
        "Micah Gerelnyam joined the stage \n",
        "Micah Gerelnyam left \n",
        "Jason Randall SmithJason Randall Smith2:37 PM\n",
        "I'm here.\n",
        "\n",
        "Jason Randall Smith joined \n",
        "Jason Randall Smith joined the stage \n",
        "Jason Randall SmithJason Randall Smith2:38 PM\n",
        "Write a function to compute entropy given an input of a sequence of probabilities.\n",
        "\n",
        "https://colab.research.google.com/gist/JSON-Project/42c9cc17cffb6a5c64dbcb9f389f8cf9/json-tavonia-day-29-lectures-1-2-assignment.ipynb\n",
        "\n",
        "Tavonia EvansTavonia Evans2:47 PM\n",
        "tennis = pd.read_csv('https://tf-assets-prod.s3.amazonaws.com/tf-curric/data-science/tennis_decision.csv')\n",
        "\n",
        "Micah GerelnyamMicah Gerelnyam2:50 PM\n",
        "import numpy as np\n",
        "\n",
        "#p = [0.7, 0.6, 0.5]\n",
        "\n",
        "df = pd.read('file.csv')\n",
        "\n",
        "empty_list = []\n",
        "\n",
        "for i in df.column_some: empty_list.append( i * np.log2(i) )\n",
        "\n",
        "shannon = - sum(empty_list )\n",
        "\n",
        "Micah Gerelnyam left the stage \n",
        "Micah Gerelnyam left \n",
        "Jason Randall SmithJason Randall Smith2:58 PM\n",
        "zinport nunpy as np\n",
        "\n",
        "3\n",
        "\n",
        "a\n",
        "\n",
        "up = [6.7, 0.6, 0.5]\n",
        "\n",
        "5\n",
        "\n",
        "Idf = pd.read('ftle.csv')\n",
        "\n",
        "3\n",
        "\n",
        "D\n",
        "\n",
        "3enpty_ltst = []\n",
        "\n",
        "l\n",
        "\n",
        "zfor 1. in df.colunn_sone:\n",
        "\n",
        "3 enpty_1tst.append( t ' np.1092(t) ) 1\n",
        "\n",
        "Sshannon = - Isun(enpty_‘l.tst )\n",
        "\n",
        "Tavonia EvansTavonia Evans2:59 PM\n",
        "https://colab.research.google.com/drive/1kqkgyq_VLeuDNAasojnYHdUrC6TBoaiz"
      ]
    }
  ]
}