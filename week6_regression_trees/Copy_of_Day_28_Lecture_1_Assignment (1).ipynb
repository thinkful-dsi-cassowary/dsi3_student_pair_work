{
  "nbformat": 4,
  "nbformat_minor": 0,
  "metadata": {
    "kernelspec": {
      "display_name": "Python 3",
      "language": "python",
      "name": "python3"
    },
    "language_info": {
      "codemirror_mode": {
        "name": "ipython",
        "version": 3
      },
      "file_extension": ".py",
      "mimetype": "text/x-python",
      "name": "python",
      "nbconvert_exporter": "python",
      "pygments_lexer": "ipython3",
      "version": "3.7.0"
    },
    "colab": {
      "name": "Copy of Day 28 Lecture 1 Assignment.ipynb",
      "provenance": [],
      "collapsed_sections": []
    }
  },
  "cells": [
    {
      "cell_type": "markdown",
      "metadata": {
        "id": "J-40ZI05Y6T6",
        "colab_type": "text"
      },
      "source": [
        "## Day 28 Lecture 1 Assignment\n",
        "\n",
        "In this assignment, we will learn about making predictions with linear models. We will use the king county housing dataset loaded below and analyze the regression from this dataset."
      ]
    },
    {
      "cell_type": "code",
      "metadata": {
        "id": "RaQgiH8LY6T7",
        "colab_type": "code",
        "colab": {}
      },
      "source": [
        "%matplotlib inline\n",
        "\n",
        "import math\n",
        "\n",
        "import matplotlib.pyplot as plt\n",
        "import numpy as np\n",
        "import pandas as pd"
      ],
      "execution_count": 0,
      "outputs": []
    },
    {
      "cell_type": "code",
      "metadata": {
        "id": "UYQUAuJQY6T9",
        "colab_type": "code",
        "colab": {}
      },
      "source": [
        "king = pd.read_csv('https://tf-assets-prod.s3.amazonaws.com/tf-curric/data-science/kc_house_data.csv')"
      ],
      "execution_count": 0,
      "outputs": []
    },
    {
      "cell_type": "code",
      "metadata": {
        "id": "hec5B9UkSc4m",
        "colab_type": "code",
        "colab": {}
      },
      "source": [
        "king_county= king.copy()"
      ],
      "execution_count": 0,
      "outputs": []
    },
    {
      "cell_type": "code",
      "metadata": {
        "id": "W8CogVj9Y6T_",
        "colab_type": "code",
        "outputId": "a4e2d21d-b732-495f-b529-fcc213834957",
        "colab": {
          "base_uri": "https://localhost:8080/",
          "height": 224
        }
      },
      "source": [
        "king_county.head()"
      ],
      "execution_count": 0,
      "outputs": [
        {
          "output_type": "execute_result",
          "data": {
            "text/html": [
              "<div>\n",
              "<style scoped>\n",
              "    .dataframe tbody tr th:only-of-type {\n",
              "        vertical-align: middle;\n",
              "    }\n",
              "\n",
              "    .dataframe tbody tr th {\n",
              "        vertical-align: top;\n",
              "    }\n",
              "\n",
              "    .dataframe thead th {\n",
              "        text-align: right;\n",
              "    }\n",
              "</style>\n",
              "<table border=\"1\" class=\"dataframe\">\n",
              "  <thead>\n",
              "    <tr style=\"text-align: right;\">\n",
              "      <th></th>\n",
              "      <th>id</th>\n",
              "      <th>date</th>\n",
              "      <th>price</th>\n",
              "      <th>bedrooms</th>\n",
              "      <th>bathrooms</th>\n",
              "      <th>sqft_living</th>\n",
              "      <th>sqft_lot</th>\n",
              "      <th>floors</th>\n",
              "      <th>waterfront</th>\n",
              "      <th>view</th>\n",
              "      <th>condition</th>\n",
              "      <th>grade</th>\n",
              "      <th>sqft_above</th>\n",
              "      <th>sqft_basement</th>\n",
              "      <th>yr_built</th>\n",
              "      <th>yr_renovated</th>\n",
              "      <th>zipcode</th>\n",
              "      <th>lat</th>\n",
              "      <th>long</th>\n",
              "      <th>sqft_living15</th>\n",
              "      <th>sqft_lot15</th>\n",
              "    </tr>\n",
              "  </thead>\n",
              "  <tbody>\n",
              "    <tr>\n",
              "      <th>0</th>\n",
              "      <td>7129300520</td>\n",
              "      <td>20141013T000000</td>\n",
              "      <td>221900.0</td>\n",
              "      <td>3</td>\n",
              "      <td>1.00</td>\n",
              "      <td>1180</td>\n",
              "      <td>5650</td>\n",
              "      <td>1.0</td>\n",
              "      <td>0</td>\n",
              "      <td>0</td>\n",
              "      <td>3</td>\n",
              "      <td>7</td>\n",
              "      <td>1180</td>\n",
              "      <td>0</td>\n",
              "      <td>1955</td>\n",
              "      <td>0</td>\n",
              "      <td>98178</td>\n",
              "      <td>47.5112</td>\n",
              "      <td>-122.257</td>\n",
              "      <td>1340</td>\n",
              "      <td>5650</td>\n",
              "    </tr>\n",
              "    <tr>\n",
              "      <th>1</th>\n",
              "      <td>6414100192</td>\n",
              "      <td>20141209T000000</td>\n",
              "      <td>538000.0</td>\n",
              "      <td>3</td>\n",
              "      <td>2.25</td>\n",
              "      <td>2570</td>\n",
              "      <td>7242</td>\n",
              "      <td>2.0</td>\n",
              "      <td>0</td>\n",
              "      <td>0</td>\n",
              "      <td>3</td>\n",
              "      <td>7</td>\n",
              "      <td>2170</td>\n",
              "      <td>400</td>\n",
              "      <td>1951</td>\n",
              "      <td>1991</td>\n",
              "      <td>98125</td>\n",
              "      <td>47.7210</td>\n",
              "      <td>-122.319</td>\n",
              "      <td>1690</td>\n",
              "      <td>7639</td>\n",
              "    </tr>\n",
              "    <tr>\n",
              "      <th>2</th>\n",
              "      <td>5631500400</td>\n",
              "      <td>20150225T000000</td>\n",
              "      <td>180000.0</td>\n",
              "      <td>2</td>\n",
              "      <td>1.00</td>\n",
              "      <td>770</td>\n",
              "      <td>10000</td>\n",
              "      <td>1.0</td>\n",
              "      <td>0</td>\n",
              "      <td>0</td>\n",
              "      <td>3</td>\n",
              "      <td>6</td>\n",
              "      <td>770</td>\n",
              "      <td>0</td>\n",
              "      <td>1933</td>\n",
              "      <td>0</td>\n",
              "      <td>98028</td>\n",
              "      <td>47.7379</td>\n",
              "      <td>-122.233</td>\n",
              "      <td>2720</td>\n",
              "      <td>8062</td>\n",
              "    </tr>\n",
              "    <tr>\n",
              "      <th>3</th>\n",
              "      <td>2487200875</td>\n",
              "      <td>20141209T000000</td>\n",
              "      <td>604000.0</td>\n",
              "      <td>4</td>\n",
              "      <td>3.00</td>\n",
              "      <td>1960</td>\n",
              "      <td>5000</td>\n",
              "      <td>1.0</td>\n",
              "      <td>0</td>\n",
              "      <td>0</td>\n",
              "      <td>5</td>\n",
              "      <td>7</td>\n",
              "      <td>1050</td>\n",
              "      <td>910</td>\n",
              "      <td>1965</td>\n",
              "      <td>0</td>\n",
              "      <td>98136</td>\n",
              "      <td>47.5208</td>\n",
              "      <td>-122.393</td>\n",
              "      <td>1360</td>\n",
              "      <td>5000</td>\n",
              "    </tr>\n",
              "    <tr>\n",
              "      <th>4</th>\n",
              "      <td>1954400510</td>\n",
              "      <td>20150218T000000</td>\n",
              "      <td>510000.0</td>\n",
              "      <td>3</td>\n",
              "      <td>2.00</td>\n",
              "      <td>1680</td>\n",
              "      <td>8080</td>\n",
              "      <td>1.0</td>\n",
              "      <td>0</td>\n",
              "      <td>0</td>\n",
              "      <td>3</td>\n",
              "      <td>8</td>\n",
              "      <td>1680</td>\n",
              "      <td>0</td>\n",
              "      <td>1987</td>\n",
              "      <td>0</td>\n",
              "      <td>98074</td>\n",
              "      <td>47.6168</td>\n",
              "      <td>-122.045</td>\n",
              "      <td>1800</td>\n",
              "      <td>7503</td>\n",
              "    </tr>\n",
              "  </tbody>\n",
              "</table>\n",
              "</div>"
            ],
            "text/plain": [
              "           id             date     price  ...     long  sqft_living15  sqft_lot15\n",
              "0  7129300520  20141013T000000  221900.0  ... -122.257           1340        5650\n",
              "1  6414100192  20141209T000000  538000.0  ... -122.319           1690        7639\n",
              "2  5631500400  20150225T000000  180000.0  ... -122.233           2720        8062\n",
              "3  2487200875  20141209T000000  604000.0  ... -122.393           1360        5000\n",
              "4  1954400510  20150218T000000  510000.0  ... -122.045           1800        7503\n",
              "\n",
              "[5 rows x 21 columns]"
            ]
          },
          "metadata": {
            "tags": []
          },
          "execution_count": 34
        }
      ]
    },
    {
      "cell_type": "code",
      "metadata": {
        "id": "33g5dLoHStUb",
        "colab_type": "code",
        "outputId": "fc322929-9081-436c-98bf-5d0db4703d5d",
        "colab": {
          "base_uri": "https://localhost:8080/",
          "height": 459
        }
      },
      "source": [
        "king_county.info()"
      ],
      "execution_count": 0,
      "outputs": [
        {
          "output_type": "stream",
          "text": [
            "<class 'pandas.core.frame.DataFrame'>\n",
            "RangeIndex: 21613 entries, 0 to 21612\n",
            "Data columns (total 21 columns):\n",
            "id               21613 non-null int64\n",
            "date             21613 non-null object\n",
            "price            21613 non-null float64\n",
            "bedrooms         21613 non-null int64\n",
            "bathrooms        21613 non-null float64\n",
            "sqft_living      21613 non-null int64\n",
            "sqft_lot         21613 non-null int64\n",
            "floors           21613 non-null float64\n",
            "waterfront       21613 non-null int64\n",
            "view             21613 non-null int64\n",
            "condition        21613 non-null int64\n",
            "grade            21613 non-null int64\n",
            "sqft_above       21613 non-null int64\n",
            "sqft_basement    21613 non-null int64\n",
            "yr_built         21613 non-null int64\n",
            "yr_renovated     21613 non-null int64\n",
            "zipcode          21613 non-null int64\n",
            "lat              21613 non-null float64\n",
            "long             21613 non-null float64\n",
            "sqft_living15    21613 non-null int64\n",
            "sqft_lot15       21613 non-null int64\n",
            "dtypes: float64(5), int64(15), object(1)\n",
            "memory usage: 3.5+ MB\n"
          ],
          "name": "stdout"
        }
      ]
    },
    {
      "cell_type": "markdown",
      "metadata": {
        "id": "KsvisZDRY6UC",
        "colab_type": "text"
      },
      "source": [
        "We'll start by adding a column of the log of total sqare feet. This transformation will help us with model assumptions."
      ]
    },
    {
      "cell_type": "code",
      "metadata": {
        "id": "E7-FvWFBY6UC",
        "colab_type": "code",
        "colab": {}
      },
      "source": [
        "# answer below:\n",
        "king_county['log_ft']= np.log(king_county['sqft_living'])"
      ],
      "execution_count": 0,
      "outputs": []
    },
    {
      "cell_type": "code",
      "metadata": {
        "id": "uUiJUw5JTCg_",
        "colab_type": "code",
        "outputId": "23408832-4cf2-488e-e2cd-bd7935b73022",
        "colab": {
          "base_uri": "https://localhost:8080/",
          "height": 476
        }
      },
      "source": [
        "king_county.info()"
      ],
      "execution_count": 0,
      "outputs": [
        {
          "output_type": "stream",
          "text": [
            "<class 'pandas.core.frame.DataFrame'>\n",
            "RangeIndex: 21613 entries, 0 to 21612\n",
            "Data columns (total 22 columns):\n",
            "id               21613 non-null int64\n",
            "date             21613 non-null object\n",
            "price            21613 non-null float64\n",
            "bedrooms         21613 non-null int64\n",
            "bathrooms        21613 non-null float64\n",
            "sqft_living      21613 non-null int64\n",
            "sqft_lot         21613 non-null int64\n",
            "floors           21613 non-null float64\n",
            "waterfront       21613 non-null int64\n",
            "view             21613 non-null int64\n",
            "condition        21613 non-null int64\n",
            "grade            21613 non-null int64\n",
            "sqft_above       21613 non-null int64\n",
            "sqft_basement    21613 non-null int64\n",
            "yr_built         21613 non-null int64\n",
            "yr_renovated     21613 non-null int64\n",
            "zipcode          21613 non-null int64\n",
            "lat              21613 non-null float64\n",
            "long             21613 non-null float64\n",
            "sqft_living15    21613 non-null int64\n",
            "sqft_lot15       21613 non-null int64\n",
            "log_ft           21613 non-null float64\n",
            "dtypes: float64(6), int64(15), object(1)\n",
            "memory usage: 3.6+ MB\n"
          ],
          "name": "stdout"
        }
      ]
    },
    {
      "cell_type": "markdown",
      "metadata": {
        "id": "NYvuBk-zY6UE",
        "colab_type": "text"
      },
      "source": [
        "Filter out columns and keeping only: price, bedrooms, bathrooms, log_sqft_living, floors, waterfront"
      ]
    },
    {
      "cell_type": "code",
      "metadata": {
        "id": "F4P6Ft3ATsg9",
        "colab_type": "code",
        "outputId": "56dd3563-e14e-4476-b85d-6713beae389e",
        "colab": {
          "base_uri": "https://localhost:8080/",
          "height": 102
        }
      },
      "source": [
        "king_county.columns"
      ],
      "execution_count": 0,
      "outputs": [
        {
          "output_type": "execute_result",
          "data": {
            "text/plain": [
              "Index(['id', 'date', 'price', 'bedrooms', 'bathrooms', 'sqft_living',\n",
              "       'sqft_lot', 'floors', 'waterfront', 'view', 'condition', 'grade',\n",
              "       'sqft_above', 'sqft_basement', 'yr_built', 'yr_renovated', 'zipcode',\n",
              "       'lat', 'long', 'sqft_living15', 'sqft_lot15', 'log_ft'],\n",
              "      dtype='object')"
            ]
          },
          "metadata": {
            "tags": []
          },
          "execution_count": 38
        }
      ]
    },
    {
      "cell_type": "code",
      "metadata": {
        "id": "_xS9QRwRY6UE",
        "colab_type": "code",
        "colab": {}
      },
      "source": [
        "# answer below:\n",
        "king_county.drop(['id', 'date', 'sqft_living',\n",
        "       'sqft_lot', 'view', 'condition', 'grade',\n",
        "       'sqft_above', 'sqft_basement', 'yr_built', 'yr_renovated', 'zipcode',\n",
        "       'lat', 'long', 'sqft_living15', 'sqft_lot15', ], axis=1, inplace=True)\n"
      ],
      "execution_count": 0,
      "outputs": []
    },
    {
      "cell_type": "markdown",
      "metadata": {
        "id": "JTSTq9RSY6UG",
        "colab_type": "text"
      },
      "source": [
        "Next, we'll check for missing values and remove rows containing missing values. We will also make sure that all our data is numeric and convert the columns that are of object type to numeric. Make sure to remove any rows with missing data resulting from the conversion to numeric."
      ]
    },
    {
      "cell_type": "code",
      "metadata": {
        "id": "Uc4yv3IbY6UH",
        "colab_type": "code",
        "outputId": "7d8319c3-7022-4dff-a9d5-b78581b78234",
        "colab": {
          "base_uri": "https://localhost:8080/",
          "height": 136
        }
      },
      "source": [
        "# answer below:\n",
        "king_county.isnull().sum()\n"
      ],
      "execution_count": 0,
      "outputs": [
        {
          "output_type": "execute_result",
          "data": {
            "text/plain": [
              "price         0\n",
              "bedrooms      0\n",
              "bathrooms     0\n",
              "floors        0\n",
              "waterfront    0\n",
              "log_ft        0\n",
              "dtype: int64"
            ]
          },
          "metadata": {
            "tags": []
          },
          "execution_count": 43
        }
      ]
    },
    {
      "cell_type": "code",
      "metadata": {
        "id": "b8N4HnSbU8sM",
        "colab_type": "code",
        "outputId": "b63a3ee2-6970-4531-a642-69823ab949ea",
        "colab": {
          "base_uri": "https://localhost:8080/",
          "height": 204
        }
      },
      "source": [
        "king_county.info()"
      ],
      "execution_count": 0,
      "outputs": [
        {
          "output_type": "stream",
          "text": [
            "<class 'pandas.core.frame.DataFrame'>\n",
            "RangeIndex: 21613 entries, 0 to 21612\n",
            "Data columns (total 6 columns):\n",
            "price         21613 non-null float64\n",
            "bedrooms      21613 non-null int64\n",
            "bathrooms     21613 non-null float64\n",
            "floors        21613 non-null float64\n",
            "waterfront    21613 non-null int64\n",
            "log_ft        21613 non-null float64\n",
            "dtypes: float64(4), int64(2)\n",
            "memory usage: 1013.2 KB\n"
          ],
          "name": "stdout"
        }
      ]
    },
    {
      "cell_type": "markdown",
      "metadata": {
        "id": "JAYct7xmY6UI",
        "colab_type": "text"
      },
      "source": [
        "Split the data into test and train subsets. Use 20% of the data for the test subset. Use price as the dependent variable."
      ]
    },
    {
      "cell_type": "code",
      "metadata": {
        "id": "q95v_APwVWKX",
        "colab_type": "code",
        "outputId": "ede00661-c35e-473d-de0d-c5f2df47954c",
        "colab": {
          "base_uri": "https://localhost:8080/",
          "height": 34
        }
      },
      "source": [
        "king_county.columns"
      ],
      "execution_count": 0,
      "outputs": [
        {
          "output_type": "execute_result",
          "data": {
            "text/plain": [
              "Index(['price', 'bedrooms', 'bathrooms', 'floors', 'waterfront', 'log_ft'], dtype='object')"
            ]
          },
          "metadata": {
            "tags": []
          },
          "execution_count": 45
        }
      ]
    },
    {
      "cell_type": "code",
      "metadata": {
        "id": "iv81Fy-wY6UJ",
        "colab_type": "code",
        "outputId": "124ad7d0-bb6b-4436-f761-f9202caa205b",
        "colab": {
          "base_uri": "https://localhost:8080/",
          "height": 34
        }
      },
      "source": [
        "# answer below:\n",
        "from sklearn.model_selection import train_test_split\n",
        "from sklearn import linear_model\n",
        "from sklearn.linear_model import LinearRegression\n",
        "\n",
        "Y= king_county['price']\n",
        "\n",
        "X= king_county[['bedrooms', 'bathrooms', 'floors', 'waterfront', 'log_ft']]\n",
        "\n",
        "X_train, X_test, Y_train, Y_test= train_test_split(X, Y, test_size = 0.2)\n",
        "\n",
        "lrm = linear_model.LinearRegression()\n",
        "lrm.fit(X, Y)"
      ],
      "execution_count": 59,
      "outputs": [
        {
          "output_type": "execute_result",
          "data": {
            "text/plain": [
              "LinearRegression(copy_X=True, fit_intercept=True, n_jobs=None, normalize=False)"
            ]
          },
          "metadata": {
            "tags": []
          },
          "execution_count": 59
        }
      ]
    },
    {
      "cell_type": "markdown",
      "metadata": {
        "id": "mDCT9Z6DY6UK",
        "colab_type": "text"
      },
      "source": [
        "Check the model assumptions: homoscedacity, normal errors, and multicollinearity"
      ]
    },
    {
      "cell_type": "code",
      "metadata": {
        "id": "p0mF0IskY6UL",
        "colab_type": "code",
        "outputId": "5ea0e0fe-378e-499e-bcc9-3865636439b8",
        "colab": {
          "base_uri": "https://localhost:8080/",
          "height": 34
        }
      },
      "source": [
        "#answer below:\n",
        "# Assumption two: the error term should be zero on average\n",
        "predictions = lrm.predict(X)\n",
        "errors = Y - predictions\n",
        "\n",
        "print(\"Mean of the errors in the medical costs model is: {}\".format(np.mean(errors)))"
      ],
      "execution_count": 60,
      "outputs": [
        {
          "output_type": "stream",
          "text": [
            "Mean of the errors in the medical costs model is: -2.755659956815798e-10\n"
          ],
          "name": "stdout"
        }
      ]
    },
    {
      "cell_type": "code",
      "metadata": {
        "id": "X37ADwqcFWU3",
        "colab_type": "code",
        "colab": {
          "base_uri": "https://localhost:8080/",
          "height": 295
        },
        "outputId": "b769917f-4804-4915-d798-ddae3db4a9be"
      },
      "source": [
        "#Assumption three: homoscedasticity\n",
        "plt.scatter(predictions, errors)\n",
        "plt.xlabel('Predicted')\n",
        "plt.ylabel('Residual')\n",
        "plt.axhline(y=0)\n",
        "plt.title('Residual vs. Predicted')\n",
        "plt.show()"
      ],
      "execution_count": 61,
      "outputs": [
        {
          "output_type": "display_data",
          "data": {
            "image/png": "[encoded data removed]",
            "text/plain": [
              "<Figure size 432x288 with 1 Axes>"
            ]
          },
          "metadata": {
            "tags": []
          }
        }
      ]
    },
    {
      "cell_type": "code",
      "metadata": {
        "id": "z73ALE76FrX8",
        "colab_type": "code",
        "colab": {
          "base_uri": "https://localhost:8080/",
          "height": 369
        },
        "outputId": "dd01436d-5fec-4f3f-f2e7-fc770a0dd6f6"
      },
      "source": [
        "# normal errors \n",
        "rand_nums = np.random.normal(np.mean(errors), np.std(errors), len(errors))\n",
        "\n",
        "plt.figure(figsize=(12,5))\n",
        "\n",
        "plt.subplot(1,2,1)\n",
        "plt.scatter(np.sort(rand_nums), np.sort(errors)) # we sort the arrays\n",
        "plt.xlabel(\"the normally distributed random variable\")\n",
        "plt.ylabel(\"errors of the model\")\n",
        "plt.title(\"QQ plot\")\n",
        "\n",
        "plt.subplot(1,2,2)\n",
        "plt.hist(errors)\n",
        "plt.xlabel(\"errors\")\n",
        "plt.title(\"Histogram of the errors\")\n",
        "\n",
        "plt.tight_layout()\n",
        "plt.show()"
      ],
      "execution_count": 62,
      "outputs": [
        {
          "output_type": "display_data",
          "data": {
            "image/png": "[encoded data removed]",
            "text/plain": [
              "<Figure size 864x360 with 2 Axes>"
            ]
          },
          "metadata": {
            "tags": []
          }
        }
      ]
    },
    {
      "cell_type": "code",
      "metadata": {
        "id": "3jScLDH6F9wi",
        "colab_type": "code",
        "colab": {}
      },
      "source": [
        "# errors are not noramlly distributed "
      ],
      "execution_count": 0,
      "outputs": []
    },
    {
      "cell_type": "code",
      "metadata": {
        "id": "N2xfYaWpGQrQ",
        "colab_type": "code",
        "colab": {
          "base_uri": "https://localhost:8080/",
          "height": 235
        },
        "outputId": "998d6577-982b-4419-f997-b1ee2e5a739a"
      },
      "source": [
        "# multicoliniearity \n",
        "king_county.corr()"
      ],
      "execution_count": 63,
      "outputs": [
        {
          "output_type": "execute_result",
          "data": {
            "text/html": [
              "<div>\n",
              "<style scoped>\n",
              "    .dataframe tbody tr th:only-of-type {\n",
              "        vertical-align: middle;\n",
              "    }\n",
              "\n",
              "    .dataframe tbody tr th {\n",
              "        vertical-align: top;\n",
              "    }\n",
              "\n",
              "    .dataframe thead th {\n",
              "        text-align: right;\n",
              "    }\n",
              "</style>\n",
              "<table border=\"1\" class=\"dataframe\">\n",
              "  <thead>\n",
              "    <tr style=\"text-align: right;\">\n",
              "      <th></th>\n",
              "      <th>price</th>\n",
              "      <th>bedrooms</th>\n",
              "      <th>bathrooms</th>\n",
              "      <th>floors</th>\n",
              "      <th>waterfront</th>\n",
              "      <th>log_ft</th>\n",
              "    </tr>\n",
              "  </thead>\n",
              "  <tbody>\n",
              "    <tr>\n",
              "      <th>price</th>\n",
              "      <td>1.000000</td>\n",
              "      <td>0.308350</td>\n",
              "      <td>0.525138</td>\n",
              "      <td>0.256794</td>\n",
              "      <td>0.266369</td>\n",
              "      <td>0.611704</td>\n",
              "    </tr>\n",
              "    <tr>\n",
              "      <th>bedrooms</th>\n",
              "      <td>0.308350</td>\n",
              "      <td>1.000000</td>\n",
              "      <td>0.515884</td>\n",
              "      <td>0.175429</td>\n",
              "      <td>-0.006582</td>\n",
              "      <td>0.620864</td>\n",
              "    </tr>\n",
              "    <tr>\n",
              "      <th>bathrooms</th>\n",
              "      <td>0.525138</td>\n",
              "      <td>0.515884</td>\n",
              "      <td>1.000000</td>\n",
              "      <td>0.500653</td>\n",
              "      <td>0.063744</td>\n",
              "      <td>0.761304</td>\n",
              "    </tr>\n",
              "    <tr>\n",
              "      <th>floors</th>\n",
              "      <td>0.256794</td>\n",
              "      <td>0.175429</td>\n",
              "      <td>0.500653</td>\n",
              "      <td>1.000000</td>\n",
              "      <td>0.023698</td>\n",
              "      <td>0.367569</td>\n",
              "    </tr>\n",
              "    <tr>\n",
              "      <th>waterfront</th>\n",
              "      <td>0.266369</td>\n",
              "      <td>-0.006582</td>\n",
              "      <td>0.063744</td>\n",
              "      <td>0.023698</td>\n",
              "      <td>1.000000</td>\n",
              "      <td>0.079306</td>\n",
              "    </tr>\n",
              "    <tr>\n",
              "      <th>log_ft</th>\n",
              "      <td>0.611704</td>\n",
              "      <td>0.620864</td>\n",
              "      <td>0.761304</td>\n",
              "      <td>0.367569</td>\n",
              "      <td>0.079306</td>\n",
              "      <td>1.000000</td>\n",
              "    </tr>\n",
              "  </tbody>\n",
              "</table>\n",
              "</div>"
            ],
            "text/plain": [
              "               price  bedrooms  bathrooms    floors  waterfront    log_ft\n",
              "price       1.000000  0.308350   0.525138  0.256794    0.266369  0.611704\n",
              "bedrooms    0.308350  1.000000   0.515884  0.175429   -0.006582  0.620864\n",
              "bathrooms   0.525138  0.515884   1.000000  0.500653    0.063744  0.761304\n",
              "floors      0.256794  0.175429   0.500653  1.000000    0.023698  0.367569\n",
              "waterfront  0.266369 -0.006582   0.063744  0.023698    1.000000  0.079306\n",
              "log_ft      0.611704  0.620864   0.761304  0.367569    0.079306  1.000000"
            ]
          },
          "metadata": {
            "tags": []
          },
          "execution_count": 63
        }
      ]
    },
    {
      "cell_type": "code",
      "metadata": {
        "id": "hzXt3hwTGgfP",
        "colab_type": "code",
        "colab": {}
      },
      "source": [
        "# no multicolinearity over .90%"
      ],
      "execution_count": 0,
      "outputs": []
    },
    {
      "cell_type": "markdown",
      "metadata": {
        "id": "eEk4NQasY6UM",
        "colab_type": "text"
      },
      "source": [
        "There are two model assumptions that fail. One way to fix them is to apply a log transformation to price. Create a new train test split where y is the natural log of price and retest the model assumptions."
      ]
    },
    {
      "cell_type": "code",
      "metadata": {
        "id": "r-ciqHf0Y6UN",
        "colab_type": "code",
        "colab": {}
      },
      "source": [
        "# answer below\n",
        "king_2= king_county.copy()"
      ],
      "execution_count": 0,
      "outputs": []
    },
    {
      "cell_type": "code",
      "metadata": {
        "id": "3-dyYi5VGz4O",
        "colab_type": "code",
        "colab": {}
      },
      "source": [
        "king_2['price_log']= np.log(king_2['price'])"
      ],
      "execution_count": 0,
      "outputs": []
    },
    {
      "cell_type": "code",
      "metadata": {
        "id": "6Aw0sVw2HCNU",
        "colab_type": "code",
        "colab": {
          "base_uri": "https://localhost:8080/",
          "height": 34
        },
        "outputId": "39258f1b-2975-4468-8b6f-b8688370e72a"
      },
      "source": [
        "Y= king_2['price_log']\n",
        "\n",
        "X= king_2[['bedrooms', 'bathrooms', 'floors', 'waterfront', 'log_ft']]\n",
        "\n",
        "X_train, X_test, Y_train, Y_test= train_test_split(X, Y, test_size = 0.2)\n",
        "\n",
        "lrm_2 = linear_model.LinearRegression()\n",
        "lrm_2.fit(X, Y)"
      ],
      "execution_count": 73,
      "outputs": [
        {
          "output_type": "execute_result",
          "data": {
            "text/plain": [
              "LinearRegression(copy_X=True, fit_intercept=True, n_jobs=None, normalize=False)"
            ]
          },
          "metadata": {
            "tags": []
          },
          "execution_count": 73
        }
      ]
    },
    {
      "cell_type": "code",
      "metadata": {
        "id": "YWpf-T8AHMtC",
        "colab_type": "code",
        "colab": {
          "base_uri": "https://localhost:8080/",
          "height": 34
        },
        "outputId": "b1d5592d-ffff-4005-feee-c6c17b89e2e1"
      },
      "source": [
        "predictions_2 = lrm_2.predict(X)\n",
        "errors_2 = Y - predictions_2\n",
        "\n",
        "print(\"Mean of the errors in the medical costs model is: {}\".format(np.mean(errors_2)))"
      ],
      "execution_count": 74,
      "outputs": [
        {
          "output_type": "stream",
          "text": [
            "Mean of the errors in the medical costs model is: -7.504702864277836e-16\n"
          ],
          "name": "stdout"
        }
      ]
    },
    {
      "cell_type": "code",
      "metadata": {
        "id": "di7JQmEHHTsd",
        "colab_type": "code",
        "colab": {
          "base_uri": "https://localhost:8080/",
          "height": 295
        },
        "outputId": "71759be4-8bfa-4937-dcab-a24260d383f6"
      },
      "source": [
        "plt.scatter(predictions_2, errors_2)\n",
        "plt.xlabel('Predicted')\n",
        "plt.ylabel('Residual')\n",
        "plt.axhline(y=0)\n",
        "plt.title('Residual vs. Predicted')\n",
        "plt.show()"
      ],
      "execution_count": 75,
      "outputs": [
        {
          "output_type": "display_data",
          "data": {
            "image/png": "[encoded data removed]",
            "text/plain": [
              "<Figure size 432x288 with 1 Axes>"
            ]
          },
          "metadata": {
            "tags": []
          }
        }
      ]
    },
    {
      "cell_type": "code",
      "metadata": {
        "id": "YcU6jC-GHj1e",
        "colab_type": "code",
        "colab": {
          "base_uri": "https://localhost:8080/",
          "height": 369
        },
        "outputId": "76693393-067f-429d-f659-30063fede411"
      },
      "source": [
        "rand_nums = np.random.normal(np.mean(errors_2), np.std(errors_2), len(errors_2))\n",
        "\n",
        "plt.figure(figsize=(12,5))\n",
        "\n",
        "plt.subplot(1,2,1)\n",
        "plt.scatter(np.sort(rand_nums), np.sort(errors_2)) # we sort the arrays\n",
        "plt.xlabel(\"the normally distributed random variable\")\n",
        "plt.ylabel(\"errors of the model\")\n",
        "plt.title(\"QQ plot\")\n",
        "\n",
        "plt.subplot(1,2,2)\n",
        "plt.hist(errors_2)\n",
        "plt.xlabel(\"errors\")\n",
        "plt.title(\"Histogram of the errors\")\n",
        "\n",
        "plt.tight_layout()\n",
        "plt.show()"
      ],
      "execution_count": 76,
      "outputs": [
        {
          "output_type": "display_data",
          "data": {
            "image/png": "[encoded data removed]",
            "text/plain": [
              "<Figure size 864x360 with 2 Axes>"
            ]
          },
          "metadata": {
            "tags": []
          }
        }
      ]
    },
    {
      "cell_type": "code",
      "metadata": {
        "id": "4suPWq-8Huce",
        "colab_type": "code",
        "colab": {}
      },
      "source": [
        "# much more normal now"
      ],
      "execution_count": 0,
      "outputs": []
    },
    {
      "cell_type": "markdown",
      "metadata": {
        "id": "m6-zGzpxY6UO",
        "colab_type": "text"
      },
      "source": [
        "Create a linear model and produce a model summary"
      ]
    },
    {
      "cell_type": "code",
      "metadata": {
        "id": "YQ7mpBrkY6UP",
        "colab_type": "code",
        "colab": {}
      },
      "source": [
        "# answer below\n",
        "import statsmodels.api as sm\n",
        "\n",
        "\n",
        "\n",
        "lrm_3 = sm.OLS(Y_train, X_train)\n",
        "results = lrm_3.fit()\n"
      ],
      "execution_count": 0,
      "outputs": []
    },
    {
      "cell_type": "code",
      "metadata": {
        "id": "5a4fL3H_IC6u",
        "colab_type": "code",
        "colab": {
          "base_uri": "https://localhost:8080/",
          "height": 507
        },
        "outputId": "7846d88a-b4c5-4936-a05f-61bac3f0e43a"
      },
      "source": [
        "results.summary()"
      ],
      "execution_count": 82,
      "outputs": [
        {
          "output_type": "execute_result",
          "data": {
            "text/html": [
              "<table class=\"simpletable\">\n",
              "<caption>OLS Regression Results</caption>\n",
              "<tr>\n",
              "  <th>Dep. Variable:</th>        <td>price_log</td>    <th>  R-squared (uncentered):</th>      <td>   0.999</td> \n",
              "</tr>\n",
              "<tr>\n",
              "  <th>Model:</th>                   <td>OLS</td>       <th>  Adj. R-squared (uncentered):</th> <td>   0.999</td> \n",
              "</tr>\n",
              "<tr>\n",
              "  <th>Method:</th>             <td>Least Squares</td>  <th>  F-statistic:       </th>          <td>2.735e+06</td>\n",
              "</tr>\n",
              "<tr>\n",
              "  <th>Date:</th>             <td>Wed, 19 Feb 2020</td> <th>  Prob (F-statistic):</th>           <td>  0.00</td>  \n",
              "</tr>\n",
              "<tr>\n",
              "  <th>Time:</th>                 <td>20:25:46</td>     <th>  Log-Likelihood:    </th>          <td> -11252.</td> \n",
              "</tr>\n",
              "<tr>\n",
              "  <th>No. Observations:</th>      <td> 17290</td>      <th>  AIC:               </th>          <td>2.251e+04</td>\n",
              "</tr>\n",
              "<tr>\n",
              "  <th>Df Residuals:</th>          <td> 17285</td>      <th>  BIC:               </th>          <td>2.255e+04</td>\n",
              "</tr>\n",
              "<tr>\n",
              "  <th>Df Model:</th>              <td>     5</td>      <th>                     </th>              <td> </td>    \n",
              "</tr>\n",
              "<tr>\n",
              "  <th>Covariance Type:</th>      <td>nonrobust</td>    <th>                     </th>              <td> </td>    \n",
              "</tr>\n",
              "</table>\n",
              "<table class=\"simpletable\">\n",
              "<tr>\n",
              "       <td></td>         <th>coef</th>     <th>std err</th>      <th>t</th>      <th>P>|t|</th>  <th>[0.025</th>    <th>0.975]</th>  \n",
              "</tr>\n",
              "<tr>\n",
              "  <th>bedrooms</th>   <td>   -0.1751</td> <td>    0.005</td> <td>  -37.870</td> <td> 0.000</td> <td>   -0.184</td> <td>   -0.166</td>\n",
              "</tr>\n",
              "<tr>\n",
              "  <th>bathrooms</th>  <td>   -0.2928</td> <td>    0.006</td> <td>  -47.469</td> <td> 0.000</td> <td>   -0.305</td> <td>   -0.281</td>\n",
              "</tr>\n",
              "<tr>\n",
              "  <th>floors</th>     <td>    0.0814</td> <td>    0.008</td> <td>   10.785</td> <td> 0.000</td> <td>    0.067</td> <td>    0.096</td>\n",
              "</tr>\n",
              "<tr>\n",
              "  <th>waterfront</th> <td>    0.4905</td> <td>    0.040</td> <td>   12.238</td> <td> 0.000</td> <td>    0.412</td> <td>    0.569</td>\n",
              "</tr>\n",
              "<tr>\n",
              "  <th>log_ft</th>     <td>    1.8703</td> <td>    0.002</td> <td>  790.293</td> <td> 0.000</td> <td>    1.866</td> <td>    1.875</td>\n",
              "</tr>\n",
              "</table>\n",
              "<table class=\"simpletable\">\n",
              "<tr>\n",
              "  <th>Omnibus:</th>       <td>617.180</td> <th>  Durbin-Watson:     </th> <td>   1.994</td> \n",
              "</tr>\n",
              "<tr>\n",
              "  <th>Prob(Omnibus):</th> <td> 0.000</td>  <th>  Jarque-Bera (JB):  </th> <td>1363.241</td> \n",
              "</tr>\n",
              "<tr>\n",
              "  <th>Skew:</th>          <td> 0.222</td>  <th>  Prob(JB):          </th> <td>9.46e-297</td>\n",
              "</tr>\n",
              "<tr>\n",
              "  <th>Kurtosis:</th>      <td> 4.302</td>  <th>  Cond. No.          </th> <td>    98.9</td> \n",
              "</tr>\n",
              "</table><br/><br/>Warnings:<br/>[1] Standard Errors assume that the covariance matrix of the errors is correctly specified."
            ],
            "text/plain": [
              "<class 'statsmodels.iolib.summary.Summary'>\n",
              "\"\"\"\n",
              "                                 OLS Regression Results                                \n",
              "=======================================================================================\n",
              "Dep. Variable:              price_log   R-squared (uncentered):                   0.999\n",
              "Model:                            OLS   Adj. R-squared (uncentered):              0.999\n",
              "Method:                 Least Squares   F-statistic:                          2.735e+06\n",
              "Date:                Wed, 19 Feb 2020   Prob (F-statistic):                        0.00\n",
              "Time:                        20:25:46   Log-Likelihood:                         -11252.\n",
              "No. Observations:               17290   AIC:                                  2.251e+04\n",
              "Df Residuals:                   17285   BIC:                                  2.255e+04\n",
              "Df Model:                           5                                                  \n",
              "Covariance Type:            nonrobust                                                  \n",
              "==============================================================================\n",
              "                 coef    std err          t      P>|t|      [0.025      0.975]\n",
              "------------------------------------------------------------------------------\n",
              "bedrooms      -0.1751      0.005    -37.870      0.000      -0.184      -0.166\n",
              "bathrooms     -0.2928      0.006    -47.469      0.000      -0.305      -0.281\n",
              "floors         0.0814      0.008     10.785      0.000       0.067       0.096\n",
              "waterfront     0.4905      0.040     12.238      0.000       0.412       0.569\n",
              "log_ft         1.8703      0.002    790.293      0.000       1.866       1.875\n",
              "==============================================================================\n",
              "Omnibus:                      617.180   Durbin-Watson:                   1.994\n",
              "Prob(Omnibus):                  0.000   Jarque-Bera (JB):             1363.241\n",
              "Skew:                           0.222   Prob(JB):                    9.46e-297\n",
              "Kurtosis:                       4.302   Cond. No.                         98.9\n",
              "==============================================================================\n",
              "\n",
              "Warnings:\n",
              "[1] Standard Errors assume that the covariance matrix of the errors is correctly specified.\n",
              "\"\"\""
            ]
          },
          "metadata": {
            "tags": []
          },
          "execution_count": 82
        }
      ]
    },
    {
      "cell_type": "markdown",
      "metadata": {
        "id": "dtAUGNa2Y6UQ",
        "colab_type": "text"
      },
      "source": [
        "Predict the y values for the test sample using our model above.\n",
        "\n",
        "Plot the true vs. predicted values and compute the MAE, MSE, RMSE and MAPE"
      ]
    },
    {
      "cell_type": "code",
      "metadata": {
        "id": "tth6RT2dY6UR",
        "colab_type": "code",
        "colab": {
          "base_uri": "https://localhost:8080/",
          "height": 85
        },
        "outputId": "38ec87a2-f88e-4106-8297-a8bdd0a6f7be"
      },
      "source": [
        "# answer below:\n",
        "# compute the MAE, MSE, RMSE and MAPE\n",
        "from sklearn.metrics import mean_absolute_error\n",
        "from statsmodels.tools.eval_measures import mse, rmse\n",
        "from sqlalchemy import create_engine\n",
        "\n",
        "Y_preds_train = lrm_2.predict(X_train)\n",
        "Y_preds_test = lrm_2.predict(X_test)\n",
        "\n",
        "print(\"Mean absolute error of the prediction is: {}\".format(mean_absolute_error(Y_test, Y_preds_test)))\n",
        "print(\"Mean squared error of the prediction is: {}\".format(mse(Y_test, Y_preds_test)))\n",
        "print(\"Root mean squared error of the prediction is: {}\".format(rmse(Y_test, Y_preds_test)))\n",
        "print(\"Mean absolute percentage error of the prediction is: {}\".format(np.mean(np.abs((Y_test - Y_preds_test) / Y_test)) * 100))\n"
      ],
      "execution_count": 86,
      "outputs": [
        {
          "output_type": "stream",
          "text": [
            "Mean absolute error of the prediction is: 0.30871420304105085\n",
            "Mean squared error of the prediction is: 0.145663675707184\n",
            "Root mean squared error of the prediction is: 0.3816591092941239\n",
            "Mean absolute percentage error of the prediction is: 2.367861975316267\n"
          ],
          "name": "stdout"
        }
      ]
    },
    {
      "cell_type": "code",
      "metadata": {
        "id": "A2ODH7lyY6US",
        "colab_type": "code",
        "colab": {
          "base_uri": "https://localhost:8080/",
          "height": 297
        },
        "outputId": "3fe45dbe-da71-4051-c606-7b5c240d3cdd"
      },
      "source": [
        "#Plot the true vs. predicted values \n",
        "import seaborn as sns \n",
        "\n",
        "\n",
        "y= Y_preds_test\n",
        "x= Y_test\n",
        "sns.scatterplot(x, y)\n"
      ],
      "execution_count": 91,
      "outputs": [
        {
          "output_type": "execute_result",
          "data": {
            "text/plain": [
              "<matplotlib.axes._subplots.AxesSubplot at 0x7fc62ea362b0>"
            ]
          },
          "metadata": {
            "tags": []
          },
          "execution_count": 91
        },
        {
          "output_type": "display_data",
          "data": {
            "image/png": "[encoded data removed]",
            "text/plain": [
              "<Figure size 432x288 with 1 Axes>"
            ]
          },
          "metadata": {
            "tags": []
          }
        }
      ]
    }
  ]
}