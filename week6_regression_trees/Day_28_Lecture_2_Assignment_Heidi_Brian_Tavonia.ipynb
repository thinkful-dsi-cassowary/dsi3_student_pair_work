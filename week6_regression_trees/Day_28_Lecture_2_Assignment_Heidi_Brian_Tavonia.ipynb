{
  "nbformat": 4,
  "nbformat_minor": 0,
  "metadata": {
    "kernelspec": {
      "display_name": "Python 3",
      "language": "python",
      "name": "python3"
    },
    "language_info": {
      "codemirror_mode": {
        "name": "ipython",
        "version": 3
      },
      "file_extension": ".py",
      "mimetype": "text/x-python",
      "name": "python",
      "nbconvert_exporter": "python",
      "pygments_lexer": "ipython3",
      "version": "3.7.0"
    },
    "colab": {
      "name": "Day 28 Lecture 2 Assignment Heidi/Brian/Tavonia.ipynb",
      "provenance": [],
      "collapsed_sections": []
    }
  },
  "cells": [
    {
      "cell_type": "markdown",
      "metadata": {
        "id": "l_EB26fDZSTw",
        "colab_type": "text"
      },
      "source": [
        "## Day 28 Lecture 2 Assignment\n",
        "\n",
        "In this assignment, we will learn about overfitting and regularization. We will use the king county housing dataset loaded below and analyze the regression from this dataset."
      ]
    },
    {
      "cell_type": "code",
      "metadata": {
        "id": "BA-ZSTtNZSTx",
        "colab_type": "code",
        "colab": {}
      },
      "source": [
        "%matplotlib inline\n",
        "\n",
        "import math\n",
        "\n",
        "import matplotlib.pyplot as plt\n",
        "import numpy as np\n",
        "import pandas as pd\n",
        "\n",
        "from sklearn.model_selection import train_test_split\n",
        "from sklearn import linear_model\n",
        "from sklearn.linear_model import LinearRegression\n",
        "from sklearn.linear_model import RidgeCV\n",
        "from sklearn.metrics import mean_absolute_error\n",
        "from statsmodels.tools.eval_measures import mse, rmse\n",
        "\n"
      ],
      "execution_count": 0,
      "outputs": []
    },
    {
      "cell_type": "code",
      "metadata": {
        "id": "LQgBTvTLZSTz",
        "colab_type": "code",
        "colab": {}
      },
      "source": [
        "king = pd.read_csv('https://tf-assets-prod.s3.amazonaws.com/tf-curric/data-science/kc_house_data.csv')"
      ],
      "execution_count": 0,
      "outputs": []
    },
    {
      "cell_type": "code",
      "metadata": {
        "id": "RLU3QEFiSLsJ",
        "colab_type": "code",
        "outputId": "a4594a07-32bd-4d7c-cc11-349a1bc4c853",
        "colab": {
          "base_uri": "https://localhost:8080/",
          "height": 226
        }
      },
      "source": [
        "king_county = king.copy()\n",
        "king_county.head()"
      ],
      "execution_count": 0,
      "outputs": [
        {
          "output_type": "execute_result",
          "data": {
            "text/html": [
              "<div>\n",
              "<style scoped>\n",
              "    .dataframe tbody tr th:only-of-type {\n",
              "        vertical-align: middle;\n",
              "    }\n",
              "\n",
              "    .dataframe tbody tr th {\n",
              "        vertical-align: top;\n",
              "    }\n",
              "\n",
              "    .dataframe thead th {\n",
              "        text-align: right;\n",
              "    }\n",
              "</style>\n",
              "<table border=\"1\" class=\"dataframe\">\n",
              "  <thead>\n",
              "    <tr style=\"text-align: right;\">\n",
              "      <th></th>\n",
              "      <th>id</th>\n",
              "      <th>date</th>\n",
              "      <th>price</th>\n",
              "      <th>bedrooms</th>\n",
              "      <th>bathrooms</th>\n",
              "      <th>sqft_living</th>\n",
              "      <th>sqft_lot</th>\n",
              "      <th>floors</th>\n",
              "      <th>waterfront</th>\n",
              "      <th>view</th>\n",
              "      <th>condition</th>\n",
              "      <th>grade</th>\n",
              "      <th>sqft_above</th>\n",
              "      <th>sqft_basement</th>\n",
              "      <th>yr_built</th>\n",
              "      <th>yr_renovated</th>\n",
              "      <th>zipcode</th>\n",
              "      <th>lat</th>\n",
              "      <th>long</th>\n",
              "      <th>sqft_living15</th>\n",
              "      <th>sqft_lot15</th>\n",
              "    </tr>\n",
              "  </thead>\n",
              "  <tbody>\n",
              "    <tr>\n",
              "      <th>0</th>\n",
              "      <td>7129300520</td>\n",
              "      <td>20141013T000000</td>\n",
              "      <td>221900.0</td>\n",
              "      <td>3</td>\n",
              "      <td>1.00</td>\n",
              "      <td>1180</td>\n",
              "      <td>5650</td>\n",
              "      <td>1.0</td>\n",
              "      <td>0</td>\n",
              "      <td>0</td>\n",
              "      <td>3</td>\n",
              "      <td>7</td>\n",
              "      <td>1180</td>\n",
              "      <td>0</td>\n",
              "      <td>1955</td>\n",
              "      <td>0</td>\n",
              "      <td>98178</td>\n",
              "      <td>47.5112</td>\n",
              "      <td>-122.257</td>\n",
              "      <td>1340</td>\n",
              "      <td>5650</td>\n",
              "    </tr>\n",
              "    <tr>\n",
              "      <th>1</th>\n",
              "      <td>6414100192</td>\n",
              "      <td>20141209T000000</td>\n",
              "      <td>538000.0</td>\n",
              "      <td>3</td>\n",
              "      <td>2.25</td>\n",
              "      <td>2570</td>\n",
              "      <td>7242</td>\n",
              "      <td>2.0</td>\n",
              "      <td>0</td>\n",
              "      <td>0</td>\n",
              "      <td>3</td>\n",
              "      <td>7</td>\n",
              "      <td>2170</td>\n",
              "      <td>400</td>\n",
              "      <td>1951</td>\n",
              "      <td>1991</td>\n",
              "      <td>98125</td>\n",
              "      <td>47.7210</td>\n",
              "      <td>-122.319</td>\n",
              "      <td>1690</td>\n",
              "      <td>7639</td>\n",
              "    </tr>\n",
              "    <tr>\n",
              "      <th>2</th>\n",
              "      <td>5631500400</td>\n",
              "      <td>20150225T000000</td>\n",
              "      <td>180000.0</td>\n",
              "      <td>2</td>\n",
              "      <td>1.00</td>\n",
              "      <td>770</td>\n",
              "      <td>10000</td>\n",
              "      <td>1.0</td>\n",
              "      <td>0</td>\n",
              "      <td>0</td>\n",
              "      <td>3</td>\n",
              "      <td>6</td>\n",
              "      <td>770</td>\n",
              "      <td>0</td>\n",
              "      <td>1933</td>\n",
              "      <td>0</td>\n",
              "      <td>98028</td>\n",
              "      <td>47.7379</td>\n",
              "      <td>-122.233</td>\n",
              "      <td>2720</td>\n",
              "      <td>8062</td>\n",
              "    </tr>\n",
              "    <tr>\n",
              "      <th>3</th>\n",
              "      <td>2487200875</td>\n",
              "      <td>20141209T000000</td>\n",
              "      <td>604000.0</td>\n",
              "      <td>4</td>\n",
              "      <td>3.00</td>\n",
              "      <td>1960</td>\n",
              "      <td>5000</td>\n",
              "      <td>1.0</td>\n",
              "      <td>0</td>\n",
              "      <td>0</td>\n",
              "      <td>5</td>\n",
              "      <td>7</td>\n",
              "      <td>1050</td>\n",
              "      <td>910</td>\n",
              "      <td>1965</td>\n",
              "      <td>0</td>\n",
              "      <td>98136</td>\n",
              "      <td>47.5208</td>\n",
              "      <td>-122.393</td>\n",
              "      <td>1360</td>\n",
              "      <td>5000</td>\n",
              "    </tr>\n",
              "    <tr>\n",
              "      <th>4</th>\n",
              "      <td>1954400510</td>\n",
              "      <td>20150218T000000</td>\n",
              "      <td>510000.0</td>\n",
              "      <td>3</td>\n",
              "      <td>2.00</td>\n",
              "      <td>1680</td>\n",
              "      <td>8080</td>\n",
              "      <td>1.0</td>\n",
              "      <td>0</td>\n",
              "      <td>0</td>\n",
              "      <td>3</td>\n",
              "      <td>8</td>\n",
              "      <td>1680</td>\n",
              "      <td>0</td>\n",
              "      <td>1987</td>\n",
              "      <td>0</td>\n",
              "      <td>98074</td>\n",
              "      <td>47.6168</td>\n",
              "      <td>-122.045</td>\n",
              "      <td>1800</td>\n",
              "      <td>7503</td>\n",
              "    </tr>\n",
              "  </tbody>\n",
              "</table>\n",
              "</div>"
            ],
            "text/plain": [
              "           id             date     price  ...     long  sqft_living15  sqft_lot15\n",
              "0  7129300520  20141013T000000  221900.0  ... -122.257           1340        5650\n",
              "1  6414100192  20141209T000000  538000.0  ... -122.319           1690        7639\n",
              "2  5631500400  20150225T000000  180000.0  ... -122.233           2720        8062\n",
              "3  2487200875  20141209T000000  604000.0  ... -122.393           1360        5000\n",
              "4  1954400510  20150218T000000  510000.0  ... -122.045           1800        7503\n",
              "\n",
              "[5 rows x 21 columns]"
            ]
          },
          "metadata": {
            "tags": []
          },
          "execution_count": 57
        }
      ]
    },
    {
      "cell_type": "code",
      "metadata": {
        "id": "YWrTjXtlSK5I",
        "colab_type": "code",
        "colab": {}
      },
      "source": [
        "king_county['log_price']= np.log(king_county['price'])\n",
        "king_county['log_sqft_living']= np.log(king_county['sqft_living'])"
      ],
      "execution_count": 0,
      "outputs": []
    },
    {
      "cell_type": "code",
      "metadata": {
        "id": "rLQFhLT6V9SV",
        "colab_type": "code",
        "outputId": "829ecdbd-0664-4dfe-f141-524ac0e97630",
        "colab": {
          "base_uri": "https://localhost:8080/",
          "height": 226
        }
      },
      "source": [
        "king_county.head()"
      ],
      "execution_count": 0,
      "outputs": [
        {
          "output_type": "execute_result",
          "data": {
            "text/html": [
              "<div>\n",
              "<style scoped>\n",
              "    .dataframe tbody tr th:only-of-type {\n",
              "        vertical-align: middle;\n",
              "    }\n",
              "\n",
              "    .dataframe tbody tr th {\n",
              "        vertical-align: top;\n",
              "    }\n",
              "\n",
              "    .dataframe thead th {\n",
              "        text-align: right;\n",
              "    }\n",
              "</style>\n",
              "<table border=\"1\" class=\"dataframe\">\n",
              "  <thead>\n",
              "    <tr style=\"text-align: right;\">\n",
              "      <th></th>\n",
              "      <th>id</th>\n",
              "      <th>date</th>\n",
              "      <th>price</th>\n",
              "      <th>bedrooms</th>\n",
              "      <th>bathrooms</th>\n",
              "      <th>sqft_living</th>\n",
              "      <th>sqft_lot</th>\n",
              "      <th>floors</th>\n",
              "      <th>waterfront</th>\n",
              "      <th>view</th>\n",
              "      <th>condition</th>\n",
              "      <th>grade</th>\n",
              "      <th>sqft_above</th>\n",
              "      <th>sqft_basement</th>\n",
              "      <th>yr_built</th>\n",
              "      <th>yr_renovated</th>\n",
              "      <th>zipcode</th>\n",
              "      <th>lat</th>\n",
              "      <th>long</th>\n",
              "      <th>sqft_living15</th>\n",
              "      <th>sqft_lot15</th>\n",
              "      <th>log_price</th>\n",
              "      <th>log_sqft_living</th>\n",
              "    </tr>\n",
              "  </thead>\n",
              "  <tbody>\n",
              "    <tr>\n",
              "      <th>0</th>\n",
              "      <td>7129300520</td>\n",
              "      <td>20141013T000000</td>\n",
              "      <td>221900.0</td>\n",
              "      <td>3</td>\n",
              "      <td>1.00</td>\n",
              "      <td>1180</td>\n",
              "      <td>5650</td>\n",
              "      <td>1.0</td>\n",
              "      <td>0</td>\n",
              "      <td>0</td>\n",
              "      <td>3</td>\n",
              "      <td>7</td>\n",
              "      <td>1180</td>\n",
              "      <td>0</td>\n",
              "      <td>1955</td>\n",
              "      <td>0</td>\n",
              "      <td>98178</td>\n",
              "      <td>47.5112</td>\n",
              "      <td>-122.257</td>\n",
              "      <td>1340</td>\n",
              "      <td>5650</td>\n",
              "      <td>12.309982</td>\n",
              "      <td>7.073270</td>\n",
              "    </tr>\n",
              "    <tr>\n",
              "      <th>1</th>\n",
              "      <td>6414100192</td>\n",
              "      <td>20141209T000000</td>\n",
              "      <td>538000.0</td>\n",
              "      <td>3</td>\n",
              "      <td>2.25</td>\n",
              "      <td>2570</td>\n",
              "      <td>7242</td>\n",
              "      <td>2.0</td>\n",
              "      <td>0</td>\n",
              "      <td>0</td>\n",
              "      <td>3</td>\n",
              "      <td>7</td>\n",
              "      <td>2170</td>\n",
              "      <td>400</td>\n",
              "      <td>1951</td>\n",
              "      <td>1991</td>\n",
              "      <td>98125</td>\n",
              "      <td>47.7210</td>\n",
              "      <td>-122.319</td>\n",
              "      <td>1690</td>\n",
              "      <td>7639</td>\n",
              "      <td>13.195614</td>\n",
              "      <td>7.851661</td>\n",
              "    </tr>\n",
              "    <tr>\n",
              "      <th>2</th>\n",
              "      <td>5631500400</td>\n",
              "      <td>20150225T000000</td>\n",
              "      <td>180000.0</td>\n",
              "      <td>2</td>\n",
              "      <td>1.00</td>\n",
              "      <td>770</td>\n",
              "      <td>10000</td>\n",
              "      <td>1.0</td>\n",
              "      <td>0</td>\n",
              "      <td>0</td>\n",
              "      <td>3</td>\n",
              "      <td>6</td>\n",
              "      <td>770</td>\n",
              "      <td>0</td>\n",
              "      <td>1933</td>\n",
              "      <td>0</td>\n",
              "      <td>98028</td>\n",
              "      <td>47.7379</td>\n",
              "      <td>-122.233</td>\n",
              "      <td>2720</td>\n",
              "      <td>8062</td>\n",
              "      <td>12.100712</td>\n",
              "      <td>6.646391</td>\n",
              "    </tr>\n",
              "    <tr>\n",
              "      <th>3</th>\n",
              "      <td>2487200875</td>\n",
              "      <td>20141209T000000</td>\n",
              "      <td>604000.0</td>\n",
              "      <td>4</td>\n",
              "      <td>3.00</td>\n",
              "      <td>1960</td>\n",
              "      <td>5000</td>\n",
              "      <td>1.0</td>\n",
              "      <td>0</td>\n",
              "      <td>0</td>\n",
              "      <td>5</td>\n",
              "      <td>7</td>\n",
              "      <td>1050</td>\n",
              "      <td>910</td>\n",
              "      <td>1965</td>\n",
              "      <td>0</td>\n",
              "      <td>98136</td>\n",
              "      <td>47.5208</td>\n",
              "      <td>-122.393</td>\n",
              "      <td>1360</td>\n",
              "      <td>5000</td>\n",
              "      <td>13.311329</td>\n",
              "      <td>7.580700</td>\n",
              "    </tr>\n",
              "    <tr>\n",
              "      <th>4</th>\n",
              "      <td>1954400510</td>\n",
              "      <td>20150218T000000</td>\n",
              "      <td>510000.0</td>\n",
              "      <td>3</td>\n",
              "      <td>2.00</td>\n",
              "      <td>1680</td>\n",
              "      <td>8080</td>\n",
              "      <td>1.0</td>\n",
              "      <td>0</td>\n",
              "      <td>0</td>\n",
              "      <td>3</td>\n",
              "      <td>8</td>\n",
              "      <td>1680</td>\n",
              "      <td>0</td>\n",
              "      <td>1987</td>\n",
              "      <td>0</td>\n",
              "      <td>98074</td>\n",
              "      <td>47.6168</td>\n",
              "      <td>-122.045</td>\n",
              "      <td>1800</td>\n",
              "      <td>7503</td>\n",
              "      <td>13.142166</td>\n",
              "      <td>7.426549</td>\n",
              "    </tr>\n",
              "  </tbody>\n",
              "</table>\n",
              "</div>"
            ],
            "text/plain": [
              "           id             date  ...  log_price  log_sqft_living\n",
              "0  7129300520  20141013T000000  ...  12.309982         7.073270\n",
              "1  6414100192  20141209T000000  ...  13.195614         7.851661\n",
              "2  5631500400  20150225T000000  ...  12.100712         6.646391\n",
              "3  2487200875  20141209T000000  ...  13.311329         7.580700\n",
              "4  1954400510  20150218T000000  ...  13.142166         7.426549\n",
              "\n",
              "[5 rows x 23 columns]"
            ]
          },
          "metadata": {
            "tags": []
          },
          "execution_count": 59
        }
      ]
    },
    {
      "cell_type": "markdown",
      "metadata": {
        "id": "RRLvjs_OZST3",
        "colab_type": "text"
      },
      "source": [
        "Perform the same transformations in the previous assignment to meet model assumptions:\n",
        "1. Transform price and sqft_living by applying the natual log\n",
        "2. Remove all columns except: log price, bedrooms, bathrooms, log_sqft_living, floors, waterfront\n",
        "3. Split the data into train and test subsets. 20% of the data should be in the test subset"
      ]
    },
    {
      "cell_type": "code",
      "metadata": {
        "id": "y6ug5PT-7t2B",
        "colab_type": "code",
        "outputId": "ee2ab460-8069-4f05-ba55-4df4188073af",
        "colab": {
          "base_uri": "https://localhost:8080/",
          "height": 536
        }
      },
      "source": [
        "king_county.info()"
      ],
      "execution_count": 0,
      "outputs": [
        {
          "output_type": "stream",
          "text": [
            "<class 'pandas.core.frame.DataFrame'>\n",
            "RangeIndex: 21613 entries, 0 to 21612\n",
            "Data columns (total 23 columns):\n",
            "id                 21613 non-null int64\n",
            "date               21613 non-null object\n",
            "price              21613 non-null float64\n",
            "bedrooms           21613 non-null int64\n",
            "bathrooms          21613 non-null float64\n",
            "sqft_living        21613 non-null int64\n",
            "sqft_lot           21613 non-null int64\n",
            "floors             21613 non-null float64\n",
            "waterfront         21613 non-null int64\n",
            "view               21613 non-null int64\n",
            "condition          21613 non-null int64\n",
            "grade              21613 non-null int64\n",
            "sqft_above         21613 non-null int64\n",
            "sqft_basement      21613 non-null int64\n",
            "yr_built           21613 non-null int64\n",
            "yr_renovated       21613 non-null int64\n",
            "zipcode            21613 non-null int64\n",
            "lat                21613 non-null float64\n",
            "long               21613 non-null float64\n",
            "sqft_living15      21613 non-null int64\n",
            "sqft_lot15         21613 non-null int64\n",
            "log_price          21613 non-null float64\n",
            "log_sqft_living    21613 non-null float64\n",
            "dtypes: float64(7), int64(15), object(1)\n",
            "memory usage: 3.8+ MB\n"
          ],
          "name": "stdout"
        }
      ]
    },
    {
      "cell_type": "code",
      "metadata": {
        "id": "CtpaGqxv72g-",
        "colab_type": "code",
        "colab": {}
      },
      "source": [
        "king_county.drop(['id', 'date', 'sqft_living',\n",
        "       'sqft_lot', 'view', 'condition', 'grade',\n",
        "       'sqft_above', 'sqft_basement', 'yr_built', 'yr_renovated', 'zipcode',\n",
        "       'lat', 'long', 'sqft_living15', 'sqft_lot15', 'price' ], axis=1, inplace=True)"
      ],
      "execution_count": 0,
      "outputs": []
    },
    {
      "cell_type": "code",
      "metadata": {
        "id": "Fa61Tbkc8Bl3",
        "colab_type": "code",
        "outputId": "4ab22b36-4924-4e71-a985-bfe8d8061425",
        "colab": {
          "base_uri": "https://localhost:8080/",
          "height": 221
        }
      },
      "source": [
        "king_county.info()"
      ],
      "execution_count": 0,
      "outputs": [
        {
          "output_type": "stream",
          "text": [
            "<class 'pandas.core.frame.DataFrame'>\n",
            "RangeIndex: 21613 entries, 0 to 21612\n",
            "Data columns (total 6 columns):\n",
            "bedrooms           21613 non-null int64\n",
            "bathrooms          21613 non-null float64\n",
            "floors             21613 non-null float64\n",
            "waterfront         21613 non-null int64\n",
            "log_price          21613 non-null float64\n",
            "log_sqft_living    21613 non-null float64\n",
            "dtypes: float64(4), int64(2)\n",
            "memory usage: 1013.2 KB\n"
          ],
          "name": "stdout"
        }
      ]
    },
    {
      "cell_type": "code",
      "metadata": {
        "id": "tzX8zIEYZST4",
        "colab_type": "code",
        "colab": {}
      },
      "source": [
        "# answer below:\n",
        "\n",
        "Y= king_county['log_price']\n",
        "\n",
        "X= king_county[['bedrooms', 'bathrooms', 'floors', 'waterfront', 'log_sqft_living']]\n",
        "\n",
        "X_train, X_test, y_train, y_test= train_test_split(X, Y, test_size = 0.2, random_state = 465)\n"
      ],
      "execution_count": 0,
      "outputs": []
    },
    {
      "cell_type": "markdown",
      "metadata": {
        "id": "VNMo0gkkZST5",
        "colab_type": "text"
      },
      "source": [
        "Apply a ridge regression model with lambda=50 to the data and evaluate by looking at r squared for test and train"
      ]
    },
    {
      "cell_type": "markdown",
      "metadata": {
        "id": "bxTedVNiZST7",
        "colab_type": "text"
      },
      "source": [
        "Perform a grid search for the following values of alpha: 1, 5, 10, 100, 500, 1000, 10000 to find the most optimal ridge regression model."
      ]
    },
    {
      "cell_type": "code",
      "metadata": {
        "id": "8buBvEToZST6",
        "colab_type": "code",
        "outputId": "79157eee-c344-4fbf-c3d5-e2ae43dbba69",
        "colab": {
          "base_uri": "https://localhost:8080/",
          "height": 184
        }
      },
      "source": [
        "# answer below:\n",
        "alphas = [50]\n",
        "\n",
        "ridge_cv = RidgeCV(alphas=alphas, cv=10)\n",
        "ridge_cv.fit(X_train, y_train)\n",
        "\n",
        "# We are making predictions here\n",
        "y_preds_train = ridge_cv.predict(X_train)\n",
        "y_preds_test = ridge_cv.predict(X_test)\n",
        "\n",
        "print(\"RidgeCV() regression test\")\n",
        "print(\"Best alpha value is: {}\".format(ridge_cv.alpha_))\n",
        "print(\"R-squared of the model in training set is: {}\".format(ridge_cv.score(X_train, y_train)))\n",
        "print(\"-----Test set statistics-----\")\n",
        "print(\"R-squared of the model in test set is: {}\".format(ridge_cv.score(X_test, y_test)))\n",
        "print(\"Mean absolute error of the prediction is: {}\".format(mean_absolute_error(y_test, y_preds_test)))\n",
        "print(\"Mean squared error of the prediction is: {}\".format(mse(y_test, y_preds_test)))\n",
        "print(\"Root mean squared error of the prediction is: {}\".format(rmse(y_test, y_preds_test)))\n",
        "print(\"Mean absolute percentage error of the prediction is: {}\".format(np.mean(np.abs((y_test - y_preds_test) / y_test)) * 100))\n"
      ],
      "execution_count": 0,
      "outputs": [
        {
          "output_type": "stream",
          "text": [
            "RidgeCV() regression test\n",
            "Best alpha value is: 50\n",
            "R-squared of the model in training set is: 0.485494107558357\n",
            "-----Test set statistics-----\n",
            "R-squared of the model in test set is: 0.46944033145661235\n",
            "Mean absolute error of the prediction is: 0.3095391158491194\n",
            "Mean squared error of the prediction is: 0.14666604385123422\n",
            "Root mean squared error of the prediction is: 0.3829700299647927\n",
            "Mean absolute percentage error of the prediction is: 2.3811942543162834\n"
          ],
          "name": "stdout"
        }
      ]
    },
    {
      "cell_type": "code",
      "metadata": {
        "id": "CA7SwhCeDP5g",
        "colab_type": "code",
        "outputId": "26b2cf20-0684-4cc3-d92e-7c87123056a1",
        "colab": {
          "base_uri": "https://localhost:8080/",
          "height": 184
        }
      },
      "source": [
        "# answer below:\n",
        "#alphas = [np.power(50.0,p) for p in np.arange(-10,40,1)]\n",
        "alphas = [1, 5, 10, 100, 500, 1000, 10000]\n",
        "\n",
        "ridge_cv = RidgeCV(alphas=alphas, cv=10)\n",
        "ridge_cv.fit(X_train, y_train)\n",
        "\n",
        "# We are making predictions here\n",
        "y_preds_train = ridge_cv.predict(X_train)\n",
        "y_preds_test = ridge_cv.predict(X_test)\n",
        "\n",
        "print(\"RidgeCV() regression test\")\n",
        "print(\"Best alpha value is: {}\".format(ridge_cv.alpha_))\n",
        "print(\"R-squared of the model in training set is: {}\".format(ridge_cv.score(X_train, y_train)))\n",
        "print(\"-----Test set statistics-----\")\n",
        "print(\"R-squared of the model in test set is: {}\".format(ridge_cv.score(X_test, y_test)))\n",
        "print(\"Mean absolute error of the prediction is: {}\".format(mean_absolute_error(y_test, y_preds_test)))\n",
        "print(\"Mean squared error of the prediction is: {}\".format(mse(y_test, y_preds_test)))\n",
        "print(\"Root mean squared error of the prediction is: {}\".format(rmse(y_test, y_preds_test)))\n",
        "print(\"Mean absolute percentage error of the prediction is: {}\".format(np.mean(np.abs((y_test - y_preds_test) / y_test)) * 100))\n"
      ],
      "execution_count": 0,
      "outputs": [
        {
          "output_type": "stream",
          "text": [
            "RidgeCV() regression test\n",
            "Best alpha value is: 1\n",
            "R-squared of the model in training set is: 0.48670949629179405\n",
            "-----Test set statistics-----\n",
            "R-squared of the model in test set is: 0.4709140358772267\n",
            "Mean absolute error of the prediction is: 0.3089280944772293\n",
            "Mean squared error of the prediction is: 0.14625865819794667\n",
            "Root mean squared error of the prediction is: 0.38243778343404655\n",
            "Mean absolute percentage error of the prediction is: 2.3770780928061694\n"
          ],
          "name": "stdout"
        }
      ]
    },
    {
      "cell_type": "code",
      "metadata": {
        "id": "Bwd5mFixEn9r",
        "colab_type": "code",
        "outputId": "37b2b56e-7e12-47a1-c699-498323939742",
        "colab": {
          "base_uri": "https://localhost:8080/",
          "height": 184
        }
      },
      "source": [
        "# answer below:\n",
        "alphas = [np.power(50.0,p) for p in np.arange(-10,40,1)]\n",
        "\n",
        "ridge_cv = RidgeCV(alphas=alphas, cv=10)\n",
        "ridge_cv.fit(X_train, y_train)\n",
        "\n",
        "# We are making predictions here\n",
        "y_preds_train = ridge_cv.predict(X_train)\n",
        "y_preds_test = ridge_cv.predict(X_test)\n",
        "\n",
        "print(\"RidgeCV() regression test\")\n",
        "print(\"Best alpha value is: {}\".format(ridge_cv.alpha_))\n",
        "print(\"R-squared of the model in training set is: {}\".format(ridge_cv.score(X_train, y_train)))\n",
        "print(\"-----Test set statistics-----\")\n",
        "print(\"R-squared of the model in test set is: {}\".format(ridge_cv.score(X_test, y_test)))\n",
        "print(\"Mean absolute error of the prediction is: {}\".format(mean_absolute_error(y_test, y_preds_test)))\n",
        "print(\"Mean squared error of the prediction is: {}\".format(mse(y_test, y_preds_test)))\n",
        "print(\"Root mean squared error of the prediction is: {}\".format(rmse(y_test, y_preds_test)))\n",
        "print(\"Mean absolute percentage error of the prediction is: {}\".format(np.mean(np.abs((y_test - y_preds_test) / y_test)) * 100))\n"
      ],
      "execution_count": 0,
      "outputs": [
        {
          "output_type": "stream",
          "text": [
            "RidgeCV() regression test\n",
            "Best alpha value is: 0.02\n",
            "R-squared of the model in training set is: 0.4867103230497562\n",
            "-----Test set statistics-----\n",
            "R-squared of the model in test set is: 0.4709274687267148\n",
            "Mean absolute error of the prediction is: 0.30891719635561565\n",
            "Mean squared error of the prediction is: 0.14625494486840263\n",
            "Root mean squared error of the prediction is: 0.38243292858801087\n",
            "Mean absolute percentage error of the prediction is: 2.3770061867318613\n"
          ],
          "name": "stdout"
        }
      ]
    }
  ]
}